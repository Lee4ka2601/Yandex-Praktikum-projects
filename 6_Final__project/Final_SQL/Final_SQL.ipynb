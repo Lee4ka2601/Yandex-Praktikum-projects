{
 "cells": [
  {
   "cell_type": "markdown",
   "metadata": {},
   "source": [
    "# Проект по SQL (финал)"
   ]
  },
  {
   "cell_type": "markdown",
   "metadata": {},
   "source": [
    "<span style=\"font-size:larger;\">**Цель исследования:**</span>\n",
    "Необходимо проанализировать базу данных крупного сервиса для чтения книг по подписке для формулирования ценностного предложения для нового продукта.\n",
    "\n",
    "<span style=\"font-size:larger;\">**Исходные данные:**</span>\n",
    "База  данных крупного сервиса для чтения книг по подписке, содержащая информацию о книгах, издательствах, авторах, а также пользовательские обзоры книг:\n",
    "\n",
    "**Таблица books**\n",
    "Содержит данные о книгах:\n",
    "* book_id — идентификатор книги;\n",
    "* author_id — идентификатор автора;\n",
    "* title — название книги;\n",
    "* num_pages — количество страниц;\n",
    "* publication_date — дата публикации книги;\n",
    "* publisher_id — идентификатор издателя.\n",
    "\n",
    "**Таблица authors**\n",
    "Содержит данные об авторах:\n",
    "* author_id — идентификатор автора;\n",
    "* author — имя автора.\n",
    "\n",
    "**Таблица publishers**\n",
    "Содержит данные об издательствах:\n",
    "* publisher_id — идентификатор издательства;\n",
    "* publisher — название издательства.\n",
    "\n",
    "**Таблица ratings**\n",
    "Содержит данные о пользовательских оценках книг:\n",
    "* rating_id — идентификатор оценки;\n",
    "* book_id — идентификатор книги;\n",
    "* username — имя пользователя, оставившего оценку;\n",
    "* rating — оценка книги.\n",
    "\n",
    "**Таблица reviews**\n",
    "Содержит данные о пользовательских обзорах:\n",
    "* review_id — идентификатор обзора;\n",
    "* book_id — идентификатор книги;\n",
    "* username — имя автора обзора;\n",
    "*text — текст обзора.\n",
    "\n",
    "\n",
    "<span style=\"font-size:larger;\">**Ход исследования:**</span>\n",
    "\n",
    "1. Подключение к базе данных;\n",
    "2. Исследование каждой таблицы базы  данных;\n",
    "3. Расчет количества книг, выпущенных после 1 января 2000 года;\n",
    "4. Для каждой книги посчитать количество обзоров и среднюю оценку;\n",
    "5. Определить издательство, которое выпустило наибольшее число книг толще 50 страниц;\n",
    "6. Определить автора с самой высокой средней оценкой книг (по книгам с 50 и более оценками);\n",
    "7. Посчитайть среднее количество обзоров от пользователей, которые поставили больше 48 оценок;\n",
    "8. Общий вывод.\n",
    "\n"
   ]
  },
  {
   "cell_type": "markdown",
   "metadata": {},
   "source": [
    "## Подключение к базе данных"
   ]
  },
  {
   "cell_type": "code",
   "execution_count": 1,
   "metadata": {},
   "outputs": [],
   "source": [
    "# импортируем библиотеки\n",
    "import pandas as pd\n",
    "from sqlalchemy import text, create_engine\n",
    "# устанавливаем параметры\n",
    "db_config = {'user': 'praktikum_student', # имя пользователя\n",
    "'pwd': 'Sdf4$2;d-d30pp', # пароль\n",
    "'host': 'rc1b-wcoijxj3yxfsf3fs.mdb.yandexcloud.net',\n",
    "'port': 6432, # порт подключения\n",
    "'db': 'data-analyst-final-project-db'} # название базы данных\n",
    "connection_string = 'postgresql://{user}:{pwd}@{host}:{port}/{db}'.format(**db_config)\n",
    "# сохраняем коннектор\n",
    "engine = create_engine(connection_string, connect_args={'sslmode':'require'})\n"
   ]
  },
  {
   "cell_type": "markdown",
   "metadata": {},
   "source": [
    "Подключились к базе данных."
   ]
  },
  {
   "cell_type": "markdown",
   "metadata": {},
   "source": [
    "## Исследование каждой таблицы базы данных"
   ]
  },
  {
   "cell_type": "code",
   "execution_count": 2,
   "metadata": {},
   "outputs": [
    {
     "data": {
      "text/html": [
       "<div>\n",
       "<style scoped>\n",
       "    .dataframe tbody tr th:only-of-type {\n",
       "        vertical-align: middle;\n",
       "    }\n",
       "\n",
       "    .dataframe tbody tr th {\n",
       "        vertical-align: top;\n",
       "    }\n",
       "\n",
       "    .dataframe thead th {\n",
       "        text-align: right;\n",
       "    }\n",
       "</style>\n",
       "<table border=\"1\" class=\"dataframe\">\n",
       "  <thead>\n",
       "    <tr style=\"text-align: right;\">\n",
       "      <th></th>\n",
       "      <th>book_id</th>\n",
       "      <th>author_id</th>\n",
       "      <th>title</th>\n",
       "      <th>num_pages</th>\n",
       "      <th>publication_date</th>\n",
       "      <th>publisher_id</th>\n",
       "    </tr>\n",
       "  </thead>\n",
       "  <tbody>\n",
       "    <tr>\n",
       "      <th>0</th>\n",
       "      <td>1</td>\n",
       "      <td>546</td>\n",
       "      <td>'Salem's Lot</td>\n",
       "      <td>594</td>\n",
       "      <td>2005-11-01</td>\n",
       "      <td>93</td>\n",
       "    </tr>\n",
       "    <tr>\n",
       "      <th>1</th>\n",
       "      <td>2</td>\n",
       "      <td>465</td>\n",
       "      <td>1 000 Places to See Before You Die</td>\n",
       "      <td>992</td>\n",
       "      <td>2003-05-22</td>\n",
       "      <td>336</td>\n",
       "    </tr>\n",
       "    <tr>\n",
       "      <th>2</th>\n",
       "      <td>3</td>\n",
       "      <td>407</td>\n",
       "      <td>13 Little Blue Envelopes (Little Blue Envelope...</td>\n",
       "      <td>322</td>\n",
       "      <td>2010-12-21</td>\n",
       "      <td>135</td>\n",
       "    </tr>\n",
       "    <tr>\n",
       "      <th>3</th>\n",
       "      <td>4</td>\n",
       "      <td>82</td>\n",
       "      <td>1491: New Revelations of the Americas Before C...</td>\n",
       "      <td>541</td>\n",
       "      <td>2006-10-10</td>\n",
       "      <td>309</td>\n",
       "    </tr>\n",
       "    <tr>\n",
       "      <th>4</th>\n",
       "      <td>5</td>\n",
       "      <td>125</td>\n",
       "      <td>1776</td>\n",
       "      <td>386</td>\n",
       "      <td>2006-07-04</td>\n",
       "      <td>268</td>\n",
       "    </tr>\n",
       "  </tbody>\n",
       "</table>\n",
       "</div>"
      ],
      "text/plain": [
       "   book_id  author_id                                              title  \\\n",
       "0        1        546                                       'Salem's Lot   \n",
       "1        2        465                 1 000 Places to See Before You Die   \n",
       "2        3        407  13 Little Blue Envelopes (Little Blue Envelope...   \n",
       "3        4         82  1491: New Revelations of the Americas Before C...   \n",
       "4        5        125                                               1776   \n",
       "\n",
       "   num_pages publication_date  publisher_id  \n",
       "0        594       2005-11-01            93  \n",
       "1        992       2003-05-22           336  \n",
       "2        322       2010-12-21           135  \n",
       "3        541       2006-10-10           309  \n",
       "4        386       2006-07-04           268  "
      ]
     },
     "execution_count": 2,
     "metadata": {},
     "output_type": "execute_result"
    }
   ],
   "source": [
    "# Формируем SQL-запрос, используем Pandas\n",
    "query = '''SELECT * FROM books LIMIT 5'''\n",
    "con=engine.connect()\n",
    "pd.io.sql.read_sql(sql=text(query), con = con)\n"
   ]
  },
  {
   "cell_type": "code",
   "execution_count": 3,
   "metadata": {},
   "outputs": [
    {
     "data": {
      "text/html": [
       "<div>\n",
       "<style scoped>\n",
       "    .dataframe tbody tr th:only-of-type {\n",
       "        vertical-align: middle;\n",
       "    }\n",
       "\n",
       "    .dataframe tbody tr th {\n",
       "        vertical-align: top;\n",
       "    }\n",
       "\n",
       "    .dataframe thead th {\n",
       "        text-align: right;\n",
       "    }\n",
       "</style>\n",
       "<table border=\"1\" class=\"dataframe\">\n",
       "  <thead>\n",
       "    <tr style=\"text-align: right;\">\n",
       "      <th></th>\n",
       "      <th>author_id</th>\n",
       "      <th>author</th>\n",
       "    </tr>\n",
       "  </thead>\n",
       "  <tbody>\n",
       "    <tr>\n",
       "      <th>0</th>\n",
       "      <td>1</td>\n",
       "      <td>A.S. Byatt</td>\n",
       "    </tr>\n",
       "    <tr>\n",
       "      <th>1</th>\n",
       "      <td>2</td>\n",
       "      <td>Aesop/Laura Harris/Laura Gibbs</td>\n",
       "    </tr>\n",
       "    <tr>\n",
       "      <th>2</th>\n",
       "      <td>3</td>\n",
       "      <td>Agatha Christie</td>\n",
       "    </tr>\n",
       "    <tr>\n",
       "      <th>3</th>\n",
       "      <td>4</td>\n",
       "      <td>Alan Brennert</td>\n",
       "    </tr>\n",
       "    <tr>\n",
       "      <th>4</th>\n",
       "      <td>5</td>\n",
       "      <td>Alan Moore/David   Lloyd</td>\n",
       "    </tr>\n",
       "  </tbody>\n",
       "</table>\n",
       "</div>"
      ],
      "text/plain": [
       "   author_id                          author\n",
       "0          1                      A.S. Byatt\n",
       "1          2  Aesop/Laura Harris/Laura Gibbs\n",
       "2          3                 Agatha Christie\n",
       "3          4                   Alan Brennert\n",
       "4          5        Alan Moore/David   Lloyd"
      ]
     },
     "execution_count": 3,
     "metadata": {},
     "output_type": "execute_result"
    }
   ],
   "source": [
    "# Формируем SQL-запрос, используем Pandas\n",
    "query = '''SELECT * FROM authors LIMIT 5'''\n",
    "con=engine.connect()\n",
    "pd.io.sql.read_sql(sql=text(query), con = con)\n"
   ]
  },
  {
   "cell_type": "code",
   "execution_count": 4,
   "metadata": {},
   "outputs": [
    {
     "data": {
      "text/html": [
       "<div>\n",
       "<style scoped>\n",
       "    .dataframe tbody tr th:only-of-type {\n",
       "        vertical-align: middle;\n",
       "    }\n",
       "\n",
       "    .dataframe tbody tr th {\n",
       "        vertical-align: top;\n",
       "    }\n",
       "\n",
       "    .dataframe thead th {\n",
       "        text-align: right;\n",
       "    }\n",
       "</style>\n",
       "<table border=\"1\" class=\"dataframe\">\n",
       "  <thead>\n",
       "    <tr style=\"text-align: right;\">\n",
       "      <th></th>\n",
       "      <th>publisher_id</th>\n",
       "      <th>publisher</th>\n",
       "    </tr>\n",
       "  </thead>\n",
       "  <tbody>\n",
       "    <tr>\n",
       "      <th>0</th>\n",
       "      <td>1</td>\n",
       "      <td>Ace</td>\n",
       "    </tr>\n",
       "    <tr>\n",
       "      <th>1</th>\n",
       "      <td>2</td>\n",
       "      <td>Ace Book</td>\n",
       "    </tr>\n",
       "    <tr>\n",
       "      <th>2</th>\n",
       "      <td>3</td>\n",
       "      <td>Ace Books</td>\n",
       "    </tr>\n",
       "    <tr>\n",
       "      <th>3</th>\n",
       "      <td>4</td>\n",
       "      <td>Ace Hardcover</td>\n",
       "    </tr>\n",
       "    <tr>\n",
       "      <th>4</th>\n",
       "      <td>5</td>\n",
       "      <td>Addison Wesley Publishing Company</td>\n",
       "    </tr>\n",
       "  </tbody>\n",
       "</table>\n",
       "</div>"
      ],
      "text/plain": [
       "   publisher_id                          publisher\n",
       "0             1                                Ace\n",
       "1             2                           Ace Book\n",
       "2             3                          Ace Books\n",
       "3             4                      Ace Hardcover\n",
       "4             5  Addison Wesley Publishing Company"
      ]
     },
     "execution_count": 4,
     "metadata": {},
     "output_type": "execute_result"
    }
   ],
   "source": [
    "# Формируем SQL-запрос, используем Pandas\n",
    "query = '''SELECT * FROM publishers LIMIT 5'''\n",
    "con=engine.connect()\n",
    "pd.io.sql.read_sql(sql=text(query), con = con)\n"
   ]
  },
  {
   "cell_type": "code",
   "execution_count": 5,
   "metadata": {},
   "outputs": [
    {
     "data": {
      "text/html": [
       "<div>\n",
       "<style scoped>\n",
       "    .dataframe tbody tr th:only-of-type {\n",
       "        vertical-align: middle;\n",
       "    }\n",
       "\n",
       "    .dataframe tbody tr th {\n",
       "        vertical-align: top;\n",
       "    }\n",
       "\n",
       "    .dataframe thead th {\n",
       "        text-align: right;\n",
       "    }\n",
       "</style>\n",
       "<table border=\"1\" class=\"dataframe\">\n",
       "  <thead>\n",
       "    <tr style=\"text-align: right;\">\n",
       "      <th></th>\n",
       "      <th>rating_id</th>\n",
       "      <th>book_id</th>\n",
       "      <th>username</th>\n",
       "      <th>rating</th>\n",
       "    </tr>\n",
       "  </thead>\n",
       "  <tbody>\n",
       "    <tr>\n",
       "      <th>0</th>\n",
       "      <td>1</td>\n",
       "      <td>1</td>\n",
       "      <td>ryanfranco</td>\n",
       "      <td>4</td>\n",
       "    </tr>\n",
       "    <tr>\n",
       "      <th>1</th>\n",
       "      <td>2</td>\n",
       "      <td>1</td>\n",
       "      <td>grantpatricia</td>\n",
       "      <td>2</td>\n",
       "    </tr>\n",
       "    <tr>\n",
       "      <th>2</th>\n",
       "      <td>3</td>\n",
       "      <td>1</td>\n",
       "      <td>brandtandrea</td>\n",
       "      <td>5</td>\n",
       "    </tr>\n",
       "    <tr>\n",
       "      <th>3</th>\n",
       "      <td>4</td>\n",
       "      <td>2</td>\n",
       "      <td>lorichen</td>\n",
       "      <td>3</td>\n",
       "    </tr>\n",
       "    <tr>\n",
       "      <th>4</th>\n",
       "      <td>5</td>\n",
       "      <td>2</td>\n",
       "      <td>mariokeller</td>\n",
       "      <td>2</td>\n",
       "    </tr>\n",
       "  </tbody>\n",
       "</table>\n",
       "</div>"
      ],
      "text/plain": [
       "   rating_id  book_id       username  rating\n",
       "0          1        1     ryanfranco       4\n",
       "1          2        1  grantpatricia       2\n",
       "2          3        1   brandtandrea       5\n",
       "3          4        2       lorichen       3\n",
       "4          5        2    mariokeller       2"
      ]
     },
     "execution_count": 5,
     "metadata": {},
     "output_type": "execute_result"
    }
   ],
   "source": [
    "# Формируем SQL-запрос, используем Pandas\n",
    "query = '''SELECT * FROM ratings LIMIT 5'''\n",
    "con=engine.connect()\n",
    "pd.io.sql.read_sql(sql=text(query), con = con)\n"
   ]
  },
  {
   "cell_type": "code",
   "execution_count": 6,
   "metadata": {},
   "outputs": [
    {
     "data": {
      "text/html": [
       "<div>\n",
       "<style scoped>\n",
       "    .dataframe tbody tr th:only-of-type {\n",
       "        vertical-align: middle;\n",
       "    }\n",
       "\n",
       "    .dataframe tbody tr th {\n",
       "        vertical-align: top;\n",
       "    }\n",
       "\n",
       "    .dataframe thead th {\n",
       "        text-align: right;\n",
       "    }\n",
       "</style>\n",
       "<table border=\"1\" class=\"dataframe\">\n",
       "  <thead>\n",
       "    <tr style=\"text-align: right;\">\n",
       "      <th></th>\n",
       "      <th>review_id</th>\n",
       "      <th>book_id</th>\n",
       "      <th>username</th>\n",
       "      <th>text</th>\n",
       "    </tr>\n",
       "  </thead>\n",
       "  <tbody>\n",
       "    <tr>\n",
       "      <th>0</th>\n",
       "      <td>1</td>\n",
       "      <td>1</td>\n",
       "      <td>brandtandrea</td>\n",
       "      <td>Mention society tell send professor analysis. ...</td>\n",
       "    </tr>\n",
       "    <tr>\n",
       "      <th>1</th>\n",
       "      <td>2</td>\n",
       "      <td>1</td>\n",
       "      <td>ryanfranco</td>\n",
       "      <td>Foot glass pretty audience hit themselves. Amo...</td>\n",
       "    </tr>\n",
       "    <tr>\n",
       "      <th>2</th>\n",
       "      <td>3</td>\n",
       "      <td>2</td>\n",
       "      <td>lorichen</td>\n",
       "      <td>Listen treat keep worry. Miss husband tax but ...</td>\n",
       "    </tr>\n",
       "    <tr>\n",
       "      <th>3</th>\n",
       "      <td>4</td>\n",
       "      <td>3</td>\n",
       "      <td>johnsonamanda</td>\n",
       "      <td>Finally month interesting blue could nature cu...</td>\n",
       "    </tr>\n",
       "    <tr>\n",
       "      <th>4</th>\n",
       "      <td>5</td>\n",
       "      <td>3</td>\n",
       "      <td>scotttamara</td>\n",
       "      <td>Nation purpose heavy give wait song will. List...</td>\n",
       "    </tr>\n",
       "  </tbody>\n",
       "</table>\n",
       "</div>"
      ],
      "text/plain": [
       "   review_id  book_id       username  \\\n",
       "0          1        1   brandtandrea   \n",
       "1          2        1     ryanfranco   \n",
       "2          3        2       lorichen   \n",
       "3          4        3  johnsonamanda   \n",
       "4          5        3    scotttamara   \n",
       "\n",
       "                                                text  \n",
       "0  Mention society tell send professor analysis. ...  \n",
       "1  Foot glass pretty audience hit themselves. Amo...  \n",
       "2  Listen treat keep worry. Miss husband tax but ...  \n",
       "3  Finally month interesting blue could nature cu...  \n",
       "4  Nation purpose heavy give wait song will. List...  "
      ]
     },
     "execution_count": 6,
     "metadata": {},
     "output_type": "execute_result"
    }
   ],
   "source": [
    "# Формируем SQL-запрос, используем Pandas\n",
    "query = '''SELECT * FROM reviews LIMIT 5'''\n",
    "con=engine.connect()\n",
    "pd.io.sql.read_sql(sql=text(query), con = con)\n"
   ]
  },
  {
   "cell_type": "markdown",
   "metadata": {},
   "source": [
    "**Вывод**:\n",
    "Вывели первые 5 строк каждой таблицы базы данных.\n"
   ]
  },
  {
   "cell_type": "markdown",
   "metadata": {},
   "source": [
    "## Расчет количества книг, выпущенных после 1 января 2000 года"
   ]
  },
  {
   "cell_type": "code",
   "execution_count": 7,
   "metadata": {},
   "outputs": [
    {
     "data": {
      "text/html": [
       "<div>\n",
       "<style scoped>\n",
       "    .dataframe tbody tr th:only-of-type {\n",
       "        vertical-align: middle;\n",
       "    }\n",
       "\n",
       "    .dataframe tbody tr th {\n",
       "        vertical-align: top;\n",
       "    }\n",
       "\n",
       "    .dataframe thead th {\n",
       "        text-align: right;\n",
       "    }\n",
       "</style>\n",
       "<table border=\"1\" class=\"dataframe\">\n",
       "  <thead>\n",
       "    <tr style=\"text-align: right;\">\n",
       "      <th></th>\n",
       "      <th>count</th>\n",
       "    </tr>\n",
       "  </thead>\n",
       "  <tbody>\n",
       "    <tr>\n",
       "      <th>0</th>\n",
       "      <td>819</td>\n",
       "    </tr>\n",
       "  </tbody>\n",
       "</table>\n",
       "</div>"
      ],
      "text/plain": [
       "   count\n",
       "0    819"
      ]
     },
     "execution_count": 7,
     "metadata": {},
     "output_type": "execute_result"
    }
   ],
   "source": [
    "# Формируем SQL-запрос, используем Pandas\n",
    "query = '''\n",
    "SELECT COUNT(book_id) \n",
    "FROM books\n",
    "WHERE CAST(publication_date AS date) > '2000-01-01'\n",
    "'''\n",
    "con=engine.connect()\n",
    "pd.io.sql.read_sql(sql=text(query), con = con)\n"
   ]
  },
  {
   "cell_type": "markdown",
   "metadata": {},
   "source": [
    "**Вывод**:\n",
    "819 книг было выпущено после 1 января 2000 года."
   ]
  },
  {
   "cell_type": "markdown",
   "metadata": {},
   "source": [
    "## Для каждой книги посчитать количество обзоров и среднюю оценку"
   ]
  },
  {
   "cell_type": "code",
   "execution_count": 13,
   "metadata": {},
   "outputs": [
    {
     "data": {
      "text/html": [
       "<div>\n",
       "<style scoped>\n",
       "    .dataframe tbody tr th:only-of-type {\n",
       "        vertical-align: middle;\n",
       "    }\n",
       "\n",
       "    .dataframe tbody tr th {\n",
       "        vertical-align: top;\n",
       "    }\n",
       "\n",
       "    .dataframe thead th {\n",
       "        text-align: right;\n",
       "    }\n",
       "</style>\n",
       "<table border=\"1\" class=\"dataframe\">\n",
       "  <thead>\n",
       "    <tr style=\"text-align: right;\">\n",
       "      <th></th>\n",
       "      <th>book_id</th>\n",
       "      <th>title</th>\n",
       "      <th>cnt_reviews</th>\n",
       "      <th>avg_rating</th>\n",
       "    </tr>\n",
       "  </thead>\n",
       "  <tbody>\n",
       "    <tr>\n",
       "      <th>0</th>\n",
       "      <td>17</td>\n",
       "      <td>A Dirty Job (Grim Reaper  #1)</td>\n",
       "      <td>4</td>\n",
       "      <td>5.00</td>\n",
       "    </tr>\n",
       "    <tr>\n",
       "      <th>1</th>\n",
       "      <td>553</td>\n",
       "      <td>School's Out—Forever (Maximum Ride  #2)</td>\n",
       "      <td>3</td>\n",
       "      <td>5.00</td>\n",
       "    </tr>\n",
       "    <tr>\n",
       "      <th>2</th>\n",
       "      <td>444</td>\n",
       "      <td>Moneyball: The Art of Winning an Unfair Game</td>\n",
       "      <td>3</td>\n",
       "      <td>5.00</td>\n",
       "    </tr>\n",
       "    <tr>\n",
       "      <th>3</th>\n",
       "      <td>732</td>\n",
       "      <td>The Ghost Map: The Story of London's Most Terr...</td>\n",
       "      <td>2</td>\n",
       "      <td>5.00</td>\n",
       "    </tr>\n",
       "    <tr>\n",
       "      <th>4</th>\n",
       "      <td>169</td>\n",
       "      <td>Crucial Conversations: Tools for Talking When ...</td>\n",
       "      <td>2</td>\n",
       "      <td>5.00</td>\n",
       "    </tr>\n",
       "    <tr>\n",
       "      <th>...</th>\n",
       "      <td>...</td>\n",
       "      <td>...</td>\n",
       "      <td>...</td>\n",
       "      <td>...</td>\n",
       "    </tr>\n",
       "    <tr>\n",
       "      <th>995</th>\n",
       "      <td>915</td>\n",
       "      <td>The World Is Flat: A Brief History of the Twen...</td>\n",
       "      <td>3</td>\n",
       "      <td>2.25</td>\n",
       "    </tr>\n",
       "    <tr>\n",
       "      <th>996</th>\n",
       "      <td>202</td>\n",
       "      <td>Drowning Ruth</td>\n",
       "      <td>3</td>\n",
       "      <td>2.00</td>\n",
       "    </tr>\n",
       "    <tr>\n",
       "      <th>997</th>\n",
       "      <td>316</td>\n",
       "      <td>His Excellency: George Washington</td>\n",
       "      <td>2</td>\n",
       "      <td>2.00</td>\n",
       "    </tr>\n",
       "    <tr>\n",
       "      <th>998</th>\n",
       "      <td>371</td>\n",
       "      <td>Junky</td>\n",
       "      <td>2</td>\n",
       "      <td>2.00</td>\n",
       "    </tr>\n",
       "    <tr>\n",
       "      <th>999</th>\n",
       "      <td>303</td>\n",
       "      <td>Harvesting the Heart</td>\n",
       "      <td>2</td>\n",
       "      <td>1.50</td>\n",
       "    </tr>\n",
       "  </tbody>\n",
       "</table>\n",
       "<p>1000 rows × 4 columns</p>\n",
       "</div>"
      ],
      "text/plain": [
       "     book_id                                              title  cnt_reviews  \\\n",
       "0         17                      A Dirty Job (Grim Reaper  #1)            4   \n",
       "1        553            School's Out—Forever (Maximum Ride  #2)            3   \n",
       "2        444       Moneyball: The Art of Winning an Unfair Game            3   \n",
       "3        732  The Ghost Map: The Story of London's Most Terr...            2   \n",
       "4        169  Crucial Conversations: Tools for Talking When ...            2   \n",
       "..       ...                                                ...          ...   \n",
       "995      915  The World Is Flat: A Brief History of the Twen...            3   \n",
       "996      202                                      Drowning Ruth            3   \n",
       "997      316                  His Excellency: George Washington            2   \n",
       "998      371                                              Junky            2   \n",
       "999      303                               Harvesting the Heart            2   \n",
       "\n",
       "     avg_rating  \n",
       "0          5.00  \n",
       "1          5.00  \n",
       "2          5.00  \n",
       "3          5.00  \n",
       "4          5.00  \n",
       "..          ...  \n",
       "995        2.25  \n",
       "996        2.00  \n",
       "997        2.00  \n",
       "998        2.00  \n",
       "999        1.50  \n",
       "\n",
       "[1000 rows x 4 columns]"
      ]
     },
     "execution_count": 13,
     "metadata": {},
     "output_type": "execute_result"
    }
   ],
   "source": [
    "# Формируем SQL-запрос, используем Pandas\n",
    "query = '''\n",
    "\n",
    "WITH t1 AS (\n",
    "  SELECT \n",
    "    b.book_id AS book_id, \n",
    "    b.title AS title, \n",
    "    COUNT(r.review_id) AS cnt_reviews \n",
    "  FROM \n",
    "    books AS b \n",
    "    LEFT JOIN reviews r ON b.book_id = r.book_id \n",
    "  GROUP BY \n",
    "    b.book_id, \n",
    "    b.title\n",
    ") \n",
    "SELECT \n",
    "  t1.book_id, \n",
    "  t1.title, \n",
    "  t1.cnt_reviews, \n",
    "  AVG(r.rating) AS avg_rating \n",
    "FROM \n",
    "  t1 \n",
    "  LEFT JOIN ratings r ON t1.book_id = r.book_id \n",
    "GROUP BY \n",
    "  t1.book_id, \n",
    "  t1.title, \n",
    "  t1.cnt_reviews \n",
    "ORDER BY \n",
    "  avg_rating DESC, \n",
    "  t1.cnt_reviews DESC;\n",
    "\n",
    "\n",
    "'''\n",
    "con=engine.connect()\n",
    "pd.io.sql.read_sql(sql=text(query), con = con)\n"
   ]
  },
  {
   "cell_type": "markdown",
   "metadata": {},
   "source": [
    "**Вывод**:\n",
    "Всего 1000 уникальных книг с количеством обзоров от 2 до 4 и средней оценкой от 1.50 до 5.00.\n",
    "\n",
    "*Топ- 5 книг по количеству обзоров и средней оценке:* \n",
    "* A Dirty Job (Grim Reaper #1);\n",
    "* School's Out—Forever (Maximum Ride #2);\n",
    "* Moneyball: The Art of Winning an Unfair Game;\n",
    "* The Ghost Map: The Story of London's Most Terrifying Epidemic;\n",
    "* Crucial Conversations: Tools for Talking When Stakes Are High."
   ]
  },
  {
   "cell_type": "markdown",
   "metadata": {},
   "source": [
    "## Определить издательство, которое выпустило наибольшее число книг толще 50 страниц"
   ]
  },
  {
   "cell_type": "code",
   "execution_count": 9,
   "metadata": {},
   "outputs": [
    {
     "data": {
      "text/html": [
       "<div>\n",
       "<style scoped>\n",
       "    .dataframe tbody tr th:only-of-type {\n",
       "        vertical-align: middle;\n",
       "    }\n",
       "\n",
       "    .dataframe tbody tr th {\n",
       "        vertical-align: top;\n",
       "    }\n",
       "\n",
       "    .dataframe thead th {\n",
       "        text-align: right;\n",
       "    }\n",
       "</style>\n",
       "<table border=\"1\" class=\"dataframe\">\n",
       "  <thead>\n",
       "    <tr style=\"text-align: right;\">\n",
       "      <th></th>\n",
       "      <th>publisher_id</th>\n",
       "      <th>publisher</th>\n",
       "      <th>cnt_books</th>\n",
       "    </tr>\n",
       "  </thead>\n",
       "  <tbody>\n",
       "    <tr>\n",
       "      <th>0</th>\n",
       "      <td>212</td>\n",
       "      <td>Penguin Books</td>\n",
       "      <td>42</td>\n",
       "    </tr>\n",
       "  </tbody>\n",
       "</table>\n",
       "</div>"
      ],
      "text/plain": [
       "   publisher_id      publisher  cnt_books\n",
       "0           212  Penguin Books         42"
      ]
     },
     "execution_count": 9,
     "metadata": {},
     "output_type": "execute_result"
    }
   ],
   "source": [
    "# Формируем SQL-запрос, используем Pandas\n",
    "query = '''\n",
    "\n",
    "SELECT \n",
    "  b.publisher_id, \n",
    "  p.publisher, \n",
    "  COUNT(b.book_id) AS cnt_books \n",
    "FROM \n",
    "  books AS b \n",
    "  LEFT JOIN publishers p ON b.publisher_id = p.publisher_id \n",
    "WHERE \n",
    "  b.num_pages > 50 \n",
    "GROUP BY \n",
    "  b.publisher_id, \n",
    "  p.publisher \n",
    "ORDER BY \n",
    "  cnt_books DESC \n",
    "LIMIT  1;\n",
    "\n",
    "\n",
    "'''\n",
    "con=engine.connect()\n",
    "pd.io.sql.read_sql(sql=text(query), con = con)\n"
   ]
  },
  {
   "cell_type": "markdown",
   "metadata": {},
   "source": [
    "**Вывод**:\n",
    "Издательство 212 Penguin Books выпустило наибольшее число ( 42 шт.) книг толще 50 страниц."
   ]
  },
  {
   "cell_type": "markdown",
   "metadata": {},
   "source": [
    "## Определить автора с самой высокой средней оценкой книг (по книгам с 50 и более оценками)"
   ]
  },
  {
   "cell_type": "code",
   "execution_count": 10,
   "metadata": {},
   "outputs": [
    {
     "data": {
      "text/html": [
       "<div>\n",
       "<style scoped>\n",
       "    .dataframe tbody tr th:only-of-type {\n",
       "        vertical-align: middle;\n",
       "    }\n",
       "\n",
       "    .dataframe tbody tr th {\n",
       "        vertical-align: top;\n",
       "    }\n",
       "\n",
       "    .dataframe thead th {\n",
       "        text-align: right;\n",
       "    }\n",
       "</style>\n",
       "<table border=\"1\" class=\"dataframe\">\n",
       "  <thead>\n",
       "    <tr style=\"text-align: right;\">\n",
       "      <th></th>\n",
       "      <th>author</th>\n",
       "      <th>avg_rating</th>\n",
       "    </tr>\n",
       "  </thead>\n",
       "  <tbody>\n",
       "    <tr>\n",
       "      <th>0</th>\n",
       "      <td>J.K. Rowling/Mary GrandPré</td>\n",
       "      <td>4.28</td>\n",
       "    </tr>\n",
       "  </tbody>\n",
       "</table>\n",
       "</div>"
      ],
      "text/plain": [
       "                       author  avg_rating\n",
       "0  J.K. Rowling/Mary GrandPré        4.28"
      ]
     },
     "execution_count": 10,
     "metadata": {},
     "output_type": "execute_result"
    }
   ],
   "source": [
    "# Формируем SQL-запрос, используем Pandas\n",
    "query = '''\n",
    "\n",
    "SELECT a.author, ROUND(AVG(t1.avg_ratings),2) AS avg_rating\n",
    "\n",
    "FROM (SELECT b.author_id, b.book_id, AVG(r.rating) AS avg_ratings\n",
    "FROM books AS b\n",
    "LEFT  JOIN  ratings r ON b.book_id = r.book_id\n",
    "GROUP BY b.author_id,b.book_id\n",
    "HAVING COUNT(r.rating)>=50) AS t1 \n",
    "LEFT JOIN  authors a ON t1.author_id = a.author_id\n",
    "GROUP BY a.author\n",
    "ORDER BY avg_rating DESC\n",
    "LIMIT 1;\n",
    "\n",
    "\n",
    "'''\n",
    "con=engine.connect()\n",
    "pd.io.sql.read_sql(sql=text(query), con = con)\n"
   ]
  },
  {
   "cell_type": "markdown",
   "metadata": {},
   "source": [
    "**Вывод**:\n",
    "J.K. Rowling/Mary GrandPré -автор с самой высокой средней оценкой (4.28) книг (по книгам с 50 и более оценками)."
   ]
  },
  {
   "cell_type": "markdown",
   "metadata": {},
   "source": [
    "## Посчитайте среднее количество обзоров от пользователей, которые поставили больше 48 оценок"
   ]
  },
  {
   "cell_type": "code",
   "execution_count": 11,
   "metadata": {},
   "outputs": [
    {
     "data": {
      "text/html": [
       "<div>\n",
       "<style scoped>\n",
       "    .dataframe tbody tr th:only-of-type {\n",
       "        vertical-align: middle;\n",
       "    }\n",
       "\n",
       "    .dataframe tbody tr th {\n",
       "        vertical-align: top;\n",
       "    }\n",
       "\n",
       "    .dataframe thead th {\n",
       "        text-align: right;\n",
       "    }\n",
       "</style>\n",
       "<table border=\"1\" class=\"dataframe\">\n",
       "  <thead>\n",
       "    <tr style=\"text-align: right;\">\n",
       "      <th></th>\n",
       "      <th>avg_reviews</th>\n",
       "    </tr>\n",
       "  </thead>\n",
       "  <tbody>\n",
       "    <tr>\n",
       "      <th>0</th>\n",
       "      <td>24.0</td>\n",
       "    </tr>\n",
       "  </tbody>\n",
       "</table>\n",
       "</div>"
      ],
      "text/plain": [
       "   avg_reviews\n",
       "0         24.0"
      ]
     },
     "execution_count": 11,
     "metadata": {},
     "output_type": "execute_result"
    }
   ],
   "source": [
    "# Формируем SQL-запрос, используем Pandas\n",
    "query = '''\n",
    "WITH t1 AS (\n",
    "  SELECT \n",
    "    username, \n",
    "    COUNT(review_id) AS cnt_reviews \n",
    "  FROM \n",
    "    reviews \n",
    "  WHERE \n",
    "    username IN (\n",
    "      SELECT \n",
    "        username \n",
    "      FROM \n",
    "        ratings \n",
    "      GROUP BY \n",
    "        username \n",
    "      HAVING \n",
    "        COUNT(rating)> 48\n",
    "    ) \n",
    "  GROUP BY \n",
    "    username\n",
    ") \n",
    "SELECT \n",
    "  AVG(t1.cnt_reviews) AS avg_reviews \n",
    "FROM \n",
    "  t1\n",
    "\n",
    "'''\n",
    "con=engine.connect()\n",
    "pd.io.sql.read_sql(sql=text(query), con = con)"
   ]
  },
  {
   "cell_type": "markdown",
   "metadata": {},
   "source": [
    "**Вывод**:\n",
    "24 - среднее количество обзоров от пользователей, которые поставили больше 48 оценок."
   ]
  },
  {
   "cell_type": "markdown",
   "metadata": {},
   "source": [
    "## Общий вывод:\n",
    "Для формулирования ценностного предложения для нового продукта был проведен анализ базы данных крупного сервиса для чтения книг по подписке, в результате которого было выявлены следующие результаты:\n",
    "* 819 книг было выпущено после 1 января 2000 года;\n",
    "* Всего 1000 уникальных книг с количеством обзоров от 2 до 4 и средней оценкой от 1.50 до 5.00;\n",
    "* Издательство 212 Penguin Books выпустило наибольшее число ( 42 шт.) книг толще 50 страниц;\n",
    "* J.K. Rowling/Mary GrandPré -автор с самой высокой средней оценкой (4.28) книг (по книгам с 50 и более оценками);\n",
    "* 24 - среднее количество обзоров от пользователей, которые поставили больше 48 оценок.\n",
    "\n"
   ]
  }
 ],
 "metadata": {
  "ExecuteTimeLog": [
   {
    "duration": 57,
    "start_time": "2024-04-17T13:02:12.565Z"
   },
   {
    "duration": 7835,
    "start_time": "2024-04-17T13:02:21.445Z"
   },
   {
    "duration": 213,
    "start_time": "2024-04-17T13:02:29.282Z"
   },
   {
    "duration": 69,
    "start_time": "2024-04-17T13:14:48.478Z"
   },
   {
    "duration": 8124,
    "start_time": "2024-04-17T13:14:59.575Z"
   },
   {
    "duration": 220,
    "start_time": "2024-04-17T13:15:07.700Z"
   },
   {
    "duration": 72,
    "start_time": "2024-04-17T13:15:07.922Z"
   },
   {
    "duration": 124,
    "start_time": "2024-04-17T13:15:58.463Z"
   },
   {
    "duration": 47,
    "start_time": "2024-04-17T13:16:05.893Z"
   },
   {
    "duration": 7325,
    "start_time": "2024-04-17T13:16:14.856Z"
   },
   {
    "duration": 200,
    "start_time": "2024-04-17T13:16:22.183Z"
   },
   {
    "duration": 68,
    "start_time": "2024-04-17T13:16:22.384Z"
   },
   {
    "duration": 130,
    "start_time": "2024-04-17T13:16:56.112Z"
   },
   {
    "duration": 54,
    "start_time": "2024-04-17T13:17:09.632Z"
   },
   {
    "duration": 51,
    "start_time": "2024-04-17T13:17:32.928Z"
   },
   {
    "duration": 71,
    "start_time": "2024-04-17T13:18:08.527Z"
   },
   {
    "duration": 67,
    "start_time": "2024-04-17T13:18:34.125Z"
   },
   {
    "duration": 8389,
    "start_time": "2024-04-17T13:18:44.091Z"
   },
   {
    "duration": 216,
    "start_time": "2024-04-17T13:18:52.482Z"
   },
   {
    "duration": 120,
    "start_time": "2024-04-17T13:18:52.700Z"
   },
   {
    "duration": 131,
    "start_time": "2024-04-17T13:18:52.822Z"
   },
   {
    "duration": 0,
    "start_time": "2024-04-17T13:18:52.955Z"
   },
   {
    "duration": 40,
    "start_time": "2024-04-17T13:19:21.226Z"
   },
   {
    "duration": 130,
    "start_time": "2024-04-17T13:19:57.615Z"
   },
   {
    "duration": 51,
    "start_time": "2024-04-17T13:20:21.593Z"
   },
   {
    "duration": 34,
    "start_time": "2024-04-17T13:21:29.844Z"
   },
   {
    "duration": 32,
    "start_time": "2024-04-17T13:22:23.434Z"
   },
   {
    "duration": 51,
    "start_time": "2024-04-17T13:25:15.696Z"
   },
   {
    "duration": 6799,
    "start_time": "2024-04-17T13:25:32.653Z"
   },
   {
    "duration": 219,
    "start_time": "2024-04-17T13:25:39.454Z"
   },
   {
    "duration": 121,
    "start_time": "2024-04-17T13:25:39.675Z"
   },
   {
    "duration": 53,
    "start_time": "2024-04-17T13:25:39.798Z"
   },
   {
    "duration": 51,
    "start_time": "2024-04-17T13:25:39.854Z"
   },
   {
    "duration": 53,
    "start_time": "2024-04-17T13:25:39.907Z"
   },
   {
    "duration": 34,
    "start_time": "2024-04-17T13:25:39.961Z"
   },
   {
    "duration": 127,
    "start_time": "2024-04-17T13:31:00.170Z"
   },
   {
    "duration": 39,
    "start_time": "2024-04-17T13:31:38.073Z"
   },
   {
    "duration": 126,
    "start_time": "2024-04-17T13:36:54.371Z"
   },
   {
    "duration": 6990,
    "start_time": "2024-04-17T13:37:23.149Z"
   },
   {
    "duration": 214,
    "start_time": "2024-04-17T13:37:30.141Z"
   },
   {
    "duration": 4927,
    "start_time": "2024-04-17T13:37:30.357Z"
   },
   {
    "duration": 1582,
    "start_time": "2024-04-17T13:37:35.286Z"
   },
   {
    "duration": 52,
    "start_time": "2024-04-17T13:37:36.870Z"
   },
   {
    "duration": 51,
    "start_time": "2024-04-17T13:37:36.924Z"
   },
   {
    "duration": 50,
    "start_time": "2024-04-17T13:37:36.976Z"
   },
   {
    "duration": 137,
    "start_time": "2024-04-17T13:56:26.728Z"
   },
   {
    "duration": 59,
    "start_time": "2024-04-17T13:56:35.295Z"
   },
   {
    "duration": 6653,
    "start_time": "2024-04-17T13:56:41.542Z"
   },
   {
    "duration": 217,
    "start_time": "2024-04-17T13:56:48.198Z"
   },
   {
    "duration": 112,
    "start_time": "2024-04-17T13:56:48.417Z"
   },
   {
    "duration": 49,
    "start_time": "2024-04-17T13:56:48.531Z"
   },
   {
    "duration": 50,
    "start_time": "2024-04-17T13:56:48.582Z"
   },
   {
    "duration": 51,
    "start_time": "2024-04-17T13:56:48.634Z"
   },
   {
    "duration": 48,
    "start_time": "2024-04-17T13:56:48.687Z"
   },
   {
    "duration": 133,
    "start_time": "2024-04-17T13:56:48.736Z"
   },
   {
    "duration": 57,
    "start_time": "2024-04-17T13:58:06.452Z"
   },
   {
    "duration": 145,
    "start_time": "2024-04-17T14:00:07.559Z"
   },
   {
    "duration": 133,
    "start_time": "2024-04-17T14:01:34.710Z"
   },
   {
    "duration": 7162,
    "start_time": "2024-04-17T14:01:56.896Z"
   },
   {
    "duration": 208,
    "start_time": "2024-04-17T14:02:04.061Z"
   },
   {
    "duration": 116,
    "start_time": "2024-04-17T14:02:04.271Z"
   },
   {
    "duration": 50,
    "start_time": "2024-04-17T14:02:04.389Z"
   },
   {
    "duration": 51,
    "start_time": "2024-04-17T14:02:04.440Z"
   },
   {
    "duration": 51,
    "start_time": "2024-04-17T14:02:04.493Z"
   },
   {
    "duration": 50,
    "start_time": "2024-04-17T14:02:04.545Z"
   },
   {
    "duration": 84,
    "start_time": "2024-04-17T14:02:04.596Z"
   },
   {
    "duration": 85,
    "start_time": "2024-04-17T14:06:33.258Z"
   },
   {
    "duration": 85,
    "start_time": "2024-04-17T14:07:06.442Z"
   },
   {
    "duration": 85,
    "start_time": "2024-04-17T14:08:57.212Z"
   },
   {
    "duration": 6651,
    "start_time": "2024-04-17T14:12:48.258Z"
   },
   {
    "duration": 223,
    "start_time": "2024-04-17T14:12:54.911Z"
   },
   {
    "duration": 120,
    "start_time": "2024-04-17T14:12:55.136Z"
   },
   {
    "duration": 52,
    "start_time": "2024-04-17T14:12:55.258Z"
   },
   {
    "duration": 55,
    "start_time": "2024-04-17T14:12:55.313Z"
   },
   {
    "duration": 53,
    "start_time": "2024-04-17T14:12:55.370Z"
   },
   {
    "duration": 52,
    "start_time": "2024-04-17T14:12:55.425Z"
   },
   {
    "duration": 88,
    "start_time": "2024-04-17T14:12:55.479Z"
   },
   {
    "duration": 132,
    "start_time": "2024-04-17T15:09:12.224Z"
   },
   {
    "duration": 59,
    "start_time": "2024-04-17T15:11:03.387Z"
   },
   {
    "duration": 130,
    "start_time": "2024-04-17T15:11:20.842Z"
   },
   {
    "duration": 137,
    "start_time": "2024-04-17T15:12:40.181Z"
   },
   {
    "duration": 1598,
    "start_time": "2024-04-17T15:13:01.860Z"
   },
   {
    "duration": 68,
    "start_time": "2024-04-17T15:13:44.036Z"
   },
   {
    "duration": 207,
    "start_time": "2024-04-17T15:13:56.779Z"
   },
   {
    "duration": 69,
    "start_time": "2024-04-17T15:27:27.972Z"
   },
   {
    "duration": 57,
    "start_time": "2024-04-17T15:28:12.296Z"
   },
   {
    "duration": 6362,
    "start_time": "2024-04-17T15:28:17.742Z"
   },
   {
    "duration": 206,
    "start_time": "2024-04-17T15:28:24.106Z"
   },
   {
    "duration": 112,
    "start_time": "2024-04-17T15:28:24.313Z"
   },
   {
    "duration": 49,
    "start_time": "2024-04-17T15:28:24.426Z"
   },
   {
    "duration": 51,
    "start_time": "2024-04-17T15:28:24.476Z"
   },
   {
    "duration": 50,
    "start_time": "2024-04-17T15:28:24.528Z"
   },
   {
    "duration": 49,
    "start_time": "2024-04-17T15:28:24.579Z"
   },
   {
    "duration": 83,
    "start_time": "2024-04-17T15:28:24.629Z"
   },
   {
    "duration": 223,
    "start_time": "2024-04-17T15:28:24.714Z"
   },
   {
    "duration": 134,
    "start_time": "2024-04-17T15:28:24.939Z"
   },
   {
    "duration": 58,
    "start_time": "2024-04-17T15:29:03.631Z"
   },
   {
    "duration": 138,
    "start_time": "2024-04-17T15:29:15.048Z"
   },
   {
    "duration": 133,
    "start_time": "2024-04-17T15:29:53.482Z"
   },
   {
    "duration": 66,
    "start_time": "2024-04-17T15:30:09.729Z"
   },
   {
    "duration": 42,
    "start_time": "2024-04-17T15:31:43.305Z"
   },
   {
    "duration": 151,
    "start_time": "2024-04-17T15:32:18.830Z"
   },
   {
    "duration": 57,
    "start_time": "2024-04-17T15:32:23.494Z"
   },
   {
    "duration": 141,
    "start_time": "2024-04-17T15:32:34.712Z"
   },
   {
    "duration": 129,
    "start_time": "2024-04-17T15:33:53.592Z"
   },
   {
    "duration": 47,
    "start_time": "2024-04-17T15:34:17.778Z"
   },
   {
    "duration": 57,
    "start_time": "2024-04-17T15:36:40.287Z"
   },
   {
    "duration": 60,
    "start_time": "2024-04-17T15:37:33.456Z"
   },
   {
    "duration": 6545,
    "start_time": "2024-04-17T15:37:44.298Z"
   },
   {
    "duration": 214,
    "start_time": "2024-04-17T15:37:50.845Z"
   },
   {
    "duration": 114,
    "start_time": "2024-04-17T15:37:51.061Z"
   },
   {
    "duration": 49,
    "start_time": "2024-04-17T15:37:51.177Z"
   },
   {
    "duration": 51,
    "start_time": "2024-04-17T15:37:51.228Z"
   },
   {
    "duration": 51,
    "start_time": "2024-04-17T15:37:51.280Z"
   },
   {
    "duration": 49,
    "start_time": "2024-04-17T15:37:51.333Z"
   },
   {
    "duration": 83,
    "start_time": "2024-04-17T15:37:51.384Z"
   },
   {
    "duration": 226,
    "start_time": "2024-04-17T15:37:51.469Z"
   },
   {
    "duration": 54,
    "start_time": "2024-04-17T15:37:51.697Z"
   },
   {
    "duration": 54,
    "start_time": "2024-04-17T15:38:30.218Z"
   },
   {
    "duration": 54,
    "start_time": "2024-04-17T15:38:37.301Z"
   },
   {
    "duration": 55,
    "start_time": "2024-04-17T15:38:46.017Z"
   },
   {
    "duration": 55,
    "start_time": "2024-04-17T15:39:01.425Z"
   },
   {
    "duration": 220,
    "start_time": "2024-04-17T15:41:49.964Z"
   },
   {
    "duration": 227,
    "start_time": "2024-04-17T15:45:00.780Z"
   },
   {
    "duration": 54,
    "start_time": "2024-04-17T15:45:19.932Z"
   },
   {
    "duration": 54,
    "start_time": "2024-04-17T15:46:48.868Z"
   },
   {
    "duration": 55,
    "start_time": "2024-04-17T15:48:24.262Z"
   },
   {
    "duration": 55,
    "start_time": "2024-04-17T15:48:47.048Z"
   },
   {
    "duration": 57,
    "start_time": "2024-04-17T15:49:08.078Z"
   },
   {
    "duration": 6457,
    "start_time": "2024-04-17T15:49:15.608Z"
   },
   {
    "duration": 224,
    "start_time": "2024-04-17T15:49:22.067Z"
   },
   {
    "duration": 120,
    "start_time": "2024-04-17T15:49:22.292Z"
   },
   {
    "duration": 50,
    "start_time": "2024-04-17T15:49:22.414Z"
   },
   {
    "duration": 51,
    "start_time": "2024-04-17T15:49:22.466Z"
   },
   {
    "duration": 51,
    "start_time": "2024-04-17T15:49:22.519Z"
   },
   {
    "duration": 49,
    "start_time": "2024-04-17T15:49:22.572Z"
   },
   {
    "duration": 85,
    "start_time": "2024-04-17T15:49:22.622Z"
   },
   {
    "duration": 209,
    "start_time": "2024-04-17T15:49:22.708Z"
   },
   {
    "duration": 56,
    "start_time": "2024-04-17T15:49:22.919Z"
   },
   {
    "duration": 76,
    "start_time": "2024-04-17T15:50:00.790Z"
   },
   {
    "duration": 131,
    "start_time": "2024-04-17T15:54:18.554Z"
   },
   {
    "duration": 59,
    "start_time": "2024-04-17T15:55:57.047Z"
   },
   {
    "duration": 129,
    "start_time": "2024-04-17T15:58:01.337Z"
   },
   {
    "duration": 129,
    "start_time": "2024-04-17T16:00:19.801Z"
   },
   {
    "duration": 54,
    "start_time": "2024-04-17T16:01:20.571Z"
   },
   {
    "duration": 219,
    "start_time": "2024-04-17T16:02:31.843Z"
   },
   {
    "duration": 221,
    "start_time": "2024-04-17T16:02:40.202Z"
   },
   {
    "duration": 6463,
    "start_time": "2024-04-17T16:03:41.546Z"
   },
   {
    "duration": 222,
    "start_time": "2024-04-17T16:03:48.011Z"
   },
   {
    "duration": 118,
    "start_time": "2024-04-17T16:03:48.235Z"
   },
   {
    "duration": 49,
    "start_time": "2024-04-17T16:03:48.355Z"
   },
   {
    "duration": 50,
    "start_time": "2024-04-17T16:03:48.405Z"
   },
   {
    "duration": 50,
    "start_time": "2024-04-17T16:03:48.457Z"
   },
   {
    "duration": 50,
    "start_time": "2024-04-17T16:03:48.508Z"
   },
   {
    "duration": 83,
    "start_time": "2024-04-17T16:03:48.559Z"
   },
   {
    "duration": 224,
    "start_time": "2024-04-17T16:03:48.644Z"
   },
   {
    "duration": 50,
    "start_time": "2024-04-17T16:03:48.870Z"
   },
   {
    "duration": 53,
    "start_time": "2024-04-17T16:03:48.922Z"
   },
   {
    "duration": 3,
    "start_time": "2024-04-17T16:05:30.335Z"
   },
   {
    "duration": 70,
    "start_time": "2024-04-17T16:05:43.533Z"
   },
   {
    "duration": 115,
    "start_time": "2024-04-17T16:06:16.545Z"
   },
   {
    "duration": 135,
    "start_time": "2024-04-17T16:06:49.934Z"
   },
   {
    "duration": 218,
    "start_time": "2024-04-17T16:06:55.943Z"
   },
   {
    "duration": 139,
    "start_time": "2024-04-17T16:07:37.869Z"
   },
   {
    "duration": 57,
    "start_time": "2024-04-17T16:08:01.685Z"
   },
   {
    "duration": 123,
    "start_time": "2024-04-17T16:08:31.061Z"
   },
   {
    "duration": 115,
    "start_time": "2024-04-17T16:08:40.485Z"
   },
   {
    "duration": 287,
    "start_time": "2024-04-17T16:09:40.680Z"
   },
   {
    "duration": 217,
    "start_time": "2024-04-17T16:09:50.794Z"
   },
   {
    "duration": 224,
    "start_time": "2024-04-17T16:10:27.999Z"
   },
   {
    "duration": 116,
    "start_time": "2024-04-17T16:10:42.263Z"
   },
   {
    "duration": 207,
    "start_time": "2024-04-17T16:10:48.432Z"
   },
   {
    "duration": 234,
    "start_time": "2024-04-17T16:11:01.231Z"
   },
   {
    "duration": 211,
    "start_time": "2024-04-17T16:11:52.607Z"
   },
   {
    "duration": 222,
    "start_time": "2024-04-17T16:12:02.225Z"
   },
   {
    "duration": 214,
    "start_time": "2024-04-17T16:13:16.888Z"
   },
   {
    "duration": 218,
    "start_time": "2024-04-17T16:13:41.295Z"
   },
   {
    "duration": 69,
    "start_time": "2024-04-17T16:15:13.456Z"
   },
   {
    "duration": 41,
    "start_time": "2024-04-17T16:15:30.700Z"
   },
   {
    "duration": 6514,
    "start_time": "2024-04-17T16:16:40.185Z"
   },
   {
    "duration": 220,
    "start_time": "2024-04-17T16:16:46.701Z"
   },
   {
    "duration": 126,
    "start_time": "2024-04-17T16:16:46.922Z"
   },
   {
    "duration": 49,
    "start_time": "2024-04-17T16:16:47.049Z"
   },
   {
    "duration": 49,
    "start_time": "2024-04-17T16:16:47.100Z"
   },
   {
    "duration": 50,
    "start_time": "2024-04-17T16:16:47.151Z"
   },
   {
    "duration": 48,
    "start_time": "2024-04-17T16:16:47.203Z"
   },
   {
    "duration": 90,
    "start_time": "2024-04-17T16:16:47.252Z"
   },
   {
    "duration": 50,
    "start_time": "2024-04-17T16:16:47.344Z"
   },
   {
    "duration": 54,
    "start_time": "2024-04-17T16:16:47.396Z"
   },
   {
    "duration": 49,
    "start_time": "2024-04-17T19:44:07.043Z"
   },
   {
    "duration": 9884,
    "start_time": "2024-04-17T19:44:15.282Z"
   },
   {
    "duration": 49,
    "start_time": "2024-04-17T19:44:25.168Z"
   },
   {
    "duration": 43,
    "start_time": "2024-04-17T19:44:25.219Z"
   },
   {
    "duration": 11,
    "start_time": "2024-04-17T19:44:25.264Z"
   },
   {
    "duration": 15,
    "start_time": "2024-04-17T19:44:25.278Z"
   },
   {
    "duration": 12,
    "start_time": "2024-04-17T19:44:25.295Z"
   },
   {
    "duration": 10,
    "start_time": "2024-04-17T19:44:25.308Z"
   },
   {
    "duration": 25,
    "start_time": "2024-04-17T19:44:25.320Z"
   },
   {
    "duration": 12,
    "start_time": "2024-04-17T19:44:25.347Z"
   },
   {
    "duration": 15,
    "start_time": "2024-04-17T19:44:25.370Z"
   },
   {
    "duration": 93,
    "start_time": "2024-04-17T19:44:25.387Z"
   },
   {
    "duration": 25,
    "start_time": "2024-04-17T19:46:18.469Z"
   },
   {
    "duration": 75,
    "start_time": "2024-04-17T19:51:10.718Z"
   },
   {
    "duration": 9645,
    "start_time": "2024-04-17T19:51:17.441Z"
   },
   {
    "duration": 48,
    "start_time": "2024-04-17T19:51:27.089Z"
   },
   {
    "duration": 32,
    "start_time": "2024-04-17T19:51:27.139Z"
   },
   {
    "duration": 11,
    "start_time": "2024-04-17T19:51:27.173Z"
   },
   {
    "duration": 13,
    "start_time": "2024-04-17T19:51:27.186Z"
   },
   {
    "duration": 11,
    "start_time": "2024-04-17T19:51:27.201Z"
   },
   {
    "duration": 9,
    "start_time": "2024-04-17T19:51:27.214Z"
   },
   {
    "duration": 25,
    "start_time": "2024-04-17T19:51:27.224Z"
   },
   {
    "duration": 20,
    "start_time": "2024-04-17T19:51:27.251Z"
   },
   {
    "duration": 16,
    "start_time": "2024-04-17T19:51:27.273Z"
   },
   {
    "duration": 88,
    "start_time": "2024-04-17T19:51:27.290Z"
   },
   {
    "duration": 18,
    "start_time": "2024-04-17T19:52:15.503Z"
   },
   {
    "duration": 48,
    "start_time": "2024-04-17T19:52:59.553Z"
   },
   {
    "duration": 55,
    "start_time": "2024-04-17T19:53:52.565Z"
   },
   {
    "duration": 9670,
    "start_time": "2024-04-17T19:54:06.054Z"
   },
   {
    "duration": 49,
    "start_time": "2024-04-17T19:54:15.726Z"
   },
   {
    "duration": 23,
    "start_time": "2024-04-17T19:54:15.778Z"
   },
   {
    "duration": 10,
    "start_time": "2024-04-17T19:54:15.803Z"
   },
   {
    "duration": 10,
    "start_time": "2024-04-17T19:54:15.815Z"
   },
   {
    "duration": 15,
    "start_time": "2024-04-17T19:54:15.827Z"
   },
   {
    "duration": 10,
    "start_time": "2024-04-17T19:54:15.844Z"
   },
   {
    "duration": 41,
    "start_time": "2024-04-17T19:54:15.856Z"
   },
   {
    "duration": 12,
    "start_time": "2024-04-17T19:54:15.898Z"
   },
   {
    "duration": 13,
    "start_time": "2024-04-17T19:54:15.912Z"
   },
   {
    "duration": 12,
    "start_time": "2024-04-17T19:54:15.926Z"
   },
   {
    "duration": 9815,
    "start_time": "2024-04-17T20:10:15.208Z"
   },
   {
    "duration": 60,
    "start_time": "2024-04-17T20:10:25.024Z"
   },
   {
    "duration": 35,
    "start_time": "2024-04-17T20:10:25.086Z"
   },
   {
    "duration": 13,
    "start_time": "2024-04-17T20:10:25.123Z"
   },
   {
    "duration": 14,
    "start_time": "2024-04-17T20:10:25.138Z"
   },
   {
    "duration": 15,
    "start_time": "2024-04-17T20:10:25.154Z"
   },
   {
    "duration": 10,
    "start_time": "2024-04-17T20:10:25.172Z"
   },
   {
    "duration": 30,
    "start_time": "2024-04-17T20:10:25.184Z"
   },
   {
    "duration": 10,
    "start_time": "2024-04-17T20:10:25.216Z"
   },
   {
    "duration": 38,
    "start_time": "2024-04-17T20:10:25.228Z"
   },
   {
    "duration": 19,
    "start_time": "2024-04-17T20:10:25.268Z"
   },
   {
    "duration": 6906,
    "start_time": "2024-04-18T07:12:37.906Z"
   },
   {
    "duration": 228,
    "start_time": "2024-04-18T07:12:44.814Z"
   },
   {
    "duration": 120,
    "start_time": "2024-04-18T07:12:45.043Z"
   },
   {
    "duration": 51,
    "start_time": "2024-04-18T07:12:45.165Z"
   },
   {
    "duration": 55,
    "start_time": "2024-04-18T07:12:45.218Z"
   },
   {
    "duration": 52,
    "start_time": "2024-04-18T07:12:45.276Z"
   },
   {
    "duration": 52,
    "start_time": "2024-04-18T07:12:45.329Z"
   },
   {
    "duration": 93,
    "start_time": "2024-04-18T07:12:45.382Z"
   },
   {
    "duration": 54,
    "start_time": "2024-04-18T07:12:45.477Z"
   },
   {
    "duration": 75,
    "start_time": "2024-04-18T07:12:45.532Z"
   },
   {
    "duration": 64,
    "start_time": "2024-04-18T07:12:45.608Z"
   },
   {
    "duration": 86,
    "start_time": "2024-04-18T07:14:34.269Z"
   },
   {
    "duration": 86,
    "start_time": "2024-04-18T07:14:51.962Z"
   }
  ],
  "kernelspec": {
   "display_name": "Python 3 (ipykernel)",
   "language": "python",
   "name": "python3"
  },
  "language_info": {
   "codemirror_mode": {
    "name": "ipython",
    "version": 3
   },
   "file_extension": ".py",
   "mimetype": "text/x-python",
   "name": "python",
   "nbconvert_exporter": "python",
   "pygments_lexer": "ipython3",
   "version": "3.11.3"
  },
  "toc": {
   "base_numbering": 1,
   "nav_menu": {
    "height": "232px",
    "width": "442px"
   },
   "number_sections": true,
   "sideBar": true,
   "skip_h1_title": true,
   "title_cell": "Table of Contents",
   "title_sidebar": "Contents",
   "toc_cell": false,
   "toc_position": {
    "height": "calc(100% - 180px)",
    "left": "10px",
    "top": "150px",
    "width": "403.674988px"
   },
   "toc_section_display": true,
   "toc_window_display": true
  },
  "varInspector": {
   "cols": {
    "lenName": 16,
    "lenType": 16,
    "lenVar": 40
   },
   "kernels_config": {
    "python": {
     "delete_cmd_postfix": "",
     "delete_cmd_prefix": "del ",
     "library": "var_list.py",
     "varRefreshCmd": "print(var_dic_list())"
    },
    "r": {
     "delete_cmd_postfix": ") ",
     "delete_cmd_prefix": "rm(",
     "library": "var_list.r",
     "varRefreshCmd": "cat(var_dic_list()) "
    }
   },
   "types_to_exclude": [
    "module",
    "function",
    "builtin_function_or_method",
    "instance",
    "_Feature"
   ],
   "window_display": false
  }
 },
 "nbformat": 4,
 "nbformat_minor": 2
}
