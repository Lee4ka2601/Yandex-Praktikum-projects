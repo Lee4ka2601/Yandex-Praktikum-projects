{
 "cells": [
  {
   "cell_type": "markdown",
   "metadata": {
    "toc": true
   },
   "source": [
    "<h1>Содержание<span class=\"tocSkip\"></span></h1>\n",
    "<div class=\"toc\"><ul class=\"toc-item\"><li><span><a href=\"#Обзор,-подготовка-и-предобработка-данных.\" data-toc-modified-id=\"Обзор,-подготовка-и-предобработка-данных.-1\"><span class=\"toc-item-num\">1&nbsp;&nbsp;</span>Обзор, подготовка и предобработка данных.</a></span><ul class=\"toc-item\"><li><span><a href=\"#Подготовка-данных\" data-toc-modified-id=\"Подготовка-данных-1.1\"><span class=\"toc-item-num\">1.1&nbsp;&nbsp;</span>Подготовка данных</a></span></li><li><span><a href=\"#Проверка,-что-эффективность-обогащения-рассчитана-правильно\" data-toc-modified-id=\"Проверка,-что-эффективность-обогащения-рассчитана-правильно-1.2\"><span class=\"toc-item-num\">1.2&nbsp;&nbsp;</span>Проверка, что эффективность обогащения рассчитана правильно</a></span></li><li><span><a href=\"#Анализ-признаков,-недоступных-в-тестовой-выборке\" data-toc-modified-id=\"Анализ-признаков,-недоступных-в-тестовой-выборке-1.3\"><span class=\"toc-item-num\">1.3&nbsp;&nbsp;</span>Анализ признаков, недоступных в тестовой выборке</a></span></li><li><span><a href=\"#Предобработка-данных\" data-toc-modified-id=\"Предобработка-данных-1.4\"><span class=\"toc-item-num\">1.4&nbsp;&nbsp;</span>Предобработка данных</a></span></li></ul></li><li><span><a href=\"#Исследовательский-анализ-данных.\" data-toc-modified-id=\"Исследовательский-анализ-данных.-2\"><span class=\"toc-item-num\">2&nbsp;&nbsp;</span>Исследовательский анализ данных.</a></span><ul class=\"toc-item\"><li><span><a href=\"#Изменение-концентрация-металлов-(Au,-Ag,-Pb)-на-различных-этапах-очистки\" data-toc-modified-id=\"Изменение-концентрация-металлов-(Au,-Ag,-Pb)-на-различных-этапах-очистки-2.1\"><span class=\"toc-item-num\">2.1&nbsp;&nbsp;</span>Изменение концентрация металлов (Au, Ag, Pb) на различных этапах очистки</a></span></li><li><span><a href=\"#Сравнение-распределения-размеров-гранул-сырья-на-обучающей-и-тестовой-выборках\" data-toc-modified-id=\"Сравнение-распределения-размеров-гранул-сырья-на-обучающей-и-тестовой-выборках-2.2\"><span class=\"toc-item-num\">2.2&nbsp;&nbsp;</span>Сравнение распределения размеров гранул сырья на обучающей и тестовой выборках</a></span></li><li><span><a href=\"#Исследование-суммарной-концентрации-всех-веществ-на-разных-стадиях:-в-сырье,-в-черновом-и-финальном-концентратах\" data-toc-modified-id=\"Исследование-суммарной-концентрации-всех-веществ-на-разных-стадиях:-в-сырье,-в-черновом-и-финальном-концентратах-2.3\"><span class=\"toc-item-num\">2.3&nbsp;&nbsp;</span>Исследование суммарной концентрации всех веществ на разных стадиях: в сырье, в черновом и финальном концентратах</a></span></li></ul></li><li><span><a href=\"#Построение-модели.\" data-toc-modified-id=\"Построение-модели.-3\"><span class=\"toc-item-num\">3&nbsp;&nbsp;</span>Построение модели.</a></span><ul class=\"toc-item\"><li><span><a href=\"#Функция-для-вычисления-итоговой-sMAPE\" data-toc-modified-id=\"Функция-для-вычисления-итоговой-sMAPE-3.1\"><span class=\"toc-item-num\">3.1&nbsp;&nbsp;</span>Функция для вычисления итоговой sMAPE</a></span></li><li><span><a href=\"#Обучение-разных-моделей-и-оценка-их-качества\" data-toc-modified-id=\"Обучение-разных-моделей-и-оценка-их-качества-3.2\"><span class=\"toc-item-num\">3.2&nbsp;&nbsp;</span>Обучение разных моделей и оценка их качества</a></span></li><li><span><a href=\"#Проверка-лучшей-модели-на-тестовой-выборке\" data-toc-modified-id=\"Проверка-лучшей-модели-на-тестовой-выборке-3.3\"><span class=\"toc-item-num\">3.3&nbsp;&nbsp;</span>Проверка лучшей модели на тестовой выборке</a></span></li><li><span><a href=\"#Проверка-на-вменяемость\" data-toc-modified-id=\"Проверка-на-вменяемость-3.4\"><span class=\"toc-item-num\">3.4&nbsp;&nbsp;</span>Проверка на вменяемость</a></span></li></ul></li><li><span><a href=\"#Общий-вывод\" data-toc-modified-id=\"Общий-вывод-4\"><span class=\"toc-item-num\">4&nbsp;&nbsp;</span>Общий вывод</a></span></li></ul></div>"
   ]
  },
  {
   "cell_type": "markdown",
   "metadata": {},
   "source": [
    "# Восстановление золота из руды"
   ]
  },
  {
   "cell_type": "markdown",
   "metadata": {},
   "source": [
    "**Исходные данные:**\n",
    "Исследование проводится для «Цифры». Компания разрабатывает решения для эффективной работы промышленных предприятий.\n",
    "\n",
    "В нашем распоряжении сырые данные: их просто выгрузили из хранилища. \n",
    "\n",
    "**Описание данных:**\n",
    "Данные находятся в трёх файлах:\n",
    "* gold_recovery_train_new.csv — обучающая выборка;\n",
    "* gold_recovery_test_new.csv — тестовая выборка;\n",
    "* gold_recovery_full_new.csv — исходные данные.\n",
    "\n",
    "Некоторые параметры недоступны, потому что замеряются и/или рассчитываются значительно позже. Из-за этого в тестовой выборке отсутствуют некоторые признаки, которые могут быть в обучающей. \n",
    "Также в тестовом наборе нет целевых признаков.\n",
    "Исходный датасет содержит обучающую и тестовую выборки со всеми признаками.\n",
    "\n",
    "  **Цель исследования:**\n",
    "Необходимо построить модель, предсказывающую коэффициент восстановления золота из золотосодержащей руды.\n",
    "\n",
    "\n",
    "\n",
    "  \n",
    "  **Ход исследования:**\n",
    "  \n",
    "  1. *Обзор, подготовка и предобработка данных.* \n",
    "  Проверка, что эффективность обогащения рассчитана правильно. Расчет MAE. Проанализирвать признаки, недоступные в тестовой выборке;\n",
    "  2. *Исследовательский анализ данных.*\n",
    "  Как меняется концентрация металлов (Au, Ag, Pb) на различных этапах очистки. Сравнение распределения размеров гранул сырья на обучающей и тестовой выборках. Исследование суммарной концентрации всех веществ на разных стадиях: в сырье, в черновом и финальном концентратах;\n",
    "  3. *Построение модели.*\n",
    "  Функция для вычисления итоговой sMAPE. Обучение разных моделей и оценка их качества. Выбор лучшей модели и проверка её на тестовой выборке.Проверка модели на адекватность;\n",
    "  4. *Общий вывод.*\n",
    "\n",
    "\n",
    "  "
   ]
  },
  {
   "cell_type": "markdown",
   "metadata": {},
   "source": [
    "## Обзор, подготовка и предобработка данных.  "
   ]
  },
  {
   "cell_type": "markdown",
   "metadata": {},
   "source": [
    "### Подготовка данных"
   ]
  },
  {
   "cell_type": "code",
   "execution_count": 1,
   "metadata": {},
   "outputs": [],
   "source": [
    "# импортируем библиотеки\n",
    "import pandas as pd\n",
    "import matplotlib.pyplot as plt\n",
    "import seaborn as sns\n",
    "import numpy as np\n",
    "import warnings\n",
    "warnings.filterwarnings(\"ignore\")\n",
    "# Отображение числовых данных в читаемом виде\n",
    "pd.options.display.float_format = '{:.2f}'.format\n",
    "\n",
    "\n",
    "from sklearn.tree import DecisionTreeRegressor \n",
    "from sklearn.ensemble import RandomForestRegressor \n",
    "from sklearn.linear_model import LinearRegression \n",
    "from sklearn.metrics import mean_absolute_error, make_scorer, mean_squared_error\n",
    "from sklearn.model_selection import train_test_split\n",
    "\n",
    "from sklearn.dummy import DummyRegressor\n"
   ]
  },
  {
   "cell_type": "markdown",
   "metadata": {},
   "source": [
    "Загрузим и изучим 3 файла с выборками:\n",
    "- gold_recovery_train_new.csv — обучающая выборка;\n",
    "- gold_recovery_test_new.csv — тестовая выборка;\n",
    "- gold_recovery_full_new.csv — исходные данные.\n"
   ]
  },
  {
   "cell_type": "code",
   "execution_count": 2,
   "metadata": {},
   "outputs": [],
   "source": [
    "# открываем файлы\n",
    "try:\n",
    "    full = pd.read_csv('gold_recovery_full_new.csv')\n",
    "    train = pd.read_csv('gold_recovery_train_new.csv')\n",
    "    test = pd.read_csv('gold_recovery_test_new.csv')\n",
    "except:\n",
    "    full = pd.read_csv('/datasets/gold_recovery_full_new.csv')\n",
    "    train = pd.read_csv('/datasets/gold_recovery_train_new.csv')\n",
    "    test = pd.read_csv('/datasets/gold_recovery_test_new.csv')"
   ]
  },
  {
   "cell_type": "code",
   "execution_count": 3,
   "metadata": {},
   "outputs": [
    {
     "name": "stdout",
     "output_type": "stream",
     "text": [
      "Полный датафрейм имеет 19439 строк в 87 столбцах\n",
      "Обучающий датафрейм имеет 14149 строк в 87 столбцах\n",
      "Тестовый датафрейм имеет 5290 строк в 53 столбцах\n"
     ]
    }
   ],
   "source": [
    "## Выведем общую инфо \n",
    "print(f'Полный датафрейм имеет {full.shape[0]} строк в {full.shape[1]} столбцах')\n",
    "print(f'Обучающий датафрейм имеет {train.shape[0]} строк в {train.shape[1]} столбцах')\n",
    "print(f'Тестовый датафрейм имеет {test.shape[0]} строк в {test.shape[1]} столбцах')"
   ]
  },
  {
   "cell_type": "code",
   "execution_count": 4,
   "metadata": {},
   "outputs": [
    {
     "data": {
      "text/html": [
       "<div>\n",
       "<style scoped>\n",
       "    .dataframe tbody tr th:only-of-type {\n",
       "        vertical-align: middle;\n",
       "    }\n",
       "\n",
       "    .dataframe tbody tr th {\n",
       "        vertical-align: top;\n",
       "    }\n",
       "\n",
       "    .dataframe thead th {\n",
       "        text-align: right;\n",
       "    }\n",
       "</style>\n",
       "<table border=\"1\" class=\"dataframe\">\n",
       "  <thead>\n",
       "    <tr style=\"text-align: right;\">\n",
       "      <th></th>\n",
       "      <th>date</th>\n",
       "      <th>final.output.concentrate_ag</th>\n",
       "      <th>final.output.concentrate_pb</th>\n",
       "      <th>final.output.concentrate_sol</th>\n",
       "      <th>final.output.concentrate_au</th>\n",
       "      <th>final.output.recovery</th>\n",
       "      <th>final.output.tail_ag</th>\n",
       "      <th>final.output.tail_pb</th>\n",
       "      <th>final.output.tail_sol</th>\n",
       "      <th>final.output.tail_au</th>\n",
       "      <th>...</th>\n",
       "      <th>secondary_cleaner.state.floatbank4_a_air</th>\n",
       "      <th>secondary_cleaner.state.floatbank4_a_level</th>\n",
       "      <th>secondary_cleaner.state.floatbank4_b_air</th>\n",
       "      <th>secondary_cleaner.state.floatbank4_b_level</th>\n",
       "      <th>secondary_cleaner.state.floatbank5_a_air</th>\n",
       "      <th>secondary_cleaner.state.floatbank5_a_level</th>\n",
       "      <th>secondary_cleaner.state.floatbank5_b_air</th>\n",
       "      <th>secondary_cleaner.state.floatbank5_b_level</th>\n",
       "      <th>secondary_cleaner.state.floatbank6_a_air</th>\n",
       "      <th>secondary_cleaner.state.floatbank6_a_level</th>\n",
       "    </tr>\n",
       "  </thead>\n",
       "  <tbody>\n",
       "    <tr>\n",
       "      <th>0</th>\n",
       "      <td>2016-01-15 00:00:00</td>\n",
       "      <td>6.06</td>\n",
       "      <td>9.89</td>\n",
       "      <td>5.51</td>\n",
       "      <td>42.19</td>\n",
       "      <td>70.54</td>\n",
       "      <td>10.41</td>\n",
       "      <td>0.90</td>\n",
       "      <td>16.90</td>\n",
       "      <td>2.14</td>\n",
       "      <td>...</td>\n",
       "      <td>14.02</td>\n",
       "      <td>-502.49</td>\n",
       "      <td>12.10</td>\n",
       "      <td>-504.72</td>\n",
       "      <td>9.93</td>\n",
       "      <td>-498.31</td>\n",
       "      <td>8.08</td>\n",
       "      <td>-500.47</td>\n",
       "      <td>14.15</td>\n",
       "      <td>-605.84</td>\n",
       "    </tr>\n",
       "    <tr>\n",
       "      <th>1</th>\n",
       "      <td>2016-01-15 01:00:00</td>\n",
       "      <td>6.03</td>\n",
       "      <td>9.97</td>\n",
       "      <td>5.26</td>\n",
       "      <td>42.70</td>\n",
       "      <td>69.27</td>\n",
       "      <td>10.46</td>\n",
       "      <td>0.93</td>\n",
       "      <td>16.63</td>\n",
       "      <td>2.22</td>\n",
       "      <td>...</td>\n",
       "      <td>13.99</td>\n",
       "      <td>-505.50</td>\n",
       "      <td>11.95</td>\n",
       "      <td>-501.33</td>\n",
       "      <td>10.04</td>\n",
       "      <td>-500.17</td>\n",
       "      <td>7.98</td>\n",
       "      <td>-500.58</td>\n",
       "      <td>14.00</td>\n",
       "      <td>-599.79</td>\n",
       "    </tr>\n",
       "    <tr>\n",
       "      <th>2</th>\n",
       "      <td>2016-01-15 02:00:00</td>\n",
       "      <td>6.06</td>\n",
       "      <td>10.21</td>\n",
       "      <td>5.38</td>\n",
       "      <td>42.66</td>\n",
       "      <td>68.12</td>\n",
       "      <td>10.51</td>\n",
       "      <td>0.95</td>\n",
       "      <td>16.21</td>\n",
       "      <td>2.26</td>\n",
       "      <td>...</td>\n",
       "      <td>14.02</td>\n",
       "      <td>-502.52</td>\n",
       "      <td>11.91</td>\n",
       "      <td>-501.13</td>\n",
       "      <td>10.07</td>\n",
       "      <td>-500.13</td>\n",
       "      <td>8.01</td>\n",
       "      <td>-500.52</td>\n",
       "      <td>14.03</td>\n",
       "      <td>-601.43</td>\n",
       "    </tr>\n",
       "    <tr>\n",
       "      <th>3</th>\n",
       "      <td>2016-01-15 03:00:00</td>\n",
       "      <td>6.05</td>\n",
       "      <td>9.98</td>\n",
       "      <td>4.86</td>\n",
       "      <td>42.69</td>\n",
       "      <td>68.35</td>\n",
       "      <td>10.42</td>\n",
       "      <td>0.88</td>\n",
       "      <td>16.53</td>\n",
       "      <td>2.15</td>\n",
       "      <td>...</td>\n",
       "      <td>14.04</td>\n",
       "      <td>-500.86</td>\n",
       "      <td>12.00</td>\n",
       "      <td>-501.19</td>\n",
       "      <td>9.97</td>\n",
       "      <td>-499.20</td>\n",
       "      <td>7.98</td>\n",
       "      <td>-500.26</td>\n",
       "      <td>14.01</td>\n",
       "      <td>-600.00</td>\n",
       "    </tr>\n",
       "    <tr>\n",
       "      <th>4</th>\n",
       "      <td>2016-01-15 04:00:00</td>\n",
       "      <td>6.15</td>\n",
       "      <td>10.14</td>\n",
       "      <td>4.94</td>\n",
       "      <td>42.77</td>\n",
       "      <td>66.93</td>\n",
       "      <td>10.36</td>\n",
       "      <td>0.79</td>\n",
       "      <td>16.53</td>\n",
       "      <td>2.06</td>\n",
       "      <td>...</td>\n",
       "      <td>14.03</td>\n",
       "      <td>-499.84</td>\n",
       "      <td>11.95</td>\n",
       "      <td>-501.05</td>\n",
       "      <td>9.93</td>\n",
       "      <td>-501.69</td>\n",
       "      <td>7.89</td>\n",
       "      <td>-500.36</td>\n",
       "      <td>14.00</td>\n",
       "      <td>-601.50</td>\n",
       "    </tr>\n",
       "  </tbody>\n",
       "</table>\n",
       "<p>5 rows × 87 columns</p>\n",
       "</div>"
      ],
      "text/plain": [
       "                  date  final.output.concentrate_ag  \\\n",
       "0  2016-01-15 00:00:00                         6.06   \n",
       "1  2016-01-15 01:00:00                         6.03   \n",
       "2  2016-01-15 02:00:00                         6.06   \n",
       "3  2016-01-15 03:00:00                         6.05   \n",
       "4  2016-01-15 04:00:00                         6.15   \n",
       "\n",
       "   final.output.concentrate_pb  final.output.concentrate_sol  \\\n",
       "0                         9.89                          5.51   \n",
       "1                         9.97                          5.26   \n",
       "2                        10.21                          5.38   \n",
       "3                         9.98                          4.86   \n",
       "4                        10.14                          4.94   \n",
       "\n",
       "   final.output.concentrate_au  final.output.recovery  final.output.tail_ag  \\\n",
       "0                        42.19                  70.54                 10.41   \n",
       "1                        42.70                  69.27                 10.46   \n",
       "2                        42.66                  68.12                 10.51   \n",
       "3                        42.69                  68.35                 10.42   \n",
       "4                        42.77                  66.93                 10.36   \n",
       "\n",
       "   final.output.tail_pb  final.output.tail_sol  final.output.tail_au  ...  \\\n",
       "0                  0.90                  16.90                  2.14  ...   \n",
       "1                  0.93                  16.63                  2.22  ...   \n",
       "2                  0.95                  16.21                  2.26  ...   \n",
       "3                  0.88                  16.53                  2.15  ...   \n",
       "4                  0.79                  16.53                  2.06  ...   \n",
       "\n",
       "   secondary_cleaner.state.floatbank4_a_air  \\\n",
       "0                                     14.02   \n",
       "1                                     13.99   \n",
       "2                                     14.02   \n",
       "3                                     14.04   \n",
       "4                                     14.03   \n",
       "\n",
       "   secondary_cleaner.state.floatbank4_a_level  \\\n",
       "0                                     -502.49   \n",
       "1                                     -505.50   \n",
       "2                                     -502.52   \n",
       "3                                     -500.86   \n",
       "4                                     -499.84   \n",
       "\n",
       "   secondary_cleaner.state.floatbank4_b_air  \\\n",
       "0                                     12.10   \n",
       "1                                     11.95   \n",
       "2                                     11.91   \n",
       "3                                     12.00   \n",
       "4                                     11.95   \n",
       "\n",
       "   secondary_cleaner.state.floatbank4_b_level  \\\n",
       "0                                     -504.72   \n",
       "1                                     -501.33   \n",
       "2                                     -501.13   \n",
       "3                                     -501.19   \n",
       "4                                     -501.05   \n",
       "\n",
       "   secondary_cleaner.state.floatbank5_a_air  \\\n",
       "0                                      9.93   \n",
       "1                                     10.04   \n",
       "2                                     10.07   \n",
       "3                                      9.97   \n",
       "4                                      9.93   \n",
       "\n",
       "   secondary_cleaner.state.floatbank5_a_level  \\\n",
       "0                                     -498.31   \n",
       "1                                     -500.17   \n",
       "2                                     -500.13   \n",
       "3                                     -499.20   \n",
       "4                                     -501.69   \n",
       "\n",
       "   secondary_cleaner.state.floatbank5_b_air  \\\n",
       "0                                      8.08   \n",
       "1                                      7.98   \n",
       "2                                      8.01   \n",
       "3                                      7.98   \n",
       "4                                      7.89   \n",
       "\n",
       "   secondary_cleaner.state.floatbank5_b_level  \\\n",
       "0                                     -500.47   \n",
       "1                                     -500.58   \n",
       "2                                     -500.52   \n",
       "3                                     -500.26   \n",
       "4                                     -500.36   \n",
       "\n",
       "   secondary_cleaner.state.floatbank6_a_air  \\\n",
       "0                                     14.15   \n",
       "1                                     14.00   \n",
       "2                                     14.03   \n",
       "3                                     14.01   \n",
       "4                                     14.00   \n",
       "\n",
       "   secondary_cleaner.state.floatbank6_a_level  \n",
       "0                                     -605.84  \n",
       "1                                     -599.79  \n",
       "2                                     -601.43  \n",
       "3                                     -600.00  \n",
       "4                                     -601.50  \n",
       "\n",
       "[5 rows x 87 columns]"
      ]
     },
     "metadata": {},
     "output_type": "display_data"
    },
    {
     "name": "stdout",
     "output_type": "stream",
     "text": [
      "\n",
      "<class 'pandas.core.frame.DataFrame'>\n",
      "RangeIndex: 19439 entries, 0 to 19438\n",
      "Data columns (total 87 columns):\n",
      " #   Column                                              Non-Null Count  Dtype  \n",
      "---  ------                                              --------------  -----  \n",
      " 0   date                                                19439 non-null  object \n",
      " 1   final.output.concentrate_ag                         19438 non-null  float64\n",
      " 2   final.output.concentrate_pb                         19438 non-null  float64\n",
      " 3   final.output.concentrate_sol                        19228 non-null  float64\n",
      " 4   final.output.concentrate_au                         19439 non-null  float64\n",
      " 5   final.output.recovery                               19439 non-null  float64\n",
      " 6   final.output.tail_ag                                19438 non-null  float64\n",
      " 7   final.output.tail_pb                                19338 non-null  float64\n",
      " 8   final.output.tail_sol                               19433 non-null  float64\n",
      " 9   final.output.tail_au                                19439 non-null  float64\n",
      " 10  primary_cleaner.input.sulfate                       19415 non-null  float64\n",
      " 11  primary_cleaner.input.depressant                    19402 non-null  float64\n",
      " 12  primary_cleaner.input.feed_size                     19439 non-null  float64\n",
      " 13  primary_cleaner.input.xanthate                      19335 non-null  float64\n",
      " 14  primary_cleaner.output.concentrate_ag               19439 non-null  float64\n",
      " 15  primary_cleaner.output.concentrate_pb               19323 non-null  float64\n",
      " 16  primary_cleaner.output.concentrate_sol              19069 non-null  float64\n",
      " 17  primary_cleaner.output.concentrate_au               19439 non-null  float64\n",
      " 18  primary_cleaner.output.tail_ag                      19435 non-null  float64\n",
      " 19  primary_cleaner.output.tail_pb                      19418 non-null  float64\n",
      " 20  primary_cleaner.output.tail_sol                     19377 non-null  float64\n",
      " 21  primary_cleaner.output.tail_au                      19439 non-null  float64\n",
      " 22  primary_cleaner.state.floatbank8_a_air              19435 non-null  float64\n",
      " 23  primary_cleaner.state.floatbank8_a_level            19438 non-null  float64\n",
      " 24  primary_cleaner.state.floatbank8_b_air              19435 non-null  float64\n",
      " 25  primary_cleaner.state.floatbank8_b_level            19438 non-null  float64\n",
      " 26  primary_cleaner.state.floatbank8_c_air              19437 non-null  float64\n",
      " 27  primary_cleaner.state.floatbank8_c_level            19438 non-null  float64\n",
      " 28  primary_cleaner.state.floatbank8_d_air              19436 non-null  float64\n",
      " 29  primary_cleaner.state.floatbank8_d_level            19438 non-null  float64\n",
      " 30  rougher.calculation.sulfate_to_au_concentrate       19437 non-null  float64\n",
      " 31  rougher.calculation.floatbank10_sulfate_to_au_feed  19437 non-null  float64\n",
      " 32  rougher.calculation.floatbank11_sulfate_to_au_feed  19437 non-null  float64\n",
      " 33  rougher.calculation.au_pb_ratio                     19439 non-null  float64\n",
      " 34  rougher.input.feed_ag                               19439 non-null  float64\n",
      " 35  rougher.input.feed_pb                               19339 non-null  float64\n",
      " 36  rougher.input.feed_rate                             19428 non-null  float64\n",
      " 37  rougher.input.feed_size                             19294 non-null  float64\n",
      " 38  rougher.input.feed_sol                              19340 non-null  float64\n",
      " 39  rougher.input.feed_au                               19439 non-null  float64\n",
      " 40  rougher.input.floatbank10_sulfate                   19405 non-null  float64\n",
      " 41  rougher.input.floatbank10_xanthate                  19431 non-null  float64\n",
      " 42  rougher.input.floatbank11_sulfate                   19395 non-null  float64\n",
      " 43  rougher.input.floatbank11_xanthate                  18986 non-null  float64\n",
      " 44  rougher.output.concentrate_ag                       19439 non-null  float64\n",
      " 45  rougher.output.concentrate_pb                       19439 non-null  float64\n",
      " 46  rougher.output.concentrate_sol                      19416 non-null  float64\n",
      " 47  rougher.output.concentrate_au                       19439 non-null  float64\n",
      " 48  rougher.output.recovery                             19439 non-null  float64\n",
      " 49  rougher.output.tail_ag                              19438 non-null  float64\n",
      " 50  rougher.output.tail_pb                              19439 non-null  float64\n",
      " 51  rougher.output.tail_sol                             19439 non-null  float64\n",
      " 52  rougher.output.tail_au                              19439 non-null  float64\n",
      " 53  rougher.state.floatbank10_a_air                     19438 non-null  float64\n",
      " 54  rougher.state.floatbank10_a_level                   19438 non-null  float64\n",
      " 55  rougher.state.floatbank10_b_air                     19438 non-null  float64\n",
      " 56  rougher.state.floatbank10_b_level                   19438 non-null  float64\n",
      " 57  rougher.state.floatbank10_c_air                     19438 non-null  float64\n",
      " 58  rougher.state.floatbank10_c_level                   19438 non-null  float64\n",
      " 59  rougher.state.floatbank10_d_air                     19439 non-null  float64\n",
      " 60  rougher.state.floatbank10_d_level                   19439 non-null  float64\n",
      " 61  rougher.state.floatbank10_e_air                     19003 non-null  float64\n",
      " 62  rougher.state.floatbank10_e_level                   19439 non-null  float64\n",
      " 63  rougher.state.floatbank10_f_air                     19439 non-null  float64\n",
      " 64  rougher.state.floatbank10_f_level                   19439 non-null  float64\n",
      " 65  secondary_cleaner.output.tail_ag                    19437 non-null  float64\n",
      " 66  secondary_cleaner.output.tail_pb                    19427 non-null  float64\n",
      " 67  secondary_cleaner.output.tail_sol                   17691 non-null  float64\n",
      " 68  secondary_cleaner.output.tail_au                    19439 non-null  float64\n",
      " 69  secondary_cleaner.state.floatbank2_a_air            19219 non-null  float64\n",
      " 70  secondary_cleaner.state.floatbank2_a_level          19438 non-null  float64\n",
      " 71  secondary_cleaner.state.floatbank2_b_air            19416 non-null  float64\n",
      " 72  secondary_cleaner.state.floatbank2_b_level          19438 non-null  float64\n",
      " 73  secondary_cleaner.state.floatbank3_a_air            19426 non-null  float64\n",
      " 74  secondary_cleaner.state.floatbank3_a_level          19438 non-null  float64\n",
      " 75  secondary_cleaner.state.floatbank3_b_air            19438 non-null  float64\n",
      " 76  secondary_cleaner.state.floatbank3_b_level          19438 non-null  float64\n",
      " 77  secondary_cleaner.state.floatbank4_a_air            19433 non-null  float64\n",
      " 78  secondary_cleaner.state.floatbank4_a_level          19438 non-null  float64\n",
      " 79  secondary_cleaner.state.floatbank4_b_air            19438 non-null  float64\n",
      " 80  secondary_cleaner.state.floatbank4_b_level          19438 non-null  float64\n",
      " 81  secondary_cleaner.state.floatbank5_a_air            19438 non-null  float64\n",
      " 82  secondary_cleaner.state.floatbank5_a_level          19438 non-null  float64\n",
      " 83  secondary_cleaner.state.floatbank5_b_air            19438 non-null  float64\n",
      " 84  secondary_cleaner.state.floatbank5_b_level          19438 non-null  float64\n",
      " 85  secondary_cleaner.state.floatbank6_a_air            19437 non-null  float64\n",
      " 86  secondary_cleaner.state.floatbank6_a_level          19438 non-null  float64\n",
      "dtypes: float64(86), object(1)\n",
      "memory usage: 12.9+ MB\n",
      "None\n",
      "Количество дубликатов = 0\n",
      "\n"
     ]
    },
    {
     "data": {
      "text/html": [
       "<div>\n",
       "<style scoped>\n",
       "    .dataframe tbody tr th:only-of-type {\n",
       "        vertical-align: middle;\n",
       "    }\n",
       "\n",
       "    .dataframe tbody tr th {\n",
       "        vertical-align: top;\n",
       "    }\n",
       "\n",
       "    .dataframe thead th {\n",
       "        text-align: right;\n",
       "    }\n",
       "</style>\n",
       "<table border=\"1\" class=\"dataframe\">\n",
       "  <thead>\n",
       "    <tr style=\"text-align: right;\">\n",
       "      <th></th>\n",
       "      <th>count</th>\n",
       "      <th>mean</th>\n",
       "      <th>std</th>\n",
       "      <th>min</th>\n",
       "      <th>25%</th>\n",
       "      <th>50%</th>\n",
       "      <th>75%</th>\n",
       "      <th>max</th>\n",
       "    </tr>\n",
       "  </thead>\n",
       "  <tbody>\n",
       "    <tr>\n",
       "      <th>final.output.concentrate_ag</th>\n",
       "      <td>19438.00</td>\n",
       "      <td>5.17</td>\n",
       "      <td>1.37</td>\n",
       "      <td>0.00</td>\n",
       "      <td>4.25</td>\n",
       "      <td>5.07</td>\n",
       "      <td>5.90</td>\n",
       "      <td>16.00</td>\n",
       "    </tr>\n",
       "    <tr>\n",
       "      <th>final.output.concentrate_pb</th>\n",
       "      <td>19438.00</td>\n",
       "      <td>9.98</td>\n",
       "      <td>1.67</td>\n",
       "      <td>0.00</td>\n",
       "      <td>9.14</td>\n",
       "      <td>10.10</td>\n",
       "      <td>11.04</td>\n",
       "      <td>17.03</td>\n",
       "    </tr>\n",
       "    <tr>\n",
       "      <th>final.output.concentrate_sol</th>\n",
       "      <td>19228.00</td>\n",
       "      <td>9.50</td>\n",
       "      <td>2.79</td>\n",
       "      <td>0.00</td>\n",
       "      <td>7.72</td>\n",
       "      <td>9.22</td>\n",
       "      <td>10.95</td>\n",
       "      <td>19.62</td>\n",
       "    </tr>\n",
       "    <tr>\n",
       "      <th>final.output.concentrate_au</th>\n",
       "      <td>19439.00</td>\n",
       "      <td>44.08</td>\n",
       "      <td>5.13</td>\n",
       "      <td>0.00</td>\n",
       "      <td>43.40</td>\n",
       "      <td>45.01</td>\n",
       "      <td>46.28</td>\n",
       "      <td>52.76</td>\n",
       "    </tr>\n",
       "    <tr>\n",
       "      <th>final.output.recovery</th>\n",
       "      <td>19439.00</td>\n",
       "      <td>67.05</td>\n",
       "      <td>10.13</td>\n",
       "      <td>0.00</td>\n",
       "      <td>63.30</td>\n",
       "      <td>68.17</td>\n",
       "      <td>72.69</td>\n",
       "      <td>100.00</td>\n",
       "    </tr>\n",
       "    <tr>\n",
       "      <th>...</th>\n",
       "      <td>...</td>\n",
       "      <td>...</td>\n",
       "      <td>...</td>\n",
       "      <td>...</td>\n",
       "      <td>...</td>\n",
       "      <td>...</td>\n",
       "      <td>...</td>\n",
       "      <td>...</td>\n",
       "    </tr>\n",
       "    <tr>\n",
       "      <th>secondary_cleaner.state.floatbank5_a_level</th>\n",
       "      <td>19438.00</td>\n",
       "      <td>-488.68</td>\n",
       "      <td>34.53</td>\n",
       "      <td>-797.32</td>\n",
       "      <td>-500.46</td>\n",
       "      <td>-499.80</td>\n",
       "      <td>-498.38</td>\n",
       "      <td>-244.48</td>\n",
       "    </tr>\n",
       "    <tr>\n",
       "      <th>secondary_cleaner.state.floatbank5_b_air</th>\n",
       "      <td>19438.00</td>\n",
       "      <td>12.20</td>\n",
       "      <td>5.33</td>\n",
       "      <td>0.53</td>\n",
       "      <td>8.97</td>\n",
       "      <td>11.02</td>\n",
       "      <td>14.02</td>\n",
       "      <td>27.93</td>\n",
       "    </tr>\n",
       "    <tr>\n",
       "      <th>secondary_cleaner.state.floatbank5_b_level</th>\n",
       "      <td>19438.00</td>\n",
       "      <td>-487.15</td>\n",
       "      <td>38.35</td>\n",
       "      <td>-800.22</td>\n",
       "      <td>-500.13</td>\n",
       "      <td>-499.94</td>\n",
       "      <td>-499.44</td>\n",
       "      <td>-137.74</td>\n",
       "    </tr>\n",
       "    <tr>\n",
       "      <th>secondary_cleaner.state.floatbank6_a_air</th>\n",
       "      <td>19437.00</td>\n",
       "      <td>18.96</td>\n",
       "      <td>5.55</td>\n",
       "      <td>-0.08</td>\n",
       "      <td>14.98</td>\n",
       "      <td>19.96</td>\n",
       "      <td>24.00</td>\n",
       "      <td>32.19</td>\n",
       "    </tr>\n",
       "    <tr>\n",
       "      <th>secondary_cleaner.state.floatbank6_a_level</th>\n",
       "      <td>19438.00</td>\n",
       "      <td>-505.44</td>\n",
       "      <td>37.69</td>\n",
       "      <td>-809.74</td>\n",
       "      <td>-500.73</td>\n",
       "      <td>-500.05</td>\n",
       "      <td>-499.50</td>\n",
       "      <td>-104.43</td>\n",
       "    </tr>\n",
       "  </tbody>\n",
       "</table>\n",
       "<p>86 rows × 8 columns</p>\n",
       "</div>"
      ],
      "text/plain": [
       "                                              count    mean   std     min  \\\n",
       "final.output.concentrate_ag                19438.00    5.17  1.37    0.00   \n",
       "final.output.concentrate_pb                19438.00    9.98  1.67    0.00   \n",
       "final.output.concentrate_sol               19228.00    9.50  2.79    0.00   \n",
       "final.output.concentrate_au                19439.00   44.08  5.13    0.00   \n",
       "final.output.recovery                      19439.00   67.05 10.13    0.00   \n",
       "...                                             ...     ...   ...     ...   \n",
       "secondary_cleaner.state.floatbank5_a_level 19438.00 -488.68 34.53 -797.32   \n",
       "secondary_cleaner.state.floatbank5_b_air   19438.00   12.20  5.33    0.53   \n",
       "secondary_cleaner.state.floatbank5_b_level 19438.00 -487.15 38.35 -800.22   \n",
       "secondary_cleaner.state.floatbank6_a_air   19437.00   18.96  5.55   -0.08   \n",
       "secondary_cleaner.state.floatbank6_a_level 19438.00 -505.44 37.69 -809.74   \n",
       "\n",
       "                                               25%     50%     75%     max  \n",
       "final.output.concentrate_ag                   4.25    5.07    5.90   16.00  \n",
       "final.output.concentrate_pb                   9.14   10.10   11.04   17.03  \n",
       "final.output.concentrate_sol                  7.72    9.22   10.95   19.62  \n",
       "final.output.concentrate_au                  43.40   45.01   46.28   52.76  \n",
       "final.output.recovery                        63.30   68.17   72.69  100.00  \n",
       "...                                            ...     ...     ...     ...  \n",
       "secondary_cleaner.state.floatbank5_a_level -500.46 -499.80 -498.38 -244.48  \n",
       "secondary_cleaner.state.floatbank5_b_air      8.97   11.02   14.02   27.93  \n",
       "secondary_cleaner.state.floatbank5_b_level -500.13 -499.94 -499.44 -137.74  \n",
       "secondary_cleaner.state.floatbank6_a_air     14.98   19.96   24.00   32.19  \n",
       "secondary_cleaner.state.floatbank6_a_level -500.73 -500.05 -499.50 -104.43  \n",
       "\n",
       "[86 rows x 8 columns]"
      ]
     },
     "metadata": {},
     "output_type": "display_data"
    },
    {
     "name": "stdout",
     "output_type": "stream",
     "text": [
      "\n"
     ]
    },
    {
     "data": {
      "text/html": [
       "<div>\n",
       "<style scoped>\n",
       "    .dataframe tbody tr th:only-of-type {\n",
       "        vertical-align: middle;\n",
       "    }\n",
       "\n",
       "    .dataframe tbody tr th {\n",
       "        vertical-align: top;\n",
       "    }\n",
       "\n",
       "    .dataframe thead th {\n",
       "        text-align: right;\n",
       "    }\n",
       "</style>\n",
       "<table border=\"1\" class=\"dataframe\">\n",
       "  <thead>\n",
       "    <tr style=\"text-align: right;\">\n",
       "      <th></th>\n",
       "      <th>date</th>\n",
       "      <th>final.output.concentrate_ag</th>\n",
       "      <th>final.output.concentrate_pb</th>\n",
       "      <th>final.output.concentrate_sol</th>\n",
       "      <th>final.output.concentrate_au</th>\n",
       "      <th>final.output.recovery</th>\n",
       "      <th>final.output.tail_ag</th>\n",
       "      <th>final.output.tail_pb</th>\n",
       "      <th>final.output.tail_sol</th>\n",
       "      <th>final.output.tail_au</th>\n",
       "      <th>...</th>\n",
       "      <th>secondary_cleaner.state.floatbank4_a_air</th>\n",
       "      <th>secondary_cleaner.state.floatbank4_a_level</th>\n",
       "      <th>secondary_cleaner.state.floatbank4_b_air</th>\n",
       "      <th>secondary_cleaner.state.floatbank4_b_level</th>\n",
       "      <th>secondary_cleaner.state.floatbank5_a_air</th>\n",
       "      <th>secondary_cleaner.state.floatbank5_a_level</th>\n",
       "      <th>secondary_cleaner.state.floatbank5_b_air</th>\n",
       "      <th>secondary_cleaner.state.floatbank5_b_level</th>\n",
       "      <th>secondary_cleaner.state.floatbank6_a_air</th>\n",
       "      <th>secondary_cleaner.state.floatbank6_a_level</th>\n",
       "    </tr>\n",
       "  </thead>\n",
       "  <tbody>\n",
       "    <tr>\n",
       "      <th>0</th>\n",
       "      <td>2016-01-15 00:00:00</td>\n",
       "      <td>6.06</td>\n",
       "      <td>9.89</td>\n",
       "      <td>5.51</td>\n",
       "      <td>42.19</td>\n",
       "      <td>70.54</td>\n",
       "      <td>10.41</td>\n",
       "      <td>0.90</td>\n",
       "      <td>16.90</td>\n",
       "      <td>2.14</td>\n",
       "      <td>...</td>\n",
       "      <td>14.02</td>\n",
       "      <td>-502.49</td>\n",
       "      <td>12.10</td>\n",
       "      <td>-504.72</td>\n",
       "      <td>9.93</td>\n",
       "      <td>-498.31</td>\n",
       "      <td>8.08</td>\n",
       "      <td>-500.47</td>\n",
       "      <td>14.15</td>\n",
       "      <td>-605.84</td>\n",
       "    </tr>\n",
       "    <tr>\n",
       "      <th>1</th>\n",
       "      <td>2016-01-15 01:00:00</td>\n",
       "      <td>6.03</td>\n",
       "      <td>9.97</td>\n",
       "      <td>5.26</td>\n",
       "      <td>42.70</td>\n",
       "      <td>69.27</td>\n",
       "      <td>10.46</td>\n",
       "      <td>0.93</td>\n",
       "      <td>16.63</td>\n",
       "      <td>2.22</td>\n",
       "      <td>...</td>\n",
       "      <td>13.99</td>\n",
       "      <td>-505.50</td>\n",
       "      <td>11.95</td>\n",
       "      <td>-501.33</td>\n",
       "      <td>10.04</td>\n",
       "      <td>-500.17</td>\n",
       "      <td>7.98</td>\n",
       "      <td>-500.58</td>\n",
       "      <td>14.00</td>\n",
       "      <td>-599.79</td>\n",
       "    </tr>\n",
       "    <tr>\n",
       "      <th>2</th>\n",
       "      <td>2016-01-15 02:00:00</td>\n",
       "      <td>6.06</td>\n",
       "      <td>10.21</td>\n",
       "      <td>5.38</td>\n",
       "      <td>42.66</td>\n",
       "      <td>68.12</td>\n",
       "      <td>10.51</td>\n",
       "      <td>0.95</td>\n",
       "      <td>16.21</td>\n",
       "      <td>2.26</td>\n",
       "      <td>...</td>\n",
       "      <td>14.02</td>\n",
       "      <td>-502.52</td>\n",
       "      <td>11.91</td>\n",
       "      <td>-501.13</td>\n",
       "      <td>10.07</td>\n",
       "      <td>-500.13</td>\n",
       "      <td>8.01</td>\n",
       "      <td>-500.52</td>\n",
       "      <td>14.03</td>\n",
       "      <td>-601.43</td>\n",
       "    </tr>\n",
       "    <tr>\n",
       "      <th>3</th>\n",
       "      <td>2016-01-15 03:00:00</td>\n",
       "      <td>6.05</td>\n",
       "      <td>9.98</td>\n",
       "      <td>4.86</td>\n",
       "      <td>42.69</td>\n",
       "      <td>68.35</td>\n",
       "      <td>10.42</td>\n",
       "      <td>0.88</td>\n",
       "      <td>16.53</td>\n",
       "      <td>2.15</td>\n",
       "      <td>...</td>\n",
       "      <td>14.04</td>\n",
       "      <td>-500.86</td>\n",
       "      <td>12.00</td>\n",
       "      <td>-501.19</td>\n",
       "      <td>9.97</td>\n",
       "      <td>-499.20</td>\n",
       "      <td>7.98</td>\n",
       "      <td>-500.26</td>\n",
       "      <td>14.01</td>\n",
       "      <td>-600.00</td>\n",
       "    </tr>\n",
       "    <tr>\n",
       "      <th>4</th>\n",
       "      <td>2016-01-15 04:00:00</td>\n",
       "      <td>6.15</td>\n",
       "      <td>10.14</td>\n",
       "      <td>4.94</td>\n",
       "      <td>42.77</td>\n",
       "      <td>66.93</td>\n",
       "      <td>10.36</td>\n",
       "      <td>0.79</td>\n",
       "      <td>16.53</td>\n",
       "      <td>2.06</td>\n",
       "      <td>...</td>\n",
       "      <td>14.03</td>\n",
       "      <td>-499.84</td>\n",
       "      <td>11.95</td>\n",
       "      <td>-501.05</td>\n",
       "      <td>9.93</td>\n",
       "      <td>-501.69</td>\n",
       "      <td>7.89</td>\n",
       "      <td>-500.36</td>\n",
       "      <td>14.00</td>\n",
       "      <td>-601.50</td>\n",
       "    </tr>\n",
       "  </tbody>\n",
       "</table>\n",
       "<p>5 rows × 87 columns</p>\n",
       "</div>"
      ],
      "text/plain": [
       "                  date  final.output.concentrate_ag  \\\n",
       "0  2016-01-15 00:00:00                         6.06   \n",
       "1  2016-01-15 01:00:00                         6.03   \n",
       "2  2016-01-15 02:00:00                         6.06   \n",
       "3  2016-01-15 03:00:00                         6.05   \n",
       "4  2016-01-15 04:00:00                         6.15   \n",
       "\n",
       "   final.output.concentrate_pb  final.output.concentrate_sol  \\\n",
       "0                         9.89                          5.51   \n",
       "1                         9.97                          5.26   \n",
       "2                        10.21                          5.38   \n",
       "3                         9.98                          4.86   \n",
       "4                        10.14                          4.94   \n",
       "\n",
       "   final.output.concentrate_au  final.output.recovery  final.output.tail_ag  \\\n",
       "0                        42.19                  70.54                 10.41   \n",
       "1                        42.70                  69.27                 10.46   \n",
       "2                        42.66                  68.12                 10.51   \n",
       "3                        42.69                  68.35                 10.42   \n",
       "4                        42.77                  66.93                 10.36   \n",
       "\n",
       "   final.output.tail_pb  final.output.tail_sol  final.output.tail_au  ...  \\\n",
       "0                  0.90                  16.90                  2.14  ...   \n",
       "1                  0.93                  16.63                  2.22  ...   \n",
       "2                  0.95                  16.21                  2.26  ...   \n",
       "3                  0.88                  16.53                  2.15  ...   \n",
       "4                  0.79                  16.53                  2.06  ...   \n",
       "\n",
       "   secondary_cleaner.state.floatbank4_a_air  \\\n",
       "0                                     14.02   \n",
       "1                                     13.99   \n",
       "2                                     14.02   \n",
       "3                                     14.04   \n",
       "4                                     14.03   \n",
       "\n",
       "   secondary_cleaner.state.floatbank4_a_level  \\\n",
       "0                                     -502.49   \n",
       "1                                     -505.50   \n",
       "2                                     -502.52   \n",
       "3                                     -500.86   \n",
       "4                                     -499.84   \n",
       "\n",
       "   secondary_cleaner.state.floatbank4_b_air  \\\n",
       "0                                     12.10   \n",
       "1                                     11.95   \n",
       "2                                     11.91   \n",
       "3                                     12.00   \n",
       "4                                     11.95   \n",
       "\n",
       "   secondary_cleaner.state.floatbank4_b_level  \\\n",
       "0                                     -504.72   \n",
       "1                                     -501.33   \n",
       "2                                     -501.13   \n",
       "3                                     -501.19   \n",
       "4                                     -501.05   \n",
       "\n",
       "   secondary_cleaner.state.floatbank5_a_air  \\\n",
       "0                                      9.93   \n",
       "1                                     10.04   \n",
       "2                                     10.07   \n",
       "3                                      9.97   \n",
       "4                                      9.93   \n",
       "\n",
       "   secondary_cleaner.state.floatbank5_a_level  \\\n",
       "0                                     -498.31   \n",
       "1                                     -500.17   \n",
       "2                                     -500.13   \n",
       "3                                     -499.20   \n",
       "4                                     -501.69   \n",
       "\n",
       "   secondary_cleaner.state.floatbank5_b_air  \\\n",
       "0                                      8.08   \n",
       "1                                      7.98   \n",
       "2                                      8.01   \n",
       "3                                      7.98   \n",
       "4                                      7.89   \n",
       "\n",
       "   secondary_cleaner.state.floatbank5_b_level  \\\n",
       "0                                     -500.47   \n",
       "1                                     -500.58   \n",
       "2                                     -500.52   \n",
       "3                                     -500.26   \n",
       "4                                     -500.36   \n",
       "\n",
       "   secondary_cleaner.state.floatbank6_a_air  \\\n",
       "0                                     14.15   \n",
       "1                                     14.00   \n",
       "2                                     14.03   \n",
       "3                                     14.01   \n",
       "4                                     14.00   \n",
       "\n",
       "   secondary_cleaner.state.floatbank6_a_level  \n",
       "0                                     -605.84  \n",
       "1                                     -599.79  \n",
       "2                                     -601.43  \n",
       "3                                     -600.00  \n",
       "4                                     -601.50  \n",
       "\n",
       "[5 rows x 87 columns]"
      ]
     },
     "metadata": {},
     "output_type": "display_data"
    },
    {
     "name": "stdout",
     "output_type": "stream",
     "text": [
      "\n",
      "<class 'pandas.core.frame.DataFrame'>\n",
      "RangeIndex: 14149 entries, 0 to 14148\n",
      "Data columns (total 87 columns):\n",
      " #   Column                                              Non-Null Count  Dtype  \n",
      "---  ------                                              --------------  -----  \n",
      " 0   date                                                14149 non-null  object \n",
      " 1   final.output.concentrate_ag                         14148 non-null  float64\n",
      " 2   final.output.concentrate_pb                         14148 non-null  float64\n",
      " 3   final.output.concentrate_sol                        13938 non-null  float64\n",
      " 4   final.output.concentrate_au                         14149 non-null  float64\n",
      " 5   final.output.recovery                               14149 non-null  float64\n",
      " 6   final.output.tail_ag                                14149 non-null  float64\n",
      " 7   final.output.tail_pb                                14049 non-null  float64\n",
      " 8   final.output.tail_sol                               14144 non-null  float64\n",
      " 9   final.output.tail_au                                14149 non-null  float64\n",
      " 10  primary_cleaner.input.sulfate                       14129 non-null  float64\n",
      " 11  primary_cleaner.input.depressant                    14117 non-null  float64\n",
      " 12  primary_cleaner.input.feed_size                     14149 non-null  float64\n",
      " 13  primary_cleaner.input.xanthate                      14049 non-null  float64\n",
      " 14  primary_cleaner.output.concentrate_ag               14149 non-null  float64\n",
      " 15  primary_cleaner.output.concentrate_pb               14063 non-null  float64\n",
      " 16  primary_cleaner.output.concentrate_sol              13863 non-null  float64\n",
      " 17  primary_cleaner.output.concentrate_au               14149 non-null  float64\n",
      " 18  primary_cleaner.output.tail_ag                      14148 non-null  float64\n",
      " 19  primary_cleaner.output.tail_pb                      14134 non-null  float64\n",
      " 20  primary_cleaner.output.tail_sol                     14103 non-null  float64\n",
      " 21  primary_cleaner.output.tail_au                      14149 non-null  float64\n",
      " 22  primary_cleaner.state.floatbank8_a_air              14145 non-null  float64\n",
      " 23  primary_cleaner.state.floatbank8_a_level            14148 non-null  float64\n",
      " 24  primary_cleaner.state.floatbank8_b_air              14145 non-null  float64\n",
      " 25  primary_cleaner.state.floatbank8_b_level            14148 non-null  float64\n",
      " 26  primary_cleaner.state.floatbank8_c_air              14147 non-null  float64\n",
      " 27  primary_cleaner.state.floatbank8_c_level            14148 non-null  float64\n",
      " 28  primary_cleaner.state.floatbank8_d_air              14146 non-null  float64\n",
      " 29  primary_cleaner.state.floatbank8_d_level            14148 non-null  float64\n",
      " 30  rougher.calculation.sulfate_to_au_concentrate       14148 non-null  float64\n",
      " 31  rougher.calculation.floatbank10_sulfate_to_au_feed  14148 non-null  float64\n",
      " 32  rougher.calculation.floatbank11_sulfate_to_au_feed  14148 non-null  float64\n",
      " 33  rougher.calculation.au_pb_ratio                     14149 non-null  float64\n",
      " 34  rougher.input.feed_ag                               14149 non-null  float64\n",
      " 35  rougher.input.feed_pb                               14049 non-null  float64\n",
      " 36  rougher.input.feed_rate                             14141 non-null  float64\n",
      " 37  rougher.input.feed_size                             14005 non-null  float64\n",
      " 38  rougher.input.feed_sol                              14071 non-null  float64\n",
      " 39  rougher.input.feed_au                               14149 non-null  float64\n",
      " 40  rougher.input.floatbank10_sulfate                   14120 non-null  float64\n",
      " 41  rougher.input.floatbank10_xanthate                  14141 non-null  float64\n",
      " 42  rougher.input.floatbank11_sulfate                   14113 non-null  float64\n",
      " 43  rougher.input.floatbank11_xanthate                  13721 non-null  float64\n",
      " 44  rougher.output.concentrate_ag                       14149 non-null  float64\n",
      " 45  rougher.output.concentrate_pb                       14149 non-null  float64\n",
      " 46  rougher.output.concentrate_sol                      14127 non-null  float64\n",
      " 47  rougher.output.concentrate_au                       14149 non-null  float64\n",
      " 48  rougher.output.recovery                             14149 non-null  float64\n",
      " 49  rougher.output.tail_ag                              14148 non-null  float64\n",
      " 50  rougher.output.tail_pb                              14149 non-null  float64\n",
      " 51  rougher.output.tail_sol                             14149 non-null  float64\n",
      " 52  rougher.output.tail_au                              14149 non-null  float64\n",
      " 53  rougher.state.floatbank10_a_air                     14148 non-null  float64\n",
      " 54  rougher.state.floatbank10_a_level                   14148 non-null  float64\n",
      " 55  rougher.state.floatbank10_b_air                     14148 non-null  float64\n",
      " 56  rougher.state.floatbank10_b_level                   14148 non-null  float64\n",
      " 57  rougher.state.floatbank10_c_air                     14148 non-null  float64\n",
      " 58  rougher.state.floatbank10_c_level                   14148 non-null  float64\n",
      " 59  rougher.state.floatbank10_d_air                     14149 non-null  float64\n",
      " 60  rougher.state.floatbank10_d_level                   14149 non-null  float64\n",
      " 61  rougher.state.floatbank10_e_air                     13713 non-null  float64\n",
      " 62  rougher.state.floatbank10_e_level                   14149 non-null  float64\n",
      " 63  rougher.state.floatbank10_f_air                     14149 non-null  float64\n",
      " 64  rougher.state.floatbank10_f_level                   14149 non-null  float64\n",
      " 65  secondary_cleaner.output.tail_ag                    14147 non-null  float64\n",
      " 66  secondary_cleaner.output.tail_pb                    14139 non-null  float64\n",
      " 67  secondary_cleaner.output.tail_sol                   12544 non-null  float64\n",
      " 68  secondary_cleaner.output.tail_au                    14149 non-null  float64\n",
      " 69  secondary_cleaner.state.floatbank2_a_air            13932 non-null  float64\n",
      " 70  secondary_cleaner.state.floatbank2_a_level          14148 non-null  float64\n",
      " 71  secondary_cleaner.state.floatbank2_b_air            14128 non-null  float64\n",
      " 72  secondary_cleaner.state.floatbank2_b_level          14148 non-null  float64\n",
      " 73  secondary_cleaner.state.floatbank3_a_air            14145 non-null  float64\n",
      " 74  secondary_cleaner.state.floatbank3_a_level          14148 non-null  float64\n",
      " 75  secondary_cleaner.state.floatbank3_b_air            14148 non-null  float64\n",
      " 76  secondary_cleaner.state.floatbank3_b_level          14148 non-null  float64\n",
      " 77  secondary_cleaner.state.floatbank4_a_air            14143 non-null  float64\n",
      " 78  secondary_cleaner.state.floatbank4_a_level          14148 non-null  float64\n",
      " 79  secondary_cleaner.state.floatbank4_b_air            14148 non-null  float64\n",
      " 80  secondary_cleaner.state.floatbank4_b_level          14148 non-null  float64\n",
      " 81  secondary_cleaner.state.floatbank5_a_air            14148 non-null  float64\n",
      " 82  secondary_cleaner.state.floatbank5_a_level          14148 non-null  float64\n",
      " 83  secondary_cleaner.state.floatbank5_b_air            14148 non-null  float64\n",
      " 84  secondary_cleaner.state.floatbank5_b_level          14148 non-null  float64\n",
      " 85  secondary_cleaner.state.floatbank6_a_air            14147 non-null  float64\n",
      " 86  secondary_cleaner.state.floatbank6_a_level          14148 non-null  float64\n",
      "dtypes: float64(86), object(1)\n",
      "memory usage: 9.4+ MB\n",
      "None\n",
      "Количество дубликатов = 0\n",
      "\n"
     ]
    },
    {
     "data": {
      "text/html": [
       "<div>\n",
       "<style scoped>\n",
       "    .dataframe tbody tr th:only-of-type {\n",
       "        vertical-align: middle;\n",
       "    }\n",
       "\n",
       "    .dataframe tbody tr th {\n",
       "        vertical-align: top;\n",
       "    }\n",
       "\n",
       "    .dataframe thead th {\n",
       "        text-align: right;\n",
       "    }\n",
       "</style>\n",
       "<table border=\"1\" class=\"dataframe\">\n",
       "  <thead>\n",
       "    <tr style=\"text-align: right;\">\n",
       "      <th></th>\n",
       "      <th>count</th>\n",
       "      <th>mean</th>\n",
       "      <th>std</th>\n",
       "      <th>min</th>\n",
       "      <th>25%</th>\n",
       "      <th>50%</th>\n",
       "      <th>75%</th>\n",
       "      <th>max</th>\n",
       "    </tr>\n",
       "  </thead>\n",
       "  <tbody>\n",
       "    <tr>\n",
       "      <th>final.output.concentrate_ag</th>\n",
       "      <td>14148.00</td>\n",
       "      <td>5.14</td>\n",
       "      <td>1.37</td>\n",
       "      <td>0.00</td>\n",
       "      <td>4.21</td>\n",
       "      <td>4.99</td>\n",
       "      <td>5.86</td>\n",
       "      <td>16.00</td>\n",
       "    </tr>\n",
       "    <tr>\n",
       "      <th>final.output.concentrate_pb</th>\n",
       "      <td>14148.00</td>\n",
       "      <td>10.13</td>\n",
       "      <td>1.65</td>\n",
       "      <td>0.00</td>\n",
       "      <td>9.30</td>\n",
       "      <td>10.30</td>\n",
       "      <td>11.17</td>\n",
       "      <td>17.03</td>\n",
       "    </tr>\n",
       "    <tr>\n",
       "      <th>final.output.concentrate_sol</th>\n",
       "      <td>13938.00</td>\n",
       "      <td>9.20</td>\n",
       "      <td>2.79</td>\n",
       "      <td>0.00</td>\n",
       "      <td>7.48</td>\n",
       "      <td>8.85</td>\n",
       "      <td>10.49</td>\n",
       "      <td>18.12</td>\n",
       "    </tr>\n",
       "    <tr>\n",
       "      <th>final.output.concentrate_au</th>\n",
       "      <td>14149.00</td>\n",
       "      <td>44.00</td>\n",
       "      <td>4.91</td>\n",
       "      <td>0.00</td>\n",
       "      <td>43.28</td>\n",
       "      <td>44.87</td>\n",
       "      <td>46.17</td>\n",
       "      <td>52.76</td>\n",
       "    </tr>\n",
       "    <tr>\n",
       "      <th>final.output.recovery</th>\n",
       "      <td>14149.00</td>\n",
       "      <td>66.52</td>\n",
       "      <td>10.30</td>\n",
       "      <td>0.00</td>\n",
       "      <td>62.55</td>\n",
       "      <td>67.43</td>\n",
       "      <td>72.35</td>\n",
       "      <td>100.00</td>\n",
       "    </tr>\n",
       "    <tr>\n",
       "      <th>...</th>\n",
       "      <td>...</td>\n",
       "      <td>...</td>\n",
       "      <td>...</td>\n",
       "      <td>...</td>\n",
       "      <td>...</td>\n",
       "      <td>...</td>\n",
       "      <td>...</td>\n",
       "      <td>...</td>\n",
       "    </tr>\n",
       "    <tr>\n",
       "      <th>secondary_cleaner.state.floatbank5_a_level</th>\n",
       "      <td>14148.00</td>\n",
       "      <td>-483.96</td>\n",
       "      <td>37.89</td>\n",
       "      <td>-797.14</td>\n",
       "      <td>-500.36</td>\n",
       "      <td>-499.70</td>\n",
       "      <td>-487.71</td>\n",
       "      <td>-275.07</td>\n",
       "    </tr>\n",
       "    <tr>\n",
       "      <th>secondary_cleaner.state.floatbank5_b_air</th>\n",
       "      <td>14148.00</td>\n",
       "      <td>13.06</td>\n",
       "      <td>5.77</td>\n",
       "      <td>0.65</td>\n",
       "      <td>8.99</td>\n",
       "      <td>12.00</td>\n",
       "      <td>17.98</td>\n",
       "      <td>27.93</td>\n",
       "    </tr>\n",
       "    <tr>\n",
       "      <th>secondary_cleaner.state.floatbank5_b_level</th>\n",
       "      <td>14148.00</td>\n",
       "      <td>-483.97</td>\n",
       "      <td>39.21</td>\n",
       "      <td>-800.01</td>\n",
       "      <td>-500.11</td>\n",
       "      <td>-499.91</td>\n",
       "      <td>-453.19</td>\n",
       "      <td>-157.40</td>\n",
       "    </tr>\n",
       "    <tr>\n",
       "      <th>secondary_cleaner.state.floatbank6_a_air</th>\n",
       "      <td>14147.00</td>\n",
       "      <td>19.58</td>\n",
       "      <td>5.76</td>\n",
       "      <td>0.20</td>\n",
       "      <td>14.99</td>\n",
       "      <td>19.98</td>\n",
       "      <td>24.99</td>\n",
       "      <td>32.19</td>\n",
       "    </tr>\n",
       "    <tr>\n",
       "      <th>secondary_cleaner.state.floatbank6_a_level</th>\n",
       "      <td>14148.00</td>\n",
       "      <td>-506.80</td>\n",
       "      <td>37.08</td>\n",
       "      <td>-809.40</td>\n",
       "      <td>-500.75</td>\n",
       "      <td>-500.06</td>\n",
       "      <td>-499.54</td>\n",
       "      <td>-104.43</td>\n",
       "    </tr>\n",
       "  </tbody>\n",
       "</table>\n",
       "<p>86 rows × 8 columns</p>\n",
       "</div>"
      ],
      "text/plain": [
       "                                              count    mean   std     min  \\\n",
       "final.output.concentrate_ag                14148.00    5.14  1.37    0.00   \n",
       "final.output.concentrate_pb                14148.00   10.13  1.65    0.00   \n",
       "final.output.concentrate_sol               13938.00    9.20  2.79    0.00   \n",
       "final.output.concentrate_au                14149.00   44.00  4.91    0.00   \n",
       "final.output.recovery                      14149.00   66.52 10.30    0.00   \n",
       "...                                             ...     ...   ...     ...   \n",
       "secondary_cleaner.state.floatbank5_a_level 14148.00 -483.96 37.89 -797.14   \n",
       "secondary_cleaner.state.floatbank5_b_air   14148.00   13.06  5.77    0.65   \n",
       "secondary_cleaner.state.floatbank5_b_level 14148.00 -483.97 39.21 -800.01   \n",
       "secondary_cleaner.state.floatbank6_a_air   14147.00   19.58  5.76    0.20   \n",
       "secondary_cleaner.state.floatbank6_a_level 14148.00 -506.80 37.08 -809.40   \n",
       "\n",
       "                                               25%     50%     75%     max  \n",
       "final.output.concentrate_ag                   4.21    4.99    5.86   16.00  \n",
       "final.output.concentrate_pb                   9.30   10.30   11.17   17.03  \n",
       "final.output.concentrate_sol                  7.48    8.85   10.49   18.12  \n",
       "final.output.concentrate_au                  43.28   44.87   46.17   52.76  \n",
       "final.output.recovery                        62.55   67.43   72.35  100.00  \n",
       "...                                            ...     ...     ...     ...  \n",
       "secondary_cleaner.state.floatbank5_a_level -500.36 -499.70 -487.71 -275.07  \n",
       "secondary_cleaner.state.floatbank5_b_air      8.99   12.00   17.98   27.93  \n",
       "secondary_cleaner.state.floatbank5_b_level -500.11 -499.91 -453.19 -157.40  \n",
       "secondary_cleaner.state.floatbank6_a_air     14.99   19.98   24.99   32.19  \n",
       "secondary_cleaner.state.floatbank6_a_level -500.75 -500.06 -499.54 -104.43  \n",
       "\n",
       "[86 rows x 8 columns]"
      ]
     },
     "metadata": {},
     "output_type": "display_data"
    },
    {
     "name": "stdout",
     "output_type": "stream",
     "text": [
      "\n"
     ]
    },
    {
     "data": {
      "text/html": [
       "<div>\n",
       "<style scoped>\n",
       "    .dataframe tbody tr th:only-of-type {\n",
       "        vertical-align: middle;\n",
       "    }\n",
       "\n",
       "    .dataframe tbody tr th {\n",
       "        vertical-align: top;\n",
       "    }\n",
       "\n",
       "    .dataframe thead th {\n",
       "        text-align: right;\n",
       "    }\n",
       "</style>\n",
       "<table border=\"1\" class=\"dataframe\">\n",
       "  <thead>\n",
       "    <tr style=\"text-align: right;\">\n",
       "      <th></th>\n",
       "      <th>date</th>\n",
       "      <th>primary_cleaner.input.sulfate</th>\n",
       "      <th>primary_cleaner.input.depressant</th>\n",
       "      <th>primary_cleaner.input.feed_size</th>\n",
       "      <th>primary_cleaner.input.xanthate</th>\n",
       "      <th>primary_cleaner.state.floatbank8_a_air</th>\n",
       "      <th>primary_cleaner.state.floatbank8_a_level</th>\n",
       "      <th>primary_cleaner.state.floatbank8_b_air</th>\n",
       "      <th>primary_cleaner.state.floatbank8_b_level</th>\n",
       "      <th>primary_cleaner.state.floatbank8_c_air</th>\n",
       "      <th>...</th>\n",
       "      <th>secondary_cleaner.state.floatbank4_a_air</th>\n",
       "      <th>secondary_cleaner.state.floatbank4_a_level</th>\n",
       "      <th>secondary_cleaner.state.floatbank4_b_air</th>\n",
       "      <th>secondary_cleaner.state.floatbank4_b_level</th>\n",
       "      <th>secondary_cleaner.state.floatbank5_a_air</th>\n",
       "      <th>secondary_cleaner.state.floatbank5_a_level</th>\n",
       "      <th>secondary_cleaner.state.floatbank5_b_air</th>\n",
       "      <th>secondary_cleaner.state.floatbank5_b_level</th>\n",
       "      <th>secondary_cleaner.state.floatbank6_a_air</th>\n",
       "      <th>secondary_cleaner.state.floatbank6_a_level</th>\n",
       "    </tr>\n",
       "  </thead>\n",
       "  <tbody>\n",
       "    <tr>\n",
       "      <th>0</th>\n",
       "      <td>2016-09-01 00:59:59</td>\n",
       "      <td>210.80</td>\n",
       "      <td>14.99</td>\n",
       "      <td>8.08</td>\n",
       "      <td>1.01</td>\n",
       "      <td>1398.98</td>\n",
       "      <td>-500.23</td>\n",
       "      <td>1399.14</td>\n",
       "      <td>-499.92</td>\n",
       "      <td>1400.10</td>\n",
       "      <td>...</td>\n",
       "      <td>12.02</td>\n",
       "      <td>-497.80</td>\n",
       "      <td>8.02</td>\n",
       "      <td>-501.29</td>\n",
       "      <td>7.95</td>\n",
       "      <td>-432.32</td>\n",
       "      <td>4.87</td>\n",
       "      <td>-500.04</td>\n",
       "      <td>26.71</td>\n",
       "      <td>-499.71</td>\n",
       "    </tr>\n",
       "    <tr>\n",
       "      <th>1</th>\n",
       "      <td>2016-09-01 01:59:59</td>\n",
       "      <td>215.39</td>\n",
       "      <td>14.99</td>\n",
       "      <td>8.08</td>\n",
       "      <td>0.99</td>\n",
       "      <td>1398.78</td>\n",
       "      <td>-500.06</td>\n",
       "      <td>1398.06</td>\n",
       "      <td>-499.78</td>\n",
       "      <td>1396.15</td>\n",
       "      <td>...</td>\n",
       "      <td>12.06</td>\n",
       "      <td>-498.70</td>\n",
       "      <td>8.13</td>\n",
       "      <td>-499.63</td>\n",
       "      <td>7.96</td>\n",
       "      <td>-525.84</td>\n",
       "      <td>4.88</td>\n",
       "      <td>-500.16</td>\n",
       "      <td>25.02</td>\n",
       "      <td>-499.82</td>\n",
       "    </tr>\n",
       "    <tr>\n",
       "      <th>2</th>\n",
       "      <td>2016-09-01 02:59:59</td>\n",
       "      <td>215.26</td>\n",
       "      <td>12.88</td>\n",
       "      <td>7.79</td>\n",
       "      <td>1.00</td>\n",
       "      <td>1398.49</td>\n",
       "      <td>-500.87</td>\n",
       "      <td>1398.86</td>\n",
       "      <td>-499.76</td>\n",
       "      <td>1398.08</td>\n",
       "      <td>...</td>\n",
       "      <td>11.96</td>\n",
       "      <td>-498.77</td>\n",
       "      <td>8.10</td>\n",
       "      <td>-500.83</td>\n",
       "      <td>8.07</td>\n",
       "      <td>-500.80</td>\n",
       "      <td>4.91</td>\n",
       "      <td>-499.83</td>\n",
       "      <td>24.99</td>\n",
       "      <td>-500.62</td>\n",
       "    </tr>\n",
       "    <tr>\n",
       "      <th>3</th>\n",
       "      <td>2016-09-01 03:59:59</td>\n",
       "      <td>215.34</td>\n",
       "      <td>12.01</td>\n",
       "      <td>7.64</td>\n",
       "      <td>0.86</td>\n",
       "      <td>1399.62</td>\n",
       "      <td>-498.86</td>\n",
       "      <td>1397.44</td>\n",
       "      <td>-499.21</td>\n",
       "      <td>1400.13</td>\n",
       "      <td>...</td>\n",
       "      <td>12.03</td>\n",
       "      <td>-498.35</td>\n",
       "      <td>8.07</td>\n",
       "      <td>-499.47</td>\n",
       "      <td>7.90</td>\n",
       "      <td>-500.87</td>\n",
       "      <td>4.93</td>\n",
       "      <td>-499.96</td>\n",
       "      <td>24.95</td>\n",
       "      <td>-498.71</td>\n",
       "    </tr>\n",
       "    <tr>\n",
       "      <th>4</th>\n",
       "      <td>2016-09-01 04:59:59</td>\n",
       "      <td>199.10</td>\n",
       "      <td>10.68</td>\n",
       "      <td>7.53</td>\n",
       "      <td>0.81</td>\n",
       "      <td>1401.27</td>\n",
       "      <td>-500.81</td>\n",
       "      <td>1398.13</td>\n",
       "      <td>-499.50</td>\n",
       "      <td>1402.17</td>\n",
       "      <td>...</td>\n",
       "      <td>12.03</td>\n",
       "      <td>-500.79</td>\n",
       "      <td>8.05</td>\n",
       "      <td>-500.40</td>\n",
       "      <td>8.11</td>\n",
       "      <td>-509.53</td>\n",
       "      <td>4.96</td>\n",
       "      <td>-500.36</td>\n",
       "      <td>25.00</td>\n",
       "      <td>-500.86</td>\n",
       "    </tr>\n",
       "  </tbody>\n",
       "</table>\n",
       "<p>5 rows × 53 columns</p>\n",
       "</div>"
      ],
      "text/plain": [
       "                  date  primary_cleaner.input.sulfate  \\\n",
       "0  2016-09-01 00:59:59                         210.80   \n",
       "1  2016-09-01 01:59:59                         215.39   \n",
       "2  2016-09-01 02:59:59                         215.26   \n",
       "3  2016-09-01 03:59:59                         215.34   \n",
       "4  2016-09-01 04:59:59                         199.10   \n",
       "\n",
       "   primary_cleaner.input.depressant  primary_cleaner.input.feed_size  \\\n",
       "0                             14.99                             8.08   \n",
       "1                             14.99                             8.08   \n",
       "2                             12.88                             7.79   \n",
       "3                             12.01                             7.64   \n",
       "4                             10.68                             7.53   \n",
       "\n",
       "   primary_cleaner.input.xanthate  primary_cleaner.state.floatbank8_a_air  \\\n",
       "0                            1.01                                 1398.98   \n",
       "1                            0.99                                 1398.78   \n",
       "2                            1.00                                 1398.49   \n",
       "3                            0.86                                 1399.62   \n",
       "4                            0.81                                 1401.27   \n",
       "\n",
       "   primary_cleaner.state.floatbank8_a_level  \\\n",
       "0                                   -500.23   \n",
       "1                                   -500.06   \n",
       "2                                   -500.87   \n",
       "3                                   -498.86   \n",
       "4                                   -500.81   \n",
       "\n",
       "   primary_cleaner.state.floatbank8_b_air  \\\n",
       "0                                 1399.14   \n",
       "1                                 1398.06   \n",
       "2                                 1398.86   \n",
       "3                                 1397.44   \n",
       "4                                 1398.13   \n",
       "\n",
       "   primary_cleaner.state.floatbank8_b_level  \\\n",
       "0                                   -499.92   \n",
       "1                                   -499.78   \n",
       "2                                   -499.76   \n",
       "3                                   -499.21   \n",
       "4                                   -499.50   \n",
       "\n",
       "   primary_cleaner.state.floatbank8_c_air  ...  \\\n",
       "0                                 1400.10  ...   \n",
       "1                                 1396.15  ...   \n",
       "2                                 1398.08  ...   \n",
       "3                                 1400.13  ...   \n",
       "4                                 1402.17  ...   \n",
       "\n",
       "   secondary_cleaner.state.floatbank4_a_air  \\\n",
       "0                                     12.02   \n",
       "1                                     12.06   \n",
       "2                                     11.96   \n",
       "3                                     12.03   \n",
       "4                                     12.03   \n",
       "\n",
       "   secondary_cleaner.state.floatbank4_a_level  \\\n",
       "0                                     -497.80   \n",
       "1                                     -498.70   \n",
       "2                                     -498.77   \n",
       "3                                     -498.35   \n",
       "4                                     -500.79   \n",
       "\n",
       "   secondary_cleaner.state.floatbank4_b_air  \\\n",
       "0                                      8.02   \n",
       "1                                      8.13   \n",
       "2                                      8.10   \n",
       "3                                      8.07   \n",
       "4                                      8.05   \n",
       "\n",
       "   secondary_cleaner.state.floatbank4_b_level  \\\n",
       "0                                     -501.29   \n",
       "1                                     -499.63   \n",
       "2                                     -500.83   \n",
       "3                                     -499.47   \n",
       "4                                     -500.40   \n",
       "\n",
       "   secondary_cleaner.state.floatbank5_a_air  \\\n",
       "0                                      7.95   \n",
       "1                                      7.96   \n",
       "2                                      8.07   \n",
       "3                                      7.90   \n",
       "4                                      8.11   \n",
       "\n",
       "   secondary_cleaner.state.floatbank5_a_level  \\\n",
       "0                                     -432.32   \n",
       "1                                     -525.84   \n",
       "2                                     -500.80   \n",
       "3                                     -500.87   \n",
       "4                                     -509.53   \n",
       "\n",
       "   secondary_cleaner.state.floatbank5_b_air  \\\n",
       "0                                      4.87   \n",
       "1                                      4.88   \n",
       "2                                      4.91   \n",
       "3                                      4.93   \n",
       "4                                      4.96   \n",
       "\n",
       "   secondary_cleaner.state.floatbank5_b_level  \\\n",
       "0                                     -500.04   \n",
       "1                                     -500.16   \n",
       "2                                     -499.83   \n",
       "3                                     -499.96   \n",
       "4                                     -500.36   \n",
       "\n",
       "   secondary_cleaner.state.floatbank6_a_air  \\\n",
       "0                                     26.71   \n",
       "1                                     25.02   \n",
       "2                                     24.99   \n",
       "3                                     24.95   \n",
       "4                                     25.00   \n",
       "\n",
       "   secondary_cleaner.state.floatbank6_a_level  \n",
       "0                                     -499.71  \n",
       "1                                     -499.82  \n",
       "2                                     -500.62  \n",
       "3                                     -498.71  \n",
       "4                                     -500.86  \n",
       "\n",
       "[5 rows x 53 columns]"
      ]
     },
     "metadata": {},
     "output_type": "display_data"
    },
    {
     "name": "stdout",
     "output_type": "stream",
     "text": [
      "\n",
      "<class 'pandas.core.frame.DataFrame'>\n",
      "RangeIndex: 5290 entries, 0 to 5289\n",
      "Data columns (total 53 columns):\n",
      " #   Column                                      Non-Null Count  Dtype  \n",
      "---  ------                                      --------------  -----  \n",
      " 0   date                                        5290 non-null   object \n",
      " 1   primary_cleaner.input.sulfate               5286 non-null   float64\n",
      " 2   primary_cleaner.input.depressant            5285 non-null   float64\n",
      " 3   primary_cleaner.input.feed_size             5290 non-null   float64\n",
      " 4   primary_cleaner.input.xanthate              5286 non-null   float64\n",
      " 5   primary_cleaner.state.floatbank8_a_air      5290 non-null   float64\n",
      " 6   primary_cleaner.state.floatbank8_a_level    5290 non-null   float64\n",
      " 7   primary_cleaner.state.floatbank8_b_air      5290 non-null   float64\n",
      " 8   primary_cleaner.state.floatbank8_b_level    5290 non-null   float64\n",
      " 9   primary_cleaner.state.floatbank8_c_air      5290 non-null   float64\n",
      " 10  primary_cleaner.state.floatbank8_c_level    5290 non-null   float64\n",
      " 11  primary_cleaner.state.floatbank8_d_air      5290 non-null   float64\n",
      " 12  primary_cleaner.state.floatbank8_d_level    5290 non-null   float64\n",
      " 13  rougher.input.feed_ag                       5290 non-null   float64\n",
      " 14  rougher.input.feed_pb                       5290 non-null   float64\n",
      " 15  rougher.input.feed_rate                     5287 non-null   float64\n",
      " 16  rougher.input.feed_size                     5289 non-null   float64\n",
      " 17  rougher.input.feed_sol                      5269 non-null   float64\n",
      " 18  rougher.input.feed_au                       5290 non-null   float64\n",
      " 19  rougher.input.floatbank10_sulfate           5285 non-null   float64\n",
      " 20  rougher.input.floatbank10_xanthate          5290 non-null   float64\n",
      " 21  rougher.input.floatbank11_sulfate           5282 non-null   float64\n",
      " 22  rougher.input.floatbank11_xanthate          5265 non-null   float64\n",
      " 23  rougher.state.floatbank10_a_air             5290 non-null   float64\n",
      " 24  rougher.state.floatbank10_a_level           5290 non-null   float64\n",
      " 25  rougher.state.floatbank10_b_air             5290 non-null   float64\n",
      " 26  rougher.state.floatbank10_b_level           5290 non-null   float64\n",
      " 27  rougher.state.floatbank10_c_air             5290 non-null   float64\n",
      " 28  rougher.state.floatbank10_c_level           5290 non-null   float64\n",
      " 29  rougher.state.floatbank10_d_air             5290 non-null   float64\n",
      " 30  rougher.state.floatbank10_d_level           5290 non-null   float64\n",
      " 31  rougher.state.floatbank10_e_air             5290 non-null   float64\n",
      " 32  rougher.state.floatbank10_e_level           5290 non-null   float64\n",
      " 33  rougher.state.floatbank10_f_air             5290 non-null   float64\n",
      " 34  rougher.state.floatbank10_f_level           5290 non-null   float64\n",
      " 35  secondary_cleaner.state.floatbank2_a_air    5287 non-null   float64\n",
      " 36  secondary_cleaner.state.floatbank2_a_level  5290 non-null   float64\n",
      " 37  secondary_cleaner.state.floatbank2_b_air    5288 non-null   float64\n",
      " 38  secondary_cleaner.state.floatbank2_b_level  5290 non-null   float64\n",
      " 39  secondary_cleaner.state.floatbank3_a_air    5281 non-null   float64\n",
      " 40  secondary_cleaner.state.floatbank3_a_level  5290 non-null   float64\n",
      " 41  secondary_cleaner.state.floatbank3_b_air    5290 non-null   float64\n",
      " 42  secondary_cleaner.state.floatbank3_b_level  5290 non-null   float64\n",
      " 43  secondary_cleaner.state.floatbank4_a_air    5290 non-null   float64\n",
      " 44  secondary_cleaner.state.floatbank4_a_level  5290 non-null   float64\n",
      " 45  secondary_cleaner.state.floatbank4_b_air    5290 non-null   float64\n",
      " 46  secondary_cleaner.state.floatbank4_b_level  5290 non-null   float64\n",
      " 47  secondary_cleaner.state.floatbank5_a_air    5290 non-null   float64\n",
      " 48  secondary_cleaner.state.floatbank5_a_level  5290 non-null   float64\n",
      " 49  secondary_cleaner.state.floatbank5_b_air    5290 non-null   float64\n",
      " 50  secondary_cleaner.state.floatbank5_b_level  5290 non-null   float64\n",
      " 51  secondary_cleaner.state.floatbank6_a_air    5290 non-null   float64\n",
      " 52  secondary_cleaner.state.floatbank6_a_level  5290 non-null   float64\n",
      "dtypes: float64(52), object(1)\n",
      "memory usage: 2.1+ MB\n",
      "None\n",
      "Количество дубликатов = 0\n",
      "\n"
     ]
    },
    {
     "data": {
      "text/html": [
       "<div>\n",
       "<style scoped>\n",
       "    .dataframe tbody tr th:only-of-type {\n",
       "        vertical-align: middle;\n",
       "    }\n",
       "\n",
       "    .dataframe tbody tr th {\n",
       "        vertical-align: top;\n",
       "    }\n",
       "\n",
       "    .dataframe thead th {\n",
       "        text-align: right;\n",
       "    }\n",
       "</style>\n",
       "<table border=\"1\" class=\"dataframe\">\n",
       "  <thead>\n",
       "    <tr style=\"text-align: right;\">\n",
       "      <th></th>\n",
       "      <th>count</th>\n",
       "      <th>mean</th>\n",
       "      <th>std</th>\n",
       "      <th>min</th>\n",
       "      <th>25%</th>\n",
       "      <th>50%</th>\n",
       "      <th>75%</th>\n",
       "      <th>max</th>\n",
       "    </tr>\n",
       "  </thead>\n",
       "  <tbody>\n",
       "    <tr>\n",
       "      <th>primary_cleaner.input.sulfate</th>\n",
       "      <td>5286.00</td>\n",
       "      <td>174.84</td>\n",
       "      <td>43.03</td>\n",
       "      <td>2.57</td>\n",
       "      <td>147.12</td>\n",
       "      <td>177.83</td>\n",
       "      <td>208.13</td>\n",
       "      <td>265.98</td>\n",
       "    </tr>\n",
       "    <tr>\n",
       "      <th>primary_cleaner.input.depressant</th>\n",
       "      <td>5285.00</td>\n",
       "      <td>8.68</td>\n",
       "      <td>3.07</td>\n",
       "      <td>0.00</td>\n",
       "      <td>6.49</td>\n",
       "      <td>8.05</td>\n",
       "      <td>10.03</td>\n",
       "      <td>40.00</td>\n",
       "    </tr>\n",
       "    <tr>\n",
       "      <th>primary_cleaner.input.feed_size</th>\n",
       "      <td>5290.00</td>\n",
       "      <td>7.27</td>\n",
       "      <td>0.61</td>\n",
       "      <td>5.65</td>\n",
       "      <td>6.89</td>\n",
       "      <td>7.25</td>\n",
       "      <td>7.60</td>\n",
       "      <td>15.50</td>\n",
       "    </tr>\n",
       "    <tr>\n",
       "      <th>primary_cleaner.input.xanthate</th>\n",
       "      <td>5286.00</td>\n",
       "      <td>1.38</td>\n",
       "      <td>0.64</td>\n",
       "      <td>0.00</td>\n",
       "      <td>0.91</td>\n",
       "      <td>1.20</td>\n",
       "      <td>1.80</td>\n",
       "      <td>4.10</td>\n",
       "    </tr>\n",
       "    <tr>\n",
       "      <th>primary_cleaner.state.floatbank8_a_air</th>\n",
       "      <td>5290.00</td>\n",
       "      <td>1539.49</td>\n",
       "      <td>116.80</td>\n",
       "      <td>0.00</td>\n",
       "      <td>1498.94</td>\n",
       "      <td>1585.13</td>\n",
       "      <td>1602.08</td>\n",
       "      <td>2103.10</td>\n",
       "    </tr>\n",
       "    <tr>\n",
       "      <th>primary_cleaner.state.floatbank8_a_level</th>\n",
       "      <td>5290.00</td>\n",
       "      <td>-497.67</td>\n",
       "      <td>19.95</td>\n",
       "      <td>-795.32</td>\n",
       "      <td>-500.36</td>\n",
       "      <td>-499.97</td>\n",
       "      <td>-499.57</td>\n",
       "      <td>-57.20</td>\n",
       "    </tr>\n",
       "    <tr>\n",
       "      <th>primary_cleaner.state.floatbank8_b_air</th>\n",
       "      <td>5290.00</td>\n",
       "      <td>1545.17</td>\n",
       "      <td>122.22</td>\n",
       "      <td>0.00</td>\n",
       "      <td>1498.97</td>\n",
       "      <td>1595.62</td>\n",
       "      <td>1602.32</td>\n",
       "      <td>1813.08</td>\n",
       "    </tr>\n",
       "    <tr>\n",
       "      <th>primary_cleaner.state.floatbank8_b_level</th>\n",
       "      <td>5290.00</td>\n",
       "      <td>-500.27</td>\n",
       "      <td>32.97</td>\n",
       "      <td>-800.00</td>\n",
       "      <td>-500.70</td>\n",
       "      <td>-500.03</td>\n",
       "      <td>-499.29</td>\n",
       "      <td>-142.53</td>\n",
       "    </tr>\n",
       "    <tr>\n",
       "      <th>primary_cleaner.state.floatbank8_c_air</th>\n",
       "      <td>5290.00</td>\n",
       "      <td>1527.27</td>\n",
       "      <td>122.54</td>\n",
       "      <td>0.00</td>\n",
       "      <td>1473.23</td>\n",
       "      <td>1549.59</td>\n",
       "      <td>1601.14</td>\n",
       "      <td>1715.05</td>\n",
       "    </tr>\n",
       "    <tr>\n",
       "      <th>primary_cleaner.state.floatbank8_c_level</th>\n",
       "      <td>5290.00</td>\n",
       "      <td>-498.33</td>\n",
       "      <td>21.96</td>\n",
       "      <td>-799.96</td>\n",
       "      <td>-501.02</td>\n",
       "      <td>-500.02</td>\n",
       "      <td>-498.99</td>\n",
       "      <td>-150.94</td>\n",
       "    </tr>\n",
       "    <tr>\n",
       "      <th>primary_cleaner.state.floatbank8_d_air</th>\n",
       "      <td>5290.00</td>\n",
       "      <td>1544.84</td>\n",
       "      <td>124.77</td>\n",
       "      <td>0.00</td>\n",
       "      <td>1499.48</td>\n",
       "      <td>1594.58</td>\n",
       "      <td>1600.96</td>\n",
       "      <td>1913.26</td>\n",
       "    </tr>\n",
       "    <tr>\n",
       "      <th>primary_cleaner.state.floatbank8_d_level</th>\n",
       "      <td>5290.00</td>\n",
       "      <td>-500.20</td>\n",
       "      <td>31.05</td>\n",
       "      <td>-799.79</td>\n",
       "      <td>-500.45</td>\n",
       "      <td>-500.02</td>\n",
       "      <td>-499.61</td>\n",
       "      <td>-158.95</td>\n",
       "    </tr>\n",
       "    <tr>\n",
       "      <th>rougher.input.feed_ag</th>\n",
       "      <td>5290.00</td>\n",
       "      <td>9.37</td>\n",
       "      <td>1.93</td>\n",
       "      <td>0.57</td>\n",
       "      <td>8.11</td>\n",
       "      <td>9.76</td>\n",
       "      <td>10.65</td>\n",
       "      <td>14.41</td>\n",
       "    </tr>\n",
       "    <tr>\n",
       "      <th>rougher.input.feed_pb</th>\n",
       "      <td>5290.00</td>\n",
       "      <td>3.80</td>\n",
       "      <td>0.95</td>\n",
       "      <td>0.27</td>\n",
       "      <td>3.24</td>\n",
       "      <td>3.74</td>\n",
       "      <td>4.28</td>\n",
       "      <td>6.91</td>\n",
       "    </tr>\n",
       "    <tr>\n",
       "      <th>rougher.input.feed_rate</th>\n",
       "      <td>5287.00</td>\n",
       "      <td>489.80</td>\n",
       "      <td>108.04</td>\n",
       "      <td>0.00</td>\n",
       "      <td>407.02</td>\n",
       "      <td>499.05</td>\n",
       "      <td>575.31</td>\n",
       "      <td>707.36</td>\n",
       "    </tr>\n",
       "    <tr>\n",
       "      <th>rougher.input.feed_size</th>\n",
       "      <td>5289.00</td>\n",
       "      <td>55.95</td>\n",
       "      <td>19.08</td>\n",
       "      <td>0.05</td>\n",
       "      <td>43.91</td>\n",
       "      <td>50.84</td>\n",
       "      <td>62.43</td>\n",
       "      <td>392.49</td>\n",
       "    </tr>\n",
       "    <tr>\n",
       "      <th>rougher.input.feed_sol</th>\n",
       "      <td>5269.00</td>\n",
       "      <td>37.72</td>\n",
       "      <td>5.49</td>\n",
       "      <td>1.39</td>\n",
       "      <td>34.51</td>\n",
       "      <td>37.98</td>\n",
       "      <td>41.64</td>\n",
       "      <td>53.48</td>\n",
       "    </tr>\n",
       "    <tr>\n",
       "      <th>rougher.input.feed_au</th>\n",
       "      <td>5290.00</td>\n",
       "      <td>9.33</td>\n",
       "      <td>1.62</td>\n",
       "      <td>0.57</td>\n",
       "      <td>8.21</td>\n",
       "      <td>9.59</td>\n",
       "      <td>10.46</td>\n",
       "      <td>13.73</td>\n",
       "    </tr>\n",
       "    <tr>\n",
       "      <th>rougher.input.floatbank10_sulfate</th>\n",
       "      <td>5285.00</td>\n",
       "      <td>13.86</td>\n",
       "      <td>3.35</td>\n",
       "      <td>0.00</td>\n",
       "      <td>12.00</td>\n",
       "      <td>14.00</td>\n",
       "      <td>16.97</td>\n",
       "      <td>24.28</td>\n",
       "    </tr>\n",
       "    <tr>\n",
       "      <th>rougher.input.floatbank10_xanthate</th>\n",
       "      <td>5290.00</td>\n",
       "      <td>6.47</td>\n",
       "      <td>1.07</td>\n",
       "      <td>0.00</td>\n",
       "      <td>6.00</td>\n",
       "      <td>6.50</td>\n",
       "      <td>7.09</td>\n",
       "      <td>8.91</td>\n",
       "    </tr>\n",
       "    <tr>\n",
       "      <th>rougher.input.floatbank11_sulfate</th>\n",
       "      <td>5282.00</td>\n",
       "      <td>13.92</td>\n",
       "      <td>3.22</td>\n",
       "      <td>0.00</td>\n",
       "      <td>12.00</td>\n",
       "      <td>14.00</td>\n",
       "      <td>16.96</td>\n",
       "      <td>24.28</td>\n",
       "    </tr>\n",
       "    <tr>\n",
       "      <th>rougher.input.floatbank11_xanthate</th>\n",
       "      <td>5265.00</td>\n",
       "      <td>6.51</td>\n",
       "      <td>0.89</td>\n",
       "      <td>0.01</td>\n",
       "      <td>6.00</td>\n",
       "      <td>6.50</td>\n",
       "      <td>7.09</td>\n",
       "      <td>8.62</td>\n",
       "    </tr>\n",
       "    <tr>\n",
       "      <th>rougher.state.floatbank10_a_air</th>\n",
       "      <td>5290.00</td>\n",
       "      <td>1053.40</td>\n",
       "      <td>121.14</td>\n",
       "      <td>-0.04</td>\n",
       "      <td>999.21</td>\n",
       "      <td>1000.47</td>\n",
       "      <td>1006.25</td>\n",
       "      <td>1423.27</td>\n",
       "    </tr>\n",
       "    <tr>\n",
       "      <th>rougher.state.floatbank10_a_level</th>\n",
       "      <td>5290.00</td>\n",
       "      <td>-395.73</td>\n",
       "      <td>91.09</td>\n",
       "      <td>-657.95</td>\n",
       "      <td>-499.92</td>\n",
       "      <td>-399.69</td>\n",
       "      <td>-300.06</td>\n",
       "      <td>-273.78</td>\n",
       "    </tr>\n",
       "    <tr>\n",
       "      <th>rougher.state.floatbank10_b_air</th>\n",
       "      <td>5290.00</td>\n",
       "      <td>1318.93</td>\n",
       "      <td>156.45</td>\n",
       "      <td>-0.72</td>\n",
       "      <td>1200.87</td>\n",
       "      <td>1302.25</td>\n",
       "      <td>1433.96</td>\n",
       "      <td>1706.64</td>\n",
       "    </tr>\n",
       "    <tr>\n",
       "      <th>rougher.state.floatbank10_b_level</th>\n",
       "      <td>5290.00</td>\n",
       "      <td>-475.24</td>\n",
       "      <td>45.65</td>\n",
       "      <td>-650.25</td>\n",
       "      <td>-500.26</td>\n",
       "      <td>-499.84</td>\n",
       "      <td>-450.75</td>\n",
       "      <td>-298.20</td>\n",
       "    </tr>\n",
       "    <tr>\n",
       "      <th>rougher.state.floatbank10_c_air</th>\n",
       "      <td>5290.00</td>\n",
       "      <td>1301.60</td>\n",
       "      <td>171.27</td>\n",
       "      <td>-0.06</td>\n",
       "      <td>1199.65</td>\n",
       "      <td>1300.20</td>\n",
       "      <td>1406.59</td>\n",
       "      <td>1731.02</td>\n",
       "    </tr>\n",
       "    <tr>\n",
       "      <th>rougher.state.floatbank10_c_level</th>\n",
       "      <td>5290.00</td>\n",
       "      <td>-474.84</td>\n",
       "      <td>45.86</td>\n",
       "      <td>-647.54</td>\n",
       "      <td>-500.23</td>\n",
       "      <td>-499.78</td>\n",
       "      <td>-451.15</td>\n",
       "      <td>-298.04</td>\n",
       "    </tr>\n",
       "    <tr>\n",
       "      <th>rougher.state.floatbank10_d_air</th>\n",
       "      <td>5290.00</td>\n",
       "      <td>1214.85</td>\n",
       "      <td>185.76</td>\n",
       "      <td>-0.99</td>\n",
       "      <td>1093.37</td>\n",
       "      <td>1207.01</td>\n",
       "      <td>1391.50</td>\n",
       "      <td>1775.22</td>\n",
       "    </tr>\n",
       "    <tr>\n",
       "      <th>rougher.state.floatbank10_d_level</th>\n",
       "      <td>5290.00</td>\n",
       "      <td>-475.68</td>\n",
       "      <td>47.84</td>\n",
       "      <td>-648.39</td>\n",
       "      <td>-500.44</td>\n",
       "      <td>-499.69</td>\n",
       "      <td>-452.48</td>\n",
       "      <td>-76.40</td>\n",
       "    </tr>\n",
       "    <tr>\n",
       "      <th>rougher.state.floatbank10_e_air</th>\n",
       "      <td>5290.00</td>\n",
       "      <td>1056.65</td>\n",
       "      <td>131.54</td>\n",
       "      <td>-1.98</td>\n",
       "      <td>999.36</td>\n",
       "      <td>1047.50</td>\n",
       "      <td>1101.37</td>\n",
       "      <td>1467.18</td>\n",
       "    </tr>\n",
       "    <tr>\n",
       "      <th>rougher.state.floatbank10_e_level</th>\n",
       "      <td>5290.00</td>\n",
       "      <td>-469.03</td>\n",
       "      <td>59.33</td>\n",
       "      <td>-649.27</td>\n",
       "      <td>-500.19</td>\n",
       "      <td>-499.77</td>\n",
       "      <td>-450.96</td>\n",
       "      <td>-139.75</td>\n",
       "    </tr>\n",
       "    <tr>\n",
       "      <th>rougher.state.floatbank10_f_air</th>\n",
       "      <td>5290.00</td>\n",
       "      <td>997.95</td>\n",
       "      <td>128.22</td>\n",
       "      <td>-2.59</td>\n",
       "      <td>901.02</td>\n",
       "      <td>999.44</td>\n",
       "      <td>1050.43</td>\n",
       "      <td>1476.59</td>\n",
       "    </tr>\n",
       "    <tr>\n",
       "      <th>rougher.state.floatbank10_f_level</th>\n",
       "      <td>5290.00</td>\n",
       "      <td>-470.48</td>\n",
       "      <td>60.76</td>\n",
       "      <td>-649.95</td>\n",
       "      <td>-500.62</td>\n",
       "      <td>-499.68</td>\n",
       "      <td>-451.99</td>\n",
       "      <td>-249.80</td>\n",
       "    </tr>\n",
       "    <tr>\n",
       "      <th>secondary_cleaner.state.floatbank2_a_air</th>\n",
       "      <td>5287.00</td>\n",
       "      <td>26.31</td>\n",
       "      <td>3.43</td>\n",
       "      <td>0.21</td>\n",
       "      <td>24.94</td>\n",
       "      <td>26.91</td>\n",
       "      <td>28.09</td>\n",
       "      <td>32.14</td>\n",
       "    </tr>\n",
       "    <tr>\n",
       "      <th>secondary_cleaner.state.floatbank2_a_level</th>\n",
       "      <td>5290.00</td>\n",
       "      <td>-502.75</td>\n",
       "      <td>28.76</td>\n",
       "      <td>-784.09</td>\n",
       "      <td>-500.21</td>\n",
       "      <td>-500.00</td>\n",
       "      <td>-499.79</td>\n",
       "      <td>-300.34</td>\n",
       "    </tr>\n",
       "    <tr>\n",
       "      <th>secondary_cleaner.state.floatbank2_b_air</th>\n",
       "      <td>5288.00</td>\n",
       "      <td>21.95</td>\n",
       "      <td>4.35</td>\n",
       "      <td>0.01</td>\n",
       "      <td>20.00</td>\n",
       "      <td>22.94</td>\n",
       "      <td>24.99</td>\n",
       "      <td>28.17</td>\n",
       "    </tr>\n",
       "    <tr>\n",
       "      <th>secondary_cleaner.state.floatbank2_b_level</th>\n",
       "      <td>5290.00</td>\n",
       "      <td>-501.99</td>\n",
       "      <td>34.58</td>\n",
       "      <td>-797.78</td>\n",
       "      <td>-500.22</td>\n",
       "      <td>-500.02</td>\n",
       "      <td>-499.83</td>\n",
       "      <td>-212.00</td>\n",
       "    </tr>\n",
       "    <tr>\n",
       "      <th>secondary_cleaner.state.floatbank3_a_air</th>\n",
       "      <td>5281.00</td>\n",
       "      <td>25.40</td>\n",
       "      <td>6.53</td>\n",
       "      <td>0.00</td>\n",
       "      <td>22.98</td>\n",
       "      <td>25.01</td>\n",
       "      <td>30.00</td>\n",
       "      <td>40.04</td>\n",
       "    </tr>\n",
       "    <tr>\n",
       "      <th>secondary_cleaner.state.floatbank3_a_level</th>\n",
       "      <td>5290.00</td>\n",
       "      <td>-507.49</td>\n",
       "      <td>47.62</td>\n",
       "      <td>-799.76</td>\n",
       "      <td>-500.30</td>\n",
       "      <td>-500.03</td>\n",
       "      <td>-499.78</td>\n",
       "      <td>-313.87</td>\n",
       "    </tr>\n",
       "    <tr>\n",
       "      <th>secondary_cleaner.state.floatbank3_b_air</th>\n",
       "      <td>5290.00</td>\n",
       "      <td>20.98</td>\n",
       "      <td>6.74</td>\n",
       "      <td>0.00</td>\n",
       "      <td>17.97</td>\n",
       "      <td>21.00</td>\n",
       "      <td>26.98</td>\n",
       "      <td>32.04</td>\n",
       "    </tr>\n",
       "    <tr>\n",
       "      <th>secondary_cleaner.state.floatbank3_b_level</th>\n",
       "      <td>5290.00</td>\n",
       "      <td>-506.63</td>\n",
       "      <td>44.53</td>\n",
       "      <td>-809.33</td>\n",
       "      <td>-500.15</td>\n",
       "      <td>-500.01</td>\n",
       "      <td>-499.89</td>\n",
       "      <td>-202.28</td>\n",
       "    </tr>\n",
       "    <tr>\n",
       "      <th>secondary_cleaner.state.floatbank4_a_air</th>\n",
       "      <td>5290.00</td>\n",
       "      <td>16.32</td>\n",
       "      <td>3.49</td>\n",
       "      <td>0.00</td>\n",
       "      <td>14.04</td>\n",
       "      <td>17.01</td>\n",
       "      <td>18.04</td>\n",
       "      <td>30.05</td>\n",
       "    </tr>\n",
       "    <tr>\n",
       "      <th>secondary_cleaner.state.floatbank4_a_level</th>\n",
       "      <td>5290.00</td>\n",
       "      <td>-505.14</td>\n",
       "      <td>31.43</td>\n",
       "      <td>-799.80</td>\n",
       "      <td>-500.87</td>\n",
       "      <td>-500.12</td>\n",
       "      <td>-499.40</td>\n",
       "      <td>-401.57</td>\n",
       "    </tr>\n",
       "    <tr>\n",
       "      <th>secondary_cleaner.state.floatbank4_b_air</th>\n",
       "      <td>5290.00</td>\n",
       "      <td>13.74</td>\n",
       "      <td>3.43</td>\n",
       "      <td>0.00</td>\n",
       "      <td>12.03</td>\n",
       "      <td>14.96</td>\n",
       "      <td>15.96</td>\n",
       "      <td>31.27</td>\n",
       "    </tr>\n",
       "    <tr>\n",
       "      <th>secondary_cleaner.state.floatbank4_b_level</th>\n",
       "      <td>5290.00</td>\n",
       "      <td>-463.35</td>\n",
       "      <td>86.19</td>\n",
       "      <td>-800.84</td>\n",
       "      <td>-500.32</td>\n",
       "      <td>-499.58</td>\n",
       "      <td>-400.93</td>\n",
       "      <td>-6.51</td>\n",
       "    </tr>\n",
       "    <tr>\n",
       "      <th>secondary_cleaner.state.floatbank5_a_air</th>\n",
       "      <td>5290.00</td>\n",
       "      <td>12.80</td>\n",
       "      <td>3.03</td>\n",
       "      <td>0.07</td>\n",
       "      <td>10.91</td>\n",
       "      <td>12.95</td>\n",
       "      <td>15.10</td>\n",
       "      <td>25.26</td>\n",
       "    </tr>\n",
       "    <tr>\n",
       "      <th>secondary_cleaner.state.floatbank5_a_level</th>\n",
       "      <td>5290.00</td>\n",
       "      <td>-501.33</td>\n",
       "      <td>17.95</td>\n",
       "      <td>-797.32</td>\n",
       "      <td>-500.73</td>\n",
       "      <td>-499.99</td>\n",
       "      <td>-499.28</td>\n",
       "      <td>-244.48</td>\n",
       "    </tr>\n",
       "    <tr>\n",
       "      <th>secondary_cleaner.state.floatbank5_b_air</th>\n",
       "      <td>5290.00</td>\n",
       "      <td>9.88</td>\n",
       "      <td>2.87</td>\n",
       "      <td>0.53</td>\n",
       "      <td>8.04</td>\n",
       "      <td>10.00</td>\n",
       "      <td>12.00</td>\n",
       "      <td>14.09</td>\n",
       "    </tr>\n",
       "    <tr>\n",
       "      <th>secondary_cleaner.state.floatbank5_b_level</th>\n",
       "      <td>5290.00</td>\n",
       "      <td>-495.66</td>\n",
       "      <td>34.54</td>\n",
       "      <td>-800.22</td>\n",
       "      <td>-500.19</td>\n",
       "      <td>-499.99</td>\n",
       "      <td>-499.72</td>\n",
       "      <td>-137.74</td>\n",
       "    </tr>\n",
       "    <tr>\n",
       "      <th>secondary_cleaner.state.floatbank6_a_air</th>\n",
       "      <td>5290.00</td>\n",
       "      <td>17.30</td>\n",
       "      <td>4.54</td>\n",
       "      <td>-0.08</td>\n",
       "      <td>14.00</td>\n",
       "      <td>16.01</td>\n",
       "      <td>21.02</td>\n",
       "      <td>26.71</td>\n",
       "    </tr>\n",
       "    <tr>\n",
       "      <th>secondary_cleaner.state.floatbank6_a_level</th>\n",
       "      <td>5290.00</td>\n",
       "      <td>-501.79</td>\n",
       "      <td>39.04</td>\n",
       "      <td>-809.74</td>\n",
       "      <td>-500.69</td>\n",
       "      <td>-500.01</td>\n",
       "      <td>-499.37</td>\n",
       "      <td>-123.31</td>\n",
       "    </tr>\n",
       "  </tbody>\n",
       "</table>\n",
       "</div>"
      ],
      "text/plain": [
       "                                             count    mean    std     min  \\\n",
       "primary_cleaner.input.sulfate              5286.00  174.84  43.03    2.57   \n",
       "primary_cleaner.input.depressant           5285.00    8.68   3.07    0.00   \n",
       "primary_cleaner.input.feed_size            5290.00    7.27   0.61    5.65   \n",
       "primary_cleaner.input.xanthate             5286.00    1.38   0.64    0.00   \n",
       "primary_cleaner.state.floatbank8_a_air     5290.00 1539.49 116.80    0.00   \n",
       "primary_cleaner.state.floatbank8_a_level   5290.00 -497.67  19.95 -795.32   \n",
       "primary_cleaner.state.floatbank8_b_air     5290.00 1545.17 122.22    0.00   \n",
       "primary_cleaner.state.floatbank8_b_level   5290.00 -500.27  32.97 -800.00   \n",
       "primary_cleaner.state.floatbank8_c_air     5290.00 1527.27 122.54    0.00   \n",
       "primary_cleaner.state.floatbank8_c_level   5290.00 -498.33  21.96 -799.96   \n",
       "primary_cleaner.state.floatbank8_d_air     5290.00 1544.84 124.77    0.00   \n",
       "primary_cleaner.state.floatbank8_d_level   5290.00 -500.20  31.05 -799.79   \n",
       "rougher.input.feed_ag                      5290.00    9.37   1.93    0.57   \n",
       "rougher.input.feed_pb                      5290.00    3.80   0.95    0.27   \n",
       "rougher.input.feed_rate                    5287.00  489.80 108.04    0.00   \n",
       "rougher.input.feed_size                    5289.00   55.95  19.08    0.05   \n",
       "rougher.input.feed_sol                     5269.00   37.72   5.49    1.39   \n",
       "rougher.input.feed_au                      5290.00    9.33   1.62    0.57   \n",
       "rougher.input.floatbank10_sulfate          5285.00   13.86   3.35    0.00   \n",
       "rougher.input.floatbank10_xanthate         5290.00    6.47   1.07    0.00   \n",
       "rougher.input.floatbank11_sulfate          5282.00   13.92   3.22    0.00   \n",
       "rougher.input.floatbank11_xanthate         5265.00    6.51   0.89    0.01   \n",
       "rougher.state.floatbank10_a_air            5290.00 1053.40 121.14   -0.04   \n",
       "rougher.state.floatbank10_a_level          5290.00 -395.73  91.09 -657.95   \n",
       "rougher.state.floatbank10_b_air            5290.00 1318.93 156.45   -0.72   \n",
       "rougher.state.floatbank10_b_level          5290.00 -475.24  45.65 -650.25   \n",
       "rougher.state.floatbank10_c_air            5290.00 1301.60 171.27   -0.06   \n",
       "rougher.state.floatbank10_c_level          5290.00 -474.84  45.86 -647.54   \n",
       "rougher.state.floatbank10_d_air            5290.00 1214.85 185.76   -0.99   \n",
       "rougher.state.floatbank10_d_level          5290.00 -475.68  47.84 -648.39   \n",
       "rougher.state.floatbank10_e_air            5290.00 1056.65 131.54   -1.98   \n",
       "rougher.state.floatbank10_e_level          5290.00 -469.03  59.33 -649.27   \n",
       "rougher.state.floatbank10_f_air            5290.00  997.95 128.22   -2.59   \n",
       "rougher.state.floatbank10_f_level          5290.00 -470.48  60.76 -649.95   \n",
       "secondary_cleaner.state.floatbank2_a_air   5287.00   26.31   3.43    0.21   \n",
       "secondary_cleaner.state.floatbank2_a_level 5290.00 -502.75  28.76 -784.09   \n",
       "secondary_cleaner.state.floatbank2_b_air   5288.00   21.95   4.35    0.01   \n",
       "secondary_cleaner.state.floatbank2_b_level 5290.00 -501.99  34.58 -797.78   \n",
       "secondary_cleaner.state.floatbank3_a_air   5281.00   25.40   6.53    0.00   \n",
       "secondary_cleaner.state.floatbank3_a_level 5290.00 -507.49  47.62 -799.76   \n",
       "secondary_cleaner.state.floatbank3_b_air   5290.00   20.98   6.74    0.00   \n",
       "secondary_cleaner.state.floatbank3_b_level 5290.00 -506.63  44.53 -809.33   \n",
       "secondary_cleaner.state.floatbank4_a_air   5290.00   16.32   3.49    0.00   \n",
       "secondary_cleaner.state.floatbank4_a_level 5290.00 -505.14  31.43 -799.80   \n",
       "secondary_cleaner.state.floatbank4_b_air   5290.00   13.74   3.43    0.00   \n",
       "secondary_cleaner.state.floatbank4_b_level 5290.00 -463.35  86.19 -800.84   \n",
       "secondary_cleaner.state.floatbank5_a_air   5290.00   12.80   3.03    0.07   \n",
       "secondary_cleaner.state.floatbank5_a_level 5290.00 -501.33  17.95 -797.32   \n",
       "secondary_cleaner.state.floatbank5_b_air   5290.00    9.88   2.87    0.53   \n",
       "secondary_cleaner.state.floatbank5_b_level 5290.00 -495.66  34.54 -800.22   \n",
       "secondary_cleaner.state.floatbank6_a_air   5290.00   17.30   4.54   -0.08   \n",
       "secondary_cleaner.state.floatbank6_a_level 5290.00 -501.79  39.04 -809.74   \n",
       "\n",
       "                                               25%     50%     75%     max  \n",
       "primary_cleaner.input.sulfate               147.12  177.83  208.13  265.98  \n",
       "primary_cleaner.input.depressant              6.49    8.05   10.03   40.00  \n",
       "primary_cleaner.input.feed_size               6.89    7.25    7.60   15.50  \n",
       "primary_cleaner.input.xanthate                0.91    1.20    1.80    4.10  \n",
       "primary_cleaner.state.floatbank8_a_air     1498.94 1585.13 1602.08 2103.10  \n",
       "primary_cleaner.state.floatbank8_a_level   -500.36 -499.97 -499.57  -57.20  \n",
       "primary_cleaner.state.floatbank8_b_air     1498.97 1595.62 1602.32 1813.08  \n",
       "primary_cleaner.state.floatbank8_b_level   -500.70 -500.03 -499.29 -142.53  \n",
       "primary_cleaner.state.floatbank8_c_air     1473.23 1549.59 1601.14 1715.05  \n",
       "primary_cleaner.state.floatbank8_c_level   -501.02 -500.02 -498.99 -150.94  \n",
       "primary_cleaner.state.floatbank8_d_air     1499.48 1594.58 1600.96 1913.26  \n",
       "primary_cleaner.state.floatbank8_d_level   -500.45 -500.02 -499.61 -158.95  \n",
       "rougher.input.feed_ag                         8.11    9.76   10.65   14.41  \n",
       "rougher.input.feed_pb                         3.24    3.74    4.28    6.91  \n",
       "rougher.input.feed_rate                     407.02  499.05  575.31  707.36  \n",
       "rougher.input.feed_size                      43.91   50.84   62.43  392.49  \n",
       "rougher.input.feed_sol                       34.51   37.98   41.64   53.48  \n",
       "rougher.input.feed_au                         8.21    9.59   10.46   13.73  \n",
       "rougher.input.floatbank10_sulfate            12.00   14.00   16.97   24.28  \n",
       "rougher.input.floatbank10_xanthate            6.00    6.50    7.09    8.91  \n",
       "rougher.input.floatbank11_sulfate            12.00   14.00   16.96   24.28  \n",
       "rougher.input.floatbank11_xanthate            6.00    6.50    7.09    8.62  \n",
       "rougher.state.floatbank10_a_air             999.21 1000.47 1006.25 1423.27  \n",
       "rougher.state.floatbank10_a_level          -499.92 -399.69 -300.06 -273.78  \n",
       "rougher.state.floatbank10_b_air            1200.87 1302.25 1433.96 1706.64  \n",
       "rougher.state.floatbank10_b_level          -500.26 -499.84 -450.75 -298.20  \n",
       "rougher.state.floatbank10_c_air            1199.65 1300.20 1406.59 1731.02  \n",
       "rougher.state.floatbank10_c_level          -500.23 -499.78 -451.15 -298.04  \n",
       "rougher.state.floatbank10_d_air            1093.37 1207.01 1391.50 1775.22  \n",
       "rougher.state.floatbank10_d_level          -500.44 -499.69 -452.48  -76.40  \n",
       "rougher.state.floatbank10_e_air             999.36 1047.50 1101.37 1467.18  \n",
       "rougher.state.floatbank10_e_level          -500.19 -499.77 -450.96 -139.75  \n",
       "rougher.state.floatbank10_f_air             901.02  999.44 1050.43 1476.59  \n",
       "rougher.state.floatbank10_f_level          -500.62 -499.68 -451.99 -249.80  \n",
       "secondary_cleaner.state.floatbank2_a_air     24.94   26.91   28.09   32.14  \n",
       "secondary_cleaner.state.floatbank2_a_level -500.21 -500.00 -499.79 -300.34  \n",
       "secondary_cleaner.state.floatbank2_b_air     20.00   22.94   24.99   28.17  \n",
       "secondary_cleaner.state.floatbank2_b_level -500.22 -500.02 -499.83 -212.00  \n",
       "secondary_cleaner.state.floatbank3_a_air     22.98   25.01   30.00   40.04  \n",
       "secondary_cleaner.state.floatbank3_a_level -500.30 -500.03 -499.78 -313.87  \n",
       "secondary_cleaner.state.floatbank3_b_air     17.97   21.00   26.98   32.04  \n",
       "secondary_cleaner.state.floatbank3_b_level -500.15 -500.01 -499.89 -202.28  \n",
       "secondary_cleaner.state.floatbank4_a_air     14.04   17.01   18.04   30.05  \n",
       "secondary_cleaner.state.floatbank4_a_level -500.87 -500.12 -499.40 -401.57  \n",
       "secondary_cleaner.state.floatbank4_b_air     12.03   14.96   15.96   31.27  \n",
       "secondary_cleaner.state.floatbank4_b_level -500.32 -499.58 -400.93   -6.51  \n",
       "secondary_cleaner.state.floatbank5_a_air     10.91   12.95   15.10   25.26  \n",
       "secondary_cleaner.state.floatbank5_a_level -500.73 -499.99 -499.28 -244.48  \n",
       "secondary_cleaner.state.floatbank5_b_air      8.04   10.00   12.00   14.09  \n",
       "secondary_cleaner.state.floatbank5_b_level -500.19 -499.99 -499.72 -137.74  \n",
       "secondary_cleaner.state.floatbank6_a_air     14.00   16.01   21.02   26.71  \n",
       "secondary_cleaner.state.floatbank6_a_level -500.69 -500.01 -499.37 -123.31  "
      ]
     },
     "metadata": {},
     "output_type": "display_data"
    },
    {
     "name": "stdout",
     "output_type": "stream",
     "text": [
      "\n"
     ]
    }
   ],
   "source": [
    "## Получим более детальную инфо по каждой выборке\n",
    "for dataset in [full, train, test]:\n",
    "    display(dataset.head())\n",
    "    print()\n",
    "    print(dataset.info())\n",
    "    print('Количество дубликатов =', dataset.duplicated().sum())\n",
    "    print()\n",
    "    display(dataset.describe().T)\n",
    "    print()"
   ]
  },
  {
   "cell_type": "markdown",
   "metadata": {},
   "source": [
    "**Вывод**\n",
    "1. Открыли выборки:\n",
    "Полный датафрейм имеет 19439 строк в 87 столбцах\n",
    "Обучающий датафрейм имеет 14149 строк в 87 столбцах\n",
    "Тестовый датафрейм имеет 5290 строк в 53 столбцах.\n",
    "Тестовая выборка содержит на 34 столбца меньше, чем полная и обучающая;\n",
    "2. Необходимо поменять тип данных в столбце date с object на datetime. Произведем замену в разделе по предобработке данных;\n",
    "3. Пропуски присутствуют в каждой выборке;\n",
    "4. Явных дубликатов нет;\n",
    "5. Целевые признаки - final.output.recovery и rougher.output.recovery.\n",
    "\n",
    "\n"
   ]
  },
  {
   "cell_type": "markdown",
   "metadata": {},
   "source": [
    "### Проверка, что эффективность обогащения рассчитана правильно"
   ]
  },
  {
   "cell_type": "markdown",
   "metadata": {},
   "source": [
    "Эффективность обогащения рассчитывается по формуле:\n",
    "(C * (F - T)) / (F * (C - T)) * 100, где:\n",
    "* C — доля золота в концентрате после флотации/очистки;\n",
    "* F — доля золота в сырье/концентрате до флотации/очистки;\n",
    "* T — доля золота в отвальных хвостах после флотации/очистки.\n",
    "\n",
    "Для прогноза коэффициента нужно найти долю золота в концентратах и хвостах. Причём важен не только финальный продукт, но и черновой концентрат.\n"
   ]
  },
  {
   "cell_type": "code",
   "execution_count": 5,
   "metadata": {},
   "outputs": [
    {
     "name": "stdout",
     "output_type": "stream",
     "text": [
      "MAE между  расчётом и значением признака= 9.73512347450521e-15\n"
     ]
    }
   ],
   "source": [
    "C = train['rougher.output.concentrate_au']\n",
    "F = train['rougher.input.feed_au']\n",
    "T = train['rougher.output.tail_au']\n",
    "recovery = ((C * (F - T)) / (F * (C - T))) * 100\n",
    "\n",
    "MAE = mean_absolute_error(train['rougher.output.recovery'],recovery)\n",
    "print(f'MAE между  расчётом и значением признака= {MAE}')"
   ]
  },
  {
   "cell_type": "markdown",
   "metadata": {},
   "source": [
    "**Вывод**\n",
    "\n",
    "Значение MAE крайне мало (9.735 × 10 в степени минус 15), следовательно расчеты в обучающей выборке верны."
   ]
  },
  {
   "cell_type": "markdown",
   "metadata": {},
   "source": [
    "### Анализ признаков, недоступных в тестовой выборке"
   ]
  },
  {
   "cell_type": "code",
   "execution_count": 6,
   "metadata": {},
   "outputs": [
    {
     "name": "stdout",
     "output_type": "stream",
     "text": [
      "Количество признаков, недоступных в тестовой выборке: 34\n"
     ]
    },
    {
     "data": {
      "text/plain": [
       "['final.output.concentrate_ag',\n",
       " 'final.output.concentrate_pb',\n",
       " 'final.output.concentrate_sol',\n",
       " 'final.output.concentrate_au',\n",
       " 'final.output.recovery',\n",
       " 'final.output.tail_ag',\n",
       " 'final.output.tail_pb',\n",
       " 'final.output.tail_sol',\n",
       " 'final.output.tail_au',\n",
       " 'primary_cleaner.output.concentrate_ag',\n",
       " 'primary_cleaner.output.concentrate_pb',\n",
       " 'primary_cleaner.output.concentrate_sol',\n",
       " 'primary_cleaner.output.concentrate_au',\n",
       " 'primary_cleaner.output.tail_ag',\n",
       " 'primary_cleaner.output.tail_pb',\n",
       " 'primary_cleaner.output.tail_sol',\n",
       " 'primary_cleaner.output.tail_au',\n",
       " 'rougher.calculation.sulfate_to_au_concentrate',\n",
       " 'rougher.calculation.floatbank10_sulfate_to_au_feed',\n",
       " 'rougher.calculation.floatbank11_sulfate_to_au_feed',\n",
       " 'rougher.calculation.au_pb_ratio',\n",
       " 'rougher.output.concentrate_ag',\n",
       " 'rougher.output.concentrate_pb',\n",
       " 'rougher.output.concentrate_sol',\n",
       " 'rougher.output.concentrate_au',\n",
       " 'rougher.output.recovery',\n",
       " 'rougher.output.tail_ag',\n",
       " 'rougher.output.tail_pb',\n",
       " 'rougher.output.tail_sol',\n",
       " 'rougher.output.tail_au',\n",
       " 'secondary_cleaner.output.tail_ag',\n",
       " 'secondary_cleaner.output.tail_pb',\n",
       " 'secondary_cleaner.output.tail_sol',\n",
       " 'secondary_cleaner.output.tail_au']"
      ]
     },
     "execution_count": 6,
     "metadata": {},
     "output_type": "execute_result"
    }
   ],
   "source": [
    "# Напишем функцию, формирующую недостающие признаки в тестовой выборке\n",
    "missed_signs = []\n",
    "for i in train.columns:\n",
    "    if i not in test.columns:\n",
    "        missed_signs.append(i)\n",
    "print(f'Количество признаков, недоступных в тестовой выборке: {len(missed_signs)}')\n",
    "missed_signs\n"
   ]
  },
  {
   "cell_type": "markdown",
   "metadata": {},
   "source": [
    "**Вывод**\n",
    "\n",
    "- В тестовой выборке отсутствуют 34 признака - 30 типа output( параметры продукта) и 4 типа calculation (расчётные характеристики. По условию задачи \"Некоторые параметры недоступны, потому что замеряются и/или рассчитываются значительно позже. Из-за этого в тестовой выборке отсутствуют некоторые признаки, которые могут быть в обучающей.\";\n",
    "- для расчета метрики качества необходимо в тестовую выборку добавить целевые признаки (final.output.recovery и rougher.output.recovery). Добавим их на этапе предобработки."
   ]
  },
  {
   "cell_type": "markdown",
   "metadata": {},
   "source": [
    "### Предобработка данных"
   ]
  },
  {
   "cell_type": "markdown",
   "metadata": {},
   "source": [
    "Изменим тип данных в столбце date"
   ]
  },
  {
   "cell_type": "code",
   "execution_count": 7,
   "metadata": {},
   "outputs": [
    {
     "data": {
      "text/plain": [
       "dtype('<M8[ns]')"
      ]
     },
     "execution_count": 7,
     "metadata": {},
     "output_type": "execute_result"
    }
   ],
   "source": [
    "full['date'] = pd.to_datetime(full['date'], format='%Y-%m-%d %H:%M:%S')\n",
    "train['date'] = pd.to_datetime(train['date'], format='%Y-%m-%d %H:%M:%S')\n",
    "test['date'] = pd.to_datetime(test['date'], format='%Y-%m-%d %H:%M:%S')\n",
    "full.dtypes['date']"
   ]
  },
  {
   "cell_type": "markdown",
   "metadata": {},
   "source": [
    "Добавим недостающие целевые признаки (final.output.recovery и rougher.output.recovery) в тестовую выборку.\n",
    "Для этого используем метод merge, по признаку date."
   ]
  },
  {
   "cell_type": "code",
   "execution_count": 8,
   "metadata": {},
   "outputs": [
    {
     "data": {
      "text/plain": [
       "(5290, 55)"
      ]
     },
     "execution_count": 8,
     "metadata": {},
     "output_type": "execute_result"
    }
   ],
   "source": [
    "test = test.merge(full[['date','final.output.recovery', 'rougher.output.recovery']], on='date', how='left')\n",
    "test.shape"
   ]
  },
  {
   "cell_type": "markdown",
   "metadata": {},
   "source": [
    "Исследуем пропуски в данных"
   ]
  },
  {
   "cell_type": "code",
   "execution_count": 9,
   "metadata": {},
   "outputs": [
    {
     "name": "stdout",
     "output_type": "stream",
     "text": [
      "В исходном датасете обнаружены пропуски:\n"
     ]
    },
    {
     "data": {
      "text/html": [
       "<div>\n",
       "<style scoped>\n",
       "    .dataframe tbody tr th:only-of-type {\n",
       "        vertical-align: middle;\n",
       "    }\n",
       "\n",
       "    .dataframe tbody tr th {\n",
       "        vertical-align: top;\n",
       "    }\n",
       "\n",
       "    .dataframe thead th {\n",
       "        text-align: right;\n",
       "    }\n",
       "</style>\n",
       "<table border=\"1\" class=\"dataframe\">\n",
       "  <thead>\n",
       "    <tr style=\"text-align: right;\">\n",
       "      <th></th>\n",
       "      <th>Пропуски</th>\n",
       "    </tr>\n",
       "  </thead>\n",
       "  <tbody>\n",
       "    <tr>\n",
       "      <th>final.output.concentrate_ag</th>\n",
       "      <td>1</td>\n",
       "    </tr>\n",
       "    <tr>\n",
       "      <th>final.output.concentrate_pb</th>\n",
       "      <td>1</td>\n",
       "    </tr>\n",
       "    <tr>\n",
       "      <th>final.output.concentrate_sol</th>\n",
       "      <td>211</td>\n",
       "    </tr>\n",
       "    <tr>\n",
       "      <th>final.output.tail_ag</th>\n",
       "      <td>1</td>\n",
       "    </tr>\n",
       "    <tr>\n",
       "      <th>final.output.tail_pb</th>\n",
       "      <td>101</td>\n",
       "    </tr>\n",
       "    <tr>\n",
       "      <th>...</th>\n",
       "      <td>...</td>\n",
       "    </tr>\n",
       "    <tr>\n",
       "      <th>secondary_cleaner.state.floatbank5_a_level</th>\n",
       "      <td>1</td>\n",
       "    </tr>\n",
       "    <tr>\n",
       "      <th>secondary_cleaner.state.floatbank5_b_air</th>\n",
       "      <td>1</td>\n",
       "    </tr>\n",
       "    <tr>\n",
       "      <th>secondary_cleaner.state.floatbank5_b_level</th>\n",
       "      <td>1</td>\n",
       "    </tr>\n",
       "    <tr>\n",
       "      <th>secondary_cleaner.state.floatbank6_a_air</th>\n",
       "      <td>2</td>\n",
       "    </tr>\n",
       "    <tr>\n",
       "      <th>secondary_cleaner.state.floatbank6_a_level</th>\n",
       "      <td>1</td>\n",
       "    </tr>\n",
       "  </tbody>\n",
       "</table>\n",
       "<p>63 rows × 1 columns</p>\n",
       "</div>"
      ],
      "text/plain": [
       "                                            Пропуски\n",
       "final.output.concentrate_ag                        1\n",
       "final.output.concentrate_pb                        1\n",
       "final.output.concentrate_sol                     211\n",
       "final.output.tail_ag                               1\n",
       "final.output.tail_pb                             101\n",
       "...                                              ...\n",
       "secondary_cleaner.state.floatbank5_a_level         1\n",
       "secondary_cleaner.state.floatbank5_b_air           1\n",
       "secondary_cleaner.state.floatbank5_b_level         1\n",
       "secondary_cleaner.state.floatbank6_a_air           2\n",
       "secondary_cleaner.state.floatbank6_a_level         1\n",
       "\n",
       "[63 rows x 1 columns]"
      ]
     },
     "metadata": {},
     "output_type": "display_data"
    },
    {
     "name": "stdout",
     "output_type": "stream",
     "text": [
      "В обучающем датасете обнаружены  пропуски:\n"
     ]
    },
    {
     "data": {
      "text/html": [
       "<div>\n",
       "<style scoped>\n",
       "    .dataframe tbody tr th:only-of-type {\n",
       "        vertical-align: middle;\n",
       "    }\n",
       "\n",
       "    .dataframe tbody tr th {\n",
       "        vertical-align: top;\n",
       "    }\n",
       "\n",
       "    .dataframe thead th {\n",
       "        text-align: right;\n",
       "    }\n",
       "</style>\n",
       "<table border=\"1\" class=\"dataframe\">\n",
       "  <thead>\n",
       "    <tr style=\"text-align: right;\">\n",
       "      <th></th>\n",
       "      <th>Пропуски</th>\n",
       "    </tr>\n",
       "  </thead>\n",
       "  <tbody>\n",
       "    <tr>\n",
       "      <th>final.output.concentrate_ag</th>\n",
       "      <td>1</td>\n",
       "    </tr>\n",
       "    <tr>\n",
       "      <th>final.output.concentrate_pb</th>\n",
       "      <td>1</td>\n",
       "    </tr>\n",
       "    <tr>\n",
       "      <th>final.output.concentrate_sol</th>\n",
       "      <td>211</td>\n",
       "    </tr>\n",
       "    <tr>\n",
       "      <th>final.output.tail_pb</th>\n",
       "      <td>100</td>\n",
       "    </tr>\n",
       "    <tr>\n",
       "      <th>final.output.tail_sol</th>\n",
       "      <td>5</td>\n",
       "    </tr>\n",
       "    <tr>\n",
       "      <th>...</th>\n",
       "      <td>...</td>\n",
       "    </tr>\n",
       "    <tr>\n",
       "      <th>secondary_cleaner.state.floatbank5_a_level</th>\n",
       "      <td>1</td>\n",
       "    </tr>\n",
       "    <tr>\n",
       "      <th>secondary_cleaner.state.floatbank5_b_air</th>\n",
       "      <td>1</td>\n",
       "    </tr>\n",
       "    <tr>\n",
       "      <th>secondary_cleaner.state.floatbank5_b_level</th>\n",
       "      <td>1</td>\n",
       "    </tr>\n",
       "    <tr>\n",
       "      <th>secondary_cleaner.state.floatbank6_a_air</th>\n",
       "      <td>2</td>\n",
       "    </tr>\n",
       "    <tr>\n",
       "      <th>secondary_cleaner.state.floatbank6_a_level</th>\n",
       "      <td>1</td>\n",
       "    </tr>\n",
       "  </tbody>\n",
       "</table>\n",
       "<p>62 rows × 1 columns</p>\n",
       "</div>"
      ],
      "text/plain": [
       "                                            Пропуски\n",
       "final.output.concentrate_ag                        1\n",
       "final.output.concentrate_pb                        1\n",
       "final.output.concentrate_sol                     211\n",
       "final.output.tail_pb                             100\n",
       "final.output.tail_sol                              5\n",
       "...                                              ...\n",
       "secondary_cleaner.state.floatbank5_a_level         1\n",
       "secondary_cleaner.state.floatbank5_b_air           1\n",
       "secondary_cleaner.state.floatbank5_b_level         1\n",
       "secondary_cleaner.state.floatbank6_a_air           2\n",
       "secondary_cleaner.state.floatbank6_a_level         1\n",
       "\n",
       "[62 rows x 1 columns]"
      ]
     },
     "metadata": {},
     "output_type": "display_data"
    },
    {
     "name": "stdout",
     "output_type": "stream",
     "text": [
      "В тестовом датасете обнаружены  пропуски:\n"
     ]
    },
    {
     "data": {
      "text/html": [
       "<div>\n",
       "<style scoped>\n",
       "    .dataframe tbody tr th:only-of-type {\n",
       "        vertical-align: middle;\n",
       "    }\n",
       "\n",
       "    .dataframe tbody tr th {\n",
       "        vertical-align: top;\n",
       "    }\n",
       "\n",
       "    .dataframe thead th {\n",
       "        text-align: right;\n",
       "    }\n",
       "</style>\n",
       "<table border=\"1\" class=\"dataframe\">\n",
       "  <thead>\n",
       "    <tr style=\"text-align: right;\">\n",
       "      <th></th>\n",
       "      <th>Пропуски</th>\n",
       "    </tr>\n",
       "  </thead>\n",
       "  <tbody>\n",
       "    <tr>\n",
       "      <th>primary_cleaner.input.sulfate</th>\n",
       "      <td>4</td>\n",
       "    </tr>\n",
       "    <tr>\n",
       "      <th>primary_cleaner.input.depressant</th>\n",
       "      <td>5</td>\n",
       "    </tr>\n",
       "    <tr>\n",
       "      <th>primary_cleaner.input.xanthate</th>\n",
       "      <td>4</td>\n",
       "    </tr>\n",
       "    <tr>\n",
       "      <th>rougher.input.feed_rate</th>\n",
       "      <td>3</td>\n",
       "    </tr>\n",
       "    <tr>\n",
       "      <th>rougher.input.feed_size</th>\n",
       "      <td>1</td>\n",
       "    </tr>\n",
       "    <tr>\n",
       "      <th>rougher.input.feed_sol</th>\n",
       "      <td>21</td>\n",
       "    </tr>\n",
       "    <tr>\n",
       "      <th>rougher.input.floatbank10_sulfate</th>\n",
       "      <td>5</td>\n",
       "    </tr>\n",
       "    <tr>\n",
       "      <th>rougher.input.floatbank11_sulfate</th>\n",
       "      <td>8</td>\n",
       "    </tr>\n",
       "    <tr>\n",
       "      <th>rougher.input.floatbank11_xanthate</th>\n",
       "      <td>25</td>\n",
       "    </tr>\n",
       "    <tr>\n",
       "      <th>secondary_cleaner.state.floatbank2_a_air</th>\n",
       "      <td>3</td>\n",
       "    </tr>\n",
       "    <tr>\n",
       "      <th>secondary_cleaner.state.floatbank2_b_air</th>\n",
       "      <td>2</td>\n",
       "    </tr>\n",
       "    <tr>\n",
       "      <th>secondary_cleaner.state.floatbank3_a_air</th>\n",
       "      <td>9</td>\n",
       "    </tr>\n",
       "  </tbody>\n",
       "</table>\n",
       "</div>"
      ],
      "text/plain": [
       "                                          Пропуски\n",
       "primary_cleaner.input.sulfate                    4\n",
       "primary_cleaner.input.depressant                 5\n",
       "primary_cleaner.input.xanthate                   4\n",
       "rougher.input.feed_rate                          3\n",
       "rougher.input.feed_size                          1\n",
       "rougher.input.feed_sol                          21\n",
       "rougher.input.floatbank10_sulfate                5\n",
       "rougher.input.floatbank11_sulfate                8\n",
       "rougher.input.floatbank11_xanthate              25\n",
       "secondary_cleaner.state.floatbank2_a_air         3\n",
       "secondary_cleaner.state.floatbank2_b_air         2\n",
       "secondary_cleaner.state.floatbank3_a_air         9"
      ]
     },
     "metadata": {},
     "output_type": "display_data"
    }
   ],
   "source": [
    "print('В исходном датасете обнаружены пропуски:')\n",
    "display(full.isna().sum().to_frame(name=\"Пропуски\").query(\"Пропуски > 0\"))\n",
    "print('В обучающем датасете обнаружены  пропуски:')\n",
    "display(train.isna().sum().to_frame(name=\"Пропуски\").query(\"Пропуски > 0\"))\n",
    "print('В тестовом датасете обнаружены  пропуски:')\n",
    "display(test.isna().sum().to_frame(name=\"Пропуски\").query(\"Пропуски > 0\"))"
   ]
  },
  {
   "cell_type": "markdown",
   "metadata": {},
   "source": [
    "Так как в условии сказано, что соседние по времени параметры часто похожи, заменим пропуски на следующее непропущенное значение (метод bfill)"
   ]
  },
  {
   "cell_type": "code",
   "execution_count": 10,
   "metadata": {},
   "outputs": [
    {
     "name": "stdout",
     "output_type": "stream",
     "text": [
      "В исходном датасете обнаружены пропуски:\n"
     ]
    },
    {
     "data": {
      "text/html": [
       "<div>\n",
       "<style scoped>\n",
       "    .dataframe tbody tr th:only-of-type {\n",
       "        vertical-align: middle;\n",
       "    }\n",
       "\n",
       "    .dataframe tbody tr th {\n",
       "        vertical-align: top;\n",
       "    }\n",
       "\n",
       "    .dataframe thead th {\n",
       "        text-align: right;\n",
       "    }\n",
       "</style>\n",
       "<table border=\"1\" class=\"dataframe\">\n",
       "  <thead>\n",
       "    <tr style=\"text-align: right;\">\n",
       "      <th></th>\n",
       "      <th>Пропуски</th>\n",
       "    </tr>\n",
       "  </thead>\n",
       "  <tbody>\n",
       "  </tbody>\n",
       "</table>\n",
       "</div>"
      ],
      "text/plain": [
       "Empty DataFrame\n",
       "Columns: [Пропуски]\n",
       "Index: []"
      ]
     },
     "metadata": {},
     "output_type": "display_data"
    },
    {
     "name": "stdout",
     "output_type": "stream",
     "text": [
      "В обучающем датасете обнаружены  пропуски:\n"
     ]
    },
    {
     "data": {
      "text/html": [
       "<div>\n",
       "<style scoped>\n",
       "    .dataframe tbody tr th:only-of-type {\n",
       "        vertical-align: middle;\n",
       "    }\n",
       "\n",
       "    .dataframe tbody tr th {\n",
       "        vertical-align: top;\n",
       "    }\n",
       "\n",
       "    .dataframe thead th {\n",
       "        text-align: right;\n",
       "    }\n",
       "</style>\n",
       "<table border=\"1\" class=\"dataframe\">\n",
       "  <thead>\n",
       "    <tr style=\"text-align: right;\">\n",
       "      <th></th>\n",
       "      <th>Пропуски</th>\n",
       "    </tr>\n",
       "  </thead>\n",
       "  <tbody>\n",
       "  </tbody>\n",
       "</table>\n",
       "</div>"
      ],
      "text/plain": [
       "Empty DataFrame\n",
       "Columns: [Пропуски]\n",
       "Index: []"
      ]
     },
     "metadata": {},
     "output_type": "display_data"
    },
    {
     "name": "stdout",
     "output_type": "stream",
     "text": [
      "В тестовом датасете обнаружены  пропуски:\n"
     ]
    },
    {
     "data": {
      "text/html": [
       "<div>\n",
       "<style scoped>\n",
       "    .dataframe tbody tr th:only-of-type {\n",
       "        vertical-align: middle;\n",
       "    }\n",
       "\n",
       "    .dataframe tbody tr th {\n",
       "        vertical-align: top;\n",
       "    }\n",
       "\n",
       "    .dataframe thead th {\n",
       "        text-align: right;\n",
       "    }\n",
       "</style>\n",
       "<table border=\"1\" class=\"dataframe\">\n",
       "  <thead>\n",
       "    <tr style=\"text-align: right;\">\n",
       "      <th></th>\n",
       "      <th>Пропуски</th>\n",
       "    </tr>\n",
       "  </thead>\n",
       "  <tbody>\n",
       "  </tbody>\n",
       "</table>\n",
       "</div>"
      ],
      "text/plain": [
       "Empty DataFrame\n",
       "Columns: [Пропуски]\n",
       "Index: []"
      ]
     },
     "metadata": {},
     "output_type": "display_data"
    }
   ],
   "source": [
    "full = full.fillna(method='bfill')\n",
    "train = train.fillna(method='bfill')\n",
    "test = test.fillna(method='bfill')\n",
    "print('В исходном датасете обнаружены пропуски:')\n",
    "display(full.isna().sum().to_frame(name=\"Пропуски\").query(\"Пропуски > 0\"))\n",
    "print('В обучающем датасете обнаружены  пропуски:')\n",
    "display(train.isna().sum().to_frame(name=\"Пропуски\").query(\"Пропуски > 0\"))\n",
    "print('В тестовом датасете обнаружены  пропуски:')\n",
    "display(test.isna().sum().to_frame(name=\"Пропуски\").query(\"Пропуски > 0\"))"
   ]
  },
  {
   "cell_type": "markdown",
   "metadata": {},
   "source": [
    "**Вывод**\n",
    "\n",
    "По результатам предобработки данных:\n",
    "\n",
    "1. Были добавлены недостающие целевые признаки (final.output.recovery и rougher.output.recovery) в тестовую выборку;\n",
    "    \n",
    "2. Пропуски в выборках ,были заполнены на следующее непропущенное значение (метод bfill), т.к. по условию проекта: соседние по времени параметры часто похожи."
   ]
  },
  {
   "cell_type": "markdown",
   "metadata": {},
   "source": [
    "**Вывод по п.1.**\n",
    "\n",
    "*1.1 Подготовка данных:*\n",
    "\n",
    "1. Открыли выборки:\n",
    "Полный датафрейм имеет 19439 строк в 87 столбцах\n",
    "Обучающий датафрейм имеет 14149 строк в 87 столбцах\n",
    "Тестовый датафрейм имеет 5290 строк в 53 столбцах.\n",
    "Тестовая выборка содержит на 34 столбца меньше, чем полная и обучающая;\n",
    "2. Необходимо поменять тип данных в столбце date с object на datetime. Произведем замену в разделе по предобработке данных;\n",
    "3. Пропуски присутствуют в каждой выборке;\n",
    "4. Явных дубликатов нет;\n",
    "5. Целевые признаки - final.output.recovery и rougher.output.recovery.\n",
    "\n",
    "*1.2  Проверка, что эффективность обогащения рассчитана правильно:*\n",
    "\n",
    "Значение MAE крайне мало (9.735 × 10 в степени минус 15), следовательно расчеты в обучающей выборке верны.\n",
    "\n",
    "*1.3  Анализ признаков, недоступных в тестовой выборке:*\n",
    "\n",
    "1. В тестовой выборке отсутствуют 34 признака - 30 типа output( параметры продукта) и 4 типа calculation (расчётные характеристики. По условию задачи \"Некоторые параметры недоступны, потому что замеряются и/или рассчитываются значительно позже. Из-за этого в тестовой выборке отсутствуют некоторые признаки, которые могут быть в обучающей.\";\n",
    "\n",
    "2. для расчета метрики качества необходимо в тестовую выборку добавить целевые признаки (final.output.recovery и rougher.output.recovery). Добавим их на этапе предобработки.\n",
    "\n",
    "*1.4  Предобработка данных:*\n",
    "\n",
    "1. Были добавлены недостающие целевые признаки (final.output.recovery и rougher.output.recovery) в тестовую выборку;\n",
    "    \n",
    "2. Пропуски в выборках ,были заполнены на следующее непропущенное значение (метод bfill), т.к. по условию проекта: соседние по времени параметры часто похожи.\n",
    "\n",
    "\n",
    "\n",
    "\n"
   ]
  },
  {
   "cell_type": "markdown",
   "metadata": {},
   "source": [
    "## Исследовательский анализ данных.  "
   ]
  },
  {
   "cell_type": "markdown",
   "metadata": {},
   "source": [
    "### Изменение концентрация металлов (Au, Ag, Pb) на различных этапах очистки"
   ]
  },
  {
   "cell_type": "markdown",
   "metadata": {},
   "source": [
    "Для отображения концентрации металлов на различных этапах очистки будем использовать исходную выборку, так как она содержит самую полную информацию."
   ]
  },
  {
   "cell_type": "code",
   "execution_count": 11,
   "metadata": {},
   "outputs": [
    {
     "data": {
      "image/png": "[encoded data removed]",
      "text/plain": [
       "<Figure size 1224x1440 with 3 Axes>"
      ]
     },
     "metadata": {
      "needs_background": "light"
     },
     "output_type": "display_data"
    }
   ],
   "source": [
    "concentrate = 0\n",
    "plt.figure(figsize=[17, 20])\n",
    "plt.subplots_adjust(top=0.94, wspace=None, hspace=None)\n",
    "plt.suptitle('График концентрации металлов на различных этапах очистки', fontsize=18)\n",
    "\n",
    "for metal in ['au', 'ag', 'pb']:\n",
    "    concentrate += 1\n",
    "    plt.subplot(3, 1, concentrate)\n",
    "    plt.title(f'График распределения металла {str(metal).upper()} на различных этапах очистки', fontsize=15)\n",
    "    sns.set_color_codes(palette='pastel')\n",
    "    sns.histplot(full[f'rougher.input.feed_{metal}'], color='b', label='Сырье', alpha=0.8, kde=False)\n",
    "    sns.histplot(full[f'rougher.output.concentrate_{metal}'], color='g', label='Концентрация после флотации',alpha=0.8, kde=False)\n",
    "    sns.histplot(full[f'primary_cleaner.output.concentrate_{metal}'], color='r', label='Концентрация после первичной очистки',alpha=0.8, kde=False)\n",
    "    sns.histplot(full[f'final.output.concentrate_{metal}'], color='y', label='Финальная концентрация металла', alpha=0.8,kde=False)\n",
    "    plt.xlabel('Концентрация металла')\n",
    "    plt.ylabel('Количество наблюдений')\n",
    "    plt.legend()\n",
    "plt.show();"
   ]
  },
  {
   "cell_type": "markdown",
   "metadata": {},
   "source": [
    "**Вывод**\n",
    "\n",
    "*Для золота (AU):*\n",
    "\n",
    "концентрация золота растет от этапа к этапа, достигая наибольшего значения в финальной очистке, что логично, так как интересующий нас продукт - золото.\n",
    "\n",
    "*Для серебра(AG):*\n",
    "\n",
    "концентрация серебра растёт на первых двух этапах (флотация и первичная очистка), однако после первичной очистки концентрация уменьшается от этапа к этапу. \n",
    "\n",
    "*Для свинца(PB):*\n",
    "\n",
    "концентрация свинца растет с каждым этапом, но концентрация свинца в финальном концентрате немного ниже, чем в концентрате после первичной очистки. \n",
    "\n",
    "Как видно на графиках, в данных присутствуют аномалии (значение 0)."
   ]
  },
  {
   "cell_type": "markdown",
   "metadata": {},
   "source": [
    "### Сравнение распределения размеров гранул сырья на обучающей и тестовой выборках"
   ]
  },
  {
   "cell_type": "markdown",
   "metadata": {},
   "source": [
    "Сравним распределение размеров гранул сырья на обучающей и тестовой выборках"
   ]
  },
  {
   "cell_type": "code",
   "execution_count": 12,
   "metadata": {
    "scrolled": true
   },
   "outputs": [
    {
     "data": {
      "image/png": "[encoded data removed]",
      "text/plain": [
       "<Figure size 864x576 with 1 Axes>"
      ]
     },
     "metadata": {
      "needs_background": "light"
     },
     "output_type": "display_data"
    },
    {
     "name": "stdout",
     "output_type": "stream",
     "text": [
      "Средний размер гранул в обучающей выборке: 59.96\n",
      "Средний размер гранул в тестовой выборке: 55.95\n",
      "Медианный размер гранул в обучающей выборке: 55.3\n",
      "Медианный размер гранул в тестовой выборке: 50.85\n"
     ]
    }
   ],
   "source": [
    "## На этапе флотации\n",
    "plt.figure(figsize=[12, 8])\n",
    "\n",
    "plt.suptitle('График распределения размеров гранул сырья на обучающей и тестовой выборках на этапе флотации', fontsize=18)\n",
    "\n",
    "plt.title(f'График распределения размеров гранул сырья на этапе rougher ', fontsize=15)\n",
    "sns.set_color_codes(palette='muted')\n",
    "sns.histplot(train['rougher.input.feed_size'], color='b', label='Обучающая выборка', alpha=0.8, kde=True)\n",
    "sns.histplot(test['rougher.input.feed_size'], color='g', label='Тестовая выборка',alpha=0.8, kde=True)\n",
    "plt.xlim(0, 120);    \n",
    "plt.xlabel('Размер гранул сырья')\n",
    "plt.ylabel('Количество наблюдений')\n",
    "plt.legend()\n",
    "plt.show();\n",
    "print('Средний размер гранул в обучающей выборке:', round(train['rougher.input.feed_size'].mean(),2))\n",
    "print('Средний размер гранул в тестовой выборке:', round(test['rougher.input.feed_size'].mean(),2))\n",
    "print('Медианный размер гранул в обучающей выборке:', round(train['rougher.input.feed_size'].median(),2))\n",
    "print('Медианный размер гранул в тестовой выборке:', round(test['rougher.input.feed_size'].median(),2))"
   ]
  },
  {
   "cell_type": "code",
   "execution_count": 13,
   "metadata": {},
   "outputs": [
    {
     "data": {
      "image/png": "[encoded data removed]",
      "text/plain": [
       "<Figure size 864x576 with 1 Axes>"
      ]
     },
     "metadata": {
      "needs_background": "light"
     },
     "output_type": "display_data"
    },
    {
     "name": "stdout",
     "output_type": "stream",
     "text": [
      "Средний размер гранул в обучающей выборке: 7.32\n",
      "Средний размер гранул в тестовой выборке: 7.27\n",
      "Медианный размер гранул в обучающей выборке: 7.29\n",
      "Медианный размер гранул в тестовой выборке: 7.25\n"
     ]
    }
   ],
   "source": [
    "## На этапе первичной очистки\n",
    "plt.figure(figsize=[12, 8])\n",
    "\n",
    "plt.suptitle('График распределения размеров гранул сырья на обучающей и тестовой выборках на этапе флотации', fontsize=18)\n",
    "\n",
    "plt.title(f'График распределения размеров гранул сырья на этапе primary_cleaner ', fontsize=15)\n",
    "sns.set_color_codes(palette='muted')\n",
    "sns.histplot(train['primary_cleaner.input.feed_size'], color='b', label='Обучающая выборка', alpha=0.8, kde=True)\n",
    "sns.histplot(test['primary_cleaner.input.feed_size'], color='g', label='Тестовая выборка',alpha=0.8, kde=True)\n",
    "\n",
    "plt.xlabel('Размер гранул сырья')\n",
    "plt.ylabel('Количество наблюдений')\n",
    "plt.legend()\n",
    "plt.show();\n",
    "print('Средний размер гранул в обучающей выборке:', round(train['primary_cleaner.input.feed_size'].mean(),2))\n",
    "print('Средний размер гранул в тестовой выборке:', round(test['primary_cleaner.input.feed_size'].mean(),2))\n",
    "print('Медианный размер гранул в обучающей выборке:', round(train['primary_cleaner.input.feed_size'].median(),2))\n",
    "print('Медианный размер гранул в тестовой выборке:', round(test['primary_cleaner.input.feed_size'].median(),2))"
   ]
  },
  {
   "cell_type": "markdown",
   "metadata": {},
   "source": [
    "**Вывод**\n",
    "\n",
    "Как видно из графиков распределения размеры гранул сырья  и на этапе флотации и на этапе первичной очистки незначительно отличаются друг от друга в обучающей и тестовой выборках.\n",
    "\n",
    "*На этапе флотации:*\n",
    " \n",
    "Средний размер гранул в обучающей выборке: 59.96\n",
    "\n",
    "Средний размер гранул в тестовой выборке: 55.95\n",
    "\n",
    "Медианный размер гранул в обучающей выборке: 55.3\n",
    "\n",
    "Медианный размер гранул в тестовой выборке: 50.85\n",
    " \n",
    "\n",
    "*На этапе первичной очистки:*\n",
    " \n",
    "Средний размер гранул в обучающей выборке: 7.32\n",
    "\n",
    "Средний размер гранул в тестовой выборке: 7.27\n",
    "\n",
    "Медианный размер гранул в обучающей выборке: 7.29\n",
    "\n",
    "Медианный размер гранул в тестовой выборке: 7.25"
   ]
  },
  {
   "cell_type": "markdown",
   "metadata": {},
   "source": [
    "### Исследование суммарной концентрации всех веществ на разных стадиях: в сырье, в черновом и финальном концентратах"
   ]
  },
  {
   "cell_type": "markdown",
   "metadata": {},
   "source": [
    "Исследуем суммарную концентрацию всех веществ на разных стадиях: в сырье, в черновом и финальном концентратах на исходной выборке, так как она содержит самую полную информацию."
   ]
  },
  {
   "cell_type": "code",
   "execution_count": 14,
   "metadata": {},
   "outputs": [
    {
     "data": {
      "text/html": [
       "<div>\n",
       "<style scoped>\n",
       "    .dataframe tbody tr th:only-of-type {\n",
       "        vertical-align: middle;\n",
       "    }\n",
       "\n",
       "    .dataframe tbody tr th {\n",
       "        vertical-align: top;\n",
       "    }\n",
       "\n",
       "    .dataframe thead th {\n",
       "        text-align: right;\n",
       "    }\n",
       "</style>\n",
       "<table border=\"1\" class=\"dataframe\">\n",
       "  <thead>\n",
       "    <tr style=\"text-align: right;\">\n",
       "      <th></th>\n",
       "      <th>count</th>\n",
       "      <th>mean</th>\n",
       "      <th>std</th>\n",
       "      <th>min</th>\n",
       "      <th>25%</th>\n",
       "      <th>50%</th>\n",
       "      <th>75%</th>\n",
       "      <th>max</th>\n",
       "    </tr>\n",
       "  </thead>\n",
       "  <tbody>\n",
       "    <tr>\n",
       "      <th>rougher_input</th>\n",
       "      <td>19439.00</td>\n",
       "      <td>8.79</td>\n",
       "      <td>1.94</td>\n",
       "      <td>0.01</td>\n",
       "      <td>7.24</td>\n",
       "      <td>8.59</td>\n",
       "      <td>10.21</td>\n",
       "      <td>14.60</td>\n",
       "    </tr>\n",
       "    <tr>\n",
       "      <th>rougher_output</th>\n",
       "      <td>19439.00</td>\n",
       "      <td>11.99</td>\n",
       "      <td>2.73</td>\n",
       "      <td>0.00</td>\n",
       "      <td>10.63</td>\n",
       "      <td>12.10</td>\n",
       "      <td>13.74</td>\n",
       "      <td>24.48</td>\n",
       "    </tr>\n",
       "    <tr>\n",
       "      <th>primary_cleaner</th>\n",
       "      <td>19439.00</td>\n",
       "      <td>8.44</td>\n",
       "      <td>2.05</td>\n",
       "      <td>0.00</td>\n",
       "      <td>7.26</td>\n",
       "      <td>8.51</td>\n",
       "      <td>9.81</td>\n",
       "      <td>16.08</td>\n",
       "    </tr>\n",
       "    <tr>\n",
       "      <th>final</th>\n",
       "      <td>19439.00</td>\n",
       "      <td>5.17</td>\n",
       "      <td>1.37</td>\n",
       "      <td>0.00</td>\n",
       "      <td>4.25</td>\n",
       "      <td>5.07</td>\n",
       "      <td>5.90</td>\n",
       "      <td>16.00</td>\n",
       "    </tr>\n",
       "  </tbody>\n",
       "</table>\n",
       "</div>"
      ],
      "text/plain": [
       "                   count  mean  std  min   25%   50%   75%   max\n",
       "rougher_input   19439.00  8.79 1.94 0.01  7.24  8.59 10.21 14.60\n",
       "rougher_output  19439.00 11.99 2.73 0.00 10.63 12.10 13.74 24.48\n",
       "primary_cleaner 19439.00  8.44 2.05 0.00  7.26  8.51  9.81 16.08\n",
       "final           19439.00  5.17 1.37 0.00  4.25  5.07  5.90 16.00"
      ]
     },
     "execution_count": 14,
     "metadata": {},
     "output_type": "execute_result"
    }
   ],
   "source": [
    "concentrate = pd.DataFrame()\n",
    "concentrate['rougher_input'] = full['rougher.input.feed_ag']\n",
    "+ full['rougher.input.feed_au']\n",
    "+full['rougher.input.feed_sol'] \n",
    "+full['rougher.input.feed_pb']\n",
    "\n",
    "concentrate['rougher_output'] = full['rougher.output.concentrate_ag'] \n",
    "+ full['rougher.output.concentrate_au']\n",
    "+full['rougher.output.concentrate_sol']\n",
    "+full['rougher.output.concentrate_pb']\n",
    "\n",
    "concentrate['primary_cleaner'] = full['primary_cleaner.output.concentrate_ag'] \n",
    "+ full['primary_cleaner.output.concentrate_au']\n",
    "+full['primary_cleaner.output.concentrate_sol'] \n",
    "+full['primary_cleaner.output.concentrate_pb']\n",
    "\n",
    "concentrate['final'] = full['final.output.concentrate_ag']\n",
    "+ full['final.output.concentrate_au']\n",
    "+full['final.output.concentrate_sol'] \n",
    "+full['final.output.concentrate_pb']\n",
    "\n",
    "concentrate.describe().T\n"
   ]
  },
  {
   "cell_type": "code",
   "execution_count": 15,
   "metadata": {},
   "outputs": [
    {
     "data": {
      "image/png": "[encoded data removed]",
      "text/plain": [
       "<Figure size 1080x576 with 1 Axes>"
      ]
     },
     "metadata": {
      "needs_background": "light"
     },
     "output_type": "display_data"
    },
    {
     "name": "stdout",
     "output_type": "stream",
     "text": [
      "Средний размер суммарной концентрации всех веществ в сырье: 8.79\n",
      "Средний размер суммарной концентрации всех веществ после флотации : 11.99\n",
      "Средний размер суммарной концентрации всех веществ после первичной очистки: 8.44\n",
      "Средний размер суммарной концентрации всех веществ в финальном концентрате: 5.17\n"
     ]
    }
   ],
   "source": [
    "# Строим графики\n",
    "\n",
    "plt.figure(figsize=[15, 8])\n",
    "plt.subplots_adjust(top=0.94, wspace=None, hspace=None)\n",
    "plt.suptitle(' Исследование суммарной концентрации всех веществ на разных стадиях', fontsize=18)\n",
    "sns.set_color_codes(palette='pastel')\n",
    "sns.histplot(concentrate['rougher_input'], color='b', label='Сырье', alpha=0.8, kde=False)\n",
    "sns.histplot(concentrate['rougher_output'], color='g', label='Концентрация после флотации',alpha=0.8, kde=False)\n",
    "sns.histplot(concentrate['primary_cleaner'], color='r', label='Концентрация после первичной очистки',alpha=0.8, kde=False)\n",
    "sns.histplot(concentrate['final'], color='y', label='Финальная концентрация металла', alpha=0.8,kde=False)\n",
    "plt.xlabel('Концентрация металла')\n",
    "plt.ylabel('Количество наблюдений')\n",
    "plt.legend()\n",
    "plt.show();\n",
    "print('Средний размер суммарной концентрации всех веществ в сырье:', round(concentrate['rougher_input'].mean(),2))\n",
    "print('Средний размер суммарной концентрации всех веществ после флотации :', round(concentrate['rougher_output'].mean(),2))\n",
    "print('Средний размер суммарной концентрации всех веществ после первичной очистки:', round(concentrate['primary_cleaner'].mean(),2))\n",
    "print('Средний размер суммарной концентрации всех веществ в финальном концентрате:', round(concentrate['final'].mean(),2))\n"
   ]
  },
  {
   "cell_type": "markdown",
   "metadata": {},
   "source": [
    "**Вывод**\n",
    "\n",
    "Максимальное значение суммарной концентрации всех веществ достигается на этапе после флотации, наименьшее - в финальном концентрате.\n",
    "\n",
    "В выборке присутствуют аномалии (значения 0.01, 0.00). Необходимо удалить их из обучающей выборки.\n"
   ]
  },
  {
   "cell_type": "code",
   "execution_count": 16,
   "metadata": {},
   "outputs": [],
   "source": [
    "train = train[\n",
    "    (train['rougher.input.feed_ag'] >= 1) &\n",
    "            (train['rougher.input.feed_pb'] >= 1) &\n",
    "            (train['rougher.input.feed_sol'] >= 1) &\n",
    "            (train['rougher.input.feed_au'] >= 1) &\n",
    "            (train['rougher.output.concentrate_ag'] >= 1) &\n",
    "            (train['rougher.output.concentrate_pb'] >= 1) &\n",
    "            (train['rougher.output.concentrate_sol'] >= 1) &\n",
    "            (train['rougher.output.concentrate_au'] >= 1) &\n",
    "            (train['primary_cleaner.output.concentrate_ag'] >= 1) &\n",
    "            (train['primary_cleaner.output.concentrate_pb'] >= 1) &\n",
    "            (train['primary_cleaner.output.concentrate_sol'] >= 1) &\n",
    "            (train['primary_cleaner.output.concentrate_au'] >= 1) &\n",
    "            (train['final.output.concentrate_ag'] >= 1) &\n",
    "            (train['final.output.concentrate_pb'] >= 1) &\n",
    "            (train['final.output.concentrate_sol'] >= 1) &\n",
    "            (train['final.output.concentrate_au'] >= 1)\n",
    "]"
   ]
  },
  {
   "cell_type": "markdown",
   "metadata": {},
   "source": [
    "**Вывод по п.2.**\n",
    "\n",
    "*2.1  Изменение концентрация металлов (Au, Ag, Pb) на различных этапах очистки:*\n",
    "Для золота (AU):\n",
    "\n",
    "концентрация золота растет от этапа к этапа, достигая наибольшего значения в финальной очистке, что логично, так как интересующий нас продукт - золото.\n",
    "\n",
    "Для серебра(AG):\n",
    "\n",
    "концентрация серебра растёт на первых двух этапах (флотация и первичная очистка), однако после первичной очистки концентрация уменьшается от этапа к этапу.\n",
    "\n",
    "Для свинца(PB):\n",
    "\n",
    "концентрация свинца растет с каждым этапом, но концентрация свинца в финальном концентрате немного ниже, чем в концентрате после первичной очистки.\n",
    "\n",
    "Как видно на графиках, в данных присутствуют аномалии (значение 0).\n",
    "\n",
    "*2.2  Сравнение распределения размеров гранул сырья на обучающей и тестовой выборках:*\n",
    "\n",
    "Как видно из графиков распределения размеры гранул сырья и на этапе флотации и на этапе первичной очистки незначительно отличаются друг от друга в обучающей и тестовой выборках.\n",
    "\n",
    "*На этапе флотации:*\n",
    "\n",
    "Средний размер гранул в обучающей выборке: 59.96\n",
    "\n",
    "Средний размер гранул в тестовой выборке: 55.95\n",
    "\n",
    "Медианный размер гранул в обучающей выборке: 55.3\n",
    "\n",
    "Медианный размер гранул в тестовой выборке: 50.85\n",
    "\n",
    "*На этапе первичной очистки:*\n",
    "\n",
    "Средний размер гранул в обучающей выборке: 7.32\n",
    "\n",
    "Средний размер гранул в тестовой выборке: 7.27\n",
    "\n",
    "Медианный размер гранул в обучающей выборке: 7.29\n",
    "\n",
    "Медианный размер гранул в тестовой выборке: 7.25\n",
    "\n",
    "*2.3  Исследование суммарной концентрации всех веществ на разных стадиях: в сырье, в черновом и финальном концентратах:*\n",
    "\n",
    "Максимальное значение суммарной концентрации всех веществ достигается на этапе после флотации, наименьшее - в финальном концентрате.\n",
    "\n",
    "В выборке присутствуют аномалии (значения 0.01, 0.00). Необходимо удалить их из обучающей выборки.\n"
   ]
  },
  {
   "cell_type": "markdown",
   "metadata": {},
   "source": [
    "## Построение модели."
   ]
  },
  {
   "cell_type": "markdown",
   "metadata": {},
   "source": [
    "### Функция для вычисления итоговой sMAPE"
   ]
  },
  {
   "cell_type": "code",
   "execution_count": 17,
   "metadata": {},
   "outputs": [],
   "source": [
    "#  Функция для вычисления  sMAPE\n",
    "def get_smape(target, predict):\n",
    "    smape = (1 / len(target)) * sum(abs(target - predict) / (0.5 * (abs(target) + abs(predict))))  * 100\n",
    "    return smape\n",
    "# Функция для вычисления  итоговой sMAPE    \n",
    "def final_get_smape(smape_rougher, smape_final):\n",
    "    return (0.25*smape_rougher + 0.75*smape_final)\n"
   ]
  },
  {
   "cell_type": "markdown",
   "metadata": {},
   "source": [
    "### Обучение разных моделей и оценка их качества"
   ]
  },
  {
   "cell_type": "markdown",
   "metadata": {},
   "source": [
    "Подготовим наборы данных для обучения моделей, с учетом того, что нужно спрогнозировать сразу две величины:\n",
    "\n",
    "эффективность обогащения чернового концентрата rougher.output.recovery;\n",
    "\n",
    "эффективность обогащения финального концентрата final.output.recovery."
   ]
  },
  {
   "cell_type": "code",
   "execution_count": 18,
   "metadata": {},
   "outputs": [],
   "source": [
    "# Создадим список с признаками\n",
    "rougher_features_list = ['rougher.input.feed_ag', 'rougher.input.feed_pb', 'rougher.input.feed_rate',\n",
    "                         'rougher.input.feed_size', 'rougher.input.feed_sol', 'rougher.input.feed_au',\n",
    "                         'rougher.input.floatbank10_sulfate', 'rougher.input.floatbank10_xanthate',\n",
    "                         'rougher.input.floatbank11_sulfate', 'rougher.input.floatbank11_xanthate',\n",
    "                         'rougher.state.floatbank10_a_air', 'rougher.state.floatbank10_a_level',\n",
    "                         'rougher.state.floatbank10_b_air', 'rougher.state.floatbank10_b_level',\n",
    "                         'rougher.state.floatbank10_c_air', 'rougher.state.floatbank10_c_level', \n",
    "                         'rougher.state.floatbank10_d_air', 'rougher.state.floatbank10_d_level',\n",
    "                         'rougher.state.floatbank10_e_air', 'rougher.state.floatbank10_e_level',\n",
    "                         'rougher.state.floatbank10_f_air', 'rougher.state.floatbank10_f_level']"
   ]
  },
  {
   "cell_type": "code",
   "execution_count": 19,
   "metadata": {},
   "outputs": [],
   "source": [
    "# Объявим 2 переменные для обучающей выборки: features(запишем сюда признаки) и target (целевые признаки -\n",
    "# rougher.output.recovery и final.output.recovery)\n",
    "features = train[rougher_features_list]\n",
    "target_rougher_recovery = train['rougher.output.recovery']\n",
    "target_final_recovery = train['final.output.recovery']"
   ]
  },
  {
   "cell_type": "code",
   "execution_count": 20,
   "metadata": {},
   "outputs": [],
   "source": [
    "# Создаем скорринг с помощью smape_scorer с параметром greater_is_better = False (чтобы sMape минимизировалась, \n",
    "# а не максимизировалась)\n",
    "scorer = make_scorer(get_smape, greater_is_better = False)\n"
   ]
  },
  {
   "cell_type": "markdown",
   "metadata": {},
   "source": [
    "**Линейная регрессия**"
   ]
  },
  {
   "cell_type": "code",
   "execution_count": 21,
   "metadata": {},
   "outputs": [
    {
     "name": "stdout",
     "output_type": "stream",
     "text": [
      "------------------------------------------------------------------------------------------------------------------------\n",
      "Результат метрики sMAPE  чернового концентрата для линейной регрессии: 6.31\n",
      "------------------------------------------------------------------------------------------------------------------------\n",
      "Результат метрики sMAPE  финального концентрата для линейной регрессии: 9.4\n",
      "------------------------------------------------------------------------------------------------------------------------\n",
      "Результат метрики sMAPE  итоговый для линейной регрессии: 8.63\n",
      "------------------------------------------------------------------------------------------------------------------------\n",
      "CPU times: user 705 ms, sys: 1.03 s, total: 1.74 s\n",
      "Wall time: 1.63 s\n"
     ]
    }
   ],
   "source": [
    "%%time\n",
    "model_lr_rougher = LinearRegression()\n",
    "smape_rougher = cross_val_score(model_lr_rougher,\n",
    "                          features,\n",
    "                          target_rougher_recovery,\n",
    "                          scoring=scorer,\n",
    "                          cv=5)\n",
    "final_smape_rougher = smape_rougher.mean()*(-1)\n",
    "model_lr_final = LinearRegression()\n",
    "smape_final = cross_val_score(model_lr_final,\n",
    "                        features,\n",
    "                        target_final_recovery,\n",
    "                        scoring=scorer,\n",
    "                        cv=5)\n",
    "final_smape_final = smape_final.mean()*(-1)\n",
    "result_smape = final_get_smape(final_smape_rougher, final_smape_final)*(-1)\n",
    "print('-'*120)\n",
    "print('Результат метрики sMAPE  чернового концентрата для линейной регрессии:',round(final_smape_rougher,2))\n",
    "print('-'*120)\n",
    "print('Результат метрики sMAPE  финального концентрата для линейной регрессии:', round(final_smape_final,2))\n",
    "print('-'*120)\n",
    "print('Результат метрики sMAPE  итоговый для линейной регрессии:', round(result_smape*(-1),2))\n",
    "print('-'*120)\n"
   ]
  },
  {
   "cell_type": "markdown",
   "metadata": {},
   "source": [
    "**Случайный лес**"
   ]
  },
  {
   "cell_type": "markdown",
   "metadata": {},
   "source": [
    "Создадим цикл, в котором переберём модели случайного леса с числом деревьев от 10 до 100 с шагом 25, с максимальной глубиной от 1 до 10, найдем модель с минимальной долей симметричного среднего абсолютного процентного отклонения"
   ]
  },
  {
   "cell_type": "code",
   "execution_count": 22,
   "metadata": {},
   "outputs": [
    {
     "name": "stdout",
     "output_type": "stream",
     "text": [
      "------------------------------------------------------------------------------------------------------------------------\n",
      "Результат метрики sMAPE  итоговый для случайного леса: 8.46 Количество деревьев: 35 Максимальная глубина: 10\n",
      "------------------------------------------------------------------------------------------------------------------------\n",
      "CPU times: user 24min 39s, sys: 2.32 s, total: 24min 42s\n",
      "Wall time: 24min 42s\n"
     ]
    }
   ],
   "source": [
    "%%time\n",
    "\n",
    "best_result = 100\n",
    "best_est = 0\n",
    "best_depth = 0\n",
    "\n",
    "for est in range(10, 100, 25):\n",
    "    for depth in range(1,11):\n",
    "        model_rf_rougher = RandomForestRegressor(n_estimators=est,max_depth=depth, random_state=12345)\n",
    "        smape_rougher = cross_val_score(model_rf_rougher,\n",
    "                                  features,\n",
    "                                  target_rougher_recovery,\n",
    "                                  scoring=scorer,\n",
    "                                  cv=5)\n",
    "        final_smape_rougher = smape_rougher.mean()\n",
    "\n",
    "        model_rf_final = RandomForestRegressor(n_estimators=est,max_depth=depth, random_state=12345)\n",
    "        smape_final = cross_val_score(model_rf_final,\n",
    "                                features,\n",
    "                                target_final_recovery,\n",
    "                                scoring=scorer,\n",
    "                                cv=5)\n",
    "        final_smape_final = smape_final.mean()\n",
    "        result_smape = final_get_smape(final_smape_rougher, final_smape_final)*(-1)\n",
    "        if result_smape < best_result:\n",
    "            best_result = result_smape\n",
    "            best_est = est\n",
    "            best_depth = depth\n",
    "print('-'*120)\n",
    "print(\"Результат метрики sMAPE  итоговый для случайного леса:\", round(best_result,2), \"Количество деревьев:\", best_est, \"Максимальная глубина:\", depth)\n",
    "print('-'*120)"
   ]
  },
  {
   "cell_type": "markdown",
   "metadata": {},
   "source": [
    "**Дерево решений**"
   ]
  },
  {
   "cell_type": "markdown",
   "metadata": {},
   "source": [
    "Создадим цикл, в котором переберём десять моделей деревьев, обучим каждую на обучающей выборке, проверим результат обучения на валидационной выборке и выберем из них дерево с  минимальной долей симметричного среднего абсолютного процентного отклонения"
   ]
  },
  {
   "cell_type": "code",
   "execution_count": 23,
   "metadata": {},
   "outputs": [
    {
     "name": "stdout",
     "output_type": "stream",
     "text": [
      "------------------------------------------------------------------------------------------------------------------------\n",
      "Результат метрики sMAPE  итоговый для дерева решений: 8.86 Максимальная глубина: 10\n",
      "------------------------------------------------------------------------------------------------------------------------\n",
      "CPU times: user 14.1 s, sys: 17 µs, total: 14.1 s\n",
      "Wall time: 14.1 s\n"
     ]
    }
   ],
   "source": [
    "%%time\n",
    "best_result = 100\n",
    "best_depth = 0\n",
    "for depth in range(1, 11):\n",
    "    model_dt_rougher = DecisionTreeRegressor(max_depth=depth, random_state=12345)\n",
    "    smape_rougher = cross_val_score(model_dt_rougher,\n",
    "                              features,\n",
    "                              target_rougher_recovery,\n",
    "                              scoring=scorer,\n",
    "                              cv=5)\n",
    "    final_smape_rougher = smape_rougher.mean()\n",
    "\n",
    "    model_dt_final = DecisionTreeRegressor(max_depth=depth, random_state=12345)\n",
    "    smape_final = cross_val_score(model_dt_final, \n",
    "                                  features,\n",
    "                                  target_final_recovery,\n",
    "                                  scoring=scorer,\n",
    "                                  cv=5)\n",
    "    final_smape_final = smape_final.mean()\n",
    "    result_smape = final_get_smape(final_smape_rougher, final_smape_final)*(-1)\n",
    "    if result_smape < best_result:\n",
    "        best_result = result_smape\n",
    "        best_depth = depth\n",
    "print('-'*120)\n",
    "print(\"Результат метрики sMAPE  итоговый для дерева решений:\", round(best_result,2), \"Максимальная глубина:\", depth)\n",
    "print('-'*120)        "
   ]
  },
  {
   "cell_type": "markdown",
   "metadata": {},
   "source": [
    "**Вывод**\n",
    "\n",
    "Было проведено исследование качества разных моделей (дерево решений, cлучайный лес и логистическая регрессия).\n",
    "\n",
    "Наименьшее значение метрики sMAPE итоговой у модели случайного леса (sMAPE 8.46, Количество деревьев: 35 Максимальная глубина: 10).\n",
    "Выберем эту модель как наилучшую.\n",
    "\n"
   ]
  },
  {
   "cell_type": "markdown",
   "metadata": {},
   "source": [
    "### Проверка лучшей модели на тестовой выборке"
   ]
  },
  {
   "cell_type": "code",
   "execution_count": 24,
   "metadata": {},
   "outputs": [],
   "source": [
    "# Объявим 2 переменные для тестовой выборки: features(запишем сюда признаки) и target (целевые признаки -\n",
    "# rougher.output.recovery и final.output.recovery)\n",
    "features_test = test[rougher_features_list]\n",
    "target_rougher_recovery_test = test['rougher.output.recovery']\n",
    "target_final_recovery_test = test['final.output.recovery']"
   ]
  },
  {
   "cell_type": "code",
   "execution_count": 25,
   "metadata": {},
   "outputs": [
    {
     "name": "stdout",
     "output_type": "stream",
     "text": [
      "------------------------------------------------------------------------------------------------------------------------\n",
      "Результат метрики sMAPE  итоговый на тестовой выборке: 8.92\n",
      "------------------------------------------------------------------------------------------------------------------------\n"
     ]
    }
   ],
   "source": [
    "# Для эффективности обогащения чернового концентрата rougher.output.recovery\n",
    "model_rf_rougher_test = RandomForestRegressor(n_estimators=35, max_depth=10, random_state=12345)\n",
    "model_rf_rougher_test.fit(features, target_rougher_recovery)\n",
    "predictions_rougher_test = model_rf_rougher_test.predict(features_test)\n",
    "\n",
    "# Для эффективности обогащения финального концентрата final.output.recovery\n",
    "model_rf_final_test = RandomForestRegressor(n_estimators=35, max_depth=10, random_state=12345)\n",
    "model_rf_final_test.fit(features, target_final_recovery)\n",
    "predictions_final_test = model_rf_final_test.predict(features_test)\n",
    "\n",
    "# Расчет sMAPE\n",
    "smape_rougher_test = get_smape(target_rougher_recovery_test, predictions_rougher_test)\n",
    "smape_final_test = get_smape(target_final_recovery_test, predictions_final_test)\n",
    "result_smape_test = final_get_smape(smape_rougher_test, smape_final_test)\n",
    "print('-'*120)\n",
    "print(\"Результат метрики sMAPE  итоговый на тестовой выборке:\", round(result_smape_test,2))\n",
    "print('-'*120)        "
   ]
  },
  {
   "cell_type": "markdown",
   "metadata": {},
   "source": [
    "**Вывод**\n",
    "\n",
    "Проверили на тестовой выборке лучшую модель случайного леса (Количество деревьев: 35 Максимальная глубина: 10). \n",
    "Значение sMAPE  итоговый на тестовой выборке: 8.92."
   ]
  },
  {
   "cell_type": "markdown",
   "metadata": {},
   "source": [
    "### Проверка на вменяемость"
   ]
  },
  {
   "cell_type": "markdown",
   "metadata": {},
   "source": [
    "Создадим константную модель и проверим на адекватность сделанный ранее выбор модели случайного леса"
   ]
  },
  {
   "cell_type": "code",
   "execution_count": 26,
   "metadata": {},
   "outputs": [
    {
     "name": "stdout",
     "output_type": "stream",
     "text": [
      "------------------------------------------------------------------------------------------------------------------------\n",
      "Результат метрики sMAPE итоговый на константной модели: 9.75\n",
      "------------------------------------------------------------------------------------------------------------------------\n"
     ]
    }
   ],
   "source": [
    "from sklearn.dummy import DummyRegressor\n",
    "\n",
    "# Инициализируем и обучим DummyRegressor по медиане\n",
    "model_dr_rougher = DummyRegressor(strategy=\"mean\")\n",
    "model_dr_final = DummyRegressor(strategy=\"mean\")\n",
    "\n",
    "# Для эффективности обогащения чернового концентрата rougher.output.recovery\n",
    "model_dr_rougher.fit(features, target_rougher_recovery)\n",
    "predictions_rougher_dr = model_dr_rougher.predict(features_test)\n",
    "\n",
    "# Для эффективности обогащения финального концентрата final.output.recovery\n",
    "model_dr_final.fit(features, target_final_recovery)\n",
    "predictions_final_dr = model_dr_final.predict(features_test)\n",
    "\n",
    "# Расчет sMAPE\n",
    "smape_rougher_dr = get_smape(target_rougher_recovery_test, predictions_rougher_dr)\n",
    "smape_final_dr = get_smape(target_final_recovery_test, predictions_final_dr)\n",
    "result_smape_dr = final_get_smape(smape_rougher_dr, smape_final_dr)\n",
    "print('-'*120)\n",
    "print(\"Результат метрики sMAPE итоговый на константной модели:\", round(result_smape_dr,2))\n",
    "print('-'*120)        "
   ]
  },
  {
   "cell_type": "markdown",
   "metadata": {},
   "source": [
    "**Вывод**\n",
    "\n",
    "Проверили на константной модели на адекватность сделанный ранее выбор модели случайного леса   - так как значение метрики sMAPE итоговый на константной модели больше (9.75), чем на лучшей модели случайного леса(8.46) , наша модель адекватна."
   ]
  },
  {
   "cell_type": "markdown",
   "metadata": {},
   "source": [
    "**Вывод по п.3.**\n",
    "\n",
    "1. Написана функция для вычисления итоговой sMAPE;\n",
    "2. Обучены разные модели (дерево решений, cлучайный лес и логистическая регрессия).\n",
    "Модель случайного леса с наименьшим значение метрики sMAPE итоговый (8.46) выбрана наилучшей;\n",
    "3. Проверили на тестовой выборке лучшую модель случайного леса (Количество деревьев: 35 Максимальная глубина: 10). Значение sMAPE итоговый на тестовой выборке: 8.92;\n",
    "4. Проверили на константной модели на адекватность сделанный ранее выбор модели случайного леса - так как значение метрики sMAPE итоговый на константной модели больше (9.75), чем на лучшей модели случайного леса(8.46) , наша модель адекватна."
   ]
  },
  {
   "cell_type": "markdown",
   "metadata": {},
   "source": [
    "## Общий вывод\n",
    "<div style=\"border: 1px solid black; padding: 20px\">\n",
    "\n",
    "В качестве  прототипа модели машинного обучения для «Цифры» выбрана модель cлучайного леса (sMAPE 8.46, Количество деревьев: 35 Максимальная глубина: 10).\n",
    "\n",
    "**Обзор, подготовка и предобработка данных.**\n",
    "\n",
    "*1.1 Подготовка данных:*\n",
    "\n",
    "1. Открыли выборки:\n",
    "Полный датафрейм имеет 19439 строк в 87 столбцах\n",
    "Обучающий датафрейм имеет 14149 строк в 87 столбцах\n",
    "Тестовый датафрейм имеет 5290 строк в 53 столбцах.\n",
    "Тестовая выборка содержит на 34 столбца меньше, чем полная и обучающая;\n",
    "2. Необходимо поменять тип данных в столбце date с object на datetime. Произведем замену в разделе по предобработке данных;\n",
    "3. Пропуски присутствуют в каждой выборке;\n",
    "4. Явных дубликатов нет;\n",
    "5. Целевые признаки - final.output.recovery и rougher.output.recovery.\n",
    "\n",
    "*1.2  Проверка, что эффективность обогащения рассчитана правильно:*\n",
    "\n",
    "Значение MAE крайне мало (9.735 × 10 в степени минус 15), следовательно расчеты в обучающей выборке верны.\n",
    "\n",
    "*1.3  Анализ признаков, недоступных в тестовой выборке:*\n",
    "\n",
    "1. В тестовой выборке отсутствуют 34 признака - 30 типа output( параметры продукта) и 4 типа calculation (расчётные характеристики. По условию задачи \"Некоторые параметры недоступны, потому что замеряются и/или рассчитываются значительно позже. Из-за этого в тестовой выборке отсутствуют некоторые признаки, которые могут быть в обучающей.\";\n",
    "\n",
    "2. для расчета метрики качества необходимо в тестовую выборку добавить целевые признаки (final.output.recovery и rougher.output.recovery). Добавим их на этапе предобработки.\n",
    "\n",
    "*1.4  Предобработка данных:*\n",
    "\n",
    "1. Были добавлены недостающие целевые признаки (final.output.recovery и rougher.output.recovery) в тестовую выборку;\n",
    "    \n",
    "2. Пропуски в выборках ,были заполнены на следующее непропущенное значение (метод bfill), т.к. по условию проекта: соседние по времени параметры часто похожи.\n",
    "\n",
    "**Исследовательский анализ данных.**\n",
    "\n",
    "*2.1  Изменение концентрация металлов (Au, Ag, Pb) на различных этапах очистки:*\n",
    "Для золота (AU):\n",
    "\n",
    "концентрация золота растет от этапа к этапа, достигая наибольшего значения в финальной очистке, что логично, так как интересующий нас продукт - золото.\n",
    "\n",
    "Для серебра(AG):\n",
    "\n",
    "концентрация серебра растёт на первых двух этапах (флотация и первичная очистка), однако после первичной очистки концентрация уменьшается от этапа к этапу.\n",
    "\n",
    "Для свинца(PB):\n",
    "\n",
    "концентрация свинца растет с каждым этапом, но концентрация свинца в финальном концентрате немного ниже, чем в концентрате после первичной очистки.\n",
    "\n",
    "Как видно на графиках, в данных присутствуют аномалии (значение 0).\n",
    "\n",
    "*2.2  Сравнение распределения размеров гранул сырья на обучающей и тестовой выборках:*\n",
    "\n",
    "Как видно из графиков распределения размеры гранул сырья и на этапе флотации и на этапе первичной очистки незначительно отличаются друг от друга в обучающей и тестовой выборках.\n",
    "\n",
    "*2.3  Исследование суммарной концентрации всех веществ на разных стадиях: в сырье, в черновом и финальном концентратах:*\n",
    "\n",
    "Максимальное значение суммарной концентрации всех веществ достигается на этапе после флотации, наименьшее - в финальном концентрате.\n",
    "\n",
    "В выборке присутствуют аномалии (значения 0.01, 0.00). Необходимо удалить их из обучающей выборки.\n",
    "\n",
    "**Построение модели.**\n",
    "\n",
    "1. Написана функция для вычисления итоговой sMAPE;\n",
    "2. Обучены разные модели (дерево решений, cлучайный лес и логистическая регрессия).\n",
    "Модель случайного леса с наименьшим значение метрики sMAPE итоговый (8.46) выбрана наилучшей;\n",
    "3. Проверили на тестовой выборке лучшую модель случайного леса (Количество деревьев: 35 Максимальная глубина: 10). Значение sMAPE итоговый на тестовой выборке: 8.92;\n",
    "4. Проверили на константной модели на адекватность сделанный ранее выбор модели случайного леса - так как значение метрики sMAPE итоговый на константной модели больше (9.75), чем на лучшей модели случайного леса(8.46) , наша модель адекватна.\n",
    "    \n",
    "</div>\n"
   ]
  },
  {
   "cell_type": "code",
   "execution_count": null,
   "metadata": {},
   "outputs": [],
   "source": []
  }
 ],
 "metadata": {
  "ExecuteTimeLog": [
   {
    "duration": 50,
    "start_time": "2023-11-13T10:56:46.288Z"
   },
   {
    "duration": 1934,
    "start_time": "2023-11-13T10:57:01.216Z"
   },
   {
    "duration": 1925,
    "start_time": "2023-11-13T10:57:03.152Z"
   },
   {
    "duration": 788,
    "start_time": "2023-11-13T11:25:40.704Z"
   },
   {
    "duration": 5,
    "start_time": "2023-11-13T11:29:27.844Z"
   },
   {
    "duration": 3,
    "start_time": "2023-11-13T11:29:37.635Z"
   },
   {
    "duration": 849,
    "start_time": "2023-11-13T11:32:09.023Z"
   },
   {
    "duration": 820,
    "start_time": "2023-11-13T11:34:45.417Z"
   },
   {
    "duration": 3,
    "start_time": "2023-11-13T11:47:02.519Z"
   },
   {
    "duration": 131,
    "start_time": "2023-11-13T12:15:09.387Z"
   },
   {
    "duration": 5,
    "start_time": "2023-11-13T12:15:14.939Z"
   },
   {
    "duration": 816,
    "start_time": "2023-11-13T12:15:14.945Z"
   },
   {
    "duration": 3,
    "start_time": "2023-11-13T12:15:15.763Z"
   },
   {
    "duration": 911,
    "start_time": "2023-11-13T12:15:15.768Z"
   },
   {
    "duration": 125,
    "start_time": "2023-11-13T12:15:16.681Z"
   },
   {
    "duration": 3,
    "start_time": "2023-11-13T12:37:04.982Z"
   },
   {
    "duration": 816,
    "start_time": "2023-11-13T12:37:04.988Z"
   },
   {
    "duration": 4,
    "start_time": "2023-11-13T12:37:05.806Z"
   },
   {
    "duration": 864,
    "start_time": "2023-11-13T12:37:05.812Z"
   },
   {
    "duration": 438,
    "start_time": "2023-11-13T12:37:06.678Z"
   },
   {
    "duration": 78,
    "start_time": "2023-11-13T12:37:19.153Z"
   },
   {
    "duration": 109,
    "start_time": "2023-11-13T12:43:24.505Z"
   },
   {
    "duration": 91,
    "start_time": "2023-11-13T12:43:33.932Z"
   },
   {
    "duration": 13,
    "start_time": "2023-11-13T12:44:24.327Z"
   },
   {
    "duration": 15,
    "start_time": "2023-11-13T12:45:51.276Z"
   },
   {
    "duration": 7,
    "start_time": "2023-11-13T12:46:50.028Z"
   },
   {
    "duration": 382,
    "start_time": "2023-11-13T12:47:06.877Z"
   },
   {
    "duration": 13,
    "start_time": "2023-11-13T12:47:13.309Z"
   },
   {
    "duration": 219,
    "start_time": "2023-11-13T12:47:21.333Z"
   },
   {
    "duration": 265,
    "start_time": "2023-11-13T12:47:32.279Z"
   },
   {
    "duration": 16,
    "start_time": "2023-11-13T12:47:38.838Z"
   },
   {
    "duration": 5,
    "start_time": "2023-11-13T12:47:56.599Z"
   },
   {
    "duration": 8,
    "start_time": "2023-11-13T12:48:37.324Z"
   },
   {
    "duration": 5,
    "start_time": "2023-11-13T12:52:43.220Z"
   },
   {
    "duration": 12,
    "start_time": "2023-11-13T12:52:47.877Z"
   },
   {
    "duration": 12,
    "start_time": "2023-11-13T12:53:03.311Z"
   },
   {
    "duration": 6,
    "start_time": "2023-11-13T12:53:10.757Z"
   },
   {
    "duration": 4,
    "start_time": "2023-11-13T12:55:18.623Z"
   },
   {
    "duration": 14,
    "start_time": "2023-11-13T13:01:10.896Z"
   },
   {
    "duration": 7,
    "start_time": "2023-11-13T13:01:32.827Z"
   },
   {
    "duration": 255,
    "start_time": "2023-11-13T13:03:02.098Z"
   },
   {
    "duration": 7,
    "start_time": "2023-11-13T13:03:14.474Z"
   },
   {
    "duration": 7,
    "start_time": "2023-11-13T13:06:45.758Z"
   },
   {
    "duration": 10,
    "start_time": "2023-11-13T13:09:02.180Z"
   },
   {
    "duration": 9,
    "start_time": "2023-11-13T13:09:30.917Z"
   },
   {
    "duration": 8,
    "start_time": "2023-11-13T13:09:42.557Z"
   },
   {
    "duration": 11,
    "start_time": "2023-11-13T13:09:57.310Z"
   },
   {
    "duration": 12,
    "start_time": "2023-11-13T13:13:22.567Z"
   },
   {
    "duration": 19,
    "start_time": "2023-11-13T13:13:46.088Z"
   },
   {
    "duration": 2,
    "start_time": "2023-11-13T13:21:49.635Z"
   },
   {
    "duration": 17,
    "start_time": "2023-11-13T13:29:50.134Z"
   },
   {
    "duration": 4,
    "start_time": "2023-11-13T13:29:55.460Z"
   },
   {
    "duration": 779,
    "start_time": "2023-11-13T13:29:55.465Z"
   },
   {
    "duration": 5,
    "start_time": "2023-11-13T13:29:56.246Z"
   },
   {
    "duration": 872,
    "start_time": "2023-11-13T13:29:56.253Z"
   },
   {
    "duration": 7,
    "start_time": "2023-11-13T13:29:57.127Z"
   },
   {
    "duration": 29,
    "start_time": "2023-11-13T13:29:57.135Z"
   },
   {
    "duration": 63,
    "start_time": "2023-11-13T13:29:57.165Z"
   },
   {
    "duration": 16,
    "start_time": "2023-11-13T13:34:29.571Z"
   },
   {
    "duration": 4,
    "start_time": "2023-11-13T13:34:40.730Z"
   },
   {
    "duration": 720,
    "start_time": "2023-11-13T13:34:40.736Z"
   },
   {
    "duration": 4,
    "start_time": "2023-11-13T13:34:41.457Z"
   },
   {
    "duration": 820,
    "start_time": "2023-11-13T13:34:41.462Z"
   },
   {
    "duration": 6,
    "start_time": "2023-11-13T13:34:42.284Z"
   },
   {
    "duration": 20,
    "start_time": "2023-11-13T13:34:42.291Z"
   },
   {
    "duration": 26,
    "start_time": "2023-11-13T13:34:42.312Z"
   },
   {
    "duration": 9,
    "start_time": "2023-11-13T13:37:36.928Z"
   },
   {
    "duration": 20,
    "start_time": "2023-11-13T13:41:34.444Z"
   },
   {
    "duration": 4,
    "start_time": "2023-11-13T13:41:42.418Z"
   },
   {
    "duration": 812,
    "start_time": "2023-11-13T13:41:42.424Z"
   },
   {
    "duration": 5,
    "start_time": "2023-11-13T13:41:43.241Z"
   },
   {
    "duration": 894,
    "start_time": "2023-11-13T13:41:43.248Z"
   },
   {
    "duration": 6,
    "start_time": "2023-11-13T13:41:44.145Z"
   },
   {
    "duration": 6,
    "start_time": "2023-11-13T13:41:44.153Z"
   },
   {
    "duration": 11,
    "start_time": "2023-11-13T13:41:44.160Z"
   },
   {
    "duration": 13,
    "start_time": "2023-11-13T13:41:44.173Z"
   },
   {
    "duration": 17,
    "start_time": "2023-11-13T13:42:37.450Z"
   },
   {
    "duration": 16,
    "start_time": "2023-11-13T13:43:52.978Z"
   },
   {
    "duration": 14,
    "start_time": "2023-11-13T13:44:49.101Z"
   },
   {
    "duration": 14,
    "start_time": "2023-11-13T13:45:47.923Z"
   },
   {
    "duration": 4,
    "start_time": "2023-11-13T13:45:53.753Z"
   },
   {
    "duration": 775,
    "start_time": "2023-11-13T13:45:53.759Z"
   },
   {
    "duration": 5,
    "start_time": "2023-11-13T13:45:54.535Z"
   },
   {
    "duration": 804,
    "start_time": "2023-11-13T13:45:54.541Z"
   },
   {
    "duration": 6,
    "start_time": "2023-11-13T13:45:55.347Z"
   },
   {
    "duration": 24,
    "start_time": "2023-11-13T13:45:55.354Z"
   },
   {
    "duration": 57,
    "start_time": "2023-11-13T13:45:55.380Z"
   },
   {
    "duration": 3594,
    "start_time": "2023-11-13T13:47:33.091Z"
   },
   {
    "duration": 3,
    "start_time": "2023-11-13T13:47:49.788Z"
   },
   {
    "duration": 31,
    "start_time": "2023-11-13T13:53:43.172Z"
   },
   {
    "duration": 36,
    "start_time": "2023-11-13T13:56:07.693Z"
   },
   {
    "duration": 22,
    "start_time": "2023-11-13T13:59:08.647Z"
   },
   {
    "duration": 50,
    "start_time": "2023-11-13T13:59:20.480Z"
   },
   {
    "duration": 42,
    "start_time": "2023-11-13T13:59:35.953Z"
   },
   {
    "duration": 42,
    "start_time": "2023-11-13T13:59:54.144Z"
   },
   {
    "duration": 169,
    "start_time": "2023-11-13T14:02:40.627Z"
   },
   {
    "duration": 3433,
    "start_time": "2023-11-13T14:13:50.663Z"
   },
   {
    "duration": 3396,
    "start_time": "2023-11-13T14:14:52.543Z"
   },
   {
    "duration": 2994,
    "start_time": "2023-11-13T14:15:42.064Z"
   },
   {
    "duration": 3202,
    "start_time": "2023-11-13T14:16:03.750Z"
   },
   {
    "duration": 3057,
    "start_time": "2023-11-13T14:16:52.799Z"
   },
   {
    "duration": 3276,
    "start_time": "2023-11-13T14:17:39.344Z"
   },
   {
    "duration": 3323,
    "start_time": "2023-11-13T14:17:54.936Z"
   },
   {
    "duration": 155,
    "start_time": "2023-11-13T14:22:24.967Z"
   },
   {
    "duration": 3162,
    "start_time": "2023-11-13T14:22:46.314Z"
   },
   {
    "duration": 3048,
    "start_time": "2023-11-13T14:23:14.410Z"
   },
   {
    "duration": 3075,
    "start_time": "2023-11-13T14:23:37.267Z"
   },
   {
    "duration": 3188,
    "start_time": "2023-11-13T14:23:48.001Z"
   },
   {
    "duration": 3107,
    "start_time": "2023-11-13T14:24:03.441Z"
   },
   {
    "duration": 3469,
    "start_time": "2023-11-13T14:24:32.042Z"
   },
   {
    "duration": 3111,
    "start_time": "2023-11-13T14:26:50.613Z"
   },
   {
    "duration": 3233,
    "start_time": "2023-11-13T14:27:17.418Z"
   },
   {
    "duration": 231,
    "start_time": "2023-11-13T14:28:34.708Z"
   },
   {
    "duration": 3296,
    "start_time": "2023-11-13T14:28:46.424Z"
   },
   {
    "duration": 108,
    "start_time": "2023-11-13T14:29:24.894Z"
   },
   {
    "duration": 3683,
    "start_time": "2023-11-13T14:29:30.795Z"
   },
   {
    "duration": 3562,
    "start_time": "2023-11-13T14:30:29.919Z"
   },
   {
    "duration": 3697,
    "start_time": "2023-11-13T14:30:37.403Z"
   },
   {
    "duration": 3923,
    "start_time": "2023-11-13T14:32:30.286Z"
   },
   {
    "duration": 3688,
    "start_time": "2023-11-13T14:44:16.664Z"
   },
   {
    "duration": 3513,
    "start_time": "2023-11-13T14:44:51.300Z"
   },
   {
    "duration": 4,
    "start_time": "2023-11-13T14:45:46.821Z"
   },
   {
    "duration": 1025,
    "start_time": "2023-11-13T14:45:46.827Z"
   },
   {
    "duration": 4,
    "start_time": "2023-11-13T14:45:47.860Z"
   },
   {
    "duration": 892,
    "start_time": "2023-11-13T14:45:47.866Z"
   },
   {
    "duration": 6,
    "start_time": "2023-11-13T14:45:48.760Z"
   },
   {
    "duration": 17,
    "start_time": "2023-11-13T14:45:48.767Z"
   },
   {
    "duration": 17,
    "start_time": "2023-11-13T14:45:48.786Z"
   },
   {
    "duration": 2,
    "start_time": "2023-11-13T14:45:48.805Z"
   },
   {
    "duration": 56,
    "start_time": "2023-11-13T14:45:48.809Z"
   },
   {
    "duration": 43,
    "start_time": "2023-11-13T14:45:48.866Z"
   },
   {
    "duration": 3541,
    "start_time": "2023-11-13T14:45:48.911Z"
   },
   {
    "duration": 57,
    "start_time": "2023-11-14T08:27:52.079Z"
   },
   {
    "duration": 7,
    "start_time": "2023-11-14T08:28:04.023Z"
   },
   {
    "duration": 1839,
    "start_time": "2023-11-14T08:28:13.743Z"
   },
   {
    "duration": 2076,
    "start_time": "2023-11-14T08:28:15.584Z"
   },
   {
    "duration": 4,
    "start_time": "2023-11-14T08:28:17.661Z"
   },
   {
    "duration": 1026,
    "start_time": "2023-11-14T08:28:17.666Z"
   },
   {
    "duration": 9,
    "start_time": "2023-11-14T08:28:18.695Z"
   },
   {
    "duration": 25,
    "start_time": "2023-11-14T08:28:18.706Z"
   },
   {
    "duration": 81,
    "start_time": "2023-11-14T08:28:18.733Z"
   },
   {
    "duration": 0,
    "start_time": "2023-11-14T08:28:18.816Z"
   },
   {
    "duration": 0,
    "start_time": "2023-11-14T08:28:18.817Z"
   },
   {
    "duration": 0,
    "start_time": "2023-11-14T08:28:18.831Z"
   },
   {
    "duration": 0,
    "start_time": "2023-11-14T08:28:18.832Z"
   },
   {
    "duration": 0,
    "start_time": "2023-11-14T08:28:18.833Z"
   },
   {
    "duration": 16,
    "start_time": "2023-11-14T08:29:00.638Z"
   },
   {
    "duration": 18,
    "start_time": "2023-11-14T08:31:00.407Z"
   },
   {
    "duration": 96,
    "start_time": "2023-11-14T08:31:11.791Z"
   },
   {
    "duration": 17,
    "start_time": "2023-11-14T08:31:20.343Z"
   },
   {
    "duration": 13,
    "start_time": "2023-11-14T08:31:29.384Z"
   },
   {
    "duration": 18,
    "start_time": "2023-11-14T08:31:45.344Z"
   },
   {
    "duration": 12,
    "start_time": "2023-11-14T08:31:51.414Z"
   },
   {
    "duration": 14,
    "start_time": "2023-11-14T08:33:48.082Z"
   },
   {
    "duration": 26,
    "start_time": "2023-11-14T08:34:14.848Z"
   },
   {
    "duration": 104,
    "start_time": "2023-11-14T08:34:27.680Z"
   },
   {
    "duration": 5,
    "start_time": "2023-11-14T08:35:30.062Z"
   },
   {
    "duration": 873,
    "start_time": "2023-11-14T08:35:30.070Z"
   },
   {
    "duration": 6,
    "start_time": "2023-11-14T08:35:30.945Z"
   },
   {
    "duration": 971,
    "start_time": "2023-11-14T08:35:30.953Z"
   },
   {
    "duration": 8,
    "start_time": "2023-11-14T08:35:31.926Z"
   },
   {
    "duration": 28,
    "start_time": "2023-11-14T08:35:31.936Z"
   },
   {
    "duration": 16,
    "start_time": "2023-11-14T08:35:31.966Z"
   },
   {
    "duration": 17,
    "start_time": "2023-11-14T08:35:31.984Z"
   },
   {
    "duration": 6,
    "start_time": "2023-11-14T08:35:32.003Z"
   },
   {
    "duration": 51,
    "start_time": "2023-11-14T08:35:32.010Z"
   },
   {
    "duration": 69,
    "start_time": "2023-11-14T08:35:32.063Z"
   },
   {
    "duration": 3286,
    "start_time": "2023-11-14T08:35:32.134Z"
   },
   {
    "duration": 26,
    "start_time": "2023-11-14T08:40:50.651Z"
   },
   {
    "duration": 82,
    "start_time": "2023-11-14T08:41:35.941Z"
   },
   {
    "duration": 115,
    "start_time": "2023-11-14T08:42:08.955Z"
   },
   {
    "duration": 82,
    "start_time": "2023-11-14T08:42:23.379Z"
   },
   {
    "duration": 38,
    "start_time": "2023-11-14T08:42:33.165Z"
   },
   {
    "duration": 8,
    "start_time": "2023-11-14T08:42:51.434Z"
   },
   {
    "duration": 775,
    "start_time": "2023-11-14T08:42:51.445Z"
   },
   {
    "duration": 3,
    "start_time": "2023-11-14T08:42:52.222Z"
   },
   {
    "duration": 1132,
    "start_time": "2023-11-14T08:42:52.226Z"
   },
   {
    "duration": 14,
    "start_time": "2023-11-14T08:42:53.361Z"
   },
   {
    "duration": 8,
    "start_time": "2023-11-14T08:42:53.377Z"
   },
   {
    "duration": 16,
    "start_time": "2023-11-14T08:42:53.387Z"
   },
   {
    "duration": 44,
    "start_time": "2023-11-14T08:42:53.404Z"
   },
   {
    "duration": 5,
    "start_time": "2023-11-14T08:42:53.450Z"
   },
   {
    "duration": 74,
    "start_time": "2023-11-14T08:42:53.457Z"
   },
   {
    "duration": 50,
    "start_time": "2023-11-14T08:42:53.534Z"
   },
   {
    "duration": 3388,
    "start_time": "2023-11-14T08:42:53.586Z"
   },
   {
    "duration": 86,
    "start_time": "2023-11-14T08:44:07.998Z"
   },
   {
    "duration": 37,
    "start_time": "2023-11-14T08:44:32.245Z"
   },
   {
    "duration": 5,
    "start_time": "2023-11-14T08:44:36.567Z"
   },
   {
    "duration": 947,
    "start_time": "2023-11-14T08:44:36.574Z"
   },
   {
    "duration": 4,
    "start_time": "2023-11-14T08:44:37.522Z"
   },
   {
    "duration": 999,
    "start_time": "2023-11-14T08:44:37.528Z"
   },
   {
    "duration": 9,
    "start_time": "2023-11-14T08:44:38.531Z"
   },
   {
    "duration": 8,
    "start_time": "2023-11-14T08:44:38.542Z"
   },
   {
    "duration": 24,
    "start_time": "2023-11-14T08:44:38.552Z"
   },
   {
    "duration": 10,
    "start_time": "2023-11-14T08:44:38.577Z"
   },
   {
    "duration": 3,
    "start_time": "2023-11-14T08:44:38.589Z"
   },
   {
    "duration": 78,
    "start_time": "2023-11-14T08:44:38.594Z"
   },
   {
    "duration": 64,
    "start_time": "2023-11-14T08:44:38.674Z"
   },
   {
    "duration": 3750,
    "start_time": "2023-11-14T08:44:38.740Z"
   },
   {
    "duration": 51,
    "start_time": "2023-11-14T08:46:15.556Z"
   },
   {
    "duration": 5,
    "start_time": "2023-11-14T08:46:21.260Z"
   },
   {
    "duration": 836,
    "start_time": "2023-11-14T08:46:21.268Z"
   },
   {
    "duration": 5,
    "start_time": "2023-11-14T08:46:22.105Z"
   },
   {
    "duration": 911,
    "start_time": "2023-11-14T08:46:22.111Z"
   },
   {
    "duration": 13,
    "start_time": "2023-11-14T08:46:23.025Z"
   },
   {
    "duration": 9,
    "start_time": "2023-11-14T08:46:23.040Z"
   },
   {
    "duration": 21,
    "start_time": "2023-11-14T08:46:23.051Z"
   },
   {
    "duration": 18,
    "start_time": "2023-11-14T08:46:23.076Z"
   },
   {
    "duration": 14,
    "start_time": "2023-11-14T08:46:23.096Z"
   },
   {
    "duration": 74,
    "start_time": "2023-11-14T08:46:23.112Z"
   },
   {
    "duration": 71,
    "start_time": "2023-11-14T08:46:23.188Z"
   },
   {
    "duration": 3609,
    "start_time": "2023-11-14T08:46:23.261Z"
   },
   {
    "duration": 77,
    "start_time": "2023-11-14T08:47:04.657Z"
   },
   {
    "duration": 39,
    "start_time": "2023-11-14T08:47:23.495Z"
   },
   {
    "duration": 11,
    "start_time": "2023-11-14T08:47:32.249Z"
   },
   {
    "duration": 965,
    "start_time": "2023-11-14T08:47:32.262Z"
   },
   {
    "duration": 12,
    "start_time": "2023-11-14T08:47:33.229Z"
   },
   {
    "duration": 1090,
    "start_time": "2023-11-14T08:47:33.243Z"
   },
   {
    "duration": 26,
    "start_time": "2023-11-14T08:47:34.336Z"
   },
   {
    "duration": 14,
    "start_time": "2023-11-14T08:47:34.366Z"
   },
   {
    "duration": 18,
    "start_time": "2023-11-14T08:47:34.381Z"
   },
   {
    "duration": 36,
    "start_time": "2023-11-14T08:47:34.401Z"
   },
   {
    "duration": 5,
    "start_time": "2023-11-14T08:47:34.440Z"
   },
   {
    "duration": 1841,
    "start_time": "2023-11-14T08:47:34.448Z"
   },
   {
    "duration": 0,
    "start_time": "2023-11-14T08:47:36.291Z"
   },
   {
    "duration": 0,
    "start_time": "2023-11-14T08:47:36.293Z"
   },
   {
    "duration": 85,
    "start_time": "2023-11-14T08:48:53.024Z"
   },
   {
    "duration": 87,
    "start_time": "2023-11-14T08:49:10.422Z"
   },
   {
    "duration": 16,
    "start_time": "2023-11-14T08:50:49.475Z"
   },
   {
    "duration": 39,
    "start_time": "2023-11-14T08:51:00.309Z"
   },
   {
    "duration": 40,
    "start_time": "2023-11-14T08:51:32.816Z"
   },
   {
    "duration": 27,
    "start_time": "2023-11-14T08:52:09.294Z"
   },
   {
    "duration": 201,
    "start_time": "2023-11-14T08:55:00.012Z"
   },
   {
    "duration": 5,
    "start_time": "2023-11-14T08:55:04.110Z"
   },
   {
    "duration": 811,
    "start_time": "2023-11-14T08:55:04.117Z"
   },
   {
    "duration": 7,
    "start_time": "2023-11-14T08:55:04.931Z"
   },
   {
    "duration": 944,
    "start_time": "2023-11-14T08:55:04.940Z"
   },
   {
    "duration": 7,
    "start_time": "2023-11-14T08:55:05.886Z"
   },
   {
    "duration": 11,
    "start_time": "2023-11-14T08:55:05.894Z"
   },
   {
    "duration": 36,
    "start_time": "2023-11-14T08:55:05.907Z"
   },
   {
    "duration": 15,
    "start_time": "2023-11-14T08:55:05.945Z"
   },
   {
    "duration": 3,
    "start_time": "2023-11-14T08:55:05.962Z"
   },
   {
    "duration": 34,
    "start_time": "2023-11-14T08:55:05.966Z"
   },
   {
    "duration": 52,
    "start_time": "2023-11-14T08:55:06.032Z"
   },
   {
    "duration": 3617,
    "start_time": "2023-11-14T08:55:06.086Z"
   },
   {
    "duration": 3772,
    "start_time": "2023-11-14T08:56:05.997Z"
   },
   {
    "duration": 3347,
    "start_time": "2023-11-14T08:56:21.684Z"
   },
   {
    "duration": 1118,
    "start_time": "2023-11-14T08:56:57.189Z"
   },
   {
    "duration": 3330,
    "start_time": "2023-11-14T08:57:12.803Z"
   },
   {
    "duration": 924,
    "start_time": "2023-11-14T08:57:44.102Z"
   },
   {
    "duration": 802,
    "start_time": "2023-11-14T08:57:52.853Z"
   },
   {
    "duration": 3642,
    "start_time": "2023-11-14T08:58:05.104Z"
   },
   {
    "duration": 21,
    "start_time": "2023-11-14T09:01:28.222Z"
   },
   {
    "duration": 17,
    "start_time": "2023-11-14T09:01:51.954Z"
   },
   {
    "duration": 3537,
    "start_time": "2023-11-14T09:02:19.723Z"
   },
   {
    "duration": 3766,
    "start_time": "2023-11-14T09:02:41.880Z"
   },
   {
    "duration": 3839,
    "start_time": "2023-11-14T09:03:03.702Z"
   },
   {
    "duration": 3712,
    "start_time": "2023-11-14T09:03:30.406Z"
   },
   {
    "duration": 3722,
    "start_time": "2023-11-14T09:03:45.250Z"
   },
   {
    "duration": 95,
    "start_time": "2023-11-14T09:26:42.065Z"
   },
   {
    "duration": 81,
    "start_time": "2023-11-14T09:27:39.384Z"
   },
   {
    "duration": 88,
    "start_time": "2023-11-14T09:28:02.973Z"
   },
   {
    "duration": 83,
    "start_time": "2023-11-14T09:31:25.706Z"
   },
   {
    "duration": 2735,
    "start_time": "2023-11-14T09:31:59.009Z"
   },
   {
    "duration": 429,
    "start_time": "2023-11-14T09:33:10.979Z"
   },
   {
    "duration": 2324,
    "start_time": "2023-11-14T09:33:22.051Z"
   },
   {
    "duration": 2529,
    "start_time": "2023-11-14T09:33:32.171Z"
   },
   {
    "duration": 2461,
    "start_time": "2023-11-14T09:35:57.501Z"
   },
   {
    "duration": 2360,
    "start_time": "2023-11-14T09:36:18.020Z"
   },
   {
    "duration": 146,
    "start_time": "2023-11-14T09:40:50.677Z"
   },
   {
    "duration": 87,
    "start_time": "2023-11-14T09:41:20.037Z"
   },
   {
    "duration": 260,
    "start_time": "2023-11-14T09:41:35.504Z"
   },
   {
    "duration": 1635,
    "start_time": "2023-11-14T09:42:24.680Z"
   },
   {
    "duration": 1539,
    "start_time": "2023-11-14T09:42:49.359Z"
   },
   {
    "duration": 1533,
    "start_time": "2023-11-14T09:43:22.191Z"
   },
   {
    "duration": 1576,
    "start_time": "2023-11-14T09:43:50.192Z"
   },
   {
    "duration": 1605,
    "start_time": "2023-11-14T09:44:02.155Z"
   },
   {
    "duration": 1571,
    "start_time": "2023-11-14T09:44:11.223Z"
   },
   {
    "duration": 1538,
    "start_time": "2023-11-14T09:45:06.052Z"
   },
   {
    "duration": 1159,
    "start_time": "2023-11-14T09:46:39.746Z"
   },
   {
    "duration": 1543,
    "start_time": "2023-11-14T09:47:51.257Z"
   },
   {
    "duration": 1170,
    "start_time": "2023-11-14T09:47:59.687Z"
   },
   {
    "duration": 1556,
    "start_time": "2023-11-14T09:48:42.560Z"
   },
   {
    "duration": 1455,
    "start_time": "2023-11-14T09:49:10.253Z"
   },
   {
    "duration": 1549,
    "start_time": "2023-11-14T09:49:29.455Z"
   },
   {
    "duration": 1568,
    "start_time": "2023-11-14T09:49:50.051Z"
   },
   {
    "duration": 1413,
    "start_time": "2023-11-14T09:50:45.378Z"
   },
   {
    "duration": 958,
    "start_time": "2023-11-14T09:51:14.818Z"
   },
   {
    "duration": 1561,
    "start_time": "2023-11-14T10:29:12.635Z"
   },
   {
    "duration": 16,
    "start_time": "2023-11-14T10:43:11.873Z"
   },
   {
    "duration": 11,
    "start_time": "2023-11-14T10:44:04.667Z"
   },
   {
    "duration": 22,
    "start_time": "2023-11-14T10:46:13.554Z"
   },
   {
    "duration": 12,
    "start_time": "2023-11-14T10:46:27.913Z"
   },
   {
    "duration": 1316,
    "start_time": "2023-11-14T10:56:24.388Z"
   },
   {
    "duration": 1541,
    "start_time": "2023-11-14T10:57:15.777Z"
   },
   {
    "duration": 32,
    "start_time": "2023-11-14T11:00:03.871Z"
   },
   {
    "duration": 3,
    "start_time": "2023-11-14T11:05:46.366Z"
   },
   {
    "duration": 1197,
    "start_time": "2023-11-14T11:09:40.885Z"
   },
   {
    "duration": 1094,
    "start_time": "2023-11-14T11:09:59.907Z"
   },
   {
    "duration": 1156,
    "start_time": "2023-11-14T11:10:14.809Z"
   },
   {
    "duration": 1047,
    "start_time": "2023-11-14T11:14:30.629Z"
   },
   {
    "duration": 1177,
    "start_time": "2023-11-14T11:16:22.804Z"
   },
   {
    "duration": 9,
    "start_time": "2023-11-14T11:25:36.798Z"
   },
   {
    "duration": 5,
    "start_time": "2023-11-14T11:25:43.480Z"
   },
   {
    "duration": 5,
    "start_time": "2023-11-14T11:28:40.016Z"
   },
   {
    "duration": 4,
    "start_time": "2023-11-14T11:28:48.107Z"
   },
   {
    "duration": 823,
    "start_time": "2023-11-14T11:28:48.116Z"
   },
   {
    "duration": 9,
    "start_time": "2023-11-14T11:28:48.947Z"
   },
   {
    "duration": 996,
    "start_time": "2023-11-14T11:28:48.958Z"
   },
   {
    "duration": 8,
    "start_time": "2023-11-14T11:28:49.956Z"
   },
   {
    "duration": 5,
    "start_time": "2023-11-14T11:28:49.970Z"
   },
   {
    "duration": 30,
    "start_time": "2023-11-14T11:28:49.977Z"
   },
   {
    "duration": 40,
    "start_time": "2023-11-14T11:28:50.009Z"
   },
   {
    "duration": 14,
    "start_time": "2023-11-14T11:28:50.050Z"
   },
   {
    "duration": 47,
    "start_time": "2023-11-14T11:28:50.066Z"
   },
   {
    "duration": 56,
    "start_time": "2023-11-14T11:28:50.114Z"
   },
   {
    "duration": 3534,
    "start_time": "2023-11-14T11:28:50.171Z"
   },
   {
    "duration": 1330,
    "start_time": "2023-11-14T11:28:53.707Z"
   },
   {
    "duration": 1226,
    "start_time": "2023-11-14T11:28:55.039Z"
   },
   {
    "duration": 33,
    "start_time": "2023-11-14T11:28:56.268Z"
   },
   {
    "duration": 1109,
    "start_time": "2023-11-14T11:28:56.302Z"
   },
   {
    "duration": 4,
    "start_time": "2023-11-14T11:28:57.413Z"
   },
   {
    "duration": 8,
    "start_time": "2023-11-14T11:29:43.543Z"
   },
   {
    "duration": 801,
    "start_time": "2023-11-14T11:29:43.553Z"
   },
   {
    "duration": 6,
    "start_time": "2023-11-14T11:29:44.356Z"
   },
   {
    "duration": 953,
    "start_time": "2023-11-14T11:29:44.364Z"
   },
   {
    "duration": 23,
    "start_time": "2023-11-14T11:29:45.319Z"
   },
   {
    "duration": 7,
    "start_time": "2023-11-14T11:29:45.343Z"
   },
   {
    "duration": 20,
    "start_time": "2023-11-14T11:29:45.351Z"
   },
   {
    "duration": 12,
    "start_time": "2023-11-14T11:29:45.373Z"
   },
   {
    "duration": 3,
    "start_time": "2023-11-14T11:29:45.387Z"
   },
   {
    "duration": 65,
    "start_time": "2023-11-14T11:29:45.391Z"
   },
   {
    "duration": 42,
    "start_time": "2023-11-14T11:29:45.460Z"
   },
   {
    "duration": 3517,
    "start_time": "2023-11-14T11:29:45.503Z"
   },
   {
    "duration": 1563,
    "start_time": "2023-11-14T11:29:49.022Z"
   },
   {
    "duration": 1032,
    "start_time": "2023-11-14T11:29:50.588Z"
   },
   {
    "duration": 49,
    "start_time": "2023-11-14T11:29:51.622Z"
   },
   {
    "duration": 1140,
    "start_time": "2023-11-14T11:29:51.673Z"
   },
   {
    "duration": 5,
    "start_time": "2023-11-14T11:29:52.815Z"
   },
   {
    "duration": 14,
    "start_time": "2023-11-14T11:35:19.810Z"
   },
   {
    "duration": 88,
    "start_time": "2023-11-14T13:01:19.184Z"
   },
   {
    "duration": 6,
    "start_time": "2023-11-14T13:01:25.047Z"
   },
   {
    "duration": 13,
    "start_time": "2023-11-14T13:05:03.253Z"
   },
   {
    "duration": 10,
    "start_time": "2023-11-14T13:05:36.190Z"
   },
   {
    "duration": 6,
    "start_time": "2023-11-14T13:06:45.021Z"
   },
   {
    "duration": 5,
    "start_time": "2023-11-14T13:06:58.308Z"
   },
   {
    "duration": 8,
    "start_time": "2023-11-14T13:08:41.926Z"
   },
   {
    "duration": 103,
    "start_time": "2023-11-14T13:08:57.604Z"
   },
   {
    "duration": 19,
    "start_time": "2023-11-14T13:09:15.725Z"
   },
   {
    "duration": 19,
    "start_time": "2023-11-14T13:09:29.848Z"
   },
   {
    "duration": 15,
    "start_time": "2023-11-14T13:09:41.591Z"
   },
   {
    "duration": 14,
    "start_time": "2023-11-14T13:09:50.414Z"
   },
   {
    "duration": 16,
    "start_time": "2023-11-14T13:09:58.775Z"
   },
   {
    "duration": 4,
    "start_time": "2023-11-14T13:10:02.564Z"
   },
   {
    "duration": 824,
    "start_time": "2023-11-14T13:10:02.571Z"
   },
   {
    "duration": 4,
    "start_time": "2023-11-14T13:10:03.397Z"
   },
   {
    "duration": 1082,
    "start_time": "2023-11-14T13:10:03.403Z"
   },
   {
    "duration": 7,
    "start_time": "2023-11-14T13:10:04.487Z"
   },
   {
    "duration": 34,
    "start_time": "2023-11-14T13:10:04.497Z"
   },
   {
    "duration": 21,
    "start_time": "2023-11-14T13:10:04.533Z"
   },
   {
    "duration": 16,
    "start_time": "2023-11-14T13:10:04.556Z"
   },
   {
    "duration": 4,
    "start_time": "2023-11-14T13:10:04.574Z"
   },
   {
    "duration": 72,
    "start_time": "2023-11-14T13:10:04.580Z"
   },
   {
    "duration": 46,
    "start_time": "2023-11-14T13:10:04.654Z"
   },
   {
    "duration": 3747,
    "start_time": "2023-11-14T13:10:04.732Z"
   },
   {
    "duration": 1611,
    "start_time": "2023-11-14T13:10:08.482Z"
   },
   {
    "duration": 1262,
    "start_time": "2023-11-14T13:10:10.095Z"
   },
   {
    "duration": 34,
    "start_time": "2023-11-14T13:10:11.359Z"
   },
   {
    "duration": 1005,
    "start_time": "2023-11-14T13:10:11.395Z"
   },
   {
    "duration": 14,
    "start_time": "2023-11-14T13:10:12.401Z"
   },
   {
    "duration": 6,
    "start_time": "2023-11-14T13:10:12.430Z"
   },
   {
    "duration": 34,
    "start_time": "2023-11-14T13:10:12.438Z"
   },
   {
    "duration": 17,
    "start_time": "2023-11-14T13:10:31.055Z"
   },
   {
    "duration": 14,
    "start_time": "2023-11-14T13:10:50.000Z"
   },
   {
    "duration": 20,
    "start_time": "2023-11-14T13:10:56.632Z"
   },
   {
    "duration": 15,
    "start_time": "2023-11-14T13:11:03.706Z"
   },
   {
    "duration": 5,
    "start_time": "2023-11-14T13:11:07.590Z"
   },
   {
    "duration": 843,
    "start_time": "2023-11-14T13:11:07.598Z"
   },
   {
    "duration": 5,
    "start_time": "2023-11-14T13:11:08.443Z"
   },
   {
    "duration": 1023,
    "start_time": "2023-11-14T13:11:08.450Z"
   },
   {
    "duration": 8,
    "start_time": "2023-11-14T13:11:09.475Z"
   },
   {
    "duration": 18,
    "start_time": "2023-11-14T13:11:09.485Z"
   },
   {
    "duration": 41,
    "start_time": "2023-11-14T13:11:09.505Z"
   },
   {
    "duration": 14,
    "start_time": "2023-11-14T13:11:09.548Z"
   },
   {
    "duration": 5,
    "start_time": "2023-11-14T13:11:09.565Z"
   },
   {
    "duration": 70,
    "start_time": "2023-11-14T13:11:09.572Z"
   },
   {
    "duration": 47,
    "start_time": "2023-11-14T13:11:09.644Z"
   },
   {
    "duration": 3377,
    "start_time": "2023-11-14T13:11:09.693Z"
   },
   {
    "duration": 1616,
    "start_time": "2023-11-14T13:11:13.072Z"
   },
   {
    "duration": 1176,
    "start_time": "2023-11-14T13:11:14.690Z"
   },
   {
    "duration": 35,
    "start_time": "2023-11-14T13:11:15.869Z"
   },
   {
    "duration": 1183,
    "start_time": "2023-11-14T13:11:15.906Z"
   },
   {
    "duration": 14,
    "start_time": "2023-11-14T13:11:17.091Z"
   },
   {
    "duration": 25,
    "start_time": "2023-11-14T13:11:17.107Z"
   },
   {
    "duration": 10,
    "start_time": "2023-11-14T13:11:17.134Z"
   },
   {
    "duration": 5,
    "start_time": "2023-11-14T13:11:44.062Z"
   },
   {
    "duration": 5,
    "start_time": "2023-11-14T13:12:07.255Z"
   },
   {
    "duration": 3,
    "start_time": "2023-11-14T13:30:51.036Z"
   },
   {
    "duration": 5,
    "start_time": "2023-11-14T13:30:59.770Z"
   },
   {
    "duration": 872,
    "start_time": "2023-11-14T13:30:59.777Z"
   },
   {
    "duration": 6,
    "start_time": "2023-11-14T13:31:00.652Z"
   },
   {
    "duration": 1016,
    "start_time": "2023-11-14T13:31:00.659Z"
   },
   {
    "duration": 8,
    "start_time": "2023-11-14T13:31:01.677Z"
   },
   {
    "duration": 69,
    "start_time": "2023-11-14T13:31:01.687Z"
   },
   {
    "duration": 41,
    "start_time": "2023-11-14T13:31:01.758Z"
   },
   {
    "duration": 49,
    "start_time": "2023-11-14T13:31:01.801Z"
   },
   {
    "duration": 23,
    "start_time": "2023-11-14T13:31:01.852Z"
   },
   {
    "duration": 101,
    "start_time": "2023-11-14T13:31:01.877Z"
   },
   {
    "duration": 60,
    "start_time": "2023-11-14T13:31:01.980Z"
   },
   {
    "duration": 3642,
    "start_time": "2023-11-14T13:31:02.042Z"
   },
   {
    "duration": 1421,
    "start_time": "2023-11-14T13:31:05.686Z"
   },
   {
    "duration": 1346,
    "start_time": "2023-11-14T13:31:07.110Z"
   },
   {
    "duration": 31,
    "start_time": "2023-11-14T13:31:08.458Z"
   },
   {
    "duration": 1088,
    "start_time": "2023-11-14T13:31:08.491Z"
   },
   {
    "duration": 14,
    "start_time": "2023-11-14T13:31:09.581Z"
   },
   {
    "duration": 10,
    "start_time": "2023-11-14T13:31:09.597Z"
   },
   {
    "duration": 26,
    "start_time": "2023-11-14T13:31:09.609Z"
   },
   {
    "duration": 15,
    "start_time": "2023-11-14T13:31:09.637Z"
   },
   {
    "duration": 11,
    "start_time": "2023-11-14T13:31:09.655Z"
   },
   {
    "duration": 5,
    "start_time": "2023-11-14T13:31:09.668Z"
   },
   {
    "duration": 5,
    "start_time": "2023-11-14T13:31:09.675Z"
   },
   {
    "duration": 8,
    "start_time": "2023-11-14T13:41:12.133Z"
   },
   {
    "duration": 8,
    "start_time": "2023-11-14T13:41:42.045Z"
   },
   {
    "duration": 817,
    "start_time": "2023-11-14T13:41:42.056Z"
   },
   {
    "duration": 5,
    "start_time": "2023-11-14T13:41:42.876Z"
   },
   {
    "duration": 1044,
    "start_time": "2023-11-14T13:41:42.883Z"
   },
   {
    "duration": 9,
    "start_time": "2023-11-14T13:41:43.932Z"
   },
   {
    "duration": 14,
    "start_time": "2023-11-14T13:41:43.943Z"
   },
   {
    "duration": 17,
    "start_time": "2023-11-14T13:41:43.959Z"
   },
   {
    "duration": 14,
    "start_time": "2023-11-14T13:41:43.978Z"
   },
   {
    "duration": 5,
    "start_time": "2023-11-14T13:41:43.994Z"
   },
   {
    "duration": 80,
    "start_time": "2023-11-14T13:41:44.001Z"
   },
   {
    "duration": 74,
    "start_time": "2023-11-14T13:41:44.083Z"
   },
   {
    "duration": 3813,
    "start_time": "2023-11-14T13:41:44.160Z"
   },
   {
    "duration": 1755,
    "start_time": "2023-11-14T13:41:47.975Z"
   },
   {
    "duration": 973,
    "start_time": "2023-11-14T13:41:49.733Z"
   },
   {
    "duration": 49,
    "start_time": "2023-11-14T13:41:50.708Z"
   },
   {
    "duration": 1175,
    "start_time": "2023-11-14T13:41:50.759Z"
   },
   {
    "duration": 19,
    "start_time": "2023-11-14T13:41:51.936Z"
   },
   {
    "duration": 5,
    "start_time": "2023-11-14T13:41:51.958Z"
   },
   {
    "duration": 9,
    "start_time": "2023-11-14T13:41:51.964Z"
   },
   {
    "duration": 10,
    "start_time": "2023-11-14T13:41:51.975Z"
   },
   {
    "duration": 11,
    "start_time": "2023-11-14T13:41:51.987Z"
   },
   {
    "duration": 6,
    "start_time": "2023-11-14T13:41:52.030Z"
   },
   {
    "duration": 7,
    "start_time": "2023-11-14T13:41:52.038Z"
   },
   {
    "duration": 16,
    "start_time": "2023-11-14T13:41:52.047Z"
   },
   {
    "duration": 1661,
    "start_time": "2023-11-14T13:42:03.021Z"
   },
   {
    "duration": 871,
    "start_time": "2023-11-14T13:42:04.685Z"
   },
   {
    "duration": 6,
    "start_time": "2023-11-14T13:42:05.558Z"
   },
   {
    "duration": 1088,
    "start_time": "2023-11-14T13:42:05.567Z"
   },
   {
    "duration": 9,
    "start_time": "2023-11-14T13:42:06.657Z"
   },
   {
    "duration": 35,
    "start_time": "2023-11-14T13:42:06.668Z"
   },
   {
    "duration": 38,
    "start_time": "2023-11-14T13:42:06.704Z"
   },
   {
    "duration": 23,
    "start_time": "2023-11-14T13:42:06.744Z"
   },
   {
    "duration": 120,
    "start_time": "2023-11-14T13:42:06.769Z"
   },
   {
    "duration": 0,
    "start_time": "2023-11-14T13:42:06.892Z"
   },
   {
    "duration": 0,
    "start_time": "2023-11-14T13:42:06.893Z"
   },
   {
    "duration": 0,
    "start_time": "2023-11-14T13:42:06.894Z"
   },
   {
    "duration": 0,
    "start_time": "2023-11-14T13:42:06.895Z"
   },
   {
    "duration": 0,
    "start_time": "2023-11-14T13:42:06.896Z"
   },
   {
    "duration": 0,
    "start_time": "2023-11-14T13:42:06.897Z"
   },
   {
    "duration": 0,
    "start_time": "2023-11-14T13:42:06.898Z"
   },
   {
    "duration": 0,
    "start_time": "2023-11-14T13:42:06.899Z"
   },
   {
    "duration": 0,
    "start_time": "2023-11-14T13:42:06.900Z"
   },
   {
    "duration": 0,
    "start_time": "2023-11-14T13:42:06.901Z"
   },
   {
    "duration": 0,
    "start_time": "2023-11-14T13:42:06.903Z"
   },
   {
    "duration": 0,
    "start_time": "2023-11-14T13:42:06.931Z"
   },
   {
    "duration": 0,
    "start_time": "2023-11-14T13:42:06.932Z"
   },
   {
    "duration": 0,
    "start_time": "2023-11-14T13:42:06.934Z"
   },
   {
    "duration": 0,
    "start_time": "2023-11-14T13:42:06.935Z"
   },
   {
    "duration": 121,
    "start_time": "2023-11-14T14:01:54.965Z"
   },
   {
    "duration": 141,
    "start_time": "2023-11-14T14:03:59.535Z"
   },
   {
    "duration": 5,
    "start_time": "2023-11-14T14:04:03.923Z"
   },
   {
    "duration": 966,
    "start_time": "2023-11-14T14:04:03.932Z"
   },
   {
    "duration": 4,
    "start_time": "2023-11-14T14:04:04.900Z"
   },
   {
    "duration": 1055,
    "start_time": "2023-11-14T14:04:04.906Z"
   },
   {
    "duration": 9,
    "start_time": "2023-11-14T14:04:05.964Z"
   },
   {
    "duration": 15,
    "start_time": "2023-11-14T14:04:05.975Z"
   },
   {
    "duration": 22,
    "start_time": "2023-11-14T14:04:05.992Z"
   },
   {
    "duration": 26,
    "start_time": "2023-11-14T14:04:06.035Z"
   },
   {
    "duration": 15,
    "start_time": "2023-11-14T14:04:06.063Z"
   },
   {
    "duration": 0,
    "start_time": "2023-11-14T14:04:06.080Z"
   },
   {
    "duration": 0,
    "start_time": "2023-11-14T14:04:06.081Z"
   },
   {
    "duration": 0,
    "start_time": "2023-11-14T14:04:06.083Z"
   },
   {
    "duration": 0,
    "start_time": "2023-11-14T14:04:06.085Z"
   },
   {
    "duration": 0,
    "start_time": "2023-11-14T14:04:06.086Z"
   },
   {
    "duration": 0,
    "start_time": "2023-11-14T14:04:06.087Z"
   },
   {
    "duration": 0,
    "start_time": "2023-11-14T14:04:06.088Z"
   },
   {
    "duration": 0,
    "start_time": "2023-11-14T14:04:06.090Z"
   },
   {
    "duration": 0,
    "start_time": "2023-11-14T14:04:06.091Z"
   },
   {
    "duration": 0,
    "start_time": "2023-11-14T14:04:06.092Z"
   },
   {
    "duration": 0,
    "start_time": "2023-11-14T14:04:06.093Z"
   },
   {
    "duration": 0,
    "start_time": "2023-11-14T14:04:06.094Z"
   },
   {
    "duration": 0,
    "start_time": "2023-11-14T14:04:06.095Z"
   },
   {
    "duration": 0,
    "start_time": "2023-11-14T14:04:06.096Z"
   },
   {
    "duration": 0,
    "start_time": "2023-11-14T14:04:06.097Z"
   },
   {
    "duration": 0,
    "start_time": "2023-11-14T14:04:06.098Z"
   },
   {
    "duration": 227,
    "start_time": "2023-11-14T14:06:09.344Z"
   },
   {
    "duration": 10,
    "start_time": "2023-11-14T14:06:23.828Z"
   },
   {
    "duration": 863,
    "start_time": "2023-11-14T14:06:23.851Z"
   },
   {
    "duration": 4,
    "start_time": "2023-11-14T14:06:24.716Z"
   },
   {
    "duration": 1049,
    "start_time": "2023-11-14T14:06:24.722Z"
   },
   {
    "duration": 9,
    "start_time": "2023-11-14T14:06:25.773Z"
   },
   {
    "duration": 11,
    "start_time": "2023-11-14T14:06:25.784Z"
   },
   {
    "duration": 45,
    "start_time": "2023-11-14T14:06:25.796Z"
   },
   {
    "duration": 12,
    "start_time": "2023-11-14T14:06:25.849Z"
   },
   {
    "duration": 10,
    "start_time": "2023-11-14T14:06:25.863Z"
   },
   {
    "duration": 0,
    "start_time": "2023-11-14T14:06:25.875Z"
   },
   {
    "duration": 0,
    "start_time": "2023-11-14T14:06:25.876Z"
   },
   {
    "duration": 0,
    "start_time": "2023-11-14T14:06:25.878Z"
   },
   {
    "duration": 0,
    "start_time": "2023-11-14T14:06:25.879Z"
   },
   {
    "duration": 0,
    "start_time": "2023-11-14T14:06:25.880Z"
   },
   {
    "duration": 0,
    "start_time": "2023-11-14T14:06:25.881Z"
   },
   {
    "duration": 0,
    "start_time": "2023-11-14T14:06:25.882Z"
   },
   {
    "duration": 0,
    "start_time": "2023-11-14T14:06:25.884Z"
   },
   {
    "duration": 0,
    "start_time": "2023-11-14T14:06:25.885Z"
   },
   {
    "duration": 0,
    "start_time": "2023-11-14T14:06:25.886Z"
   },
   {
    "duration": 0,
    "start_time": "2023-11-14T14:06:25.887Z"
   },
   {
    "duration": 0,
    "start_time": "2023-11-14T14:06:25.888Z"
   },
   {
    "duration": 0,
    "start_time": "2023-11-14T14:06:25.889Z"
   },
   {
    "duration": 0,
    "start_time": "2023-11-14T14:06:25.891Z"
   },
   {
    "duration": 0,
    "start_time": "2023-11-14T14:06:25.892Z"
   },
   {
    "duration": 0,
    "start_time": "2023-11-14T14:06:25.893Z"
   },
   {
    "duration": 177,
    "start_time": "2023-11-14T14:07:01.314Z"
   },
   {
    "duration": 1649,
    "start_time": "2023-11-15T08:10:54.624Z"
   },
   {
    "duration": 1935,
    "start_time": "2023-11-15T08:10:56.275Z"
   },
   {
    "duration": 4,
    "start_time": "2023-11-15T08:10:58.212Z"
   },
   {
    "duration": 861,
    "start_time": "2023-11-15T08:10:58.218Z"
   },
   {
    "duration": 19,
    "start_time": "2023-11-15T08:10:59.081Z"
   },
   {
    "duration": 5,
    "start_time": "2023-11-15T08:10:59.102Z"
   },
   {
    "duration": 23,
    "start_time": "2023-11-15T08:10:59.108Z"
   },
   {
    "duration": 11,
    "start_time": "2023-11-15T08:10:59.133Z"
   },
   {
    "duration": 29,
    "start_time": "2023-11-15T08:10:59.145Z"
   },
   {
    "duration": 42,
    "start_time": "2023-11-15T08:10:59.199Z"
   },
   {
    "duration": 3190,
    "start_time": "2023-11-15T08:10:59.243Z"
   },
   {
    "duration": 1475,
    "start_time": "2023-11-15T08:11:02.435Z"
   },
   {
    "duration": 865,
    "start_time": "2023-11-15T08:11:03.911Z"
   },
   {
    "duration": 36,
    "start_time": "2023-11-15T08:11:04.779Z"
   },
   {
    "duration": 1022,
    "start_time": "2023-11-15T08:11:04.816Z"
   },
   {
    "duration": 12,
    "start_time": "2023-11-15T08:11:05.840Z"
   },
   {
    "duration": 17,
    "start_time": "2023-11-15T08:11:05.853Z"
   },
   {
    "duration": 17,
    "start_time": "2023-11-15T08:11:05.871Z"
   },
   {
    "duration": 30,
    "start_time": "2023-11-15T08:11:05.889Z"
   },
   {
    "duration": 39,
    "start_time": "2023-11-15T08:11:05.921Z"
   },
   {
    "duration": 9,
    "start_time": "2023-11-15T08:11:05.962Z"
   },
   {
    "duration": 5,
    "start_time": "2023-11-15T08:11:05.972Z"
   },
   {
    "duration": 11,
    "start_time": "2023-11-15T08:11:05.979Z"
   },
   {
    "duration": 308,
    "start_time": "2023-11-15T08:11:05.992Z"
   },
   {
    "duration": 338,
    "start_time": "2023-11-15T08:11:06.302Z"
   },
   {
    "duration": 43,
    "start_time": "2023-11-15T13:01:12.432Z"
   },
   {
    "duration": 5,
    "start_time": "2023-11-15T13:01:34.108Z"
   },
   {
    "duration": 1717,
    "start_time": "2023-11-15T13:01:36.956Z"
   },
   {
    "duration": 1952,
    "start_time": "2023-11-15T13:01:38.677Z"
   },
   {
    "duration": 4,
    "start_time": "2023-11-15T13:01:40.630Z"
   },
   {
    "duration": 989,
    "start_time": "2023-11-15T13:01:40.635Z"
   },
   {
    "duration": 7,
    "start_time": "2023-11-15T13:01:41.625Z"
   },
   {
    "duration": 10,
    "start_time": "2023-11-15T13:01:41.633Z"
   },
   {
    "duration": 25,
    "start_time": "2023-11-15T13:01:41.656Z"
   },
   {
    "duration": 21,
    "start_time": "2023-11-15T13:01:41.683Z"
   },
   {
    "duration": 31,
    "start_time": "2023-11-15T13:01:41.706Z"
   },
   {
    "duration": 45,
    "start_time": "2023-11-15T13:01:41.755Z"
   },
   {
    "duration": 3067,
    "start_time": "2023-11-15T13:01:41.802Z"
   },
   {
    "duration": 1459,
    "start_time": "2023-11-15T13:01:44.871Z"
   },
   {
    "duration": 952,
    "start_time": "2023-11-15T13:01:46.331Z"
   },
   {
    "duration": 31,
    "start_time": "2023-11-15T13:01:47.286Z"
   },
   {
    "duration": 998,
    "start_time": "2023-11-15T13:01:47.318Z"
   },
   {
    "duration": 12,
    "start_time": "2023-11-15T13:01:48.317Z"
   },
   {
    "duration": 20,
    "start_time": "2023-11-15T13:01:48.330Z"
   },
   {
    "duration": 17,
    "start_time": "2023-11-15T13:01:48.351Z"
   },
   {
    "duration": 10,
    "start_time": "2023-11-15T13:01:48.370Z"
   },
   {
    "duration": 16,
    "start_time": "2023-11-15T13:01:48.381Z"
   },
   {
    "duration": 17,
    "start_time": "2023-11-15T13:01:48.399Z"
   },
   {
    "duration": 8,
    "start_time": "2023-11-15T13:01:48.417Z"
   },
   {
    "duration": 22,
    "start_time": "2023-11-15T13:01:48.426Z"
   },
   {
    "duration": 51,
    "start_time": "2023-11-15T13:01:48.450Z"
   },
   {
    "duration": 198,
    "start_time": "2023-11-15T13:01:48.503Z"
   },
   {
    "duration": 171,
    "start_time": "2023-11-15T13:01:48.703Z"
   },
   {
    "duration": 119,
    "start_time": "2023-11-15T13:01:48.876Z"
   },
   {
    "duration": 111,
    "start_time": "2023-11-15T13:09:28.743Z"
   },
   {
    "duration": 126,
    "start_time": "2023-11-15T13:10:17.297Z"
   },
   {
    "duration": 5,
    "start_time": "2023-11-15T13:10:25.422Z"
   },
   {
    "duration": 849,
    "start_time": "2023-11-15T13:10:25.429Z"
   },
   {
    "duration": 4,
    "start_time": "2023-11-15T13:10:26.280Z"
   },
   {
    "duration": 897,
    "start_time": "2023-11-15T13:10:26.285Z"
   },
   {
    "duration": 6,
    "start_time": "2023-11-15T13:10:27.184Z"
   },
   {
    "duration": 44,
    "start_time": "2023-11-15T13:10:27.191Z"
   },
   {
    "duration": 39,
    "start_time": "2023-11-15T13:10:27.237Z"
   },
   {
    "duration": 56,
    "start_time": "2023-11-15T13:10:27.278Z"
   },
   {
    "duration": 111,
    "start_time": "2023-11-15T13:10:27.337Z"
   },
   {
    "duration": 46,
    "start_time": "2023-11-15T13:10:27.449Z"
   },
   {
    "duration": 2933,
    "start_time": "2023-11-15T13:10:27.497Z"
   },
   {
    "duration": 1260,
    "start_time": "2023-11-15T13:10:30.432Z"
   },
   {
    "duration": 1092,
    "start_time": "2023-11-15T13:10:31.694Z"
   },
   {
    "duration": 27,
    "start_time": "2023-11-15T13:10:32.788Z"
   },
   {
    "duration": 856,
    "start_time": "2023-11-15T13:10:32.816Z"
   },
   {
    "duration": 114,
    "start_time": "2023-11-15T13:10:33.674Z"
   },
   {
    "duration": 4,
    "start_time": "2023-11-15T13:10:33.790Z"
   },
   {
    "duration": 138,
    "start_time": "2023-11-15T13:10:33.795Z"
   },
   {
    "duration": 45,
    "start_time": "2023-11-15T13:10:33.935Z"
   },
   {
    "duration": 33,
    "start_time": "2023-11-15T13:10:33.981Z"
   },
   {
    "duration": 96,
    "start_time": "2023-11-15T13:10:34.015Z"
   },
   {
    "duration": 33,
    "start_time": "2023-11-15T13:10:34.113Z"
   },
   {
    "duration": 50,
    "start_time": "2023-11-15T13:10:34.148Z"
   },
   {
    "duration": 14,
    "start_time": "2023-11-15T13:10:34.201Z"
   },
   {
    "duration": 32,
    "start_time": "2023-11-15T13:10:34.216Z"
   },
   {
    "duration": 139,
    "start_time": "2023-11-15T13:10:34.250Z"
   },
   {
    "duration": 0,
    "start_time": "2023-11-15T13:10:34.390Z"
   },
   {
    "duration": 0,
    "start_time": "2023-11-15T13:10:34.391Z"
   },
   {
    "duration": 132,
    "start_time": "2023-11-15T13:11:36.961Z"
   },
   {
    "duration": 5,
    "start_time": "2023-11-15T13:13:14.375Z"
   },
   {
    "duration": 771,
    "start_time": "2023-11-15T13:13:14.383Z"
   },
   {
    "duration": 5,
    "start_time": "2023-11-15T13:13:15.155Z"
   },
   {
    "duration": 904,
    "start_time": "2023-11-15T13:13:15.162Z"
   },
   {
    "duration": 7,
    "start_time": "2023-11-15T13:13:16.068Z"
   },
   {
    "duration": 38,
    "start_time": "2023-11-15T13:13:16.077Z"
   },
   {
    "duration": 49,
    "start_time": "2023-11-15T13:13:16.117Z"
   },
   {
    "duration": 36,
    "start_time": "2023-11-15T13:13:16.168Z"
   },
   {
    "duration": 110,
    "start_time": "2023-11-15T13:13:16.206Z"
   },
   {
    "duration": 46,
    "start_time": "2023-11-15T13:13:16.317Z"
   },
   {
    "duration": 2911,
    "start_time": "2023-11-15T13:13:16.365Z"
   },
   {
    "duration": 1500,
    "start_time": "2023-11-15T13:13:19.278Z"
   },
   {
    "duration": 966,
    "start_time": "2023-11-15T13:13:20.781Z"
   },
   {
    "duration": 159,
    "start_time": "2023-11-15T13:13:21.755Z"
   },
   {
    "duration": 881,
    "start_time": "2023-11-15T13:13:21.915Z"
   },
   {
    "duration": 13,
    "start_time": "2023-11-15T13:13:22.798Z"
   },
   {
    "duration": 63,
    "start_time": "2023-11-15T13:13:22.813Z"
   },
   {
    "duration": 22,
    "start_time": "2023-11-15T13:13:22.878Z"
   },
   {
    "duration": 35,
    "start_time": "2023-11-15T13:13:22.902Z"
   },
   {
    "duration": 29,
    "start_time": "2023-11-15T13:13:22.939Z"
   },
   {
    "duration": 8,
    "start_time": "2023-11-15T13:13:22.969Z"
   },
   {
    "duration": 9,
    "start_time": "2023-11-15T13:13:22.978Z"
   },
   {
    "duration": 13,
    "start_time": "2023-11-15T13:13:22.989Z"
   },
   {
    "duration": 25,
    "start_time": "2023-11-15T13:13:23.003Z"
   },
   {
    "duration": 32,
    "start_time": "2023-11-15T13:13:23.029Z"
   },
   {
    "duration": 110,
    "start_time": "2023-11-15T13:13:23.063Z"
   },
   {
    "duration": 0,
    "start_time": "2023-11-15T13:13:23.175Z"
   },
   {
    "duration": 0,
    "start_time": "2023-11-15T13:13:23.176Z"
   },
   {
    "duration": 106,
    "start_time": "2023-11-15T13:18:34.449Z"
   },
   {
    "duration": 108,
    "start_time": "2023-11-15T13:20:07.393Z"
   },
   {
    "duration": 137,
    "start_time": "2023-11-15T13:21:46.327Z"
   },
   {
    "duration": 143,
    "start_time": "2023-11-15T13:27:29.806Z"
   },
   {
    "duration": 127,
    "start_time": "2023-11-15T13:29:53.417Z"
   },
   {
    "duration": 8,
    "start_time": "2023-11-15T13:29:58.933Z"
   },
   {
    "duration": 4,
    "start_time": "2023-11-15T13:30:16.847Z"
   },
   {
    "duration": 868,
    "start_time": "2023-11-15T13:30:16.853Z"
   },
   {
    "duration": 4,
    "start_time": "2023-11-15T13:30:17.722Z"
   },
   {
    "duration": 956,
    "start_time": "2023-11-15T13:30:17.728Z"
   },
   {
    "duration": 7,
    "start_time": "2023-11-15T13:30:18.685Z"
   },
   {
    "duration": 14,
    "start_time": "2023-11-15T13:30:18.693Z"
   },
   {
    "duration": 17,
    "start_time": "2023-11-15T13:30:18.709Z"
   },
   {
    "duration": 48,
    "start_time": "2023-11-15T13:30:18.728Z"
   },
   {
    "duration": 29,
    "start_time": "2023-11-15T13:30:18.779Z"
   },
   {
    "duration": 67,
    "start_time": "2023-11-15T13:30:18.810Z"
   },
   {
    "duration": 3193,
    "start_time": "2023-11-15T13:30:18.878Z"
   },
   {
    "duration": 1637,
    "start_time": "2023-11-15T13:30:22.086Z"
   },
   {
    "duration": 985,
    "start_time": "2023-11-15T13:30:23.725Z"
   },
   {
    "duration": 27,
    "start_time": "2023-11-15T13:30:24.712Z"
   },
   {
    "duration": 1095,
    "start_time": "2023-11-15T13:30:24.740Z"
   },
   {
    "duration": 23,
    "start_time": "2023-11-15T13:30:25.837Z"
   },
   {
    "duration": 16,
    "start_time": "2023-11-15T13:30:25.862Z"
   },
   {
    "duration": 25,
    "start_time": "2023-11-15T13:30:25.881Z"
   },
   {
    "duration": 21,
    "start_time": "2023-11-15T13:30:25.907Z"
   },
   {
    "duration": 12,
    "start_time": "2023-11-15T13:30:25.930Z"
   },
   {
    "duration": 23,
    "start_time": "2023-11-15T13:30:25.943Z"
   },
   {
    "duration": 6,
    "start_time": "2023-11-15T13:30:25.969Z"
   },
   {
    "duration": 26,
    "start_time": "2023-11-15T13:30:25.979Z"
   },
   {
    "duration": 32,
    "start_time": "2023-11-15T13:30:26.008Z"
   },
   {
    "duration": 27,
    "start_time": "2023-11-15T13:30:26.041Z"
   },
   {
    "duration": 169,
    "start_time": "2023-11-15T13:30:26.070Z"
   },
   {
    "duration": 0,
    "start_time": "2023-11-15T13:30:26.240Z"
   },
   {
    "duration": 0,
    "start_time": "2023-11-15T13:30:26.242Z"
   },
   {
    "duration": 0,
    "start_time": "2023-11-15T13:30:26.243Z"
   },
   {
    "duration": 9,
    "start_time": "2023-11-15T13:31:01.842Z"
   },
   {
    "duration": 109,
    "start_time": "2023-11-15T13:31:09.093Z"
   },
   {
    "duration": 110,
    "start_time": "2023-11-15T13:34:08.499Z"
   },
   {
    "duration": 9,
    "start_time": "2023-11-15T13:39:01.255Z"
   },
   {
    "duration": 839,
    "start_time": "2023-11-15T13:39:01.268Z"
   },
   {
    "duration": 4,
    "start_time": "2023-11-15T13:39:02.108Z"
   },
   {
    "duration": 890,
    "start_time": "2023-11-15T13:39:02.113Z"
   },
   {
    "duration": 6,
    "start_time": "2023-11-15T13:39:03.005Z"
   },
   {
    "duration": 37,
    "start_time": "2023-11-15T13:39:03.013Z"
   },
   {
    "duration": 35,
    "start_time": "2023-11-15T13:39:03.051Z"
   },
   {
    "duration": 25,
    "start_time": "2023-11-15T13:39:03.088Z"
   },
   {
    "duration": 62,
    "start_time": "2023-11-15T13:39:03.115Z"
   },
   {
    "duration": 49,
    "start_time": "2023-11-15T13:39:03.180Z"
   },
   {
    "duration": 3067,
    "start_time": "2023-11-15T13:39:03.231Z"
   },
   {
    "duration": 1486,
    "start_time": "2023-11-15T13:39:06.300Z"
   },
   {
    "duration": 988,
    "start_time": "2023-11-15T13:39:07.789Z"
   },
   {
    "duration": 147,
    "start_time": "2023-11-15T13:39:08.779Z"
   },
   {
    "duration": 961,
    "start_time": "2023-11-15T13:39:08.928Z"
   },
   {
    "duration": 18,
    "start_time": "2023-11-15T13:39:09.891Z"
   },
   {
    "duration": 8,
    "start_time": "2023-11-15T13:39:09.910Z"
   },
   {
    "duration": 12,
    "start_time": "2023-11-15T13:39:09.920Z"
   },
   {
    "duration": 11,
    "start_time": "2023-11-15T13:39:09.933Z"
   },
   {
    "duration": 14,
    "start_time": "2023-11-15T13:39:09.946Z"
   },
   {
    "duration": 17,
    "start_time": "2023-11-15T13:39:09.962Z"
   },
   {
    "duration": 40,
    "start_time": "2023-11-15T13:39:09.981Z"
   },
   {
    "duration": 20,
    "start_time": "2023-11-15T13:39:10.023Z"
   },
   {
    "duration": 51,
    "start_time": "2023-11-15T13:39:10.045Z"
   },
   {
    "duration": 18,
    "start_time": "2023-11-15T13:39:10.097Z"
   },
   {
    "duration": 326,
    "start_time": "2023-11-15T13:39:10.116Z"
   },
   {
    "duration": 0,
    "start_time": "2023-11-15T13:39:10.445Z"
   },
   {
    "duration": 0,
    "start_time": "2023-11-15T13:39:10.446Z"
   },
   {
    "duration": 0,
    "start_time": "2023-11-15T13:39:10.447Z"
   },
   {
    "duration": 120,
    "start_time": "2023-11-15T13:41:31.794Z"
   },
   {
    "duration": 8,
    "start_time": "2023-11-15T14:05:11.565Z"
   },
   {
    "duration": 9,
    "start_time": "2023-11-15T14:15:14.015Z"
   },
   {
    "duration": 108,
    "start_time": "2023-11-15T14:15:33.390Z"
   },
   {
    "duration": 8,
    "start_time": "2023-11-15T14:28:17.053Z"
   },
   {
    "duration": 125,
    "start_time": "2023-11-15T14:29:06.132Z"
   },
   {
    "duration": 45,
    "start_time": "2023-11-16T07:31:54.683Z"
   },
   {
    "duration": 1704,
    "start_time": "2023-11-16T07:32:23.578Z"
   },
   {
    "duration": 3087,
    "start_time": "2023-11-16T07:32:25.284Z"
   },
   {
    "duration": 5,
    "start_time": "2023-11-16T07:32:28.372Z"
   },
   {
    "duration": 949,
    "start_time": "2023-11-16T07:32:28.379Z"
   },
   {
    "duration": 8,
    "start_time": "2023-11-16T07:32:29.330Z"
   },
   {
    "duration": 6,
    "start_time": "2023-11-16T07:32:29.339Z"
   },
   {
    "duration": 32,
    "start_time": "2023-11-16T07:32:29.347Z"
   },
   {
    "duration": 17,
    "start_time": "2023-11-16T07:32:29.380Z"
   },
   {
    "duration": 31,
    "start_time": "2023-11-16T07:32:29.398Z"
   },
   {
    "duration": 76,
    "start_time": "2023-11-16T07:32:29.432Z"
   },
   {
    "duration": 3279,
    "start_time": "2023-11-16T07:32:29.509Z"
   },
   {
    "duration": 1568,
    "start_time": "2023-11-16T07:32:32.790Z"
   },
   {
    "duration": 910,
    "start_time": "2023-11-16T07:32:34.364Z"
   },
   {
    "duration": 32,
    "start_time": "2023-11-16T07:32:35.276Z"
   },
   {
    "duration": 1070,
    "start_time": "2023-11-16T07:32:35.309Z"
   },
   {
    "duration": 14,
    "start_time": "2023-11-16T07:32:36.381Z"
   },
   {
    "duration": 9,
    "start_time": "2023-11-16T07:32:36.397Z"
   },
   {
    "duration": 36,
    "start_time": "2023-11-16T07:32:36.407Z"
   },
   {
    "duration": 17,
    "start_time": "2023-11-16T07:32:36.444Z"
   },
   {
    "duration": 8,
    "start_time": "2023-11-16T07:32:36.462Z"
   },
   {
    "duration": 4,
    "start_time": "2023-11-16T07:32:36.472Z"
   },
   {
    "duration": 8,
    "start_time": "2023-11-16T07:32:36.478Z"
   },
   {
    "duration": 16,
    "start_time": "2023-11-16T07:32:36.488Z"
   },
   {
    "duration": 87,
    "start_time": "2023-11-16T07:32:36.506Z"
   },
   {
    "duration": 0,
    "start_time": "2023-11-16T07:32:36.595Z"
   },
   {
    "duration": 0,
    "start_time": "2023-11-16T07:32:36.596Z"
   },
   {
    "duration": 0,
    "start_time": "2023-11-16T07:32:36.597Z"
   },
   {
    "duration": 0,
    "start_time": "2023-11-16T07:32:36.598Z"
   },
   {
    "duration": 0,
    "start_time": "2023-11-16T07:32:36.600Z"
   },
   {
    "duration": 0,
    "start_time": "2023-11-16T07:32:36.601Z"
   },
   {
    "duration": 17,
    "start_time": "2023-11-16T07:33:06.038Z"
   },
   {
    "duration": 14,
    "start_time": "2023-11-16T07:33:35.593Z"
   },
   {
    "duration": 4,
    "start_time": "2023-11-16T07:33:48.178Z"
   },
   {
    "duration": 805,
    "start_time": "2023-11-16T07:33:48.184Z"
   },
   {
    "duration": 3,
    "start_time": "2023-11-16T07:33:48.991Z"
   },
   {
    "duration": 879,
    "start_time": "2023-11-16T07:33:48.996Z"
   },
   {
    "duration": 6,
    "start_time": "2023-11-16T07:33:49.877Z"
   },
   {
    "duration": 8,
    "start_time": "2023-11-16T07:33:49.885Z"
   },
   {
    "duration": 21,
    "start_time": "2023-11-16T07:33:49.894Z"
   },
   {
    "duration": 10,
    "start_time": "2023-11-16T07:33:49.917Z"
   },
   {
    "duration": 68,
    "start_time": "2023-11-16T07:33:49.929Z"
   },
   {
    "duration": 40,
    "start_time": "2023-11-16T07:33:49.998Z"
   },
   {
    "duration": 3247,
    "start_time": "2023-11-16T07:33:50.067Z"
   },
   {
    "duration": 1321,
    "start_time": "2023-11-16T07:33:53.315Z"
   },
   {
    "duration": 1186,
    "start_time": "2023-11-16T07:33:54.638Z"
   },
   {
    "duration": 39,
    "start_time": "2023-11-16T07:33:55.826Z"
   },
   {
    "duration": 914,
    "start_time": "2023-11-16T07:33:55.867Z"
   },
   {
    "duration": 14,
    "start_time": "2023-11-16T07:33:56.782Z"
   },
   {
    "duration": 4,
    "start_time": "2023-11-16T07:33:56.798Z"
   },
   {
    "duration": 7,
    "start_time": "2023-11-16T07:33:56.803Z"
   },
   {
    "duration": 4,
    "start_time": "2023-11-16T07:33:56.812Z"
   },
   {
    "duration": 5,
    "start_time": "2023-11-16T07:33:56.817Z"
   },
   {
    "duration": 4,
    "start_time": "2023-11-16T07:33:56.823Z"
   },
   {
    "duration": 3,
    "start_time": "2023-11-16T07:33:56.866Z"
   },
   {
    "duration": 8,
    "start_time": "2023-11-16T07:33:56.871Z"
   },
   {
    "duration": 10,
    "start_time": "2023-11-16T07:33:56.881Z"
   },
   {
    "duration": 20,
    "start_time": "2023-11-16T07:33:56.893Z"
   },
   {
    "duration": 14,
    "start_time": "2023-11-16T07:33:56.915Z"
   },
   {
    "duration": 0,
    "start_time": "2023-11-16T07:33:56.931Z"
   },
   {
    "duration": 0,
    "start_time": "2023-11-16T07:33:56.932Z"
   },
   {
    "duration": 0,
    "start_time": "2023-11-16T07:33:56.933Z"
   },
   {
    "duration": 0,
    "start_time": "2023-11-16T07:33:56.935Z"
   },
   {
    "duration": 12,
    "start_time": "2023-11-16T07:34:23.112Z"
   },
   {
    "duration": 4,
    "start_time": "2023-11-16T07:34:27.089Z"
   },
   {
    "duration": 766,
    "start_time": "2023-11-16T07:34:27.095Z"
   },
   {
    "duration": 4,
    "start_time": "2023-11-16T07:34:27.863Z"
   },
   {
    "duration": 879,
    "start_time": "2023-11-16T07:34:27.870Z"
   },
   {
    "duration": 18,
    "start_time": "2023-11-16T07:34:28.751Z"
   },
   {
    "duration": 14,
    "start_time": "2023-11-16T07:34:28.771Z"
   },
   {
    "duration": 19,
    "start_time": "2023-11-16T07:34:28.787Z"
   },
   {
    "duration": 13,
    "start_time": "2023-11-16T07:34:28.808Z"
   },
   {
    "duration": 63,
    "start_time": "2023-11-16T07:34:28.824Z"
   },
   {
    "duration": 77,
    "start_time": "2023-11-16T07:34:28.888Z"
   },
   {
    "duration": 3248,
    "start_time": "2023-11-16T07:34:28.967Z"
   },
   {
    "duration": 1550,
    "start_time": "2023-11-16T07:34:32.216Z"
   },
   {
    "duration": 912,
    "start_time": "2023-11-16T07:34:33.768Z"
   },
   {
    "duration": 31,
    "start_time": "2023-11-16T07:34:34.681Z"
   },
   {
    "duration": 1018,
    "start_time": "2023-11-16T07:34:34.713Z"
   },
   {
    "duration": 14,
    "start_time": "2023-11-16T07:34:35.733Z"
   },
   {
    "duration": 19,
    "start_time": "2023-11-16T07:34:35.749Z"
   },
   {
    "duration": 16,
    "start_time": "2023-11-16T07:34:35.769Z"
   },
   {
    "duration": 5,
    "start_time": "2023-11-16T07:34:35.787Z"
   },
   {
    "duration": 7,
    "start_time": "2023-11-16T07:34:35.794Z"
   },
   {
    "duration": 4,
    "start_time": "2023-11-16T07:34:35.803Z"
   },
   {
    "duration": 5,
    "start_time": "2023-11-16T07:34:35.808Z"
   },
   {
    "duration": 13,
    "start_time": "2023-11-16T07:34:35.815Z"
   },
   {
    "duration": 20,
    "start_time": "2023-11-16T07:34:35.831Z"
   },
   {
    "duration": 18,
    "start_time": "2023-11-16T07:34:35.864Z"
   },
   {
    "duration": 14,
    "start_time": "2023-11-16T07:34:35.883Z"
   },
   {
    "duration": 0,
    "start_time": "2023-11-16T07:34:35.898Z"
   },
   {
    "duration": 0,
    "start_time": "2023-11-16T07:34:35.899Z"
   },
   {
    "duration": 0,
    "start_time": "2023-11-16T07:34:35.900Z"
   },
   {
    "duration": 0,
    "start_time": "2023-11-16T07:34:35.901Z"
   },
   {
    "duration": 45,
    "start_time": "2023-11-16T07:36:20.284Z"
   },
   {
    "duration": 6,
    "start_time": "2023-11-16T07:36:36.661Z"
   },
   {
    "duration": 757,
    "start_time": "2023-11-16T07:36:36.669Z"
   },
   {
    "duration": 5,
    "start_time": "2023-11-16T07:36:37.427Z"
   },
   {
    "duration": 890,
    "start_time": "2023-11-16T07:36:37.434Z"
   },
   {
    "duration": 9,
    "start_time": "2023-11-16T07:36:38.326Z"
   },
   {
    "duration": 18,
    "start_time": "2023-11-16T07:36:38.337Z"
   },
   {
    "duration": 32,
    "start_time": "2023-11-16T07:36:38.356Z"
   },
   {
    "duration": 22,
    "start_time": "2023-11-16T07:36:38.390Z"
   },
   {
    "duration": 32,
    "start_time": "2023-11-16T07:36:38.414Z"
   },
   {
    "duration": 54,
    "start_time": "2023-11-16T07:36:38.448Z"
   },
   {
    "duration": 3275,
    "start_time": "2023-11-16T07:36:38.504Z"
   },
   {
    "duration": 1366,
    "start_time": "2023-11-16T07:36:41.781Z"
   },
   {
    "duration": 1202,
    "start_time": "2023-11-16T07:36:43.149Z"
   },
   {
    "duration": 37,
    "start_time": "2023-11-16T07:36:44.354Z"
   },
   {
    "duration": 957,
    "start_time": "2023-11-16T07:36:44.393Z"
   },
   {
    "duration": 21,
    "start_time": "2023-11-16T07:36:45.352Z"
   },
   {
    "duration": 4,
    "start_time": "2023-11-16T07:36:45.375Z"
   },
   {
    "duration": 8,
    "start_time": "2023-11-16T07:36:45.381Z"
   },
   {
    "duration": 10,
    "start_time": "2023-11-16T07:36:45.391Z"
   },
   {
    "duration": 15,
    "start_time": "2023-11-16T07:36:45.403Z"
   },
   {
    "duration": 5,
    "start_time": "2023-11-16T07:36:45.420Z"
   },
   {
    "duration": 25,
    "start_time": "2023-11-16T07:36:45.426Z"
   },
   {
    "duration": 46,
    "start_time": "2023-11-16T07:36:45.453Z"
   },
   {
    "duration": 17,
    "start_time": "2023-11-16T07:36:45.500Z"
   },
   {
    "duration": 11,
    "start_time": "2023-11-16T07:36:45.519Z"
   },
   {
    "duration": 46,
    "start_time": "2023-11-16T07:36:45.531Z"
   },
   {
    "duration": 19,
    "start_time": "2023-11-16T07:36:45.578Z"
   },
   {
    "duration": 0,
    "start_time": "2023-11-16T07:36:45.599Z"
   },
   {
    "duration": 113,
    "start_time": "2023-11-16T07:38:36.363Z"
   },
   {
    "duration": 4,
    "start_time": "2023-11-16T07:39:18.763Z"
   },
   {
    "duration": 837,
    "start_time": "2023-11-16T07:39:18.769Z"
   },
   {
    "duration": 4,
    "start_time": "2023-11-16T07:39:19.608Z"
   },
   {
    "duration": 894,
    "start_time": "2023-11-16T07:39:19.613Z"
   },
   {
    "duration": 7,
    "start_time": "2023-11-16T07:39:20.510Z"
   },
   {
    "duration": 25,
    "start_time": "2023-11-16T07:39:20.519Z"
   },
   {
    "duration": 38,
    "start_time": "2023-11-16T07:39:20.546Z"
   },
   {
    "duration": 30,
    "start_time": "2023-11-16T07:39:20.586Z"
   },
   {
    "duration": 48,
    "start_time": "2023-11-16T07:39:20.618Z"
   },
   {
    "duration": 45,
    "start_time": "2023-11-16T07:39:20.668Z"
   },
   {
    "duration": 3288,
    "start_time": "2023-11-16T07:39:20.715Z"
   },
   {
    "duration": 1522,
    "start_time": "2023-11-16T07:39:24.005Z"
   },
   {
    "duration": 978,
    "start_time": "2023-11-16T07:39:25.528Z"
   },
   {
    "duration": 29,
    "start_time": "2023-11-16T07:39:26.508Z"
   },
   {
    "duration": 1046,
    "start_time": "2023-11-16T07:39:26.539Z"
   },
   {
    "duration": 14,
    "start_time": "2023-11-16T07:39:27.587Z"
   },
   {
    "duration": 4,
    "start_time": "2023-11-16T07:39:27.603Z"
   },
   {
    "duration": 7,
    "start_time": "2023-11-16T07:39:27.608Z"
   },
   {
    "duration": 10,
    "start_time": "2023-11-16T07:39:27.616Z"
   },
   {
    "duration": 12,
    "start_time": "2023-11-16T07:39:27.628Z"
   },
   {
    "duration": 4,
    "start_time": "2023-11-16T07:39:27.666Z"
   },
   {
    "duration": 12,
    "start_time": "2023-11-16T07:39:27.671Z"
   },
   {
    "duration": 8,
    "start_time": "2023-11-16T07:39:27.685Z"
   },
   {
    "duration": 7,
    "start_time": "2023-11-16T07:39:27.695Z"
   },
   {
    "duration": 11,
    "start_time": "2023-11-16T07:39:27.704Z"
   },
   {
    "duration": 56,
    "start_time": "2023-11-16T07:39:27.717Z"
   },
   {
    "duration": 13,
    "start_time": "2023-11-16T07:39:27.774Z"
   },
   {
    "duration": 0,
    "start_time": "2023-11-16T07:39:27.789Z"
   },
   {
    "duration": 59,
    "start_time": "2023-11-16T07:40:40.654Z"
   },
   {
    "duration": 109,
    "start_time": "2023-11-16T07:47:57.548Z"
   },
   {
    "duration": 5,
    "start_time": "2023-11-16T07:48:01.937Z"
   },
   {
    "duration": 813,
    "start_time": "2023-11-16T07:48:01.944Z"
   },
   {
    "duration": 4,
    "start_time": "2023-11-16T07:48:02.759Z"
   },
   {
    "duration": 878,
    "start_time": "2023-11-16T07:48:02.764Z"
   },
   {
    "duration": 21,
    "start_time": "2023-11-16T07:48:03.645Z"
   },
   {
    "duration": 6,
    "start_time": "2023-11-16T07:48:03.668Z"
   },
   {
    "duration": 18,
    "start_time": "2023-11-16T07:48:03.676Z"
   },
   {
    "duration": 11,
    "start_time": "2023-11-16T07:48:03.696Z"
   },
   {
    "duration": 67,
    "start_time": "2023-11-16T07:48:03.708Z"
   },
   {
    "duration": 42,
    "start_time": "2023-11-16T07:48:03.777Z"
   },
   {
    "duration": 3459,
    "start_time": "2023-11-16T07:48:03.821Z"
   },
   {
    "duration": 1309,
    "start_time": "2023-11-16T07:48:07.281Z"
   },
   {
    "duration": 1314,
    "start_time": "2023-11-16T07:48:08.592Z"
   },
   {
    "duration": 29,
    "start_time": "2023-11-16T07:48:09.909Z"
   },
   {
    "duration": 925,
    "start_time": "2023-11-16T07:48:09.940Z"
   },
   {
    "duration": 12,
    "start_time": "2023-11-16T07:48:10.867Z"
   },
   {
    "duration": 277,
    "start_time": "2023-11-16T07:48:10.881Z"
   },
   {
    "duration": 29,
    "start_time": "2023-11-16T07:48:11.160Z"
   },
   {
    "duration": 17,
    "start_time": "2023-11-16T07:48:11.191Z"
   },
   {
    "duration": 19,
    "start_time": "2023-11-16T07:48:11.209Z"
   },
   {
    "duration": 22,
    "start_time": "2023-11-16T07:48:11.229Z"
   },
   {
    "duration": 12,
    "start_time": "2023-11-16T07:48:11.253Z"
   },
   {
    "duration": 24,
    "start_time": "2023-11-16T07:48:11.267Z"
   },
   {
    "duration": 26,
    "start_time": "2023-11-16T07:48:11.293Z"
   },
   {
    "duration": 30,
    "start_time": "2023-11-16T07:48:11.321Z"
   },
   {
    "duration": 114,
    "start_time": "2023-11-16T07:48:11.353Z"
   },
   {
    "duration": 14,
    "start_time": "2023-11-16T07:48:11.468Z"
   },
   {
    "duration": 0,
    "start_time": "2023-11-16T07:48:11.484Z"
   },
   {
    "duration": 149,
    "start_time": "2023-11-16T07:48:48.966Z"
   },
   {
    "duration": 6,
    "start_time": "2023-11-16T07:50:14.586Z"
   },
   {
    "duration": 738,
    "start_time": "2023-11-16T07:50:14.594Z"
   },
   {
    "duration": 4,
    "start_time": "2023-11-16T07:50:15.334Z"
   },
   {
    "duration": 937,
    "start_time": "2023-11-16T07:50:15.339Z"
   },
   {
    "duration": 8,
    "start_time": "2023-11-16T07:50:16.278Z"
   },
   {
    "duration": 20,
    "start_time": "2023-11-16T07:50:16.288Z"
   },
   {
    "duration": 18,
    "start_time": "2023-11-16T07:50:16.309Z"
   },
   {
    "duration": 14,
    "start_time": "2023-11-16T07:50:16.328Z"
   },
   {
    "duration": 54,
    "start_time": "2023-11-16T07:50:16.344Z"
   },
   {
    "duration": 75,
    "start_time": "2023-11-16T07:50:16.399Z"
   },
   {
    "duration": 3452,
    "start_time": "2023-11-16T07:50:16.475Z"
   },
   {
    "duration": 1517,
    "start_time": "2023-11-16T07:50:19.929Z"
   },
   {
    "duration": 937,
    "start_time": "2023-11-16T07:50:21.448Z"
   },
   {
    "duration": 34,
    "start_time": "2023-11-16T07:50:22.389Z"
   },
   {
    "duration": 1063,
    "start_time": "2023-11-16T07:50:22.425Z"
   },
   {
    "duration": 13,
    "start_time": "2023-11-16T07:50:23.490Z"
   },
   {
    "duration": 9,
    "start_time": "2023-11-16T07:50:23.505Z"
   },
   {
    "duration": 30,
    "start_time": "2023-11-16T07:50:23.516Z"
   },
   {
    "duration": 28,
    "start_time": "2023-11-16T07:50:23.548Z"
   },
   {
    "duration": 30,
    "start_time": "2023-11-16T07:50:23.578Z"
   },
   {
    "duration": 18,
    "start_time": "2023-11-16T07:50:23.610Z"
   },
   {
    "duration": 11,
    "start_time": "2023-11-16T07:50:23.629Z"
   },
   {
    "duration": 27,
    "start_time": "2023-11-16T07:50:23.641Z"
   },
   {
    "duration": 15,
    "start_time": "2023-11-16T07:50:23.670Z"
   },
   {
    "duration": 6,
    "start_time": "2023-11-16T07:50:23.687Z"
   },
   {
    "duration": 212,
    "start_time": "2023-11-16T07:50:23.695Z"
   },
   {
    "duration": 13,
    "start_time": "2023-11-16T07:50:23.909Z"
   },
   {
    "duration": 0,
    "start_time": "2023-11-16T07:50:23.923Z"
   },
   {
    "duration": 122,
    "start_time": "2023-11-16T07:53:36.746Z"
   },
   {
    "duration": 70,
    "start_time": "2023-11-16T08:02:51.693Z"
   },
   {
    "duration": 53,
    "start_time": "2023-11-16T08:05:27.358Z"
   },
   {
    "duration": 56,
    "start_time": "2023-11-16T08:05:34.798Z"
   },
   {
    "duration": 949,
    "start_time": "2023-11-16T08:09:16.473Z"
   },
   {
    "duration": 2133,
    "start_time": "2023-11-16T08:10:33.521Z"
   },
   {
    "duration": 6,
    "start_time": "2023-11-16T08:11:38.992Z"
   },
   {
    "duration": 5,
    "start_time": "2023-11-16T08:11:47.360Z"
   },
   {
    "duration": 821,
    "start_time": "2023-11-16T08:11:47.367Z"
   },
   {
    "duration": 4,
    "start_time": "2023-11-16T08:11:48.189Z"
   },
   {
    "duration": 930,
    "start_time": "2023-11-16T08:11:48.195Z"
   },
   {
    "duration": 8,
    "start_time": "2023-11-16T08:11:49.128Z"
   },
   {
    "duration": 8,
    "start_time": "2023-11-16T08:11:49.138Z"
   },
   {
    "duration": 19,
    "start_time": "2023-11-16T08:11:49.165Z"
   },
   {
    "duration": 11,
    "start_time": "2023-11-16T08:11:49.185Z"
   },
   {
    "duration": 30,
    "start_time": "2023-11-16T08:11:49.198Z"
   },
   {
    "duration": 69,
    "start_time": "2023-11-16T08:11:49.229Z"
   },
   {
    "duration": 3406,
    "start_time": "2023-11-16T08:11:49.299Z"
   },
   {
    "duration": 1585,
    "start_time": "2023-11-16T08:11:52.707Z"
   },
   {
    "duration": 994,
    "start_time": "2023-11-16T08:11:54.293Z"
   },
   {
    "duration": 31,
    "start_time": "2023-11-16T08:11:55.289Z"
   },
   {
    "duration": 1045,
    "start_time": "2023-11-16T08:11:55.322Z"
   },
   {
    "duration": 12,
    "start_time": "2023-11-16T08:11:56.368Z"
   },
   {
    "duration": 4,
    "start_time": "2023-11-16T08:11:56.382Z"
   },
   {
    "duration": 6,
    "start_time": "2023-11-16T08:11:56.387Z"
   },
   {
    "duration": 4,
    "start_time": "2023-11-16T08:11:56.395Z"
   },
   {
    "duration": 5,
    "start_time": "2023-11-16T08:11:56.400Z"
   },
   {
    "duration": 12,
    "start_time": "2023-11-16T08:11:56.406Z"
   },
   {
    "duration": 5,
    "start_time": "2023-11-16T08:11:56.419Z"
   },
   {
    "duration": 11,
    "start_time": "2023-11-16T08:11:56.425Z"
   },
   {
    "duration": 7,
    "start_time": "2023-11-16T08:11:56.465Z"
   },
   {
    "duration": 8,
    "start_time": "2023-11-16T08:11:56.474Z"
   },
   {
    "duration": 6,
    "start_time": "2023-11-16T08:11:56.484Z"
   },
   {
    "duration": 0,
    "start_time": "2023-11-16T08:11:56.492Z"
   },
   {
    "duration": 0,
    "start_time": "2023-11-16T08:11:56.493Z"
   },
   {
    "duration": 59,
    "start_time": "2023-11-16T08:12:19.204Z"
   },
   {
    "duration": 24,
    "start_time": "2023-11-16T08:12:52.034Z"
   },
   {
    "duration": 1881,
    "start_time": "2023-11-16T08:14:17.011Z"
   },
   {
    "duration": 2019,
    "start_time": "2023-11-16T08:14:41.796Z"
   },
   {
    "duration": 1868,
    "start_time": "2023-11-16T08:16:02.147Z"
   },
   {
    "duration": 5,
    "start_time": "2023-11-16T08:16:08.477Z"
   },
   {
    "duration": 876,
    "start_time": "2023-11-16T08:16:08.484Z"
   },
   {
    "duration": 5,
    "start_time": "2023-11-16T08:16:09.361Z"
   },
   {
    "duration": 922,
    "start_time": "2023-11-16T08:16:09.368Z"
   },
   {
    "duration": 9,
    "start_time": "2023-11-16T08:16:10.293Z"
   },
   {
    "duration": 6,
    "start_time": "2023-11-16T08:16:10.304Z"
   },
   {
    "duration": 33,
    "start_time": "2023-11-16T08:16:10.311Z"
   },
   {
    "duration": 32,
    "start_time": "2023-11-16T08:16:10.345Z"
   },
   {
    "duration": 38,
    "start_time": "2023-11-16T08:16:10.379Z"
   },
   {
    "duration": 66,
    "start_time": "2023-11-16T08:16:10.418Z"
   },
   {
    "duration": 3373,
    "start_time": "2023-11-16T08:16:10.485Z"
   },
   {
    "duration": 1430,
    "start_time": "2023-11-16T08:16:13.860Z"
   },
   {
    "duration": 1204,
    "start_time": "2023-11-16T08:16:15.292Z"
   },
   {
    "duration": 33,
    "start_time": "2023-11-16T08:16:16.499Z"
   },
   {
    "duration": 924,
    "start_time": "2023-11-16T08:16:16.533Z"
   },
   {
    "duration": 13,
    "start_time": "2023-11-16T08:16:17.464Z"
   },
   {
    "duration": 20,
    "start_time": "2023-11-16T08:16:17.479Z"
   },
   {
    "duration": 24,
    "start_time": "2023-11-16T08:16:17.500Z"
   },
   {
    "duration": 10,
    "start_time": "2023-11-16T08:16:17.526Z"
   },
   {
    "duration": 24,
    "start_time": "2023-11-16T08:16:17.538Z"
   },
   {
    "duration": 20,
    "start_time": "2023-11-16T08:16:17.564Z"
   },
   {
    "duration": 7,
    "start_time": "2023-11-16T08:16:17.586Z"
   },
   {
    "duration": 21,
    "start_time": "2023-11-16T08:16:17.595Z"
   },
   {
    "duration": 9,
    "start_time": "2023-11-16T08:16:17.618Z"
   },
   {
    "duration": 16,
    "start_time": "2023-11-16T08:16:17.628Z"
   },
   {
    "duration": 191,
    "start_time": "2023-11-16T08:16:17.646Z"
   },
   {
    "duration": 22,
    "start_time": "2023-11-16T08:16:17.839Z"
   },
   {
    "duration": 14,
    "start_time": "2023-11-16T08:16:17.865Z"
   },
   {
    "duration": 0,
    "start_time": "2023-11-16T08:16:17.881Z"
   },
   {
    "duration": 1568,
    "start_time": "2023-11-16T08:17:11.347Z"
   },
   {
    "duration": 5,
    "start_time": "2023-11-16T08:17:18.952Z"
   },
   {
    "duration": 794,
    "start_time": "2023-11-16T08:17:18.959Z"
   },
   {
    "duration": 5,
    "start_time": "2023-11-16T08:17:19.755Z"
   },
   {
    "duration": 901,
    "start_time": "2023-11-16T08:17:19.762Z"
   },
   {
    "duration": 6,
    "start_time": "2023-11-16T08:17:20.666Z"
   },
   {
    "duration": 23,
    "start_time": "2023-11-16T08:17:20.673Z"
   },
   {
    "duration": 28,
    "start_time": "2023-11-16T08:17:20.698Z"
   },
   {
    "duration": 11,
    "start_time": "2023-11-16T08:17:20.728Z"
   },
   {
    "duration": 45,
    "start_time": "2023-11-16T08:17:20.740Z"
   },
   {
    "duration": 47,
    "start_time": "2023-11-16T08:17:20.786Z"
   },
   {
    "duration": 3363,
    "start_time": "2023-11-16T08:17:20.835Z"
   },
   {
    "duration": 1616,
    "start_time": "2023-11-16T08:17:24.200Z"
   },
   {
    "duration": 1032,
    "start_time": "2023-11-16T08:17:25.818Z"
   },
   {
    "duration": 160,
    "start_time": "2023-11-16T08:17:26.853Z"
   },
   {
    "duration": 970,
    "start_time": "2023-11-16T08:17:27.014Z"
   },
   {
    "duration": 14,
    "start_time": "2023-11-16T08:17:27.986Z"
   },
   {
    "duration": 6,
    "start_time": "2023-11-16T08:17:28.001Z"
   },
   {
    "duration": 6,
    "start_time": "2023-11-16T08:17:28.008Z"
   },
   {
    "duration": 5,
    "start_time": "2023-11-16T08:17:28.016Z"
   },
   {
    "duration": 10,
    "start_time": "2023-11-16T08:17:28.023Z"
   },
   {
    "duration": 4,
    "start_time": "2023-11-16T08:17:28.064Z"
   },
   {
    "duration": 5,
    "start_time": "2023-11-16T08:17:28.070Z"
   },
   {
    "duration": 10,
    "start_time": "2023-11-16T08:17:28.077Z"
   },
   {
    "duration": 11,
    "start_time": "2023-11-16T08:17:28.089Z"
   },
   {
    "duration": 14,
    "start_time": "2023-11-16T08:17:28.102Z"
   },
   {
    "duration": 69,
    "start_time": "2023-11-16T08:17:28.118Z"
   },
   {
    "duration": 26,
    "start_time": "2023-11-16T08:17:28.189Z"
   },
   {
    "duration": 15,
    "start_time": "2023-11-16T08:17:28.217Z"
   },
   {
    "duration": 0,
    "start_time": "2023-11-16T08:17:28.234Z"
   },
   {
    "duration": 4,
    "start_time": "2023-11-16T08:17:56.174Z"
   },
   {
    "duration": 798,
    "start_time": "2023-11-16T08:17:56.183Z"
   },
   {
    "duration": 4,
    "start_time": "2023-11-16T08:17:56.983Z"
   },
   {
    "duration": 929,
    "start_time": "2023-11-16T08:17:56.989Z"
   },
   {
    "duration": 8,
    "start_time": "2023-11-16T08:17:57.921Z"
   },
   {
    "duration": 6,
    "start_time": "2023-11-16T08:17:57.931Z"
   },
   {
    "duration": 41,
    "start_time": "2023-11-16T08:17:57.939Z"
   },
   {
    "duration": 14,
    "start_time": "2023-11-16T08:17:57.981Z"
   },
   {
    "duration": 32,
    "start_time": "2023-11-16T08:17:57.996Z"
   },
   {
    "duration": 71,
    "start_time": "2023-11-16T08:17:58.029Z"
   },
   {
    "duration": 3493,
    "start_time": "2023-11-16T08:17:58.102Z"
   },
   {
    "duration": 1662,
    "start_time": "2023-11-16T08:18:01.597Z"
   },
   {
    "duration": 1081,
    "start_time": "2023-11-16T08:18:03.265Z"
   },
   {
    "duration": 42,
    "start_time": "2023-11-16T08:18:04.348Z"
   },
   {
    "duration": 1114,
    "start_time": "2023-11-16T08:18:04.392Z"
   },
   {
    "duration": 12,
    "start_time": "2023-11-16T08:18:05.508Z"
   },
   {
    "duration": 12,
    "start_time": "2023-11-16T08:18:05.522Z"
   },
   {
    "duration": 10,
    "start_time": "2023-11-16T08:18:05.536Z"
   },
   {
    "duration": 8,
    "start_time": "2023-11-16T08:18:05.565Z"
   },
   {
    "duration": 5,
    "start_time": "2023-11-16T08:18:05.575Z"
   },
   {
    "duration": 4,
    "start_time": "2023-11-16T08:18:05.583Z"
   },
   {
    "duration": 4,
    "start_time": "2023-11-16T08:18:05.588Z"
   },
   {
    "duration": 9,
    "start_time": "2023-11-16T08:18:05.594Z"
   },
   {
    "duration": 8,
    "start_time": "2023-11-16T08:18:05.605Z"
   },
   {
    "duration": 7,
    "start_time": "2023-11-16T08:18:05.615Z"
   },
   {
    "duration": 84,
    "start_time": "2023-11-16T08:18:05.624Z"
   },
   {
    "duration": 22,
    "start_time": "2023-11-16T08:18:05.710Z"
   },
   {
    "duration": 35,
    "start_time": "2023-11-16T08:18:05.734Z"
   },
   {
    "duration": 0,
    "start_time": "2023-11-16T08:18:05.771Z"
   },
   {
    "duration": 1532,
    "start_time": "2023-11-16T08:18:58.781Z"
   },
   {
    "duration": 840,
    "start_time": "2023-11-16T08:19:00.315Z"
   },
   {
    "duration": 4,
    "start_time": "2023-11-16T08:19:01.157Z"
   },
   {
    "duration": 981,
    "start_time": "2023-11-16T08:19:01.164Z"
   },
   {
    "duration": 18,
    "start_time": "2023-11-16T08:19:02.147Z"
   },
   {
    "duration": 8,
    "start_time": "2023-11-16T08:19:02.167Z"
   },
   {
    "duration": 35,
    "start_time": "2023-11-16T08:19:02.176Z"
   },
   {
    "duration": 24,
    "start_time": "2023-11-16T08:19:02.213Z"
   },
   {
    "duration": 41,
    "start_time": "2023-11-16T08:19:02.238Z"
   },
   {
    "duration": 49,
    "start_time": "2023-11-16T08:19:02.282Z"
   },
   {
    "duration": 3483,
    "start_time": "2023-11-16T08:19:02.333Z"
   },
   {
    "duration": 1703,
    "start_time": "2023-11-16T08:19:05.818Z"
   },
   {
    "duration": 1004,
    "start_time": "2023-11-16T08:19:07.522Z"
   },
   {
    "duration": 43,
    "start_time": "2023-11-16T08:19:08.529Z"
   },
   {
    "duration": 1133,
    "start_time": "2023-11-16T08:19:08.573Z"
   },
   {
    "duration": 23,
    "start_time": "2023-11-16T08:19:09.708Z"
   },
   {
    "duration": 7,
    "start_time": "2023-11-16T08:19:09.734Z"
   },
   {
    "duration": 24,
    "start_time": "2023-11-16T08:19:09.743Z"
   },
   {
    "duration": 5,
    "start_time": "2023-11-16T08:19:09.769Z"
   },
   {
    "duration": 12,
    "start_time": "2023-11-16T08:19:09.776Z"
   },
   {
    "duration": 9,
    "start_time": "2023-11-16T08:19:09.790Z"
   },
   {
    "duration": 10,
    "start_time": "2023-11-16T08:19:09.802Z"
   },
   {
    "duration": 13,
    "start_time": "2023-11-16T08:19:09.814Z"
   },
   {
    "duration": 14,
    "start_time": "2023-11-16T08:19:09.829Z"
   },
   {
    "duration": 3,
    "start_time": "2023-11-16T08:19:09.865Z"
   },
   {
    "duration": 226,
    "start_time": "2023-11-16T08:19:09.870Z"
   },
   {
    "duration": 25,
    "start_time": "2023-11-16T08:19:10.097Z"
   },
   {
    "duration": 18,
    "start_time": "2023-11-16T08:19:10.124Z"
   },
   {
    "duration": 0,
    "start_time": "2023-11-16T08:19:10.143Z"
   },
   {
    "duration": 146,
    "start_time": "2023-11-16T08:21:44.769Z"
   },
   {
    "duration": 4,
    "start_time": "2023-11-16T08:23:20.484Z"
   },
   {
    "duration": 842,
    "start_time": "2023-11-16T08:23:20.490Z"
   },
   {
    "duration": 4,
    "start_time": "2023-11-16T08:23:21.334Z"
   },
   {
    "duration": 935,
    "start_time": "2023-11-16T08:23:21.339Z"
   },
   {
    "duration": 8,
    "start_time": "2023-11-16T08:23:22.276Z"
   },
   {
    "duration": 6,
    "start_time": "2023-11-16T08:23:22.285Z"
   },
   {
    "duration": 17,
    "start_time": "2023-11-16T08:23:22.292Z"
   },
   {
    "duration": 12,
    "start_time": "2023-11-16T08:23:22.311Z"
   },
   {
    "duration": 66,
    "start_time": "2023-11-16T08:23:22.325Z"
   },
   {
    "duration": 77,
    "start_time": "2023-11-16T08:23:22.393Z"
   },
   {
    "duration": 3365,
    "start_time": "2023-11-16T08:23:22.471Z"
   },
   {
    "duration": 1347,
    "start_time": "2023-11-16T08:23:25.837Z"
   },
   {
    "duration": 1181,
    "start_time": "2023-11-16T08:23:27.185Z"
   },
   {
    "duration": 32,
    "start_time": "2023-11-16T08:23:28.370Z"
   },
   {
    "duration": 981,
    "start_time": "2023-11-16T08:23:28.404Z"
   },
   {
    "duration": 13,
    "start_time": "2023-11-16T08:23:29.387Z"
   },
   {
    "duration": 4,
    "start_time": "2023-11-16T08:23:29.402Z"
   },
   {
    "duration": 7,
    "start_time": "2023-11-16T08:23:29.408Z"
   },
   {
    "duration": 6,
    "start_time": "2023-11-16T08:23:29.417Z"
   },
   {
    "duration": 41,
    "start_time": "2023-11-16T08:23:29.425Z"
   },
   {
    "duration": 5,
    "start_time": "2023-11-16T08:23:29.467Z"
   },
   {
    "duration": 5,
    "start_time": "2023-11-16T08:23:29.474Z"
   },
   {
    "duration": 8,
    "start_time": "2023-11-16T08:23:29.481Z"
   },
   {
    "duration": 7,
    "start_time": "2023-11-16T08:23:29.491Z"
   },
   {
    "duration": 5,
    "start_time": "2023-11-16T08:23:29.500Z"
   },
   {
    "duration": 96,
    "start_time": "2023-11-16T08:23:29.506Z"
   },
   {
    "duration": 15,
    "start_time": "2023-11-16T08:23:29.603Z"
   },
   {
    "duration": 0,
    "start_time": "2023-11-16T08:23:29.620Z"
   },
   {
    "duration": 97,
    "start_time": "2023-11-16T08:26:57.358Z"
   },
   {
    "duration": 48,
    "start_time": "2023-11-16T08:27:11.393Z"
   },
   {
    "duration": 6,
    "start_time": "2023-11-16T08:28:06.295Z"
   },
   {
    "duration": 6,
    "start_time": "2023-11-16T08:29:01.287Z"
   },
   {
    "duration": 885,
    "start_time": "2023-11-16T08:29:01.296Z"
   },
   {
    "duration": 4,
    "start_time": "2023-11-16T08:29:02.183Z"
   },
   {
    "duration": 1048,
    "start_time": "2023-11-16T08:29:02.190Z"
   },
   {
    "duration": 6,
    "start_time": "2023-11-16T08:29:03.240Z"
   },
   {
    "duration": 24,
    "start_time": "2023-11-16T08:29:03.248Z"
   },
   {
    "duration": 18,
    "start_time": "2023-11-16T08:29:03.273Z"
   },
   {
    "duration": 18,
    "start_time": "2023-11-16T08:29:03.292Z"
   },
   {
    "duration": 54,
    "start_time": "2023-11-16T08:29:03.312Z"
   },
   {
    "duration": 42,
    "start_time": "2023-11-16T08:29:03.367Z"
   },
   {
    "duration": 3214,
    "start_time": "2023-11-16T08:29:03.411Z"
   },
   {
    "duration": 1588,
    "start_time": "2023-11-16T08:29:06.627Z"
   },
   {
    "duration": 1051,
    "start_time": "2023-11-16T08:29:08.217Z"
   },
   {
    "duration": 33,
    "start_time": "2023-11-16T08:29:09.269Z"
   },
   {
    "duration": 1108,
    "start_time": "2023-11-16T08:29:09.303Z"
   },
   {
    "duration": 15,
    "start_time": "2023-11-16T08:29:10.413Z"
   },
   {
    "duration": 26,
    "start_time": "2023-11-16T08:29:10.429Z"
   },
   {
    "duration": 17,
    "start_time": "2023-11-16T08:29:10.457Z"
   },
   {
    "duration": 13,
    "start_time": "2023-11-16T08:29:10.476Z"
   },
   {
    "duration": 13,
    "start_time": "2023-11-16T08:29:10.492Z"
   },
   {
    "duration": 19,
    "start_time": "2023-11-16T08:29:10.507Z"
   },
   {
    "duration": 38,
    "start_time": "2023-11-16T08:29:10.528Z"
   },
   {
    "duration": 38,
    "start_time": "2023-11-16T08:29:10.567Z"
   },
   {
    "duration": 8,
    "start_time": "2023-11-16T08:29:10.609Z"
   },
   {
    "duration": 47,
    "start_time": "2023-11-16T08:29:10.619Z"
   },
   {
    "duration": 92,
    "start_time": "2023-11-16T08:29:10.668Z"
   },
   {
    "duration": 45,
    "start_time": "2023-11-16T08:29:10.762Z"
   },
   {
    "duration": 15,
    "start_time": "2023-11-16T08:29:10.809Z"
   },
   {
    "duration": 0,
    "start_time": "2023-11-16T08:29:10.825Z"
   },
   {
    "duration": 106,
    "start_time": "2023-11-16T08:36:15.164Z"
   },
   {
    "duration": 5,
    "start_time": "2023-11-16T08:36:21.138Z"
   },
   {
    "duration": 737,
    "start_time": "2023-11-16T08:36:21.145Z"
   },
   {
    "duration": 4,
    "start_time": "2023-11-16T08:36:21.884Z"
   },
   {
    "duration": 890,
    "start_time": "2023-11-16T08:36:21.889Z"
   },
   {
    "duration": 9,
    "start_time": "2023-11-16T08:36:22.782Z"
   },
   {
    "duration": 17,
    "start_time": "2023-11-16T08:36:22.792Z"
   },
   {
    "duration": 22,
    "start_time": "2023-11-16T08:36:22.811Z"
   },
   {
    "duration": 19,
    "start_time": "2023-11-16T08:36:22.834Z"
   },
   {
    "duration": 32,
    "start_time": "2023-11-16T08:36:22.865Z"
   },
   {
    "duration": 75,
    "start_time": "2023-11-16T08:36:22.898Z"
   },
   {
    "duration": 3275,
    "start_time": "2023-11-16T08:36:22.974Z"
   },
   {
    "duration": 1294,
    "start_time": "2023-11-16T08:36:26.251Z"
   },
   {
    "duration": 1253,
    "start_time": "2023-11-16T08:36:27.548Z"
   },
   {
    "duration": 32,
    "start_time": "2023-11-16T08:36:28.802Z"
   },
   {
    "duration": 1039,
    "start_time": "2023-11-16T08:36:28.836Z"
   },
   {
    "duration": 13,
    "start_time": "2023-11-16T08:36:29.876Z"
   },
   {
    "duration": 28,
    "start_time": "2023-11-16T08:36:29.890Z"
   },
   {
    "duration": 8,
    "start_time": "2023-11-16T08:36:29.920Z"
   },
   {
    "duration": 11,
    "start_time": "2023-11-16T08:36:29.929Z"
   },
   {
    "duration": 5,
    "start_time": "2023-11-16T08:36:29.941Z"
   },
   {
    "duration": 8,
    "start_time": "2023-11-16T08:36:29.948Z"
   },
   {
    "duration": 8,
    "start_time": "2023-11-16T08:36:29.957Z"
   },
   {
    "duration": 3,
    "start_time": "2023-11-16T08:36:29.967Z"
   },
   {
    "duration": 15,
    "start_time": "2023-11-16T08:36:29.972Z"
   },
   {
    "duration": 0,
    "start_time": "2023-11-16T08:36:29.988Z"
   },
   {
    "duration": 0,
    "start_time": "2023-11-16T08:36:29.990Z"
   },
   {
    "duration": 0,
    "start_time": "2023-11-16T08:36:29.992Z"
   },
   {
    "duration": 0,
    "start_time": "2023-11-16T08:36:29.993Z"
   },
   {
    "duration": 0,
    "start_time": "2023-11-16T08:36:29.994Z"
   },
   {
    "duration": 0,
    "start_time": "2023-11-16T08:36:29.995Z"
   },
   {
    "duration": 5,
    "start_time": "2023-11-16T08:37:13.543Z"
   },
   {
    "duration": 871,
    "start_time": "2023-11-16T08:37:13.550Z"
   },
   {
    "duration": 5,
    "start_time": "2023-11-16T08:37:14.422Z"
   },
   {
    "duration": 1026,
    "start_time": "2023-11-16T08:37:14.428Z"
   },
   {
    "duration": 7,
    "start_time": "2023-11-16T08:37:15.465Z"
   },
   {
    "duration": 16,
    "start_time": "2023-11-16T08:37:15.474Z"
   },
   {
    "duration": 20,
    "start_time": "2023-11-16T08:37:15.492Z"
   },
   {
    "duration": 11,
    "start_time": "2023-11-16T08:37:15.513Z"
   },
   {
    "duration": 52,
    "start_time": "2023-11-16T08:37:15.525Z"
   },
   {
    "duration": 41,
    "start_time": "2023-11-16T08:37:15.579Z"
   },
   {
    "duration": 3145,
    "start_time": "2023-11-16T08:37:15.622Z"
   },
   {
    "duration": 1482,
    "start_time": "2023-11-16T08:37:18.768Z"
   },
   {
    "duration": 913,
    "start_time": "2023-11-16T08:37:20.253Z"
   },
   {
    "duration": 157,
    "start_time": "2023-11-16T08:37:21.168Z"
   },
   {
    "duration": 949,
    "start_time": "2023-11-16T08:37:21.327Z"
   },
   {
    "duration": 25,
    "start_time": "2023-11-16T08:37:22.278Z"
   },
   {
    "duration": 25,
    "start_time": "2023-11-16T08:37:22.305Z"
   },
   {
    "duration": 9,
    "start_time": "2023-11-16T08:37:22.332Z"
   },
   {
    "duration": 15,
    "start_time": "2023-11-16T08:37:22.343Z"
   },
   {
    "duration": 10,
    "start_time": "2023-11-16T08:37:22.360Z"
   },
   {
    "duration": 9,
    "start_time": "2023-11-16T08:37:22.372Z"
   },
   {
    "duration": 18,
    "start_time": "2023-11-16T08:37:22.383Z"
   },
   {
    "duration": 4,
    "start_time": "2023-11-16T08:37:22.403Z"
   },
   {
    "duration": 15,
    "start_time": "2023-11-16T08:37:22.409Z"
   },
   {
    "duration": 5,
    "start_time": "2023-11-16T08:37:22.426Z"
   },
   {
    "duration": 11,
    "start_time": "2023-11-16T08:37:22.432Z"
   },
   {
    "duration": 1225,
    "start_time": "2023-11-16T08:37:22.444Z"
   },
   {
    "duration": 42,
    "start_time": "2023-11-16T08:37:23.671Z"
   },
   {
    "duration": 12,
    "start_time": "2023-11-16T08:37:23.714Z"
   },
   {
    "duration": 0,
    "start_time": "2023-11-16T08:37:23.728Z"
   },
   {
    "duration": 1185,
    "start_time": "2023-11-16T08:38:09.402Z"
   },
   {
    "duration": 5,
    "start_time": "2023-11-16T08:39:01.104Z"
   },
   {
    "duration": 827,
    "start_time": "2023-11-16T08:39:01.111Z"
   },
   {
    "duration": 4,
    "start_time": "2023-11-16T08:39:01.939Z"
   },
   {
    "duration": 949,
    "start_time": "2023-11-16T08:39:01.945Z"
   },
   {
    "duration": 8,
    "start_time": "2023-11-16T08:39:02.897Z"
   },
   {
    "duration": 10,
    "start_time": "2023-11-16T08:39:02.907Z"
   },
   {
    "duration": 21,
    "start_time": "2023-11-16T08:39:02.919Z"
   },
   {
    "duration": 33,
    "start_time": "2023-11-16T08:39:02.942Z"
   },
   {
    "duration": 31,
    "start_time": "2023-11-16T08:39:02.976Z"
   },
   {
    "duration": 73,
    "start_time": "2023-11-16T08:39:03.008Z"
   },
   {
    "duration": 3266,
    "start_time": "2023-11-16T08:39:03.083Z"
   },
   {
    "duration": 1517,
    "start_time": "2023-11-16T08:39:06.350Z"
   },
   {
    "duration": 929,
    "start_time": "2023-11-16T08:39:07.868Z"
   },
   {
    "duration": 33,
    "start_time": "2023-11-16T08:39:08.800Z"
   },
   {
    "duration": 1114,
    "start_time": "2023-11-16T08:39:08.834Z"
   },
   {
    "duration": 25,
    "start_time": "2023-11-16T08:39:09.950Z"
   },
   {
    "duration": 6,
    "start_time": "2023-11-16T08:39:09.977Z"
   },
   {
    "duration": 11,
    "start_time": "2023-11-16T08:39:09.985Z"
   },
   {
    "duration": 22,
    "start_time": "2023-11-16T08:39:09.998Z"
   },
   {
    "duration": 5,
    "start_time": "2023-11-16T08:39:10.022Z"
   },
   {
    "duration": 7,
    "start_time": "2023-11-16T08:39:10.029Z"
   },
   {
    "duration": 4,
    "start_time": "2023-11-16T08:39:10.037Z"
   },
   {
    "duration": 26,
    "start_time": "2023-11-16T08:39:10.043Z"
   },
   {
    "duration": 11,
    "start_time": "2023-11-16T08:39:10.072Z"
   },
   {
    "duration": 10,
    "start_time": "2023-11-16T08:39:10.085Z"
   },
   {
    "duration": 7,
    "start_time": "2023-11-16T08:39:10.097Z"
   },
   {
    "duration": 2359,
    "start_time": "2023-11-16T08:39:10.105Z"
   },
   {
    "duration": 1700,
    "start_time": "2023-11-16T08:39:12.469Z"
   },
   {
    "duration": 102,
    "start_time": "2023-11-16T08:39:14.172Z"
   },
   {
    "duration": 0,
    "start_time": "2023-11-16T08:39:14.276Z"
   },
   {
    "duration": 207,
    "start_time": "2023-11-16T08:42:28.246Z"
   },
   {
    "duration": 2129,
    "start_time": "2023-11-16T08:42:51.238Z"
   },
   {
    "duration": 5,
    "start_time": "2023-11-16T08:48:59.571Z"
   },
   {
    "duration": 798,
    "start_time": "2023-11-16T08:48:59.579Z"
   },
   {
    "duration": 4,
    "start_time": "2023-11-16T08:49:00.379Z"
   },
   {
    "duration": 961,
    "start_time": "2023-11-16T08:49:00.385Z"
   },
   {
    "duration": 6,
    "start_time": "2023-11-16T08:49:01.348Z"
   },
   {
    "duration": 24,
    "start_time": "2023-11-16T08:49:01.356Z"
   },
   {
    "duration": 65,
    "start_time": "2023-11-16T08:49:01.382Z"
   },
   {
    "duration": 29,
    "start_time": "2023-11-16T08:49:01.448Z"
   },
   {
    "duration": 45,
    "start_time": "2023-11-16T08:49:01.480Z"
   },
   {
    "duration": 73,
    "start_time": "2023-11-16T08:49:01.526Z"
   },
   {
    "duration": 3224,
    "start_time": "2023-11-16T08:49:01.601Z"
   },
   {
    "duration": 1556,
    "start_time": "2023-11-16T08:49:04.827Z"
   },
   {
    "duration": 972,
    "start_time": "2023-11-16T08:49:06.385Z"
   },
   {
    "duration": 155,
    "start_time": "2023-11-16T08:49:07.364Z"
   },
   {
    "duration": 956,
    "start_time": "2023-11-16T08:49:07.521Z"
   },
   {
    "duration": 13,
    "start_time": "2023-11-16T08:49:08.478Z"
   },
   {
    "duration": 3,
    "start_time": "2023-11-16T08:49:08.493Z"
   },
   {
    "duration": 5,
    "start_time": "2023-11-16T08:49:08.498Z"
   },
   {
    "duration": 19,
    "start_time": "2023-11-16T08:49:08.504Z"
   },
   {
    "duration": 18,
    "start_time": "2023-11-16T08:49:08.524Z"
   },
   {
    "duration": 2521,
    "start_time": "2023-11-16T08:49:08.544Z"
   },
   {
    "duration": 1499,
    "start_time": "2023-11-16T08:49:11.067Z"
   },
   {
    "duration": 108,
    "start_time": "2023-11-16T08:49:12.569Z"
   },
   {
    "duration": 0,
    "start_time": "2023-11-16T08:49:12.679Z"
   },
   {
    "duration": 2535,
    "start_time": "2023-11-16T08:51:51.739Z"
   },
   {
    "duration": 45,
    "start_time": "2023-11-16T08:55:37.101Z"
   },
   {
    "duration": 5,
    "start_time": "2023-11-16T08:56:24.805Z"
   },
   {
    "duration": 752,
    "start_time": "2023-11-16T08:56:24.811Z"
   },
   {
    "duration": 4,
    "start_time": "2023-11-16T08:56:25.565Z"
   },
   {
    "duration": 895,
    "start_time": "2023-11-16T08:56:25.570Z"
   },
   {
    "duration": 7,
    "start_time": "2023-11-16T08:56:26.467Z"
   },
   {
    "duration": 27,
    "start_time": "2023-11-16T08:56:26.475Z"
   },
   {
    "duration": 37,
    "start_time": "2023-11-16T08:56:26.503Z"
   },
   {
    "duration": 58,
    "start_time": "2023-11-16T08:56:26.541Z"
   },
   {
    "duration": 60,
    "start_time": "2023-11-16T08:56:26.600Z"
   },
   {
    "duration": 53,
    "start_time": "2023-11-16T08:56:26.661Z"
   },
   {
    "duration": 3339,
    "start_time": "2023-11-16T08:56:26.716Z"
   },
   {
    "duration": 1497,
    "start_time": "2023-11-16T08:56:30.058Z"
   },
   {
    "duration": 995,
    "start_time": "2023-11-16T08:56:31.557Z"
   },
   {
    "duration": 49,
    "start_time": "2023-11-16T08:56:32.555Z"
   },
   {
    "duration": 1113,
    "start_time": "2023-11-16T08:56:32.605Z"
   },
   {
    "duration": 12,
    "start_time": "2023-11-16T08:56:33.720Z"
   },
   {
    "duration": 5,
    "start_time": "2023-11-16T08:56:33.733Z"
   },
   {
    "duration": 8,
    "start_time": "2023-11-16T08:56:33.739Z"
   },
   {
    "duration": 19,
    "start_time": "2023-11-16T08:56:33.749Z"
   },
   {
    "duration": 14,
    "start_time": "2023-11-16T08:56:33.770Z"
   },
   {
    "duration": 22,
    "start_time": "2023-11-16T08:56:33.787Z"
   },
   {
    "duration": 1556,
    "start_time": "2023-11-16T08:56:33.811Z"
   },
   {
    "duration": 16,
    "start_time": "2023-11-16T08:56:35.369Z"
   },
   {
    "duration": 0,
    "start_time": "2023-11-16T08:56:35.465Z"
   },
   {
    "duration": 40,
    "start_time": "2023-11-16T08:57:14.682Z"
   },
   {
    "duration": 1536,
    "start_time": "2023-11-16T08:57:35.842Z"
   },
   {
    "duration": 52,
    "start_time": "2023-11-16T08:58:07.309Z"
   },
   {
    "duration": 66,
    "start_time": "2023-11-16T08:58:16.219Z"
   },
   {
    "duration": 42,
    "start_time": "2023-11-16T08:58:23.632Z"
   },
   {
    "duration": 4,
    "start_time": "2023-11-16T08:58:35.103Z"
   },
   {
    "duration": 796,
    "start_time": "2023-11-16T08:58:35.110Z"
   },
   {
    "duration": 4,
    "start_time": "2023-11-16T08:58:35.908Z"
   },
   {
    "duration": 888,
    "start_time": "2023-11-16T08:58:35.914Z"
   },
   {
    "duration": 6,
    "start_time": "2023-11-16T08:58:36.804Z"
   },
   {
    "duration": 6,
    "start_time": "2023-11-16T08:58:36.812Z"
   },
   {
    "duration": 15,
    "start_time": "2023-11-16T08:58:36.820Z"
   },
   {
    "duration": 11,
    "start_time": "2023-11-16T08:58:36.865Z"
   },
   {
    "duration": 35,
    "start_time": "2023-11-16T08:58:36.878Z"
   },
   {
    "duration": 78,
    "start_time": "2023-11-16T08:58:36.916Z"
   },
   {
    "duration": 3314,
    "start_time": "2023-11-16T08:58:36.996Z"
   },
   {
    "duration": 1568,
    "start_time": "2023-11-16T08:58:40.312Z"
   },
   {
    "duration": 951,
    "start_time": "2023-11-16T08:58:41.882Z"
   },
   {
    "duration": 165,
    "start_time": "2023-11-16T08:58:42.836Z"
   },
   {
    "duration": 987,
    "start_time": "2023-11-16T08:58:43.002Z"
   },
   {
    "duration": 13,
    "start_time": "2023-11-16T08:58:43.990Z"
   },
   {
    "duration": 4,
    "start_time": "2023-11-16T08:58:44.005Z"
   },
   {
    "duration": 17,
    "start_time": "2023-11-16T08:58:44.011Z"
   },
   {
    "duration": 27,
    "start_time": "2023-11-16T08:58:44.030Z"
   },
   {
    "duration": 11,
    "start_time": "2023-11-16T08:58:44.059Z"
   },
   {
    "duration": 7,
    "start_time": "2023-11-16T08:58:44.072Z"
   },
   {
    "duration": 1585,
    "start_time": "2023-11-16T08:58:44.080Z"
   },
   {
    "duration": 106,
    "start_time": "2023-11-16T08:58:45.668Z"
   },
   {
    "duration": 0,
    "start_time": "2023-11-16T08:58:45.776Z"
   },
   {
    "duration": 2178,
    "start_time": "2023-11-16T08:59:35.288Z"
   },
   {
    "duration": 1992,
    "start_time": "2023-11-16T09:00:03.077Z"
   },
   {
    "duration": 1815,
    "start_time": "2023-11-16T09:00:26.050Z"
   },
   {
    "duration": 1862,
    "start_time": "2023-11-16T09:00:50.805Z"
   },
   {
    "duration": 1944,
    "start_time": "2023-11-16T09:00:56.923Z"
   },
   {
    "duration": 1890,
    "start_time": "2023-11-16T09:01:07.884Z"
   },
   {
    "duration": 1967,
    "start_time": "2023-11-16T09:01:22.098Z"
   },
   {
    "duration": 1624,
    "start_time": "2023-11-16T09:01:43.742Z"
   },
   {
    "duration": 5,
    "start_time": "2023-11-16T09:20:50.310Z"
   },
   {
    "duration": 805,
    "start_time": "2023-11-16T09:20:50.317Z"
   },
   {
    "duration": 4,
    "start_time": "2023-11-16T09:20:51.124Z"
   },
   {
    "duration": 935,
    "start_time": "2023-11-16T09:20:51.130Z"
   },
   {
    "duration": 6,
    "start_time": "2023-11-16T09:20:52.068Z"
   },
   {
    "duration": 6,
    "start_time": "2023-11-16T09:20:52.076Z"
   },
   {
    "duration": 17,
    "start_time": "2023-11-16T09:20:52.084Z"
   },
   {
    "duration": 29,
    "start_time": "2023-11-16T09:20:52.102Z"
   },
   {
    "duration": 56,
    "start_time": "2023-11-16T09:20:52.132Z"
   },
   {
    "duration": 42,
    "start_time": "2023-11-16T09:20:52.189Z"
   },
   {
    "duration": 3447,
    "start_time": "2023-11-16T09:20:52.233Z"
   },
   {
    "duration": 1503,
    "start_time": "2023-11-16T09:20:55.681Z"
   },
   {
    "duration": 935,
    "start_time": "2023-11-16T09:20:57.186Z"
   },
   {
    "duration": 48,
    "start_time": "2023-11-16T09:20:58.125Z"
   },
   {
    "duration": 1150,
    "start_time": "2023-11-16T09:20:58.175Z"
   },
   {
    "duration": 13,
    "start_time": "2023-11-16T09:20:59.328Z"
   },
   {
    "duration": 24,
    "start_time": "2023-11-16T09:20:59.343Z"
   },
   {
    "duration": 4,
    "start_time": "2023-11-16T09:20:59.369Z"
   },
   {
    "duration": 18,
    "start_time": "2023-11-16T09:20:59.375Z"
   },
   {
    "duration": 3,
    "start_time": "2023-11-16T09:20:59.395Z"
   },
   {
    "duration": 11,
    "start_time": "2023-11-16T09:20:59.399Z"
   },
   {
    "duration": 1853,
    "start_time": "2023-11-16T09:20:59.412Z"
   },
   {
    "duration": 101,
    "start_time": "2023-11-16T09:21:01.267Z"
   },
   {
    "duration": 80,
    "start_time": "2023-11-16T09:21:01.370Z"
   },
   {
    "duration": 1041,
    "start_time": "2023-11-16T09:23:46.574Z"
   },
   {
    "duration": 5,
    "start_time": "2023-11-16T09:25:10.282Z"
   },
   {
    "duration": 833,
    "start_time": "2023-11-16T09:25:10.289Z"
   },
   {
    "duration": 4,
    "start_time": "2023-11-16T09:25:11.124Z"
   },
   {
    "duration": 1050,
    "start_time": "2023-11-16T09:25:11.130Z"
   },
   {
    "duration": 7,
    "start_time": "2023-11-16T09:25:12.181Z"
   },
   {
    "duration": 11,
    "start_time": "2023-11-16T09:25:12.190Z"
   },
   {
    "duration": 21,
    "start_time": "2023-11-16T09:25:12.203Z"
   },
   {
    "duration": 13,
    "start_time": "2023-11-16T09:25:12.226Z"
   },
   {
    "duration": 55,
    "start_time": "2023-11-16T09:25:12.242Z"
   },
   {
    "duration": 70,
    "start_time": "2023-11-16T09:25:12.298Z"
   },
   {
    "duration": 3491,
    "start_time": "2023-11-16T09:25:12.369Z"
   },
   {
    "duration": 1641,
    "start_time": "2023-11-16T09:25:15.862Z"
   },
   {
    "duration": 1119,
    "start_time": "2023-11-16T09:25:17.505Z"
   },
   {
    "duration": 42,
    "start_time": "2023-11-16T09:25:18.625Z"
   },
   {
    "duration": 1002,
    "start_time": "2023-11-16T09:25:18.669Z"
   },
   {
    "duration": 13,
    "start_time": "2023-11-16T09:25:19.672Z"
   },
   {
    "duration": 33,
    "start_time": "2023-11-16T09:25:19.687Z"
   },
   {
    "duration": 13,
    "start_time": "2023-11-16T09:25:19.722Z"
   },
   {
    "duration": 12,
    "start_time": "2023-11-16T09:25:19.736Z"
   },
   {
    "duration": 14,
    "start_time": "2023-11-16T09:25:19.751Z"
   },
   {
    "duration": 48,
    "start_time": "2023-11-16T09:25:19.767Z"
   },
   {
    "duration": 1851,
    "start_time": "2023-11-16T09:25:19.817Z"
   },
   {
    "duration": 1273,
    "start_time": "2023-11-16T09:25:21.670Z"
   },
   {
    "duration": 122,
    "start_time": "2023-11-16T09:25:22.946Z"
   },
   {
    "duration": 5,
    "start_time": "2023-11-16T09:26:47.742Z"
   },
   {
    "duration": 954,
    "start_time": "2023-11-16T09:26:47.749Z"
   },
   {
    "duration": 4,
    "start_time": "2023-11-16T09:26:48.705Z"
   },
   {
    "duration": 925,
    "start_time": "2023-11-16T09:26:48.712Z"
   },
   {
    "duration": 7,
    "start_time": "2023-11-16T09:26:49.639Z"
   },
   {
    "duration": 21,
    "start_time": "2023-11-16T09:26:49.647Z"
   },
   {
    "duration": 17,
    "start_time": "2023-11-16T09:26:49.670Z"
   },
   {
    "duration": 11,
    "start_time": "2023-11-16T09:26:49.689Z"
   },
   {
    "duration": 71,
    "start_time": "2023-11-16T09:26:49.702Z"
   },
   {
    "duration": 45,
    "start_time": "2023-11-16T09:26:49.775Z"
   },
   {
    "duration": 3358,
    "start_time": "2023-11-16T09:26:49.822Z"
   },
   {
    "duration": 1547,
    "start_time": "2023-11-16T09:26:53.181Z"
   },
   {
    "duration": 984,
    "start_time": "2023-11-16T09:26:54.730Z"
   },
   {
    "duration": 30,
    "start_time": "2023-11-16T09:26:55.716Z"
   },
   {
    "duration": 1076,
    "start_time": "2023-11-16T09:26:55.748Z"
   },
   {
    "duration": 12,
    "start_time": "2023-11-16T09:26:56.825Z"
   },
   {
    "duration": 22,
    "start_time": "2023-11-16T09:26:56.839Z"
   },
   {
    "duration": 6,
    "start_time": "2023-11-16T09:26:56.863Z"
   },
   {
    "duration": 20,
    "start_time": "2023-11-16T09:26:56.871Z"
   },
   {
    "duration": 3,
    "start_time": "2023-11-16T09:26:56.893Z"
   },
   {
    "duration": 15,
    "start_time": "2023-11-16T09:26:56.899Z"
   },
   {
    "duration": 2051,
    "start_time": "2023-11-16T09:26:56.916Z"
   },
   {
    "duration": 999,
    "start_time": "2023-11-16T09:26:58.969Z"
   },
   {
    "duration": 94,
    "start_time": "2023-11-16T09:26:59.971Z"
   },
   {
    "duration": 5,
    "start_time": "2023-11-16T09:52:42.231Z"
   },
   {
    "duration": 787,
    "start_time": "2023-11-16T09:52:42.237Z"
   },
   {
    "duration": 4,
    "start_time": "2023-11-16T09:52:43.027Z"
   },
   {
    "duration": 922,
    "start_time": "2023-11-16T09:52:43.033Z"
   },
   {
    "duration": 8,
    "start_time": "2023-11-16T09:52:43.957Z"
   },
   {
    "duration": 29,
    "start_time": "2023-11-16T09:52:43.966Z"
   },
   {
    "duration": 20,
    "start_time": "2023-11-16T09:52:43.997Z"
   },
   {
    "duration": 22,
    "start_time": "2023-11-16T09:52:44.018Z"
   },
   {
    "duration": 35,
    "start_time": "2023-11-16T09:52:44.042Z"
   },
   {
    "duration": 40,
    "start_time": "2023-11-16T09:52:44.078Z"
   },
   {
    "duration": 3332,
    "start_time": "2023-11-16T09:52:44.120Z"
   },
   {
    "duration": 1594,
    "start_time": "2023-11-16T09:52:47.454Z"
   },
   {
    "duration": 956,
    "start_time": "2023-11-16T09:52:49.050Z"
   },
   {
    "duration": 30,
    "start_time": "2023-11-16T09:52:50.007Z"
   },
   {
    "duration": 1093,
    "start_time": "2023-11-16T09:52:50.039Z"
   },
   {
    "duration": 12,
    "start_time": "2023-11-16T09:52:51.134Z"
   },
   {
    "duration": 22,
    "start_time": "2023-11-16T09:52:51.147Z"
   },
   {
    "duration": 14,
    "start_time": "2023-11-16T09:52:51.171Z"
   },
   {
    "duration": 33,
    "start_time": "2023-11-16T09:52:51.187Z"
   },
   {
    "duration": 67,
    "start_time": "2023-11-16T09:52:51.222Z"
   },
   {
    "duration": 6,
    "start_time": "2023-11-16T09:52:51.291Z"
   },
   {
    "duration": 1474,
    "start_time": "2023-11-16T09:52:51.299Z"
   },
   {
    "duration": 1462255,
    "start_time": "2023-11-16T09:52:52.775Z"
   },
   {
    "duration": 118,
    "start_time": "2023-11-16T10:17:15.032Z"
   },
   {
    "duration": 13542,
    "start_time": "2023-11-16T10:30:16.079Z"
   },
   {
    "duration": 14,
    "start_time": "2023-11-16T10:45:25.404Z"
   },
   {
    "duration": 4,
    "start_time": "2023-11-16T10:45:31.299Z"
   },
   {
    "duration": 4,
    "start_time": "2023-11-16T10:48:55.091Z"
   },
   {
    "duration": 5173,
    "start_time": "2023-11-16T10:54:31.382Z"
   },
   {
    "duration": 12192,
    "start_time": "2023-11-16T11:40:04.458Z"
   },
   {
    "duration": 11409,
    "start_time": "2023-11-16T11:46:25.623Z"
   },
   {
    "duration": 11370,
    "start_time": "2023-11-16T11:47:17.121Z"
   },
   {
    "duration": 3,
    "start_time": "2023-11-16T11:50:54.271Z"
   },
   {
    "duration": 9,
    "start_time": "2023-11-16T11:53:35.064Z"
   },
   {
    "duration": 10,
    "start_time": "2023-11-16T11:55:28.594Z"
   },
   {
    "duration": 13,
    "start_time": "2023-11-16T12:06:50.880Z"
   },
   {
    "duration": 18,
    "start_time": "2023-11-16T12:09:05.272Z"
   },
   {
    "duration": 16,
    "start_time": "2023-11-16T12:09:42.981Z"
   },
   {
    "duration": 20,
    "start_time": "2023-11-16T12:10:07.646Z"
   },
   {
    "duration": 13,
    "start_time": "2023-11-16T12:11:03.488Z"
   },
   {
    "duration": 85,
    "start_time": "2023-11-16T12:19:22.566Z"
   },
   {
    "duration": 1644,
    "start_time": "2023-11-16T12:45:55.958Z"
   },
   {
    "duration": 0,
    "start_time": "2023-11-16T12:45:57.605Z"
   },
   {
    "duration": 0,
    "start_time": "2023-11-16T12:45:57.606Z"
   },
   {
    "duration": 0,
    "start_time": "2023-11-16T12:45:57.607Z"
   },
   {
    "duration": 0,
    "start_time": "2023-11-16T12:45:57.609Z"
   },
   {
    "duration": 0,
    "start_time": "2023-11-16T12:45:57.610Z"
   },
   {
    "duration": 0,
    "start_time": "2023-11-16T12:45:57.611Z"
   },
   {
    "duration": 0,
    "start_time": "2023-11-16T12:45:57.612Z"
   },
   {
    "duration": 0,
    "start_time": "2023-11-16T12:45:57.613Z"
   },
   {
    "duration": 0,
    "start_time": "2023-11-16T12:45:57.614Z"
   },
   {
    "duration": 0,
    "start_time": "2023-11-16T12:45:57.616Z"
   },
   {
    "duration": 0,
    "start_time": "2023-11-16T12:45:57.617Z"
   },
   {
    "duration": 0,
    "start_time": "2023-11-16T12:45:57.619Z"
   },
   {
    "duration": 0,
    "start_time": "2023-11-16T12:45:57.621Z"
   },
   {
    "duration": 0,
    "start_time": "2023-11-16T12:45:57.622Z"
   },
   {
    "duration": 0,
    "start_time": "2023-11-16T12:45:57.624Z"
   },
   {
    "duration": 0,
    "start_time": "2023-11-16T12:45:57.625Z"
   },
   {
    "duration": 0,
    "start_time": "2023-11-16T12:45:57.627Z"
   },
   {
    "duration": 0,
    "start_time": "2023-11-16T12:45:57.628Z"
   },
   {
    "duration": 0,
    "start_time": "2023-11-16T12:45:57.630Z"
   },
   {
    "duration": 0,
    "start_time": "2023-11-16T12:45:57.631Z"
   },
   {
    "duration": 0,
    "start_time": "2023-11-16T12:45:57.666Z"
   },
   {
    "duration": 0,
    "start_time": "2023-11-16T12:45:57.667Z"
   },
   {
    "duration": 0,
    "start_time": "2023-11-16T12:45:57.668Z"
   },
   {
    "duration": 0,
    "start_time": "2023-11-16T12:45:57.670Z"
   },
   {
    "duration": 0,
    "start_time": "2023-11-16T12:45:57.671Z"
   },
   {
    "duration": 17,
    "start_time": "2023-11-16T13:13:56.555Z"
   },
   {
    "duration": 11,
    "start_time": "2023-11-16T13:14:34.564Z"
   },
   {
    "duration": 1646,
    "start_time": "2023-11-16T13:14:46.083Z"
   },
   {
    "duration": 1019,
    "start_time": "2023-11-16T13:14:47.731Z"
   },
   {
    "duration": 5,
    "start_time": "2023-11-16T13:14:48.751Z"
   },
   {
    "duration": 996,
    "start_time": "2023-11-16T13:14:48.758Z"
   },
   {
    "duration": 8,
    "start_time": "2023-11-16T13:14:49.765Z"
   },
   {
    "duration": 6,
    "start_time": "2023-11-16T13:14:49.775Z"
   },
   {
    "duration": 17,
    "start_time": "2023-11-16T13:14:49.782Z"
   },
   {
    "duration": 12,
    "start_time": "2023-11-16T13:14:49.801Z"
   },
   {
    "duration": 68,
    "start_time": "2023-11-16T13:14:49.815Z"
   },
   {
    "duration": 45,
    "start_time": "2023-11-16T13:14:49.886Z"
   },
   {
    "duration": 3411,
    "start_time": "2023-11-16T13:14:49.933Z"
   },
   {
    "duration": 1551,
    "start_time": "2023-11-16T13:14:53.346Z"
   },
   {
    "duration": 1002,
    "start_time": "2023-11-16T13:14:54.899Z"
   },
   {
    "duration": 43,
    "start_time": "2023-11-16T13:14:55.902Z"
   },
   {
    "duration": 1122,
    "start_time": "2023-11-16T13:14:55.947Z"
   },
   {
    "duration": 12,
    "start_time": "2023-11-16T13:14:57.071Z"
   },
   {
    "duration": 35,
    "start_time": "2023-11-16T13:14:57.085Z"
   },
   {
    "duration": 20,
    "start_time": "2023-11-16T13:14:57.122Z"
   },
   {
    "duration": 41,
    "start_time": "2023-11-16T13:14:57.144Z"
   },
   {
    "duration": 35,
    "start_time": "2023-11-16T13:14:57.187Z"
   },
   {
    "duration": 1741,
    "start_time": "2023-11-16T13:14:57.224Z"
   },
   {
    "duration": 1482984,
    "start_time": "2023-11-16T13:14:58.967Z"
   },
   {
    "duration": 14148,
    "start_time": "2023-11-16T13:39:41.952Z"
   },
   {
    "duration": 4,
    "start_time": "2023-11-16T13:39:56.103Z"
   },
   {
    "duration": 12657,
    "start_time": "2023-11-16T13:39:56.109Z"
   },
   {
    "duration": 15,
    "start_time": "2023-11-16T13:40:08.768Z"
   }
  ],
  "kernelspec": {
   "display_name": "Python 3 (ipykernel)",
   "language": "python",
   "name": "python3"
  },
  "language_info": {
   "codemirror_mode": {
    "name": "ipython",
    "version": 3
   },
   "file_extension": ".py",
   "mimetype": "text/x-python",
   "name": "python",
   "nbconvert_exporter": "python",
   "pygments_lexer": "ipython3",
   "version": "3.11.3"
  },
  "toc": {
   "base_numbering": 1,
   "nav_menu": {},
   "number_sections": true,
   "sideBar": true,
   "skip_h1_title": true,
   "title_cell": "Содержание",
   "title_sidebar": "Contents",
   "toc_cell": true,
   "toc_position": {
    "height": "calc(100% - 180px)",
    "left": "10px",
    "top": "150px",
    "width": "221px"
   },
   "toc_section_display": true,
   "toc_window_display": true
  },
  "varInspector": {
   "cols": {
    "lenName": 16,
    "lenType": 16,
    "lenVar": 40
   },
   "kernels_config": {
    "python": {
     "delete_cmd_postfix": "",
     "delete_cmd_prefix": "del ",
     "library": "var_list.py",
     "varRefreshCmd": "print(var_dic_list())"
    },
    "r": {
     "delete_cmd_postfix": ") ",
     "delete_cmd_prefix": "rm(",
     "library": "var_list.r",
     "varRefreshCmd": "cat(var_dic_list()) "
    }
   },
   "types_to_exclude": [
    "module",
    "function",
    "builtin_function_or_method",
    "instance",
    "_Feature"
   ],
   "window_display": false
  }
 },
 "nbformat": 4,
 "nbformat_minor": 2
}
