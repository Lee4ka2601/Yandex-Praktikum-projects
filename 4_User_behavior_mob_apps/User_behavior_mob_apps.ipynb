{
 "cells": [
  {
   "cell_type": "markdown",
   "metadata": {},
   "source": [
    "# Анализ поведения пользователей мобильного приложения"
   ]
  },
  {
   "cell_type": "markdown",
   "metadata": {},
   "source": [
    "**Цель исследования:**\n",
    " \n",
    " Необходимо разобраться, как ведут себя пользователи  мобильного приложения , запустить A/A/B-тест на предмет изменения шрифта во всём приложениии и проанализировать результаты.\n",
    " \n",
    "**Исходные данные:**\n",
    "\n",
    "логи пользователей мобильного приложения (/datasets/logs_exp.csv): \n",
    "* EventName — название события;\n",
    "* DeviceIDHash — уникальный идентификатор пользователя;\n",
    "* EventTimestamp — время события;\n",
    "* ExpId — номер эксперимента: 246 и 247 — контрольные группы, а 248 — экспериментальная.\n",
    " \n",
    "\n",
    "**Ход исследования:**\n",
    " 1) Обзор, подготовка и предобработка данных;\n",
    " \n",
    " 2) Анализ данных;\n",
    " \n",
    " 3) Воронка событий;\n",
    " \n",
    " 4) Анализ результатов A/A/B-теста;\n",
    " \n",
    " 5) Общий вывод.\n",
    " "
   ]
  },
  {
   "cell_type": "markdown",
   "metadata": {},
   "source": [
    "## Обзор, подготовка и предобработка данных"
   ]
  },
  {
   "cell_type": "markdown",
   "metadata": {},
   "source": [
    "### Обзор данных"
   ]
  },
  {
   "cell_type": "code",
   "execution_count": 1,
   "metadata": {},
   "outputs": [],
   "source": [
    "# импортируем библиотеки\n",
    "import pandas as pd\n",
    "import datetime as dt\n",
    "import numpy as np\n",
    "import math as mth\n",
    "import seaborn as sns\n",
    "import matplotlib.pyplot as plt\n",
    "from pandas.plotting import register_matplotlib_converters\n",
    "from scipy import stats as st\n",
    "import plotly.express as px\n",
    "from plotly import graph_objects as go\n",
    "# снимаем ограничение на количество столбцов\n",
    "pd.set_option('display.max_colwidth', None)\n",
    "# игнорируем предупреждения\n",
    "pd.set_option('chained_assignment', None)  \n",
    "import warnings\n",
    "warnings.filterwarnings(action = 'ignore') \n",
    "# конвертеры, которые позволяют использовать типы pandas в matplotlib  \n",
    "register_matplotlib_converters()\n",
    "# Отображение числовых данных в читаемом виде\n",
    "pd.options.display.float_format = '{:.2f}'.format"
   ]
  },
  {
   "cell_type": "code",
   "execution_count": 2,
   "metadata": {},
   "outputs": [],
   "source": [
    "# открываем файлы \n",
    "try:\n",
    "    df = pd.read_csv('/datasets/logs_exp.csv', sep='\\t')\n",
    "    \n",
    "except:\n",
    "    df = pd.read_csv('https://code.s3.yandex.net/datasets/logs_exp.csv', sep='\\t')"
   ]
  },
  {
   "cell_type": "code",
   "execution_count": 3,
   "metadata": {},
   "outputs": [
    {
     "name": "stdout",
     "output_type": "stream",
     "text": [
      "Файл с данными о логах пользователей мобильного приложения 244126 строк в 4 столбцах.\n"
     ]
    }
   ],
   "source": [
    "## Выведем общую инфо \n",
    "print(f'Файл с данными о логах пользователей мобильного приложения {df.shape[0]} строк в {df.shape[1]} столбцах.')"
   ]
  },
  {
   "cell_type": "code",
   "execution_count": 4,
   "metadata": {},
   "outputs": [
    {
     "data": {
      "text/html": [
       "<div>\n",
       "<style scoped>\n",
       "    .dataframe tbody tr th:only-of-type {\n",
       "        vertical-align: middle;\n",
       "    }\n",
       "\n",
       "    .dataframe tbody tr th {\n",
       "        vertical-align: top;\n",
       "    }\n",
       "\n",
       "    .dataframe thead th {\n",
       "        text-align: right;\n",
       "    }\n",
       "</style>\n",
       "<table border=\"1\" class=\"dataframe\">\n",
       "  <thead>\n",
       "    <tr style=\"text-align: right;\">\n",
       "      <th></th>\n",
       "      <th>EventName</th>\n",
       "      <th>DeviceIDHash</th>\n",
       "      <th>EventTimestamp</th>\n",
       "      <th>ExpId</th>\n",
       "    </tr>\n",
       "  </thead>\n",
       "  <tbody>\n",
       "    <tr>\n",
       "      <th>0</th>\n",
       "      <td>MainScreenAppear</td>\n",
       "      <td>4575588528974610257</td>\n",
       "      <td>1564029816</td>\n",
       "      <td>246</td>\n",
       "    </tr>\n",
       "    <tr>\n",
       "      <th>1</th>\n",
       "      <td>MainScreenAppear</td>\n",
       "      <td>7416695313311560658</td>\n",
       "      <td>1564053102</td>\n",
       "      <td>246</td>\n",
       "    </tr>\n",
       "    <tr>\n",
       "      <th>2</th>\n",
       "      <td>PaymentScreenSuccessful</td>\n",
       "      <td>3518123091307005509</td>\n",
       "      <td>1564054127</td>\n",
       "      <td>248</td>\n",
       "    </tr>\n",
       "    <tr>\n",
       "      <th>3</th>\n",
       "      <td>CartScreenAppear</td>\n",
       "      <td>3518123091307005509</td>\n",
       "      <td>1564054127</td>\n",
       "      <td>248</td>\n",
       "    </tr>\n",
       "    <tr>\n",
       "      <th>4</th>\n",
       "      <td>PaymentScreenSuccessful</td>\n",
       "      <td>6217807653094995999</td>\n",
       "      <td>1564055322</td>\n",
       "      <td>248</td>\n",
       "    </tr>\n",
       "  </tbody>\n",
       "</table>\n",
       "</div>"
      ],
      "text/plain": [
       "                 EventName         DeviceIDHash  EventTimestamp  ExpId\n",
       "0         MainScreenAppear  4575588528974610257      1564029816    246\n",
       "1         MainScreenAppear  7416695313311560658      1564053102    246\n",
       "2  PaymentScreenSuccessful  3518123091307005509      1564054127    248\n",
       "3         CartScreenAppear  3518123091307005509      1564054127    248\n",
       "4  PaymentScreenSuccessful  6217807653094995999      1564055322    248"
      ]
     },
     "metadata": {},
     "output_type": "display_data"
    },
    {
     "name": "stdout",
     "output_type": "stream",
     "text": [
      "****************************************************************************************************\n",
      "Количество пропусков = EventName         0\n",
      "DeviceIDHash      0\n",
      "EventTimestamp    0\n",
      "ExpId             0\n",
      "dtype: int64\n",
      "****************************************************************************************************\n",
      "<class 'pandas.core.frame.DataFrame'>\n",
      "RangeIndex: 244126 entries, 0 to 244125\n",
      "Data columns (total 4 columns):\n",
      " #   Column          Non-Null Count   Dtype \n",
      "---  ------          --------------   ----- \n",
      " 0   EventName       244126 non-null  object\n",
      " 1   DeviceIDHash    244126 non-null  int64 \n",
      " 2   EventTimestamp  244126 non-null  int64 \n",
      " 3   ExpId           244126 non-null  int64 \n",
      "dtypes: int64(3), object(1)\n",
      "memory usage: 7.5+ MB\n",
      "Количество дубликатов = 413 ,что составляет 0.17 %\n",
      "****************************************************************************************************\n"
     ]
    },
    {
     "data": {
      "text/plain": [
       "Index(['EventName', 'DeviceIDHash', 'EventTimestamp', 'ExpId'], dtype='object')"
      ]
     },
     "metadata": {},
     "output_type": "display_data"
    },
    {
     "name": "stdout",
     "output_type": "stream",
     "text": [
      "****************************************************************************************************\n"
     ]
    },
    {
     "data": {
      "text/html": [
       "<div>\n",
       "<style scoped>\n",
       "    .dataframe tbody tr th:only-of-type {\n",
       "        vertical-align: middle;\n",
       "    }\n",
       "\n",
       "    .dataframe tbody tr th {\n",
       "        vertical-align: top;\n",
       "    }\n",
       "\n",
       "    .dataframe thead th {\n",
       "        text-align: right;\n",
       "    }\n",
       "</style>\n",
       "<table border=\"1\" class=\"dataframe\">\n",
       "  <thead>\n",
       "    <tr style=\"text-align: right;\">\n",
       "      <th></th>\n",
       "      <th>DeviceIDHash</th>\n",
       "      <th>EventTimestamp</th>\n",
       "      <th>ExpId</th>\n",
       "    </tr>\n",
       "  </thead>\n",
       "  <tbody>\n",
       "    <tr>\n",
       "      <th>count</th>\n",
       "      <td>244126.00</td>\n",
       "      <td>244126.00</td>\n",
       "      <td>244126.00</td>\n",
       "    </tr>\n",
       "    <tr>\n",
       "      <th>mean</th>\n",
       "      <td>4627568124591259648.00</td>\n",
       "      <td>1564913915.84</td>\n",
       "      <td>247.02</td>\n",
       "    </tr>\n",
       "    <tr>\n",
       "      <th>std</th>\n",
       "      <td>2642424998963707904.00</td>\n",
       "      <td>177134.32</td>\n",
       "      <td>0.82</td>\n",
       "    </tr>\n",
       "    <tr>\n",
       "      <th>min</th>\n",
       "      <td>6888746892508752.00</td>\n",
       "      <td>1564029816.00</td>\n",
       "      <td>246.00</td>\n",
       "    </tr>\n",
       "    <tr>\n",
       "      <th>25%</th>\n",
       "      <td>2372212476992240640.00</td>\n",
       "      <td>1564756580.25</td>\n",
       "      <td>246.00</td>\n",
       "    </tr>\n",
       "    <tr>\n",
       "      <th>50%</th>\n",
       "      <td>4623191541214045184.00</td>\n",
       "      <td>1564919395.00</td>\n",
       "      <td>247.00</td>\n",
       "    </tr>\n",
       "    <tr>\n",
       "      <th>75%</th>\n",
       "      <td>6932517045703054336.00</td>\n",
       "      <td>1565074511.00</td>\n",
       "      <td>248.00</td>\n",
       "    </tr>\n",
       "    <tr>\n",
       "      <th>max</th>\n",
       "      <td>9222603179720523776.00</td>\n",
       "      <td>1565212517.00</td>\n",
       "      <td>248.00</td>\n",
       "    </tr>\n",
       "  </tbody>\n",
       "</table>\n",
       "</div>"
      ],
      "text/plain": [
       "                DeviceIDHash  EventTimestamp     ExpId\n",
       "count              244126.00       244126.00 244126.00\n",
       "mean  4627568124591259648.00   1564913915.84    247.02\n",
       "std   2642424998963707904.00       177134.32      0.82\n",
       "min      6888746892508752.00   1564029816.00    246.00\n",
       "25%   2372212476992240640.00   1564756580.25    246.00\n",
       "50%   4623191541214045184.00   1564919395.00    247.00\n",
       "75%   6932517045703054336.00   1565074511.00    248.00\n",
       "max   9222603179720523776.00   1565212517.00    248.00"
      ]
     },
     "metadata": {},
     "output_type": "display_data"
    },
    {
     "name": "stdout",
     "output_type": "stream",
     "text": [
      "\n"
     ]
    }
   ],
   "source": [
    "## Получим более детальную инфо по датасету\n",
    "display(df.head())\n",
    "print('*'*100)\n",
    "print('Количество пропусков =',df.isna().sum())\n",
    "print('*'*100)\n",
    "df.info()\n",
    "print('Количество дубликатов =', df.duplicated().sum(), ',что составляет', round(df.duplicated().sum()/len(df)*100,2), '%')\n",
    "print('*'*100)\n",
    "display(df.columns)\n",
    "print('*'*100)\n",
    "display(df.describe())\n",
    "print()\n",
    "    "
   ]
  },
  {
   "cell_type": "markdown",
   "metadata": {},
   "source": [
    "**Вывод по п.1.1**\n",
    "\n",
    "1. Файл с данными о логах пользователей мобильного приложения 244126 строк в 4 столбцах;\n",
    "\n",
    "2. Пропуски отсутствуют;\n",
    "\n",
    "3. Количество дубликатов = 413,что составляет 0.17 %;\n",
    "\n",
    "4. Необходимо привести к нижнему регистру наименования столбцов ('EventName', 'DeviceIDHash', 'EventTimestamp', 'ExpId'); \n",
    "\n",
    "5. Необходимо поменять тип данных в столбце EventTimestamp\t с object на datetime и добавить отдельный столбец дат.\n",
    "\n"
   ]
  },
  {
   "cell_type": "markdown",
   "metadata": {},
   "source": [
    "### Подготовка данных"
   ]
  },
  {
   "cell_type": "markdown",
   "metadata": {},
   "source": [
    "**Замена названия столбцов**"
   ]
  },
  {
   "cell_type": "code",
   "execution_count": 5,
   "metadata": {},
   "outputs": [
    {
     "name": "stdout",
     "output_type": "stream",
     "text": [
      "Index(['event', 'user_id', 'date_time', 'group_id'], dtype='object')\n"
     ]
    }
   ],
   "source": [
    "df = df.rename(columns={'EventName': 'event', 'DeviceIDHash': 'user_id', \n",
    "                            'EventTimestamp': 'date_time', 'ExpId': 'group_id'})\n",
    "print(df.columns)"
   ]
  },
  {
   "cell_type": "markdown",
   "metadata": {},
   "source": [
    "**Приведение данных к необходимому формату и добавление отдельного столбца с датами**"
   ]
  },
  {
   "cell_type": "code",
   "execution_count": 6,
   "metadata": {},
   "outputs": [],
   "source": [
    "# Замена типа данных в столбце date_time с object на datetime (т.к. значения времени в столбце date_time представлены в секундах, добавим unit='s') )\n",
    "df['date_time'] = pd.to_datetime(df['date_time'], unit='s')"
   ]
  },
  {
   "cell_type": "code",
   "execution_count": 7,
   "metadata": {},
   "outputs": [
    {
     "data": {
      "text/html": [
       "<div>\n",
       "<style scoped>\n",
       "    .dataframe tbody tr th:only-of-type {\n",
       "        vertical-align: middle;\n",
       "    }\n",
       "\n",
       "    .dataframe tbody tr th {\n",
       "        vertical-align: top;\n",
       "    }\n",
       "\n",
       "    .dataframe thead th {\n",
       "        text-align: right;\n",
       "    }\n",
       "</style>\n",
       "<table border=\"1\" class=\"dataframe\">\n",
       "  <thead>\n",
       "    <tr style=\"text-align: right;\">\n",
       "      <th></th>\n",
       "      <th>event</th>\n",
       "      <th>user_id</th>\n",
       "      <th>date_time</th>\n",
       "      <th>group_id</th>\n",
       "      <th>dt</th>\n",
       "    </tr>\n",
       "  </thead>\n",
       "  <tbody>\n",
       "    <tr>\n",
       "      <th>108710</th>\n",
       "      <td>MainScreenAppear</td>\n",
       "      <td>1265055052971587352</td>\n",
       "      <td>2019-08-04 03:19:33</td>\n",
       "      <td>246</td>\n",
       "      <td>2019-08-04</td>\n",
       "    </tr>\n",
       "  </tbody>\n",
       "</table>\n",
       "</div>"
      ],
      "text/plain": [
       "                   event              user_id           date_time  group_id  \\\n",
       "108710  MainScreenAppear  1265055052971587352 2019-08-04 03:19:33       246   \n",
       "\n",
       "                dt  \n",
       "108710  2019-08-04  "
      ]
     },
     "execution_count": 7,
     "metadata": {},
     "output_type": "execute_result"
    }
   ],
   "source": [
    "# добавим отдельный столбец дат\n",
    "df['dt'] = pd.to_datetime(df['date_time']).dt.date \n",
    "df.sample()"
   ]
  },
  {
   "cell_type": "markdown",
   "metadata": {},
   "source": [
    "**Пропуски и дубликаты**"
   ]
  },
  {
   "cell_type": "markdown",
   "metadata": {},
   "source": [
    "Пропуски в файле отсутствуют.\n",
    "\n",
    "Количество дубликатов = 413,что составляет 0.17 %. Удалим дубликаты."
   ]
  },
  {
   "cell_type": "code",
   "execution_count": 8,
   "metadata": {},
   "outputs": [
    {
     "data": {
      "text/plain": [
       "0"
      ]
     },
     "execution_count": 8,
     "metadata": {},
     "output_type": "execute_result"
    }
   ],
   "source": [
    "df = df.drop_duplicates()\n",
    "df.duplicated().sum()"
   ]
  },
  {
   "cell_type": "markdown",
   "metadata": {},
   "source": [
    "**Прочие проверки**"
   ]
  },
  {
   "cell_type": "code",
   "execution_count": 9,
   "metadata": {},
   "outputs": [
    {
     "name": "stdout",
     "output_type": "stream",
     "text": [
      "Количество пользователей, попадающих в несколько групп: group_id    0\n",
      "dtype: int64\n"
     ]
    }
   ],
   "source": [
    "# Дополнительно проверим, есть ли пересечения пользователей в группах\n",
    "print('Количество пользователей, попадающих в несколько групп:',\n",
    "(\n",
    "df\n",
    "    .groupby('user_id')\n",
    "    .agg({'group_id' : 'nunique'})\n",
    "    .query('group_id>1')\n",
    "    .count()\n",
    "))"
   ]
  },
  {
   "cell_type": "markdown",
   "metadata": {},
   "source": [
    "**Вывод по п.1.2**\n",
    "1) Названия столбцов приведены к нижнему регистру;\n",
    "\n",
    "2) Данные о времени приведены к формату datetime, добавлен отдельный столбец дат;\n",
    "\n",
    "3) Пропуски в данных отсутствуют; были удалены явные дубликаты (413 единиц), что составляло менее 1% от общего количества;\n",
    "\n",
    "\n",
    "4) Пользователи, присутствующие одновременно в нескольких группах, отсутствуют.\n"
   ]
  },
  {
   "cell_type": "markdown",
   "metadata": {},
   "source": [
    "## Анализ данных"
   ]
  },
  {
   "cell_type": "markdown",
   "metadata": {},
   "source": [
    "### Количество событий, пользователей в логе"
   ]
  },
  {
   "cell_type": "code",
   "execution_count": 10,
   "metadata": {},
   "outputs": [
    {
     "name": "stdout",
     "output_type": "stream",
     "text": [
      "MainScreenAppear           119101\n",
      "OffersScreenAppear          46808\n",
      "CartScreenAppear            42668\n",
      "PaymentScreenSuccessful     34118\n",
      "Tutorial                     1018\n",
      "Name: event, dtype: int64\n",
      "Всего уникальных событий: 5\n"
     ]
    }
   ],
   "source": [
    "print(df['event'].value_counts())\n",
    "print('Всего уникальных событий:', len(df['event'].unique()))"
   ]
  },
  {
   "cell_type": "code",
   "execution_count": 11,
   "metadata": {},
   "outputs": [
    {
     "name": "stdout",
     "output_type": "stream",
     "text": [
      "Всего событий в логе: 243713\n",
      "Всего пользователей в логе: 7551\n",
      "Среднее количество событий, приходящихся на пользователя: 32.3\n",
      "Медианное количество событий, приходящихся на пользователя: 20.0\n"
     ]
    }
   ],
   "source": [
    "print(f'Всего событий в логе: {len(df)}')\n",
    "print(f'Всего пользователей в логе: {df[\"user_id\"].nunique()}')\n",
    "print(f'Среднее количество событий, приходящихся на пользователя: {round(len(df)/df[\"user_id\"].nunique(),1)}')\n",
    "print(f'Медианное количество событий, приходящихся на пользователя: {round(df.groupby(\"user_id\")[\"event\"].count().median(),1)}')"
   ]
  },
  {
   "cell_type": "markdown",
   "metadata": {},
   "source": [
    "Разница между средним и медианным количеством событий существенна, - скорее всего, есть выбросы. Построим гистограмму и оценим визуально."
   ]
  },
  {
   "cell_type": "code",
   "execution_count": 12,
   "metadata": {
    "scrolled": true
   },
   "outputs": [
    {
     "data": {
      "image/png": "[encoded data removed]",
      "text/plain": [
       "<Figure size 2000x900 with 1 Axes>"
      ]
     },
     "metadata": {},
     "output_type": "display_data"
    }
   ],
   "source": [
    "# Построим гистограмму\n",
    "plt.figure(figsize=(20,9))\n",
    "plt.hist(df.groupby(\"user_id\")[\"event\"].count(), bins=100, range=(150,2000))\n",
    "plt.xlabel('События')\n",
    "plt.ylabel('Пользователи')\n",
    "plt.grid()\n",
    "plt.title('Среднее количество событий на пользователя')\n",
    "plt.show()"
   ]
  },
  {
   "cell_type": "markdown",
   "metadata": {},
   "source": [
    "Действительно, на гистограмме видны выбросы, более корректно проводить оценку по медианному количеству событий, приходящихся на пользователя: 20.0."
   ]
  },
  {
   "cell_type": "markdown",
   "metadata": {},
   "source": [
    "### Период времени"
   ]
  },
  {
   "cell_type": "code",
   "execution_count": 13,
   "metadata": {},
   "outputs": [
    {
     "data": {
      "text/plain": [
       "count                  243713\n",
       "unique                 176654\n",
       "top       2019-08-01 14:40:35\n",
       "freq                        9\n",
       "first     2019-07-25 04:43:36\n",
       "last      2019-08-07 21:15:17\n",
       "Name: date_time, dtype: object"
      ]
     },
     "execution_count": 13,
     "metadata": {},
     "output_type": "execute_result"
    }
   ],
   "source": [
    "df['date_time'].describe().T"
   ]
  },
  {
   "cell_type": "code",
   "execution_count": 14,
   "metadata": {},
   "outputs": [
    {
     "name": "stdout",
     "output_type": "stream",
     "text": [
      "В логе присутствуют данные с  2019-07-25 04:43:36  (минимальная дата), по  2019-08-07 21:15:17 (максимальная дата).\n",
      "Период: 13 days 16:31:41\n"
     ]
    }
   ],
   "source": [
    "print('В логе присутствуют данные с ', df['date_time'].min(), ' (минимальная дата), по ', df['date_time'].max(), '(максимальная дата).')\n",
    "print(f'Период: {df[\"date_time\"].max() - df[\"date_time\"].min()}')"
   ]
  },
  {
   "cell_type": "code",
   "execution_count": 15,
   "metadata": {},
   "outputs": [
    {
     "data": {
      "image/png": "[encoded data removed]",
      "text/plain": [
       "<Figure size 2000x900 with 1 Axes>"
      ]
     },
     "metadata": {},
     "output_type": "display_data"
    }
   ],
   "source": [
    "# Строим столбчатую диаграмму, которая отобразит количество событий в зависимости от времени в разрезе групп\n",
    "# Создаем группы событий\n",
    "event_groups = df['event'].unique()\n",
    "\n",
    "plt.figure(figsize=(20,9))\n",
    "\n",
    "# Для каждой группы событий строим гистограмму с соответствующим цветом\n",
    "for i, event in enumerate(event_groups):\n",
    "    plt.hist(df[df['event'] == event]['date_time'], bins=100, alpha=0.6, color=plt.cm.tab10(i), label=event)\n",
    "\n",
    "plt.title('Распределение логов по дате и времени', fontsize=15)\n",
    "plt.xlabel('Дата и время событий')\n",
    "plt.grid()\n",
    "plt.ylabel('Количество событий')\n",
    "plt.legend()\n",
    "plt.show()"
   ]
  },
  {
   "cell_type": "markdown",
   "metadata": {},
   "source": [
    "Мобильным приложением стали активно пользоваться в промежуток времени между 2019-07-31 и 2019-08-01. Приблизим гистограмму, выбрав указанный  временной промежуток, чтобы опеределиться с минимальной границей."
   ]
  },
  {
   "cell_type": "code",
   "execution_count": 16,
   "metadata": {},
   "outputs": [
    {
     "data": {
      "image/png": "[encoded data removed]",
      "text/plain": [
       "<Figure size 2000x900 with 1 Axes>"
      ]
     },
     "metadata": {},
     "output_type": "display_data"
    }
   ],
   "source": [
    "plt.figure(figsize=(20,9))\n",
    "\n",
    "# Для каждой группы событий строим гистограмму с соответствующим цветом\n",
    "for i, event in enumerate(event_groups):\n",
    "    plt.hist(df[df['event'] == event]['date_time'], bins=100, alpha=0.6, range=('2019-07-31 00:00:00','2019-07-31 23:59:00'),color=plt.cm.tab10(i), label=event)\n",
    "\n",
    "plt.title('Распределение логов по дате и времени', fontsize=15)\n",
    "plt.xlabel('Дата и время событий')\n",
    "plt.grid()\n",
    "plt.ylabel('Количество событий')\n",
    "plt.legend()\n",
    "plt.show()"
   ]
  },
  {
   "cell_type": "markdown",
   "metadata": {},
   "source": [
    "По диаграмме можно предположить, что события, совершенные 31 июля, это события из прошлого, которые \"доезжают\" и  могут искажать данные.\n",
    "Определим временной интервал для целей анализа: с 01 августа по 07 августа."
   ]
  },
  {
   "cell_type": "markdown",
   "metadata": {},
   "source": [
    "### Определение потери данных при  актуализации временного периода"
   ]
  },
  {
   "cell_type": "code",
   "execution_count": 17,
   "metadata": {},
   "outputs": [
    {
     "name": "stdout",
     "output_type": "stream",
     "text": [
      "До актуализации временного периода всего событий: 243713 , всего пользователей: 7551\n",
      "После актуализации временного периода всего событий: 240887 , всего пользователей: 7534\n",
      "Потеря событий составила: -1.16 %\n",
      "Потеря пользователей составила: -0.23 %\n"
     ]
    }
   ],
   "source": [
    "print('До актуализации временного периода всего событий:',df.shape[0] , ', всего пользователей:', df.user_id.nunique())\n",
    "df_filtered= df.query('date_time >= \"2019-08-01\" ')\n",
    "print('После актуализации временного периода всего событий:',df_filtered.shape[0] , ', всего пользователей:',df_filtered.user_id.nunique())\n",
    "print('Потеря событий составила:',round((df_filtered.shape[0]/df.shape[0]-1)*100,2),'%')\n",
    "print('Потеря пользователей составила:',round((df_filtered.user_id.nunique()/df.user_id.nunique()-1)*100,2),'%')"
   ]
  },
  {
   "cell_type": "markdown",
   "metadata": {},
   "source": [
    "Потеря событий в размере -1.16 % и потеря пользователей -0.23 % не являются существенными.\n",
    "Будем далее работать с файлом df_filtered."
   ]
  },
  {
   "cell_type": "markdown",
   "metadata": {},
   "source": [
    "### Распределение событий и пользователей по группам"
   ]
  },
  {
   "cell_type": "code",
   "execution_count": 18,
   "metadata": {},
   "outputs": [
    {
     "data": {
      "text/html": [
       "<div>\n",
       "<style scoped>\n",
       "    .dataframe tbody tr th:only-of-type {\n",
       "        vertical-align: middle;\n",
       "    }\n",
       "\n",
       "    .dataframe tbody tr th {\n",
       "        vertical-align: top;\n",
       "    }\n",
       "\n",
       "    .dataframe thead th {\n",
       "        text-align: right;\n",
       "    }\n",
       "</style>\n",
       "<table border=\"1\" class=\"dataframe\">\n",
       "  <thead>\n",
       "    <tr style=\"text-align: right;\">\n",
       "      <th></th>\n",
       "      <th>group_id</th>\n",
       "      <th>user_id</th>\n",
       "    </tr>\n",
       "  </thead>\n",
       "  <tbody>\n",
       "    <tr>\n",
       "      <th>0</th>\n",
       "      <td>246</td>\n",
       "      <td>2484</td>\n",
       "    </tr>\n",
       "    <tr>\n",
       "      <th>1</th>\n",
       "      <td>247</td>\n",
       "      <td>2513</td>\n",
       "    </tr>\n",
       "    <tr>\n",
       "      <th>2</th>\n",
       "      <td>248</td>\n",
       "      <td>2537</td>\n",
       "    </tr>\n",
       "  </tbody>\n",
       "</table>\n",
       "</div>"
      ],
      "text/plain": [
       "   group_id  user_id\n",
       "0       246     2484\n",
       "1       247     2513\n",
       "2       248     2537"
      ]
     },
     "execution_count": 18,
     "metadata": {},
     "output_type": "execute_result"
    }
   ],
   "source": [
    "df_filtered.groupby('group_id').agg({'user_id': 'nunique'}).reset_index()"
   ]
  },
  {
   "cell_type": "markdown",
   "metadata": {},
   "source": [
    "В контрольных группах 246 и 247 - 2484 и 2513 уникальных пользователей соответственно, а в экспериментальной 248 -  2537. "
   ]
  },
  {
   "cell_type": "code",
   "execution_count": 19,
   "metadata": {},
   "outputs": [
    {
     "data": {
      "text/plain": [
       "'Количество событий по группам'"
      ]
     },
     "metadata": {},
     "output_type": "display_data"
    },
    {
     "data": {
      "text/plain": [
       "248    84563\n",
       "246    79302\n",
       "247    77022\n",
       "Name: group_id, dtype: int64"
      ]
     },
     "metadata": {},
     "output_type": "display_data"
    }
   ],
   "source": [
    "display('Количество событий по группам', df_filtered['group_id'].value_counts())"
   ]
  },
  {
   "cell_type": "markdown",
   "metadata": {},
   "source": [
    "В контрольных группах 246 и 247 - 79302 и 77022  событий соответственно, а в экспериментальной 248 -  84563. \n",
    "\n",
    "Количество уникальных пользователей в группах в общем сопоставимо (разница +- не более 2%); количество событий отличается значительнее, но в целом разница составляет не более 9%, что допустимо. \n",
    "\n",
    "Экспериментальная 248 группа имеет больше всего пользователей и событий."
   ]
  },
  {
   "cell_type": "markdown",
   "metadata": {},
   "source": [
    "**Вывод по п.2:**\n",
    "\n",
    "Всего событий в логе: **243 713**.\n",
    "Всего 5 уникальных событий: \n",
    "* MainScreenAppear (Открытие главного экрана); \n",
    "* OffersScreenAppear (Предложения экрана);\n",
    "* CartScreenAppear (Добавление товара в корзину);\n",
    "* PaymentScreenSuccessful (Экран с подтверждением оплаты);\n",
    "* Tutorial (Руководство).       \n",
    "\n",
    "Всего пользователей в логе: **7551**.\n",
    "\n",
    "Среднее количество событий, приходящихся на пользователя: 32.3.\n",
    "\n",
    "Медианное количество событий, приходящихся на пользователя: 20.0.\n",
    "Так как в данных присутствуют  выбросы, более корректно проводить оценку по медианному количеству событий, приходящихся на пользователя: 20.0.\n",
    "\n",
    "В логе присутствуют данные с  2019-07-25 04:43:36  (минимальная дата), по  2019-08-07 21:15:17 (максимальная дата).\n",
    "После построения столбчатой диаграммы был определен временной интревал для целей анализа: с **01 августа** по **07 августа**.\n",
    "\n",
    "Потеря событий в размере -1.16 % и потеря пользователей -0.23 % не являются существенными.\n",
    "\n",
    "Количество уникальных пользователей в группах в общем сопоставимо (разница +- не более 2%); количество событий отличается значительнее, но в целом разница составляет не более 9%, что допустимо.\n",
    "\n",
    "Экспериментальная 248 группа имеет больше всего пользователей и событий."
   ]
  },
  {
   "cell_type": "markdown",
   "metadata": {},
   "source": [
    "## Воронка событий"
   ]
  },
  {
   "cell_type": "markdown",
   "metadata": {},
   "source": [
    "### Распределение событий в логе"
   ]
  },
  {
   "cell_type": "code",
   "execution_count": 20,
   "metadata": {},
   "outputs": [
    {
     "name": "stdout",
     "output_type": "stream",
     "text": [
      "                     event  total_events\n",
      "1         MainScreenAppear        117328\n",
      "2       OffersScreenAppear         46333\n",
      "0         CartScreenAppear         42303\n",
      "3  PaymentScreenSuccessful         33918\n",
      "4                 Tutorial          1005\n",
      "Всего уникальных событий: 5\n"
     ]
    }
   ],
   "source": [
    "events = (df_filtered.\n",
    "          groupby('event').\n",
    "          agg({'user_id': 'count'}).\n",
    "          reset_index().\n",
    "          rename(columns={'user_id' : 'total_events'}).\n",
    "          sort_values(by='total_events', ascending=False))\n",
    "print(events)\n",
    "print('Всего уникальных событий:', len(events))"
   ]
  },
  {
   "cell_type": "markdown",
   "metadata": {},
   "source": [
    "Всего уникальных событий: 5. Список событий в логе (в порядке убывания): \n",
    "* MainScreenAppear (Открытие главного экрана); \n",
    "* OffersScreenAppear (Предложения экрана);\n",
    "* CartScreenAppear (Добавление товара в корзину);\n",
    "* PaymentScreenSuccessful (Экран с подтверждением оплаты);\n",
    "* Tutorial (Руководство)."
   ]
  },
  {
   "cell_type": "code",
   "execution_count": 21,
   "metadata": {},
   "outputs": [
    {
     "data": {
      "image/png": "[encoded data removed]",
      "text/plain": [
       "<Figure size 2000x900 with 1 Axes>"
      ]
     },
     "metadata": {},
     "output_type": "display_data"
    }
   ],
   "source": [
    "# Представим распределение событий в логе на диаграмме\n",
    "plt.figure(figsize=(20, 9))\n",
    "ax = sns.barplot(x='total_events', y='event', data=events, alpha=0.7, orient='h')\n",
    "ax.set_title('Частота событий в логах', fontsize=15)\n",
    "ax.set_xlabel('Количество') \n",
    "ax.set_ylabel('') \n",
    "\n",
    "# Добавляем подписи внутрь значений\n",
    "for p in ax.patches:\n",
    "    width = p.get_width()\n",
    "    height = p.get_height()\n",
    "    x, y = p.get_x(), p.get_y()\n",
    "    ax.text(x + width/2, y + height/2, f'{width:.0f}', ha='center', va='center', fontsize=12, color='black')\n",
    "ax.set_yticklabels(ax.get_yticklabels(), rotation=20)\n",
    "plt.show()\n"
   ]
  },
  {
   "cell_type": "markdown",
   "metadata": {},
   "source": [
    "### Распределение пользователей по событиям и группам в логе"
   ]
  },
  {
   "cell_type": "code",
   "execution_count": 22,
   "metadata": {},
   "outputs": [
    {
     "data": {
      "text/html": [
       "<div>\n",
       "<style scoped>\n",
       "    .dataframe tbody tr th:only-of-type {\n",
       "        vertical-align: middle;\n",
       "    }\n",
       "\n",
       "    .dataframe tbody tr th {\n",
       "        vertical-align: top;\n",
       "    }\n",
       "\n",
       "    .dataframe thead th {\n",
       "        text-align: right;\n",
       "    }\n",
       "</style>\n",
       "<table border=\"1\" class=\"dataframe\">\n",
       "  <thead>\n",
       "    <tr style=\"text-align: right;\">\n",
       "      <th></th>\n",
       "      <th>event</th>\n",
       "      <th>group_count</th>\n",
       "      <th>total_users</th>\n",
       "      <th>%_of_users</th>\n",
       "    </tr>\n",
       "  </thead>\n",
       "  <tbody>\n",
       "    <tr>\n",
       "      <th>1</th>\n",
       "      <td>MainScreenAppear</td>\n",
       "      <td>117328</td>\n",
       "      <td>7419</td>\n",
       "      <td>98.50</td>\n",
       "    </tr>\n",
       "    <tr>\n",
       "      <th>2</th>\n",
       "      <td>OffersScreenAppear</td>\n",
       "      <td>46333</td>\n",
       "      <td>4593</td>\n",
       "      <td>61.00</td>\n",
       "    </tr>\n",
       "    <tr>\n",
       "      <th>0</th>\n",
       "      <td>CartScreenAppear</td>\n",
       "      <td>42303</td>\n",
       "      <td>3734</td>\n",
       "      <td>49.60</td>\n",
       "    </tr>\n",
       "    <tr>\n",
       "      <th>3</th>\n",
       "      <td>PaymentScreenSuccessful</td>\n",
       "      <td>33918</td>\n",
       "      <td>3539</td>\n",
       "      <td>47.00</td>\n",
       "    </tr>\n",
       "    <tr>\n",
       "      <th>4</th>\n",
       "      <td>Tutorial</td>\n",
       "      <td>1005</td>\n",
       "      <td>840</td>\n",
       "      <td>11.10</td>\n",
       "    </tr>\n",
       "  </tbody>\n",
       "</table>\n",
       "</div>"
      ],
      "text/plain": [
       "                     event  group_count  total_users  %_of_users\n",
       "1         MainScreenAppear       117328         7419       98.50\n",
       "2       OffersScreenAppear        46333         4593       61.00\n",
       "0         CartScreenAppear        42303         3734       49.60\n",
       "3  PaymentScreenSuccessful        33918         3539       47.00\n",
       "4                 Tutorial         1005          840       11.10"
      ]
     },
     "execution_count": 22,
     "metadata": {},
     "output_type": "execute_result"
    }
   ],
   "source": [
    "df_users=(df_filtered.groupby('event')\n",
    "               .agg(group_count=('group_id', 'count'), total_users=('user_id', 'nunique'))\n",
    "               .reset_index()\n",
    "               .sort_values(by='group_count', ascending=False))\n",
    "df_users['%_of_users'] = round(100*df_users['total_users'] / df_filtered['user_id'].nunique(),1)\n",
    "df_users\n"
   ]
  },
  {
   "cell_type": "markdown",
   "metadata": {},
   "source": [
    "Посмотрим  распределение пользователей по событиям и группам в логе."
   ]
  },
  {
   "cell_type": "code",
   "execution_count": 23,
   "metadata": {
    "scrolled": false
   },
   "outputs": [
    {
     "data": {
      "text/html": [
       "<div>\n",
       "<style scoped>\n",
       "    .dataframe tbody tr th:only-of-type {\n",
       "        vertical-align: middle;\n",
       "    }\n",
       "\n",
       "    .dataframe tbody tr th {\n",
       "        vertical-align: top;\n",
       "    }\n",
       "\n",
       "    .dataframe thead th {\n",
       "        text-align: right;\n",
       "    }\n",
       "</style>\n",
       "<table border=\"1\" class=\"dataframe\">\n",
       "  <thead>\n",
       "    <tr style=\"text-align: right;\">\n",
       "      <th></th>\n",
       "      <th>event</th>\n",
       "      <th>group_id</th>\n",
       "      <th>n_events</th>\n",
       "      <th>total_users</th>\n",
       "      <th>%%</th>\n",
       "    </tr>\n",
       "  </thead>\n",
       "  <tbody>\n",
       "    <tr>\n",
       "      <th>0</th>\n",
       "      <td>MainScreenAppear</td>\n",
       "      <td>248</td>\n",
       "      <td>40562</td>\n",
       "      <td>2493</td>\n",
       "      <td>98.10</td>\n",
       "    </tr>\n",
       "    <tr>\n",
       "      <th>1</th>\n",
       "      <td>OffersScreenAppear</td>\n",
       "      <td>248</td>\n",
       "      <td>16387</td>\n",
       "      <td>1531</td>\n",
       "      <td>60.20</td>\n",
       "    </tr>\n",
       "    <tr>\n",
       "      <th>2</th>\n",
       "      <td>CartScreenAppear</td>\n",
       "      <td>248</td>\n",
       "      <td>15179</td>\n",
       "      <td>1230</td>\n",
       "      <td>48.40</td>\n",
       "    </tr>\n",
       "    <tr>\n",
       "      <th>3</th>\n",
       "      <td>PaymentScreenSuccessful</td>\n",
       "      <td>248</td>\n",
       "      <td>12085</td>\n",
       "      <td>1181</td>\n",
       "      <td>46.50</td>\n",
       "    </tr>\n",
       "    <tr>\n",
       "      <th>4</th>\n",
       "      <td>Tutorial</td>\n",
       "      <td>248</td>\n",
       "      <td>350</td>\n",
       "      <td>279</td>\n",
       "      <td>11.00</td>\n",
       "    </tr>\n",
       "    <tr>\n",
       "      <th>5</th>\n",
       "      <td>MainScreenAppear</td>\n",
       "      <td>247</td>\n",
       "      <td>39090</td>\n",
       "      <td>2476</td>\n",
       "      <td>98.30</td>\n",
       "    </tr>\n",
       "    <tr>\n",
       "      <th>6</th>\n",
       "      <td>OffersScreenAppear</td>\n",
       "      <td>247</td>\n",
       "      <td>15179</td>\n",
       "      <td>1520</td>\n",
       "      <td>60.30</td>\n",
       "    </tr>\n",
       "    <tr>\n",
       "      <th>7</th>\n",
       "      <td>CartScreenAppear</td>\n",
       "      <td>247</td>\n",
       "      <td>12434</td>\n",
       "      <td>1238</td>\n",
       "      <td>49.10</td>\n",
       "    </tr>\n",
       "    <tr>\n",
       "      <th>8</th>\n",
       "      <td>PaymentScreenSuccessful</td>\n",
       "      <td>247</td>\n",
       "      <td>9981</td>\n",
       "      <td>1158</td>\n",
       "      <td>46.00</td>\n",
       "    </tr>\n",
       "    <tr>\n",
       "      <th>9</th>\n",
       "      <td>Tutorial</td>\n",
       "      <td>247</td>\n",
       "      <td>338</td>\n",
       "      <td>283</td>\n",
       "      <td>11.20</td>\n",
       "    </tr>\n",
       "    <tr>\n",
       "      <th>10</th>\n",
       "      <td>MainScreenAppear</td>\n",
       "      <td>246</td>\n",
       "      <td>37676</td>\n",
       "      <td>2450</td>\n",
       "      <td>98.40</td>\n",
       "    </tr>\n",
       "    <tr>\n",
       "      <th>11</th>\n",
       "      <td>OffersScreenAppear</td>\n",
       "      <td>246</td>\n",
       "      <td>14767</td>\n",
       "      <td>1542</td>\n",
       "      <td>62.00</td>\n",
       "    </tr>\n",
       "    <tr>\n",
       "      <th>12</th>\n",
       "      <td>CartScreenAppear</td>\n",
       "      <td>246</td>\n",
       "      <td>14690</td>\n",
       "      <td>1266</td>\n",
       "      <td>50.90</td>\n",
       "    </tr>\n",
       "    <tr>\n",
       "      <th>13</th>\n",
       "      <td>PaymentScreenSuccessful</td>\n",
       "      <td>246</td>\n",
       "      <td>11852</td>\n",
       "      <td>1200</td>\n",
       "      <td>48.20</td>\n",
       "    </tr>\n",
       "    <tr>\n",
       "      <th>14</th>\n",
       "      <td>Tutorial</td>\n",
       "      <td>246</td>\n",
       "      <td>317</td>\n",
       "      <td>278</td>\n",
       "      <td>11.20</td>\n",
       "    </tr>\n",
       "  </tbody>\n",
       "</table>\n",
       "</div>"
      ],
      "text/plain": [
       "                      event  group_id  n_events  total_users    %%\n",
       "0          MainScreenAppear       248     40562         2493 98.10\n",
       "1        OffersScreenAppear       248     16387         1531 60.20\n",
       "2          CartScreenAppear       248     15179         1230 48.40\n",
       "3   PaymentScreenSuccessful       248     12085         1181 46.50\n",
       "4                  Tutorial       248       350          279 11.00\n",
       "5          MainScreenAppear       247     39090         2476 98.30\n",
       "6        OffersScreenAppear       247     15179         1520 60.30\n",
       "7          CartScreenAppear       247     12434         1238 49.10\n",
       "8   PaymentScreenSuccessful       247      9981         1158 46.00\n",
       "9                  Tutorial       247       338          283 11.20\n",
       "10         MainScreenAppear       246     37676         2450 98.40\n",
       "11       OffersScreenAppear       246     14767         1542 62.00\n",
       "12         CartScreenAppear       246     14690         1266 50.90\n",
       "13  PaymentScreenSuccessful       246     11852         1200 48.20\n",
       "14                 Tutorial       246       317          278 11.20"
      ]
     },
     "execution_count": 23,
     "metadata": {},
     "output_type": "execute_result"
    }
   ],
   "source": [
    "funnel = (df_filtered\n",
    "          .groupby(['event', 'group_id'])\n",
    "          .agg(n_events=('event', 'count'), total_users=('user_id', 'nunique'))\n",
    "          .sort_values(by=['group_id','total_users'], ascending=False)\n",
    "          .reset_index()\n",
    "         )\n",
    "\n",
    "# Зададим группы пользователей\n",
    "a_users = df[df['group_id']==246]['user_id'].nunique()\n",
    "b_users = df[df['group_id']==247]['user_id'].nunique()\n",
    "c_users = df[df['group_id']==248]['user_id'].nunique()\n",
    "\n",
    "    \n",
    "# Функция для расчета доли  пользователей по событиям и группам в логе\n",
    "def users_group(row):\n",
    "    if row['group_id']==246:\n",
    "        return (row['total_users'] / a_users * 100)\n",
    "    elif row['group_id']==247:\n",
    "        return (row['total_users'] / b_users * 100)\n",
    "    elif row['group_id']==248:\n",
    "        return (row['total_users'] / c_users * 100)\n",
    "    \n",
    "    \n",
    "    \n",
    "# Добавим столбец с процентом пользователей, перешедших на данный шаг\n",
    "funnel['%%'] = round(funnel.apply(users_group, axis=1),1)\n",
    "\n",
    "funnel\n"
   ]
  },
  {
   "cell_type": "markdown",
   "metadata": {},
   "source": [
    "При распределении пользователей по событиям и группам в логе, также, как и при общем распределении событий, очередность порядка событий (в порядке убывания) идентичная:\n",
    " \n",
    "* MainScreenAppear (Открытие главного экрана); \n",
    "* OffersScreenAppear (Предложения экрана);\n",
    "* CartScreenAppear (Добавление товара в корзину);\n",
    "* PaymentScreenSuccessful (Экран с подтверждением оплаты);\n",
    "* Tutorial (Руководство).\n",
    "\n",
    "В таблицу для построения воронки событий я добавила столбец \"%%\", отражающий процент пользователей, перешедших на данный шаг, от общего числа пользователей в каждой группе.\n",
    "\n"
   ]
  },
  {
   "cell_type": "markdown",
   "metadata": {},
   "source": [
    "### Определение очередности событий"
   ]
  },
  {
   "cell_type": "markdown",
   "metadata": {},
   "source": [
    "Посмотрим, в каком порядке происходят события и все ли они выстраиваются в последовательную цепочку. Возможно, какое-то событие нужно исключить при анализе воронки."
   ]
  },
  {
   "cell_type": "code",
   "execution_count": 24,
   "metadata": {},
   "outputs": [
    {
     "data": {
      "image/png": "[encoded data removed]",
      "text/plain": [
       "<Figure size 1440x600 with 3 Axes>"
      ]
     },
     "metadata": {},
     "output_type": "display_data"
    }
   ],
   "source": [
    "priority = (\n",
    "    sns\n",
    "    .catplot(y=\"%%\", x=\"event\",col=\"group_id\",data=funnel, kind=\"bar\",alpha=0.7,aspect=0.8,\n",
    "                  height=6).set_xlabels('Событие')\n",
    "    .set_ylabels(' %')\n",
    "    .set_xticklabels([\"Main\", \"Offers\", \"Cart\", \"Payment\", \"Tutorial\"])\n",
    ");"
   ]
  },
  {
   "cell_type": "markdown",
   "metadata": {},
   "source": [
    "Во всех группах последовательность событий одинаковая. Для дальнейшего расчёта воронки уберем событие Tutorial(Руководство), выполнение которого не является обязательным для покупки товаров.\n",
    "\n",
    "Таким образом, воронка событий будет состоять из следующих пунктов:\n",
    "* MainScreenAppear (Открытие главного экрана); \n",
    "* OffersScreenAppear (Предложения экрана);\n",
    "* CartScreenAppear (Добавление товара в корзину);\n",
    "* PaymentScreenSuccessful (Экран с подтверждением оплаты);\n",
    "\n"
   ]
  },
  {
   "cell_type": "markdown",
   "metadata": {},
   "source": [
    "### Воронка событий"
   ]
  },
  {
   "cell_type": "markdown",
   "metadata": {},
   "source": [
    "Для расчета воронки событий модернизируем ранее полученную таблицу df_users путем добавления столбца с расчетом конверсии (какая доля пользователей проходит на следующий шаг воронки (от числа пользователей на предыдущем))."
   ]
  },
  {
   "cell_type": "code",
   "execution_count": 25,
   "metadata": {},
   "outputs": [
    {
     "data": {
      "text/html": [
       "<div>\n",
       "<style scoped>\n",
       "    .dataframe tbody tr th:only-of-type {\n",
       "        vertical-align: middle;\n",
       "    }\n",
       "\n",
       "    .dataframe tbody tr th {\n",
       "        vertical-align: top;\n",
       "    }\n",
       "\n",
       "    .dataframe thead th {\n",
       "        text-align: right;\n",
       "    }\n",
       "</style>\n",
       "<table border=\"1\" class=\"dataframe\">\n",
       "  <thead>\n",
       "    <tr style=\"text-align: right;\">\n",
       "      <th></th>\n",
       "      <th>event</th>\n",
       "      <th>group_count</th>\n",
       "      <th>total_users</th>\n",
       "      <th>%_of_users</th>\n",
       "      <th>rate_next_step</th>\n",
       "    </tr>\n",
       "  </thead>\n",
       "  <tbody>\n",
       "    <tr>\n",
       "      <th>0</th>\n",
       "      <td>MainScreenAppear</td>\n",
       "      <td>117328</td>\n",
       "      <td>7419</td>\n",
       "      <td>98.50</td>\n",
       "      <td>100.00</td>\n",
       "    </tr>\n",
       "    <tr>\n",
       "      <th>1</th>\n",
       "      <td>OffersScreenAppear</td>\n",
       "      <td>46333</td>\n",
       "      <td>4593</td>\n",
       "      <td>61.00</td>\n",
       "      <td>61.90</td>\n",
       "    </tr>\n",
       "    <tr>\n",
       "      <th>2</th>\n",
       "      <td>CartScreenAppear</td>\n",
       "      <td>42303</td>\n",
       "      <td>3734</td>\n",
       "      <td>49.60</td>\n",
       "      <td>81.30</td>\n",
       "    </tr>\n",
       "    <tr>\n",
       "      <th>3</th>\n",
       "      <td>PaymentScreenSuccessful</td>\n",
       "      <td>33918</td>\n",
       "      <td>3539</td>\n",
       "      <td>47.00</td>\n",
       "      <td>94.80</td>\n",
       "    </tr>\n",
       "  </tbody>\n",
       "</table>\n",
       "</div>"
      ],
      "text/plain": [
       "                     event  group_count  total_users  %_of_users  \\\n",
       "0         MainScreenAppear       117328         7419       98.50   \n",
       "1       OffersScreenAppear        46333         4593       61.00   \n",
       "2         CartScreenAppear        42303         3734       49.60   \n",
       "3  PaymentScreenSuccessful        33918         3539       47.00   \n",
       "\n",
       "   rate_next_step  \n",
       "0          100.00  \n",
       "1           61.90  \n",
       "2           81.30  \n",
       "3           94.80  "
      ]
     },
     "execution_count": 25,
     "metadata": {},
     "output_type": "execute_result"
    }
   ],
   "source": [
    "df_users['rate_next_step'] = round(100*df_users['total_users'] /  df_users['total_users'].shift(),1)\n",
    "df_users = df_users.query('event != \"Tutorial\"').fillna(100).reset_index(drop=True)\n",
    "df_users"
   ]
  },
  {
   "cell_type": "code",
   "execution_count": 26,
   "metadata": {},
   "outputs": [
    {
     "data": {
      "image/png": "[encoded data removed]",
      "text/plain": [
       "<Figure size 2000x900 with 1 Axes>"
      ]
     },
     "metadata": {},
     "output_type": "display_data"
    }
   ],
   "source": [
    "# Представим воронку  событий на диаграмме\n",
    "plt.figure(figsize=(20, 9))\n",
    "ax = sns.barplot(x='total_users', y='event', data=df_users, alpha=0.7, orient='h')\n",
    "ax.set_title('Воронка событий', fontsize=15)\n",
    "ax.set_xlabel('Количество пользователей')\n",
    "ax.set_ylabel('')\n",
    "\n",
    "# Вычисляем процентное соотношение относительно предыдущего значения\n",
    "prev_value = None\n",
    "for i, p in enumerate(ax.patches):\n",
    "    width = p.get_width()\n",
    "    height = p.get_height()\n",
    "    x, y = p.get_x(), p.get_y()\n",
    "    \n",
    "    # Вычисляем процентное соотношение\n",
    "    if prev_value is None:\n",
    "        percentage = 100\n",
    "    else:\n",
    "        percentage = 100 * width / prev_value\n",
    "        \n",
    "    ax.text(x + width/2, y + height/2, f'{width:.0f} ({percentage:.1f}%)', ha='center', va='center', fontsize=12, color='black')\n",
    "    \n",
    "    prev_value = width\n",
    "\n",
    "ax.set_yticklabels(ax.get_yticklabels(), rotation=20)\n",
    "plt.show()\n"
   ]
  },
  {
   "cell_type": "markdown",
   "metadata": {},
   "source": [
    "Наибольшее количество пользователей теряется на втором шаге \"Предложения экрана\" (около 38%). \n",
    "\n",
    "От первого события до оплаты доходит 47 % (см. таблицу df_users, колонка \"%_of_users\")."
   ]
  },
  {
   "cell_type": "markdown",
   "metadata": {},
   "source": [
    "**Вывод по п.3:**\n",
    "\n",
    "Всего уникальных событий: 5. Список событий в логе (в порядке убывания): \n",
    "* MainScreenAppear (Открытие главного экрана); \n",
    "* OffersScreenAppear (Предложения экрана);\n",
    "* CartScreenAppear (Добавление товара в корзину);\n",
    "* PaymentScreenSuccessful (Экран с подтверждением оплаты);\n",
    "* Tutorial (Руководство).\n",
    "\n",
    "**Количество пользователей, которые совершили событие хотя бы раз:**\n",
    "* Открытие главного экрана - 7419; \n",
    "* Предложения экрана - 4593;\n",
    "* Добавление товара в корзину - 3734 ;\n",
    "* Экран с подтверждением оплаты - 3539 ;\n",
    "* Руководство - 840.\n",
    "\n",
    "Во всех группах **последовательность событий** одинаковая:\n",
    "\n",
    " 1) Открытие главного экрана; \n",
    " \n",
    " 2) Предложения экрана;\n",
    " \n",
    " 3) Добавление товара в корзину;\n",
    " \n",
    " 4) Экран с подтверждением оплаты;\n",
    " \n",
    " 5) Руководство.\n",
    " \n",
    " Для дальнейшего расчёта воронки уберем событие Tutorial(Руководство), выполнение которого не является обязательным для покупки товаров.\n",
    " \n",
    " По воронке событий **доля пользователей, совершивших переход на следующий шаг воронки**:\n",
    " \n",
    " 1) Открытие главного экрана - 100%; \n",
    " \n",
    " 2) Предложения экрана - 61,9%;\n",
    " \n",
    " 3) Добавление товара в корзину - 81,3%;\n",
    " \n",
    " 4) Экран с подтверждением оплаты - 94,8%.\n",
    " \n",
    " Наибольшее количество пользователей теряется на втором шаге \"Предложения экрана\" (около 38%). \n",
    "\n",
    "**От первого события до оплаты доходит не более 47 %.**\n",
    "\n",
    "С учетом того, что наибольшее количество пользователей теряется на втором шаге \"Предложения экрана\" (около 38%), **маркетинговому отделу рекомендуется** сгенерировать и проверить гипотезы, относящиеся к дизайну главного экрана, в том числе:\n",
    "* изменение описание продуктов (принцип простоты и видимости);\n",
    "* увеличение кнопки Купить,чтобы пользователю проще было ее найти и нажать на нее;\n",
    "* изменение визуального представления некоторых категорий продуктов.\n",
    " \n"
   ]
  },
  {
   "cell_type": "markdown",
   "metadata": {},
   "source": [
    "## Анализ результатов A/A/B-теста"
   ]
  },
  {
   "cell_type": "markdown",
   "metadata": {},
   "source": [
    "### Количество пользователей в каждой группе"
   ]
  },
  {
   "cell_type": "code",
   "execution_count": 27,
   "metadata": {},
   "outputs": [],
   "source": [
    "#  Уберем событие Tutorial(Руководство), выполнение которого не является обязательным для покупки товаров\n",
    "df_finish=df_filtered.query('event != \"Tutorial\"')"
   ]
  },
  {
   "cell_type": "code",
   "execution_count": 28,
   "metadata": {
    "scrolled": true
   },
   "outputs": [
    {
     "data": {
      "text/html": [
       "<div>\n",
       "<style scoped>\n",
       "    .dataframe tbody tr th:only-of-type {\n",
       "        vertical-align: middle;\n",
       "    }\n",
       "\n",
       "    .dataframe tbody tr th {\n",
       "        vertical-align: top;\n",
       "    }\n",
       "\n",
       "    .dataframe thead th {\n",
       "        text-align: right;\n",
       "    }\n",
       "</style>\n",
       "<table border=\"1\" class=\"dataframe\">\n",
       "  <thead>\n",
       "    <tr style=\"text-align: right;\">\n",
       "      <th></th>\n",
       "      <th>group_id</th>\n",
       "      <th>user_id</th>\n",
       "    </tr>\n",
       "  </thead>\n",
       "  <tbody>\n",
       "    <tr>\n",
       "      <th>0</th>\n",
       "      <td>246</td>\n",
       "      <td>2483</td>\n",
       "    </tr>\n",
       "    <tr>\n",
       "      <th>1</th>\n",
       "      <td>247</td>\n",
       "      <td>2512</td>\n",
       "    </tr>\n",
       "    <tr>\n",
       "      <th>2</th>\n",
       "      <td>248</td>\n",
       "      <td>2535</td>\n",
       "    </tr>\n",
       "  </tbody>\n",
       "</table>\n",
       "</div>"
      ],
      "text/plain": [
       "   group_id  user_id\n",
       "0       246     2483\n",
       "1       247     2512\n",
       "2       248     2535"
      ]
     },
     "execution_count": 28,
     "metadata": {},
     "output_type": "execute_result"
    }
   ],
   "source": [
    "users_by_group=df_finish.groupby('group_id').agg({'user_id': 'nunique'}).reset_index()\n",
    "users_by_group"
   ]
  },
  {
   "cell_type": "markdown",
   "metadata": {},
   "source": [
    "В контрольных группах 246 и 247 - 2483 и 2512 уникальных пользователей соответственно, а в экспериментальной 248 -  2535. "
   ]
  },
  {
   "cell_type": "markdown",
   "metadata": {},
   "source": [
    "### Определение популярного события и долей пользователей, совершивших эти события"
   ]
  },
  {
   "cell_type": "code",
   "execution_count": 29,
   "metadata": {},
   "outputs": [
    {
     "data": {
      "text/html": [
       "<div>\n",
       "<style scoped>\n",
       "    .dataframe tbody tr th:only-of-type {\n",
       "        vertical-align: middle;\n",
       "    }\n",
       "\n",
       "    .dataframe tbody tr th {\n",
       "        vertical-align: top;\n",
       "    }\n",
       "\n",
       "    .dataframe thead th {\n",
       "        text-align: right;\n",
       "    }\n",
       "</style>\n",
       "<table border=\"1\" class=\"dataframe\">\n",
       "  <thead>\n",
       "    <tr style=\"text-align: right;\">\n",
       "      <th>group_id</th>\n",
       "      <th>246</th>\n",
       "      <th>247</th>\n",
       "      <th>248</th>\n",
       "      <th>246+247</th>\n",
       "      <th>total</th>\n",
       "      <th>246_%%</th>\n",
       "      <th>247_%%</th>\n",
       "      <th>248_%%</th>\n",
       "      <th>246+248_%%</th>\n",
       "    </tr>\n",
       "    <tr>\n",
       "      <th>event</th>\n",
       "      <th></th>\n",
       "      <th></th>\n",
       "      <th></th>\n",
       "      <th></th>\n",
       "      <th></th>\n",
       "      <th></th>\n",
       "      <th></th>\n",
       "      <th></th>\n",
       "      <th></th>\n",
       "    </tr>\n",
       "  </thead>\n",
       "  <tbody>\n",
       "    <tr>\n",
       "      <th>MainScreenAppear</th>\n",
       "      <td>2450</td>\n",
       "      <td>2476</td>\n",
       "      <td>2493</td>\n",
       "      <td>4926</td>\n",
       "      <td>7419</td>\n",
       "      <td>100.00</td>\n",
       "      <td>100.00</td>\n",
       "      <td>100.00</td>\n",
       "      <td>100.00</td>\n",
       "    </tr>\n",
       "    <tr>\n",
       "      <th>OffersScreenAppear</th>\n",
       "      <td>1542</td>\n",
       "      <td>1520</td>\n",
       "      <td>1531</td>\n",
       "      <td>3062</td>\n",
       "      <td>4593</td>\n",
       "      <td>62.94</td>\n",
       "      <td>61.39</td>\n",
       "      <td>61.41</td>\n",
       "      <td>62.16</td>\n",
       "    </tr>\n",
       "    <tr>\n",
       "      <th>CartScreenAppear</th>\n",
       "      <td>1266</td>\n",
       "      <td>1238</td>\n",
       "      <td>1230</td>\n",
       "      <td>2504</td>\n",
       "      <td>3734</td>\n",
       "      <td>51.67</td>\n",
       "      <td>50.00</td>\n",
       "      <td>49.34</td>\n",
       "      <td>50.83</td>\n",
       "    </tr>\n",
       "    <tr>\n",
       "      <th>PaymentScreenSuccessful</th>\n",
       "      <td>1200</td>\n",
       "      <td>1158</td>\n",
       "      <td>1181</td>\n",
       "      <td>2358</td>\n",
       "      <td>3539</td>\n",
       "      <td>48.98</td>\n",
       "      <td>46.77</td>\n",
       "      <td>47.37</td>\n",
       "      <td>47.87</td>\n",
       "    </tr>\n",
       "  </tbody>\n",
       "</table>\n",
       "</div>"
      ],
      "text/plain": [
       "group_id                  246   247   248  246+247  total  246_%%  247_%%  \\\n",
       "event                                                                       \n",
       "MainScreenAppear         2450  2476  2493     4926   7419  100.00  100.00   \n",
       "OffersScreenAppear       1542  1520  1531     3062   4593   62.94   61.39   \n",
       "CartScreenAppear         1266  1238  1230     2504   3734   51.67   50.00   \n",
       "PaymentScreenSuccessful  1200  1158  1181     2358   3539   48.98   46.77   \n",
       "\n",
       "group_id                 248_%%  246+248_%%  \n",
       "event                                        \n",
       "MainScreenAppear         100.00      100.00  \n",
       "OffersScreenAppear        61.41       62.16  \n",
       "CartScreenAppear          49.34       50.83  \n",
       "PaymentScreenSuccessful   47.37       47.87  "
      ]
     },
     "execution_count": 29,
     "metadata": {},
     "output_type": "execute_result"
    }
   ],
   "source": [
    "# Создаем таблицу для определения самого популярного события\n",
    "by_group_event=(\n",
    "    funnel\n",
    "    .query('event != \"Tutorial\"')\n",
    "    .pivot_table(index='event', columns='group_id', values='total_users', aggfunc='sum').sort_values(246, ascending=False)\n",
    ")\n",
    "\n",
    "# Добавляем столбец с суммарными данными по группам 246+247\n",
    "by_group_event['246+247']=by_group_event[246]+by_group_event[247]\n",
    "by_group_event['total']=by_group_event[246]+by_group_event[247]+by_group_event[248]\n",
    "\n",
    "# Добавляем доли по событиям по каждой группе\n",
    "by_group_event['246_%%'] = round(by_group_event[246]/by_group_event[246][0]*100,2)\n",
    "by_group_event['247_%%'] = round(by_group_event[247]/by_group_event[247][0]*100,2)\n",
    "by_group_event['248_%%'] = round(by_group_event[248]/by_group_event[248][0]*100,2)\n",
    "by_group_event['246+248_%%'] = round(by_group_event['246+247']/by_group_event['246+247'][0]*100,2)\n",
    "by_group_event"
   ]
  },
  {
   "cell_type": "markdown",
   "metadata": {},
   "source": [
    "Cамое популярное событие во всех группах - MainScreenAppear (Открытие главного экрана)."
   ]
  },
  {
   "cell_type": "markdown",
   "metadata": {},
   "source": [
    "### Функция для проверки статистическими критериями разниц между выборками"
   ]
  },
  {
   "cell_type": "markdown",
   "metadata": {},
   "source": [
    "Напишем функцию, которая принимает в качестве аргументов 4 числа для z-теста пропорций. \n",
    "\n",
    "Несколько сравнений, которые мы будем проводить на одних и тех же данных — это множественный тест. Его важная особенность в том, что с каждой новой проверкой гипотезы растёт вероятность ошибки первого рода. \n",
    "\n",
    "Чтобы снизить вероятность ложнопозитивного результата при множественном тестировании гипотез применим поправку Бонферрони - разделим уровень статистической значимости на количество экспериментов (16 - 4 события на 4 теста А/А(246/247), А/В 246/248, 247/248 и 246+247/248)."
   ]
  },
  {
   "cell_type": "code",
   "execution_count": 30,
   "metadata": {},
   "outputs": [],
   "source": [
    "# функция для проверки статистической разницы между долями пользователей посетивших один из этапов\n",
    "def z_test(sucsess1, sucsess2, trials1, trials2):\n",
    "\n",
    "    bonferroni_alpha = 0.05/16 # для корректности применим поправку Бонферрони \n",
    "   \n",
    "    \n",
    "# пропорция успехов в первой группе:\n",
    "    p1 = sucsess1/trials1\n",
    "\n",
    "# пропорция успехов во второй группе:\n",
    "    p2 = sucsess2/trials2\n",
    "\n",
    "# пропорция успехов в комбинированном датасете:\n",
    "    p_combined = (sucsess1 + sucsess2) / (trials1 + trials2)\n",
    "\n",
    "# разница пропорций в датасетах\n",
    "    difference = p1 - p2 \n",
    "\n",
    "# считаем статистику в ст.отклонениях стандартного нормального распределения\n",
    "    z_value = difference / mth.sqrt(p_combined * (1 - p_combined) * (1/trials1 + 1/trials2))\n",
    "\n",
    "# задаем стандартное нормальное распределение (среднее 0, ст.отклонение 1)\n",
    "    distr = st.norm(0, 1)  \n",
    "\n",
    "    p_value = (1 - distr.cdf(abs(z_value))) * 2\n",
    "    print('p-значение: ', p_value)\n",
    "\n",
    "    if p_value < bonferroni_alpha:\n",
    "        print('Отвергаем нулевую гипотезу: между долями есть значимая разница')\n",
    "    else:\n",
    "        print(\n",
    "        'Не получилось отвергнуть нулевую гипотезу, нет оснований считать доли разными'\n",
    "        ) \n",
    "\n",
    "    return p1, p2, p_value"
   ]
  },
  {
   "cell_type": "markdown",
   "metadata": {},
   "source": [
    "Сформулируем нулевую и альтернативную гипотезы для попарных сравнений:\n",
    "    \n",
    "* **Нулевая гипотеза**: Доли пользователей на определенном этапе одинаковы в двух группах\n",
    "\n",
    "* **Альтернативная гипотеза**: Доли пользователей на определенном этапе различны в двух группах"
   ]
  },
  {
   "cell_type": "markdown",
   "metadata": {},
   "source": [
    "### A/A тест (246/247)"
   ]
  },
  {
   "cell_type": "markdown",
   "metadata": {},
   "source": [
    "Перед тем как начать A/B-тестирование,можно провести A/A тест,  чтобы проверить корректность всех механизмов и расчётов.\n",
    "    При отсутствии разницы между одинаковыми версиями мобильного приложения можно приступать к A/B-тестированию, который будет запущен в тех же условиях, но уже с разными вариантами шрифта. \n",
    "    "
   ]
  },
  {
   "cell_type": "code",
   "execution_count": 31,
   "metadata": {},
   "outputs": [
    {
     "name": "stdout",
     "output_type": "stream",
     "text": [
      "**************************************************\n",
      "Для события MainScreenAppear\n",
      "p-значение:  0.7526703436483038\n",
      "Не получилось отвергнуть нулевую гипотезу, нет оснований считать доли разными\n",
      "**************************************************\n",
      "Для события OffersScreenAppear\n",
      "p-значение:  0.24786096925282264\n",
      "Не получилось отвергнуть нулевую гипотезу, нет оснований считать доли разными\n",
      "**************************************************\n",
      "Для события CartScreenAppear\n",
      "p-значение:  0.22867643757335676\n",
      "Не получилось отвергнуть нулевую гипотезу, нет оснований считать доли разными\n",
      "**************************************************\n",
      "Для события PaymentScreenSuccessful\n",
      "p-значение:  0.11446627829276612\n",
      "Не получилось отвергнуть нулевую гипотезу, нет оснований считать доли разными\n"
     ]
    }
   ],
   "source": [
    "# создадим список из уникальных событий\n",
    "events_list = ['MainScreenAppear', 'OffersScreenAppear', 'CartScreenAppear', 'PaymentScreenSuccessful']\n",
    "# количество пользователей по группам \n",
    "trials1 = users_by_group.loc[users_by_group['group_id'] == 246, 'user_id'].values[0]\n",
    "trials2 = users_by_group.loc[users_by_group['group_id'] == 247, 'user_id'].values[0] \n",
    "# в цикле проверим статистическую разницу между группами по каждому из этапов\n",
    "for event in events_list:\n",
    "    print('*'*50)\n",
    "    print('Для события', event)          \n",
    "    sucsess1 = by_group_event[246][event] \n",
    "    sucsess2 = by_group_event[247][event]\n",
    "     \n",
    "    # вызовем функцию\n",
    "    p1, p2, p_value = z_test(sucsess1, sucsess2, trials1, trials2)"
   ]
  },
  {
   "cell_type": "markdown",
   "metadata": {},
   "source": [
    "Полученный результат в рамках А/А теста о невозможности опровержения нулевой гипотезы о равности долей тестируемых групп позволяет перейти к дальнейшему A/B-тестированию.\n",
    "   \n"
   ]
  },
  {
   "cell_type": "markdown",
   "metadata": {},
   "source": [
    "### A/C тест (246/248)"
   ]
  },
  {
   "cell_type": "code",
   "execution_count": 32,
   "metadata": {},
   "outputs": [
    {
     "name": "stdout",
     "output_type": "stream",
     "text": [
      "**************************************************\n",
      "Для события MainScreenAppear\n",
      "p-значение:  0.3387114076159288\n",
      "Не получилось отвергнуть нулевую гипотезу, нет оснований считать доли разными\n",
      "**************************************************\n",
      "Для события OffersScreenAppear\n",
      "p-значение:  0.21442476639710506\n",
      "Не получилось отвергнуть нулевую гипотезу, нет оснований считать доли разными\n",
      "**************************************************\n",
      "Для события CartScreenAppear\n",
      "p-значение:  0.08067367598823139\n",
      "Не получилось отвергнуть нулевую гипотезу, нет оснований считать доли разными\n",
      "**************************************************\n",
      "Для события PaymentScreenSuccessful\n",
      "p-значение:  0.21693033984516674\n",
      "Не получилось отвергнуть нулевую гипотезу, нет оснований считать доли разными\n"
     ]
    }
   ],
   "source": [
    "# количество пользователей по группам \n",
    "trials1 = users_by_group.loc[users_by_group['group_id'] == 246, 'user_id'].values[0]\n",
    "trials2 = users_by_group.loc[users_by_group['group_id'] == 248, 'user_id'].values[0] \n",
    "# в цикле проверим статистическую разницу между группами по каждому из этапов\n",
    "for event in events_list:\n",
    "    print('*'*50)\n",
    "    print('Для события', event)          \n",
    "    sucsess1 = by_group_event[246][event] \n",
    "    sucsess2 = by_group_event[248][event]\n",
    "     \n",
    "    # вызовем функцию\n",
    "    p1, p2, p_value = z_test(sucsess1, sucsess2, trials1, trials2)"
   ]
  },
  {
   "cell_type": "markdown",
   "metadata": {},
   "source": [
    "### B/C тест (247/248)"
   ]
  },
  {
   "cell_type": "code",
   "execution_count": 33,
   "metadata": {},
   "outputs": [
    {
     "name": "stdout",
     "output_type": "stream",
     "text": [
      "**************************************************\n",
      "Для события MainScreenAppear\n",
      "p-значение:  0.5194964354051703\n",
      "Не получилось отвергнуть нулевую гипотезу, нет оснований считать доли разными\n",
      "**************************************************\n",
      "Для события OffersScreenAppear\n",
      "p-значение:  0.9333751305879443\n",
      "Не получилось отвергнуть нулевую гипотезу, нет оснований считать доли разными\n",
      "**************************************************\n",
      "Для события CartScreenAppear\n",
      "p-значение:  0.5878284605111943\n",
      "Не получилось отвергнуть нулевую гипотезу, нет оснований считать доли разными\n",
      "**************************************************\n",
      "Для события PaymentScreenSuccessful\n",
      "p-значение:  0.7275718682261119\n",
      "Не получилось отвергнуть нулевую гипотезу, нет оснований считать доли разными\n"
     ]
    }
   ],
   "source": [
    "# количество пользователей по группам \n",
    "trials1 = users_by_group.loc[users_by_group['group_id'] == 247, 'user_id'].values[0]\n",
    "trials2 = users_by_group.loc[users_by_group['group_id'] == 248, 'user_id'].values[0] \n",
    "# в цикле проверим статистическую разницу между группами по каждому из этапов\n",
    "for event in events_list:\n",
    "    print('*'*50)\n",
    "    print('Для события', event)          \n",
    "    sucsess1 = by_group_event[247][event] \n",
    "    sucsess2 = by_group_event[248][event]\n",
    "     \n",
    "    # вызовем функцию\n",
    "    p1, p2, p_value = z_test(sucsess1, sucsess2, trials1, trials2)"
   ]
  },
  {
   "cell_type": "markdown",
   "metadata": {},
   "source": [
    "### A+B/C тест ((246+247)/248)"
   ]
  },
  {
   "cell_type": "code",
   "execution_count": 34,
   "metadata": {},
   "outputs": [
    {
     "name": "stdout",
     "output_type": "stream",
     "text": [
      "**************************************************\n",
      "Для события MainScreenAppear\n",
      "p-значение:  0.3486684291093256\n",
      "Не получилось отвергнуть нулевую гипотезу, нет оснований считать доли разными\n",
      "**************************************************\n",
      "Для события OffersScreenAppear\n",
      "p-значение:  0.44582745409482394\n",
      "Не получилось отвергнуть нулевую гипотезу, нет оснований считать доли разными\n",
      "**************************************************\n",
      "Для события CartScreenAppear\n",
      "p-значение:  0.18683558686831558\n",
      "Не получилось отвергнуть нулевую гипотезу, нет оснований считать доли разными\n",
      "**************************************************\n",
      "Для события PaymentScreenSuccessful\n",
      "p-значение:  0.6107918742187335\n",
      "Не получилось отвергнуть нулевую гипотезу, нет оснований считать доли разными\n"
     ]
    }
   ],
   "source": [
    "# количество пользователей по группам \n",
    "trials1 = users_by_group.loc[users_by_group['group_id'] == 246, 'user_id'].values[0]+users_by_group.loc[users_by_group['group_id'] == 247, 'user_id'].values[0]\n",
    "trials2 = users_by_group.loc[users_by_group['group_id'] == 248, 'user_id'].values[0] \n",
    "# в цикле проверим статистическую разницу между группами по каждому из этапов\n",
    "for event in events_list:\n",
    "    print('*'*50)\n",
    "    print('Для события', event)          \n",
    "    sucsess1 = by_group_event[246][event] + by_group_event[247][event] \n",
    "    sucsess2 = by_group_event[248][event]\n",
    "     \n",
    "    # вызовем функцию\n",
    "    p1, p2, p_value = z_test(sucsess1, sucsess2, trials1, trials2)"
   ]
  },
  {
   "cell_type": "markdown",
   "metadata": {},
   "source": [
    "**Вывод по п.4:**\n",
    "\n",
    "Статистически значимых различий между двумя А группами мы не нашли - соответственно, пользователи относятся к той или иной группе случайным образом. \n",
    "Статистические критерии также не нашли разницу между контрольными (А 246,  В 247 группами) и экспериментальной (С группой, 248)  - нет оснований опровергнуть нулевую гипотезу о равности долей тестируемых групп . Соответственно, делаем вывод,что изменение шрифта в приложении  не повлияло на поведение(конверсию метрик при переходе от одного события к другому) пользователей мобильного приложения стартапа.\n",
    "\n",
    "Так как наибольшее количество пользователей теряется на втором шаге \"Предложения экрана\" (около 38%), то маркетологам, возможно, стоит сгенерировать и проверить гипотезы, относящиеся к дизайну главного экрана, том числе:\n",
    "* изменение описание продуктов (принцип простоты и видимости);\n",
    "* увеличение кнопки Купить,чтобы пользователю проще было ее найти и нажать на нее;\n",
    "* изменение визуального представления некоторых категорий продуктов\n",
    "\n",
    "и т.д."
   ]
  },
  {
   "cell_type": "markdown",
   "metadata": {},
   "source": [
    "## Общий вывод\n",
    "\n",
    "<div style=\"border: 1px solid black; padding: 20px\">\n",
    "    \n",
    "\n",
    "В ходе выполнения проекта было проанализировано поведение пользователей мобильного приложения стартапа по продаже продуктов питания, были запущены A/A/B-тесты на предмет изменения шрифта во всём приложениии и проанализированы результаты.\n",
    "\n",
    "Были проведены <span style=\"font-size:larger;\">**Обзор, подготовка и предобработка данных**</span>, в ходе которых:\n",
    "* названия столбцов приведены к нижнему регистру;\n",
    "* данные о времени приведены к формату datetime, добавлен отдельный столбец дат;\n",
    "* проверили на пропуски;\n",
    "* удалили дубликаты (менее 1% от общего количества записей);\n",
    "* проверили, нет ли пользователей, присутствующие одновременно в нескольких группах(отсутствуют).\n",
    "\n",
    "\n",
    "В результате <span style=\"font-size:larger;\">**Анализа данных**</span> было выявлено:\n",
    "\n",
    "Всего событий в логе: 243 713. Всего 5 уникальных событий:\n",
    "\n",
    "* MainScreenAppear (Открытие главного экрана); \n",
    "* OffersScreenAppear (Предложения экрана);\n",
    "* CartScreenAppear (Добавление товара в корзину);\n",
    "* PaymentScreenSuccessful (Экран с подтверждением оплаты);\n",
    "* Tutorial (Руководство).      \n",
    "Всего пользователей в логе: 7551.\n",
    "\n",
    "Среднее количество событий, приходящихся на пользователя: 32.3.\n",
    "\n",
    "Медианное количество событий, приходящихся на пользователя: 20.0.\n",
    "Так как в данных присутствуют  выбросы, более корректно проводить оценку по медианному количеству событий, приходящихся на пользователя: 20.0.\n",
    "\n",
    "\n",
    "В логе присутствуют данные с 2019-07-25 04:43:36 (минимальная дата), по 2019-08-07 21:15:17 (максимальная дата). После построения столбчатой диаграммы был определен **временной интервал для целей анализа: с 01 августа по 07 августа**.\n",
    "\n",
    "Потеря событий в размере -1.16 % и потеря пользователей -0.23 % не являются существенными.\n",
    "\n",
    "Количество уникальных пользователей в группах в общем сопоставимо (разница +- не более 2%); количество событий отличается значительнее, но в целом разница составляет не более 9%, что допустимо.\n",
    "\n",
    "Экспериментальная 248 группа имеет больше всего пользователей и событий.\n",
    "\n",
    "<span style=\"font-size:larger;\">**Изучение воронки событий:**</span>\n",
    "\n",
    "**Количество пользователей, которые совершили событие хотя бы раз:**\n",
    "* Открытие главного экрана - 7419; \n",
    "* Предложения экрана - 4593;\n",
    "* Добавление товара в корзину - 3734 ;\n",
    "* Экран с подтверждением оплаты - 3539 ;\n",
    "* Руководство - 840.\n",
    "\n",
    "Во всех группах **последовательность событий** одинаковая:\n",
    "\n",
    " 1) Открытие главного экрана; \n",
    " \n",
    " 2) Предложения экрана;\n",
    " \n",
    " 3) Добавление товара в корзину;\n",
    " \n",
    " 4) Экран с подтверждением оплаты;\n",
    " \n",
    " 5) Руководство.\n",
    " \n",
    " Для дальнейшего расчёта воронки уберем событие Tutorial(Руководство), выполнение которого не является обязательным для покупки товаров.\n",
    " \n",
    " По воронке событий **доля пользователей, совершивших переход на следующий шаг воронки**:\n",
    " \n",
    " 1) Открытие главного экрана - 100%; \n",
    " \n",
    " 2) Предложения экрана - 61,9%;\n",
    " \n",
    " 3) Добавление товара в корзину - 81,3%;\n",
    " \n",
    " 4) Экран с подтверждением оплаты - 94,8%.\n",
    " \n",
    " Наибольшее количество пользователей теряется на втором шаге \"Предложения экрана\" (около 38%). \n",
    " \n",
    " **От первого события до оплаты доходит не более 47 %.**\n",
    " \n",
    "<span style=\"font-size:larger;\"> **Анализ результатов A/A/B-теста:**</span>\n",
    " \n",
    "По  группам уникальные пользователи распределены так:\n",
    "\n",
    " 246(контрольная) - 2483\n",
    " \n",
    " 247(контрольная) - 2512\n",
    " \n",
    " 248(экспериментальная) - 2535 \n",
    " \n",
    "Для определения  статистической значимости в группах по долям пользователей, совершивших событие, была написана функция для z-теста пропорций. Чтобы снизить вероятность ложнопозитивного результата при множественном тестировании гипотез была  применена поправка Бонферрони, в результате которой уровень статистической значимости составил 0,05/16= менее 1% (в 1% случаев можно ошибочно отклонить нулевую гипотезу при условии, что она верна). \n",
    "\n",
    "Уровень статистической значимости в 10% был бы слишком велик. Считаю, что выбранный alpha в размере 5% полностью удовлетворяет поставленным перед тестом задачам. Более того, если в нашей функции поменять alpha с 5% на 10% результаты тестирования не изменятся.\n",
    " \n",
    " В ходе тестирования были проведены **16 экспериментов**:\n",
    "\n",
    "* A/A - 4 эксперимента (для каждого события); \n",
    "\n",
    "* A/C - 4 эксперимента (для каждого события);\n",
    "\n",
    "* B/C - 4 эксперимента (для каждого события);\n",
    "\n",
    "* A+B/C - 4 эксперимента (для каждого события).\n",
    "\n",
    "**Статистически значимых различий между двумя А группами мы не нашли - соответственно, пользователи относятся к той или иной группе случайным образом. \n",
    "Статистические критерии также не нашли разницу между контрольными (А 246,  В 247 группами) и экспериментальной (С группой, 248) - нет оснований опровергнуть нулевую гипотезу о равности долей тестируемых групп . Соответственно, делаем вывод,что изменение шрифта в приложении  не повлияло на поведение(конверсию метрик при переходе от одного события к другому) пользователей мобильного приложения стартапа.**\n",
    "\n",
    "Так как наибольшее количество пользователей теряется на втором шаге \"Предложения экрана\" (около 38%), то маркетологам, возможно, стоит сгенерировать и проверить гипотезы, относящиеся к дизайну главного экрана, том числе:\n",
    "* изменение описание продуктов (принцип простоты и видимости);\n",
    "* увеличение кнопки Купить,чтобы пользователю проще было ее найти и нажать на нее;\n",
    "* изменение визуального представления некоторых категорий продуктов\n",
    "\n",
    "и т.д.\n",
    "\n",
    "\n"
   ]
  },
  {
   "cell_type": "code",
   "execution_count": null,
   "metadata": {},
   "outputs": [],
   "source": []
  }
 ],
 "metadata": {
  "ExecuteTimeLog": [
   {
    "duration": 1305,
    "start_time": "2024-02-21T13:28:38.058Z"
   },
   {
    "duration": 632,
    "start_time": "2024-02-21T13:36:56.732Z"
   },
   {
    "duration": 3,
    "start_time": "2024-02-21T13:38:27.245Z"
   },
   {
    "duration": 474,
    "start_time": "2024-02-21T13:39:57.995Z"
   },
   {
    "duration": 195,
    "start_time": "2024-02-21T13:40:38.736Z"
   },
   {
    "duration": 3,
    "start_time": "2024-02-21T13:40:39.867Z"
   },
   {
    "duration": 116,
    "start_time": "2024-02-21T13:40:41.667Z"
   },
   {
    "duration": 3,
    "start_time": "2024-02-21T13:44:17.614Z"
   },
   {
    "duration": 92,
    "start_time": "2024-02-21T13:46:56.196Z"
   },
   {
    "duration": 121,
    "start_time": "2024-02-21T13:49:01.606Z"
   },
   {
    "duration": 134,
    "start_time": "2024-02-21T13:50:58.928Z"
   },
   {
    "duration": 127,
    "start_time": "2024-02-21T13:51:54.792Z"
   },
   {
    "duration": 177,
    "start_time": "2024-02-21T13:53:42.961Z"
   },
   {
    "duration": 73,
    "start_time": "2024-02-21T13:54:04.690Z"
   },
   {
    "duration": 172,
    "start_time": "2024-02-21T13:54:16.625Z"
   },
   {
    "duration": 177,
    "start_time": "2024-02-21T13:54:35.569Z"
   },
   {
    "duration": 104,
    "start_time": "2024-02-21T13:55:31.946Z"
   },
   {
    "duration": 4,
    "start_time": "2024-02-21T13:55:37.195Z"
   },
   {
    "duration": 6,
    "start_time": "2024-02-21T13:56:45.882Z"
   },
   {
    "duration": 1280,
    "start_time": "2024-02-21T13:57:00.970Z"
   },
   {
    "duration": 189,
    "start_time": "2024-02-21T13:57:02.252Z"
   },
   {
    "duration": 4,
    "start_time": "2024-02-21T13:57:02.442Z"
   },
   {
    "duration": 244,
    "start_time": "2024-02-21T13:57:02.447Z"
   },
   {
    "duration": 10,
    "start_time": "2024-02-21T13:57:02.693Z"
   },
   {
    "duration": 12,
    "start_time": "2024-02-21T14:01:23.518Z"
   },
   {
    "duration": 13,
    "start_time": "2024-02-21T14:04:32.783Z"
   },
   {
    "duration": 200,
    "start_time": "2024-02-21T14:06:37.441Z"
   },
   {
    "duration": 113,
    "start_time": "2024-02-21T14:06:47.944Z"
   },
   {
    "duration": 91,
    "start_time": "2024-02-21T14:08:36.281Z"
   },
   {
    "duration": 154,
    "start_time": "2024-02-21T14:09:00.041Z"
   },
   {
    "duration": 43,
    "start_time": "2024-02-21T14:12:15.874Z"
   },
   {
    "duration": 1336,
    "start_time": "2024-02-21T14:12:26.323Z"
   },
   {
    "duration": 188,
    "start_time": "2024-02-21T14:12:27.661Z"
   },
   {
    "duration": 8,
    "start_time": "2024-02-21T14:12:27.851Z"
   },
   {
    "duration": 233,
    "start_time": "2024-02-21T14:12:27.861Z"
   },
   {
    "duration": 11,
    "start_time": "2024-02-21T14:12:28.096Z"
   },
   {
    "duration": 21,
    "start_time": "2024-02-21T14:12:28.109Z"
   },
   {
    "duration": 128,
    "start_time": "2024-02-21T14:12:28.131Z"
   },
   {
    "duration": 190,
    "start_time": "2024-02-21T14:12:28.261Z"
   },
   {
    "duration": 50,
    "start_time": "2024-02-21T14:12:28.453Z"
   },
   {
    "duration": 75,
    "start_time": "2024-02-21T14:28:13.663Z"
   },
   {
    "duration": 66,
    "start_time": "2024-02-21T14:29:23.631Z"
   },
   {
    "duration": 10,
    "start_time": "2024-02-21T14:30:13.532Z"
   },
   {
    "duration": 10,
    "start_time": "2024-02-21T14:30:26.336Z"
   },
   {
    "duration": 17,
    "start_time": "2024-02-21T14:34:52.412Z"
   },
   {
    "duration": 22,
    "start_time": "2024-02-21T14:35:01.655Z"
   },
   {
    "duration": 17,
    "start_time": "2024-02-21T14:35:08.812Z"
   },
   {
    "duration": 42,
    "start_time": "2024-02-22T09:00:19.512Z"
   },
   {
    "duration": 6,
    "start_time": "2024-02-22T09:00:29.437Z"
   },
   {
    "duration": 1297,
    "start_time": "2024-02-22T09:00:40.387Z"
   },
   {
    "duration": 468,
    "start_time": "2024-02-22T09:00:41.686Z"
   },
   {
    "duration": 3,
    "start_time": "2024-02-22T09:00:42.155Z"
   },
   {
    "duration": 179,
    "start_time": "2024-02-22T09:00:42.160Z"
   },
   {
    "duration": 9,
    "start_time": "2024-02-22T09:00:42.340Z"
   },
   {
    "duration": 11,
    "start_time": "2024-02-22T09:00:42.350Z"
   },
   {
    "duration": 120,
    "start_time": "2024-02-22T09:00:42.362Z"
   },
   {
    "duration": 155,
    "start_time": "2024-02-22T09:00:42.483Z"
   },
   {
    "duration": 39,
    "start_time": "2024-02-22T09:00:42.639Z"
   },
   {
    "duration": 16,
    "start_time": "2024-02-22T09:00:42.681Z"
   },
   {
    "duration": 45,
    "start_time": "2024-02-22T09:00:42.698Z"
   },
   {
    "duration": 1491,
    "start_time": "2024-02-22T09:04:01.501Z"
   },
   {
    "duration": 6,
    "start_time": "2024-02-22T09:04:12.814Z"
   },
   {
    "duration": 6,
    "start_time": "2024-02-22T09:04:42.509Z"
   },
   {
    "duration": 76,
    "start_time": "2024-02-22T09:08:19.632Z"
   },
   {
    "duration": 71,
    "start_time": "2024-02-22T09:08:40.127Z"
   },
   {
    "duration": 114,
    "start_time": "2024-02-22T09:09:04.920Z"
   },
   {
    "duration": 7,
    "start_time": "2024-02-22T09:09:28.729Z"
   },
   {
    "duration": 6,
    "start_time": "2024-02-22T09:09:36.368Z"
   },
   {
    "duration": 716,
    "start_time": "2024-02-22T09:18:58.740Z"
   },
   {
    "duration": 655,
    "start_time": "2024-02-22T09:20:28.364Z"
   },
   {
    "duration": 326,
    "start_time": "2024-02-22T09:22:44.053Z"
   },
   {
    "duration": 124,
    "start_time": "2024-02-22T09:23:23.981Z"
   },
   {
    "duration": 244,
    "start_time": "2024-02-22T09:23:31.966Z"
   },
   {
    "duration": 566,
    "start_time": "2024-02-22T09:24:33.278Z"
   },
   {
    "duration": 649,
    "start_time": "2024-02-22T09:24:48.079Z"
   },
   {
    "duration": 285,
    "start_time": "2024-02-22T09:24:57.919Z"
   },
   {
    "duration": 1192,
    "start_time": "2024-02-22T09:25:22.712Z"
   },
   {
    "duration": 179,
    "start_time": "2024-02-22T09:25:23.906Z"
   },
   {
    "duration": 3,
    "start_time": "2024-02-22T09:25:24.087Z"
   },
   {
    "duration": 195,
    "start_time": "2024-02-22T09:25:24.092Z"
   },
   {
    "duration": 11,
    "start_time": "2024-02-22T09:25:24.289Z"
   },
   {
    "duration": 31,
    "start_time": "2024-02-22T09:25:24.302Z"
   },
   {
    "duration": 104,
    "start_time": "2024-02-22T09:25:24.335Z"
   },
   {
    "duration": 154,
    "start_time": "2024-02-22T09:25:24.441Z"
   },
   {
    "duration": 46,
    "start_time": "2024-02-22T09:25:24.596Z"
   },
   {
    "duration": 16,
    "start_time": "2024-02-22T09:25:24.644Z"
   },
   {
    "duration": 23,
    "start_time": "2024-02-22T09:25:24.661Z"
   },
   {
    "duration": 7,
    "start_time": "2024-02-22T09:25:24.685Z"
   },
   {
    "duration": 478,
    "start_time": "2024-02-22T09:25:24.694Z"
   },
   {
    "duration": 356,
    "start_time": "2024-02-22T09:27:29.512Z"
   },
   {
    "duration": 285,
    "start_time": "2024-02-22T09:27:38.112Z"
   },
   {
    "duration": 377,
    "start_time": "2024-02-22T09:27:46.624Z"
   },
   {
    "duration": 338,
    "start_time": "2024-02-22T09:27:55.520Z"
   },
   {
    "duration": 300,
    "start_time": "2024-02-22T09:28:02.920Z"
   },
   {
    "duration": 301,
    "start_time": "2024-02-22T09:28:09.570Z"
   },
   {
    "duration": 286,
    "start_time": "2024-02-22T09:28:57.280Z"
   },
   {
    "duration": 76,
    "start_time": "2024-02-22T09:29:16.336Z"
   },
   {
    "duration": 354,
    "start_time": "2024-02-22T09:29:20.376Z"
   },
   {
    "duration": 361,
    "start_time": "2024-02-22T09:30:27.565Z"
   },
   {
    "duration": 299,
    "start_time": "2024-02-22T09:30:37.282Z"
   },
   {
    "duration": 316,
    "start_time": "2024-02-22T09:31:03.098Z"
   },
   {
    "duration": 195,
    "start_time": "2024-02-22T09:31:28.121Z"
   },
   {
    "duration": 335,
    "start_time": "2024-02-22T09:31:35.073Z"
   },
   {
    "duration": 408,
    "start_time": "2024-02-22T09:31:42.250Z"
   },
   {
    "duration": 5,
    "start_time": "2024-02-22T09:32:16.498Z"
   },
   {
    "duration": 547,
    "start_time": "2024-02-22T09:34:47.891Z"
   },
   {
    "duration": 280,
    "start_time": "2024-02-22T09:34:54.158Z"
   },
   {
    "duration": 57,
    "start_time": "2024-02-22T09:36:18.836Z"
   },
   {
    "duration": 13,
    "start_time": "2024-02-22T09:37:28.382Z"
   },
   {
    "duration": 286,
    "start_time": "2024-02-22T09:37:46.230Z"
   },
   {
    "duration": 1139,
    "start_time": "2024-02-22T09:39:05.646Z"
   },
   {
    "duration": 1115,
    "start_time": "2024-02-22T09:40:07.208Z"
   },
   {
    "duration": 1241,
    "start_time": "2024-02-22T09:40:13.304Z"
   },
   {
    "duration": 78,
    "start_time": "2024-02-22T09:44:06.754Z"
   },
   {
    "duration": 1009,
    "start_time": "2024-02-22T09:44:26.251Z"
   },
   {
    "duration": 1154,
    "start_time": "2024-02-22T09:44:53.395Z"
   },
   {
    "duration": 1087,
    "start_time": "2024-02-22T09:45:44.563Z"
   },
   {
    "duration": 1134,
    "start_time": "2024-02-22T09:45:48.610Z"
   },
   {
    "duration": 1044,
    "start_time": "2024-02-22T09:46:09.316Z"
   },
   {
    "duration": 4,
    "start_time": "2024-02-22T09:56:51.945Z"
   },
   {
    "duration": 5,
    "start_time": "2024-02-22T09:57:11.385Z"
   },
   {
    "duration": 6,
    "start_time": "2024-02-22T09:57:40.850Z"
   },
   {
    "duration": 96,
    "start_time": "2024-02-22T09:58:56.314Z"
   },
   {
    "duration": 17,
    "start_time": "2024-02-22T09:59:14.835Z"
   },
   {
    "duration": 31,
    "start_time": "2024-02-22T09:59:55.602Z"
   },
   {
    "duration": 23,
    "start_time": "2024-02-22T10:01:32.682Z"
   },
   {
    "duration": 3,
    "start_time": "2024-02-22T10:01:47.094Z"
   },
   {
    "duration": 22,
    "start_time": "2024-02-22T10:01:54.148Z"
   },
   {
    "duration": 5,
    "start_time": "2024-02-22T10:02:39.340Z"
   },
   {
    "duration": 27,
    "start_time": "2024-02-22T10:02:50.684Z"
   },
   {
    "duration": 88,
    "start_time": "2024-02-22T10:06:20.502Z"
   },
   {
    "duration": 79,
    "start_time": "2024-02-22T10:06:29.176Z"
   },
   {
    "duration": 30,
    "start_time": "2024-02-22T10:06:37.333Z"
   },
   {
    "duration": 31,
    "start_time": "2024-02-22T10:08:10.574Z"
   },
   {
    "duration": 32,
    "start_time": "2024-02-22T10:09:14.192Z"
   },
   {
    "duration": 6,
    "start_time": "2024-02-22T10:13:54.218Z"
   },
   {
    "duration": 7,
    "start_time": "2024-02-22T10:14:07.491Z"
   },
   {
    "duration": 64,
    "start_time": "2024-02-22T10:15:23.564Z"
   },
   {
    "duration": 1196,
    "start_time": "2024-02-22T10:27:01.557Z"
   },
   {
    "duration": 183,
    "start_time": "2024-02-22T10:27:02.755Z"
   },
   {
    "duration": 2,
    "start_time": "2024-02-22T10:27:02.940Z"
   },
   {
    "duration": 191,
    "start_time": "2024-02-22T10:27:02.944Z"
   },
   {
    "duration": 8,
    "start_time": "2024-02-22T10:27:03.137Z"
   },
   {
    "duration": 67,
    "start_time": "2024-02-22T10:27:03.146Z"
   },
   {
    "duration": 105,
    "start_time": "2024-02-22T10:27:03.215Z"
   },
   {
    "duration": 151,
    "start_time": "2024-02-22T10:27:03.321Z"
   },
   {
    "duration": 39,
    "start_time": "2024-02-22T10:27:03.474Z"
   },
   {
    "duration": 31,
    "start_time": "2024-02-22T10:27:03.515Z"
   },
   {
    "duration": 22,
    "start_time": "2024-02-22T10:27:03.548Z"
   },
   {
    "duration": 6,
    "start_time": "2024-02-22T10:27:03.571Z"
   },
   {
    "duration": 1270,
    "start_time": "2024-02-22T10:27:03.579Z"
   },
   {
    "duration": 1058,
    "start_time": "2024-02-22T10:27:04.852Z"
   },
   {
    "duration": 40,
    "start_time": "2024-02-22T10:27:05.911Z"
   },
   {
    "duration": 33,
    "start_time": "2024-02-22T10:27:05.953Z"
   },
   {
    "duration": 6,
    "start_time": "2024-02-22T10:27:05.987Z"
   },
   {
    "duration": 5,
    "start_time": "2024-02-22T10:30:58.389Z"
   },
   {
    "duration": 1244,
    "start_time": "2024-02-22T10:31:28.862Z"
   },
   {
    "duration": 18,
    "start_time": "2024-02-22T10:31:45.039Z"
   },
   {
    "duration": 23,
    "start_time": "2024-02-22T10:32:14.989Z"
   },
   {
    "duration": 35,
    "start_time": "2024-02-22T10:32:39.253Z"
   },
   {
    "duration": 24,
    "start_time": "2024-02-22T10:32:52.405Z"
   },
   {
    "duration": 36,
    "start_time": "2024-02-22T10:35:25.855Z"
   },
   {
    "duration": 24,
    "start_time": "2024-02-22T10:37:59.707Z"
   },
   {
    "duration": 49,
    "start_time": "2024-02-22T10:49:57.984Z"
   },
   {
    "duration": 23,
    "start_time": "2024-02-22T12:04:24.467Z"
   },
   {
    "duration": 16,
    "start_time": "2024-02-22T12:05:16.240Z"
   },
   {
    "duration": 173,
    "start_time": "2024-02-22T12:05:57.752Z"
   },
   {
    "duration": 25,
    "start_time": "2024-02-22T12:06:04.928Z"
   },
   {
    "duration": 1208,
    "start_time": "2024-02-22T12:06:39.165Z"
   },
   {
    "duration": 180,
    "start_time": "2024-02-22T12:06:40.375Z"
   },
   {
    "duration": 4,
    "start_time": "2024-02-22T12:06:40.556Z"
   },
   {
    "duration": 219,
    "start_time": "2024-02-22T12:06:40.562Z"
   },
   {
    "duration": 8,
    "start_time": "2024-02-22T12:06:40.783Z"
   },
   {
    "duration": 27,
    "start_time": "2024-02-22T12:06:40.792Z"
   },
   {
    "duration": 130,
    "start_time": "2024-02-22T12:06:40.820Z"
   },
   {
    "duration": 159,
    "start_time": "2024-02-22T12:06:40.952Z"
   },
   {
    "duration": 52,
    "start_time": "2024-02-22T12:06:41.113Z"
   },
   {
    "duration": 47,
    "start_time": "2024-02-22T12:06:41.169Z"
   },
   {
    "duration": 33,
    "start_time": "2024-02-22T12:06:41.234Z"
   },
   {
    "duration": 27,
    "start_time": "2024-02-22T12:06:41.268Z"
   },
   {
    "duration": 23,
    "start_time": "2024-02-22T12:06:41.296Z"
   },
   {
    "duration": 1293,
    "start_time": "2024-02-22T12:06:41.320Z"
   },
   {
    "duration": 1110,
    "start_time": "2024-02-22T12:06:42.614Z"
   },
   {
    "duration": 48,
    "start_time": "2024-02-22T12:06:43.725Z"
   },
   {
    "duration": 40,
    "start_time": "2024-02-22T12:06:43.775Z"
   },
   {
    "duration": 32,
    "start_time": "2024-02-22T12:06:43.817Z"
   },
   {
    "duration": 61,
    "start_time": "2024-02-22T12:06:43.851Z"
   },
   {
    "duration": 1916,
    "start_time": "2024-02-22T12:06:43.914Z"
   },
   {
    "duration": 2012,
    "start_time": "2024-02-22T12:07:11.459Z"
   },
   {
    "duration": 1894,
    "start_time": "2024-02-22T12:07:38.009Z"
   },
   {
    "duration": 26,
    "start_time": "2024-02-22T12:09:25.056Z"
   },
   {
    "duration": 53,
    "start_time": "2024-02-22T12:09:39.142Z"
   },
   {
    "duration": 25,
    "start_time": "2024-02-22T12:09:52.089Z"
   },
   {
    "duration": 25,
    "start_time": "2024-02-22T12:10:14.857Z"
   },
   {
    "duration": 167,
    "start_time": "2024-02-22T12:10:30.524Z"
   },
   {
    "duration": 24,
    "start_time": "2024-02-22T12:10:36.593Z"
   },
   {
    "duration": 24,
    "start_time": "2024-02-22T12:10:50.761Z"
   },
   {
    "duration": 114,
    "start_time": "2024-02-22T12:12:48.041Z"
   },
   {
    "duration": 176,
    "start_time": "2024-02-22T12:13:04.770Z"
   },
   {
    "duration": 201,
    "start_time": "2024-02-22T12:17:39.263Z"
   },
   {
    "duration": 206,
    "start_time": "2024-02-22T12:18:45.164Z"
   },
   {
    "duration": 199,
    "start_time": "2024-02-22T12:19:52.605Z"
   },
   {
    "duration": 196,
    "start_time": "2024-02-22T12:20:00.501Z"
   },
   {
    "duration": 253,
    "start_time": "2024-02-22T12:20:08.758Z"
   },
   {
    "duration": 208,
    "start_time": "2024-02-22T12:20:35.511Z"
   },
   {
    "duration": 188,
    "start_time": "2024-02-22T12:21:01.957Z"
   },
   {
    "duration": 300,
    "start_time": "2024-02-22T12:21:10.869Z"
   },
   {
    "duration": 17,
    "start_time": "2024-02-22T12:21:55.294Z"
   },
   {
    "duration": 209,
    "start_time": "2024-02-22T12:22:09.711Z"
   },
   {
    "duration": 210,
    "start_time": "2024-02-22T12:22:53.781Z"
   },
   {
    "duration": 191,
    "start_time": "2024-02-22T12:23:03.486Z"
   },
   {
    "duration": 193,
    "start_time": "2024-02-22T12:23:16.167Z"
   },
   {
    "duration": 194,
    "start_time": "2024-02-22T12:23:27.358Z"
   },
   {
    "duration": 194,
    "start_time": "2024-02-22T12:23:36.956Z"
   },
   {
    "duration": 208,
    "start_time": "2024-02-22T12:24:38.270Z"
   },
   {
    "duration": 205,
    "start_time": "2024-02-22T12:25:00.606Z"
   },
   {
    "duration": 238,
    "start_time": "2024-02-22T12:25:04.663Z"
   },
   {
    "duration": 300,
    "start_time": "2024-02-22T12:25:10.926Z"
   },
   {
    "duration": 60,
    "start_time": "2024-02-22T12:27:06.825Z"
   },
   {
    "duration": 59,
    "start_time": "2024-02-22T12:27:21.594Z"
   },
   {
    "duration": 61,
    "start_time": "2024-02-22T12:27:54.325Z"
   },
   {
    "duration": 59,
    "start_time": "2024-02-22T12:29:01.461Z"
   },
   {
    "duration": 56,
    "start_time": "2024-02-22T12:30:14.681Z"
   },
   {
    "duration": 55,
    "start_time": "2024-02-22T12:30:18.000Z"
   },
   {
    "duration": 57,
    "start_time": "2024-02-22T12:30:28.248Z"
   },
   {
    "duration": 55,
    "start_time": "2024-02-22T12:31:32.777Z"
   },
   {
    "duration": 60,
    "start_time": "2024-02-22T12:31:37.114Z"
   },
   {
    "duration": 81,
    "start_time": "2024-02-22T12:31:53.769Z"
   },
   {
    "duration": 68,
    "start_time": "2024-02-22T12:31:59.385Z"
   },
   {
    "duration": 58,
    "start_time": "2024-02-22T12:32:07.545Z"
   },
   {
    "duration": 63,
    "start_time": "2024-02-22T12:33:41.066Z"
   },
   {
    "duration": 91,
    "start_time": "2024-02-22T12:35:27.149Z"
   },
   {
    "duration": 15,
    "start_time": "2024-02-22T12:51:37.853Z"
   },
   {
    "duration": 13,
    "start_time": "2024-02-22T12:51:51.930Z"
   },
   {
    "duration": 88,
    "start_time": "2024-02-22T12:52:35.473Z"
   },
   {
    "duration": 75,
    "start_time": "2024-02-22T12:54:21.578Z"
   },
   {
    "duration": 91,
    "start_time": "2024-02-22T12:55:06.522Z"
   },
   {
    "duration": 13,
    "start_time": "2024-02-22T12:55:26.177Z"
   },
   {
    "duration": 14,
    "start_time": "2024-02-22T12:55:49.185Z"
   },
   {
    "duration": 73,
    "start_time": "2024-02-22T12:57:13.100Z"
   },
   {
    "duration": 1220,
    "start_time": "2024-02-22T12:58:27.154Z"
   },
   {
    "duration": 174,
    "start_time": "2024-02-22T12:58:28.376Z"
   },
   {
    "duration": 4,
    "start_time": "2024-02-22T12:58:28.551Z"
   },
   {
    "duration": 211,
    "start_time": "2024-02-22T12:58:28.557Z"
   },
   {
    "duration": 10,
    "start_time": "2024-02-22T12:58:28.770Z"
   },
   {
    "duration": 12,
    "start_time": "2024-02-22T12:58:28.782Z"
   },
   {
    "duration": 128,
    "start_time": "2024-02-22T12:58:28.796Z"
   },
   {
    "duration": 163,
    "start_time": "2024-02-22T12:58:28.926Z"
   },
   {
    "duration": 48,
    "start_time": "2024-02-22T12:58:29.091Z"
   },
   {
    "duration": 44,
    "start_time": "2024-02-22T12:58:29.144Z"
   },
   {
    "duration": 26,
    "start_time": "2024-02-22T12:58:29.190Z"
   },
   {
    "duration": 26,
    "start_time": "2024-02-22T12:58:29.232Z"
   },
   {
    "duration": 7,
    "start_time": "2024-02-22T12:58:29.260Z"
   },
   {
    "duration": 1329,
    "start_time": "2024-02-22T12:58:29.269Z"
   },
   {
    "duration": 1047,
    "start_time": "2024-02-22T12:58:30.600Z"
   },
   {
    "duration": 30,
    "start_time": "2024-02-22T12:58:31.649Z"
   },
   {
    "duration": 33,
    "start_time": "2024-02-22T12:58:31.681Z"
   },
   {
    "duration": 8,
    "start_time": "2024-02-22T12:58:31.733Z"
   },
   {
    "duration": 42,
    "start_time": "2024-02-22T12:58:31.742Z"
   },
   {
    "duration": 208,
    "start_time": "2024-02-22T12:58:31.785Z"
   },
   {
    "duration": 167,
    "start_time": "2024-02-22T12:58:31.995Z"
   },
   {
    "duration": 0,
    "start_time": "2024-02-22T12:58:32.163Z"
   },
   {
    "duration": 0,
    "start_time": "2024-02-22T12:58:32.165Z"
   },
   {
    "duration": 0,
    "start_time": "2024-02-22T12:58:32.166Z"
   },
   {
    "duration": 71,
    "start_time": "2024-02-22T12:59:43.627Z"
   },
   {
    "duration": 71,
    "start_time": "2024-02-22T12:59:46.434Z"
   },
   {
    "duration": 72,
    "start_time": "2024-02-22T13:00:33.699Z"
   },
   {
    "duration": 65,
    "start_time": "2024-02-22T13:01:44.541Z"
   },
   {
    "duration": 77,
    "start_time": "2024-02-22T13:02:32.953Z"
   },
   {
    "duration": 73,
    "start_time": "2024-02-22T13:04:28.686Z"
   },
   {
    "duration": 187,
    "start_time": "2024-02-22T13:04:40.933Z"
   },
   {
    "duration": 79,
    "start_time": "2024-02-22T13:05:30.781Z"
   },
   {
    "duration": 80,
    "start_time": "2024-02-22T13:05:57.663Z"
   },
   {
    "duration": 74,
    "start_time": "2024-02-22T13:06:05.528Z"
   },
   {
    "duration": 57,
    "start_time": "2024-02-22T13:06:14.122Z"
   },
   {
    "duration": 72,
    "start_time": "2024-02-22T13:07:05.990Z"
   },
   {
    "duration": 79,
    "start_time": "2024-02-22T13:08:12.186Z"
   },
   {
    "duration": 75,
    "start_time": "2024-02-22T13:09:51.263Z"
   },
   {
    "duration": 82,
    "start_time": "2024-02-22T13:10:12.760Z"
   },
   {
    "duration": 79,
    "start_time": "2024-02-22T13:10:45.928Z"
   },
   {
    "duration": 15,
    "start_time": "2024-02-22T13:14:35.831Z"
   },
   {
    "duration": 1497,
    "start_time": "2024-02-22T13:15:03.385Z"
   },
   {
    "duration": 1970,
    "start_time": "2024-02-22T13:16:18.066Z"
   },
   {
    "duration": 79,
    "start_time": "2024-02-22T13:17:08.034Z"
   },
   {
    "duration": 102,
    "start_time": "2024-02-22T13:18:48.088Z"
   },
   {
    "duration": 97,
    "start_time": "2024-02-22T13:20:10.988Z"
   },
   {
    "duration": 102,
    "start_time": "2024-02-22T13:20:53.964Z"
   },
   {
    "duration": 104,
    "start_time": "2024-02-22T13:21:18.468Z"
   },
   {
    "duration": 126,
    "start_time": "2024-02-22T13:23:07.628Z"
   },
   {
    "duration": 114,
    "start_time": "2024-02-22T13:23:34.757Z"
   },
   {
    "duration": 109,
    "start_time": "2024-02-22T13:24:04.721Z"
   },
   {
    "duration": 9,
    "start_time": "2024-02-22T13:25:34.089Z"
   },
   {
    "duration": 514,
    "start_time": "2024-02-22T13:26:44.583Z"
   },
   {
    "duration": 482,
    "start_time": "2024-02-22T13:27:15.814Z"
   },
   {
    "duration": 515,
    "start_time": "2024-02-22T13:28:59.391Z"
   },
   {
    "duration": 478,
    "start_time": "2024-02-22T13:29:58.030Z"
   },
   {
    "duration": 92,
    "start_time": "2024-02-22T13:31:31.784Z"
   },
   {
    "duration": 533,
    "start_time": "2024-02-22T13:31:37.146Z"
   },
   {
    "duration": 605,
    "start_time": "2024-02-22T13:32:25.993Z"
   },
   {
    "duration": 70,
    "start_time": "2024-02-22T13:38:15.699Z"
   },
   {
    "duration": 1292,
    "start_time": "2024-02-22T13:38:32.320Z"
   },
   {
    "duration": 59,
    "start_time": "2024-02-22T13:38:44.354Z"
   },
   {
    "duration": 1162,
    "start_time": "2024-02-22T13:43:18.283Z"
   },
   {
    "duration": 169,
    "start_time": "2024-02-22T13:43:19.447Z"
   },
   {
    "duration": 3,
    "start_time": "2024-02-22T13:43:19.618Z"
   },
   {
    "duration": 212,
    "start_time": "2024-02-22T13:43:19.622Z"
   },
   {
    "duration": 9,
    "start_time": "2024-02-22T13:43:19.836Z"
   },
   {
    "duration": 15,
    "start_time": "2024-02-22T13:43:19.846Z"
   },
   {
    "duration": 100,
    "start_time": "2024-02-22T13:43:19.863Z"
   },
   {
    "duration": 181,
    "start_time": "2024-02-22T13:43:19.964Z"
   },
   {
    "duration": 38,
    "start_time": "2024-02-22T13:43:20.146Z"
   },
   {
    "duration": 75,
    "start_time": "2024-02-22T13:43:20.186Z"
   },
   {
    "duration": 24,
    "start_time": "2024-02-22T13:43:20.263Z"
   },
   {
    "duration": 46,
    "start_time": "2024-02-22T13:43:20.289Z"
   },
   {
    "duration": 7,
    "start_time": "2024-02-22T13:43:20.337Z"
   },
   {
    "duration": 1260,
    "start_time": "2024-02-22T13:43:20.346Z"
   },
   {
    "duration": 1065,
    "start_time": "2024-02-22T13:43:21.607Z"
   },
   {
    "duration": 29,
    "start_time": "2024-02-22T13:43:22.674Z"
   },
   {
    "duration": 46,
    "start_time": "2024-02-22T13:43:22.704Z"
   },
   {
    "duration": 6,
    "start_time": "2024-02-22T13:43:22.752Z"
   },
   {
    "duration": 40,
    "start_time": "2024-02-22T13:43:22.759Z"
   },
   {
    "duration": 204,
    "start_time": "2024-02-22T13:43:22.800Z"
   },
   {
    "duration": 73,
    "start_time": "2024-02-22T13:43:23.005Z"
   },
   {
    "duration": 235,
    "start_time": "2024-02-22T13:43:23.079Z"
   },
   {
    "duration": 505,
    "start_time": "2024-02-22T13:43:23.315Z"
   },
   {
    "duration": 84,
    "start_time": "2024-02-22T13:49:51.476Z"
   },
   {
    "duration": 91,
    "start_time": "2024-02-22T13:49:59.037Z"
   },
   {
    "duration": 148,
    "start_time": "2024-02-22T13:50:32.118Z"
   },
   {
    "duration": 64,
    "start_time": "2024-02-22T13:50:52.590Z"
   },
   {
    "duration": 62,
    "start_time": "2024-02-22T13:51:38.680Z"
   },
   {
    "duration": 65,
    "start_time": "2024-02-22T13:51:59.800Z"
   },
   {
    "duration": 1164,
    "start_time": "2024-02-22T13:52:26.879Z"
   },
   {
    "duration": 9,
    "start_time": "2024-02-22T13:52:41.063Z"
   },
   {
    "duration": 8,
    "start_time": "2024-02-22T13:52:58.000Z"
   },
   {
    "duration": 12,
    "start_time": "2024-02-22T13:53:05.192Z"
   },
   {
    "duration": 10,
    "start_time": "2024-02-22T13:53:25.167Z"
   },
   {
    "duration": 9,
    "start_time": "2024-02-22T13:53:29.088Z"
   },
   {
    "duration": 10,
    "start_time": "2024-02-22T13:53:31.882Z"
   },
   {
    "duration": 53,
    "start_time": "2024-02-25T11:46:07.544Z"
   },
   {
    "duration": 1678,
    "start_time": "2024-02-25T11:46:15.554Z"
   },
   {
    "duration": 742,
    "start_time": "2024-02-25T11:46:17.234Z"
   },
   {
    "duration": 5,
    "start_time": "2024-02-25T11:46:17.977Z"
   },
   {
    "duration": 223,
    "start_time": "2024-02-25T11:46:17.984Z"
   },
   {
    "duration": 10,
    "start_time": "2024-02-25T11:46:18.209Z"
   },
   {
    "duration": 11,
    "start_time": "2024-02-25T11:46:18.221Z"
   },
   {
    "duration": 132,
    "start_time": "2024-02-25T11:46:18.234Z"
   },
   {
    "duration": 179,
    "start_time": "2024-02-25T11:46:18.367Z"
   },
   {
    "duration": 55,
    "start_time": "2024-02-25T11:46:18.547Z"
   },
   {
    "duration": 42,
    "start_time": "2024-02-25T11:46:18.603Z"
   },
   {
    "duration": 45,
    "start_time": "2024-02-25T11:46:18.647Z"
   },
   {
    "duration": 25,
    "start_time": "2024-02-25T11:46:18.693Z"
   },
   {
    "duration": 7,
    "start_time": "2024-02-25T11:46:18.720Z"
   },
   {
    "duration": 1410,
    "start_time": "2024-02-25T11:46:18.729Z"
   },
   {
    "duration": 1212,
    "start_time": "2024-02-25T11:46:20.140Z"
   },
   {
    "duration": 39,
    "start_time": "2024-02-25T11:46:21.353Z"
   },
   {
    "duration": 39,
    "start_time": "2024-02-25T11:46:21.394Z"
   },
   {
    "duration": 8,
    "start_time": "2024-02-25T11:46:21.434Z"
   },
   {
    "duration": 53,
    "start_time": "2024-02-25T11:46:21.444Z"
   },
   {
    "duration": 227,
    "start_time": "2024-02-25T11:46:21.499Z"
   },
   {
    "duration": 76,
    "start_time": "2024-02-25T11:46:21.728Z"
   },
   {
    "duration": 329,
    "start_time": "2024-02-25T11:46:21.806Z"
   },
   {
    "duration": 581,
    "start_time": "2024-02-25T11:46:22.137Z"
   },
   {
    "duration": 12,
    "start_time": "2024-02-25T11:46:22.719Z"
   },
   {
    "duration": 1164,
    "start_time": "2024-02-25T11:46:51.412Z"
   },
   {
    "duration": 101,
    "start_time": "2024-02-25T11:50:28.791Z"
   },
   {
    "duration": 103,
    "start_time": "2024-02-25T11:50:36.365Z"
   },
   {
    "duration": 101,
    "start_time": "2024-02-25T11:51:14.629Z"
   },
   {
    "duration": 109,
    "start_time": "2024-02-25T11:52:53.085Z"
   },
   {
    "duration": 69,
    "start_time": "2024-02-25T11:53:16.280Z"
   },
   {
    "duration": 1836,
    "start_time": "2024-02-25T11:55:40.723Z"
   },
   {
    "duration": 1726,
    "start_time": "2024-02-25T11:56:10.960Z"
   },
   {
    "duration": 1633,
    "start_time": "2024-02-25T11:56:51.999Z"
   },
   {
    "duration": 61,
    "start_time": "2024-02-25T11:57:09.007Z"
   },
   {
    "duration": 64,
    "start_time": "2024-02-25T11:57:29.625Z"
   },
   {
    "duration": 79,
    "start_time": "2024-02-25T11:58:23.410Z"
   },
   {
    "duration": 644,
    "start_time": "2024-02-25T11:59:11.054Z"
   },
   {
    "duration": 90,
    "start_time": "2024-02-25T12:04:21.924Z"
   },
   {
    "duration": 1540,
    "start_time": "2024-02-25T12:05:07.160Z"
   },
   {
    "duration": 15,
    "start_time": "2024-02-25T12:05:37.114Z"
   },
   {
    "duration": 14,
    "start_time": "2024-02-25T12:07:49.420Z"
   },
   {
    "duration": 15,
    "start_time": "2024-02-25T12:08:55.909Z"
   },
   {
    "duration": 1319,
    "start_time": "2024-02-25T12:09:06.848Z"
   },
   {
    "duration": 191,
    "start_time": "2024-02-25T12:09:08.169Z"
   },
   {
    "duration": 3,
    "start_time": "2024-02-25T12:09:08.362Z"
   },
   {
    "duration": 214,
    "start_time": "2024-02-25T12:09:08.367Z"
   },
   {
    "duration": 7,
    "start_time": "2024-02-25T12:09:08.591Z"
   },
   {
    "duration": 15,
    "start_time": "2024-02-25T12:09:08.599Z"
   },
   {
    "duration": 133,
    "start_time": "2024-02-25T12:09:08.616Z"
   },
   {
    "duration": 181,
    "start_time": "2024-02-25T12:09:08.751Z"
   },
   {
    "duration": 41,
    "start_time": "2024-02-25T12:09:08.933Z"
   },
   {
    "duration": 50,
    "start_time": "2024-02-25T12:09:08.977Z"
   },
   {
    "duration": 29,
    "start_time": "2024-02-25T12:09:09.028Z"
   },
   {
    "duration": 48,
    "start_time": "2024-02-25T12:09:09.058Z"
   },
   {
    "duration": 7,
    "start_time": "2024-02-25T12:09:09.107Z"
   },
   {
    "duration": 1446,
    "start_time": "2024-02-25T12:09:09.116Z"
   },
   {
    "duration": 1209,
    "start_time": "2024-02-25T12:09:10.564Z"
   },
   {
    "duration": 44,
    "start_time": "2024-02-25T12:09:11.775Z"
   },
   {
    "duration": 36,
    "start_time": "2024-02-25T12:09:11.820Z"
   },
   {
    "duration": 8,
    "start_time": "2024-02-25T12:09:11.858Z"
   },
   {
    "duration": 48,
    "start_time": "2024-02-25T12:09:11.867Z"
   },
   {
    "duration": 241,
    "start_time": "2024-02-25T12:09:11.917Z"
   },
   {
    "duration": 98,
    "start_time": "2024-02-25T12:09:12.160Z"
   },
   {
    "duration": 254,
    "start_time": "2024-02-25T12:09:12.260Z"
   },
   {
    "duration": 559,
    "start_time": "2024-02-25T12:09:12.516Z"
   },
   {
    "duration": 20,
    "start_time": "2024-02-25T12:09:13.077Z"
   },
   {
    "duration": 205,
    "start_time": "2024-02-25T12:14:32.186Z"
   },
   {
    "duration": 123,
    "start_time": "2024-02-25T12:15:26.424Z"
   },
   {
    "duration": 223,
    "start_time": "2024-02-25T12:15:35.870Z"
   },
   {
    "duration": 214,
    "start_time": "2024-02-25T12:16:17.589Z"
   },
   {
    "duration": 200,
    "start_time": "2024-02-25T12:17:00.278Z"
   },
   {
    "duration": 215,
    "start_time": "2024-02-25T12:17:20.607Z"
   },
   {
    "duration": 223,
    "start_time": "2024-02-25T12:18:20.311Z"
   },
   {
    "duration": 237,
    "start_time": "2024-02-25T12:19:09.599Z"
   },
   {
    "duration": 213,
    "start_time": "2024-02-25T12:20:58.907Z"
   },
   {
    "duration": 321,
    "start_time": "2024-02-25T12:25:27.773Z"
   },
   {
    "duration": 209,
    "start_time": "2024-02-25T12:25:48.830Z"
   },
   {
    "duration": 102,
    "start_time": "2024-02-25T12:40:52.109Z"
   },
   {
    "duration": 53,
    "start_time": "2024-02-25T13:23:02.377Z"
   },
   {
    "duration": 42,
    "start_time": "2024-02-25T18:35:57.591Z"
   },
   {
    "duration": 1325,
    "start_time": "2024-02-25T18:36:04.395Z"
   },
   {
    "duration": 470,
    "start_time": "2024-02-25T18:36:05.721Z"
   },
   {
    "duration": 3,
    "start_time": "2024-02-25T18:36:06.192Z"
   },
   {
    "duration": 204,
    "start_time": "2024-02-25T18:36:06.197Z"
   },
   {
    "duration": 9,
    "start_time": "2024-02-25T18:36:06.403Z"
   },
   {
    "duration": 31,
    "start_time": "2024-02-25T18:36:06.414Z"
   },
   {
    "duration": 151,
    "start_time": "2024-02-25T18:36:06.447Z"
   },
   {
    "duration": 157,
    "start_time": "2024-02-25T18:36:06.600Z"
   },
   {
    "duration": 45,
    "start_time": "2024-02-25T18:36:06.759Z"
   },
   {
    "duration": 50,
    "start_time": "2024-02-25T18:36:06.807Z"
   },
   {
    "duration": 43,
    "start_time": "2024-02-25T18:36:06.859Z"
   },
   {
    "duration": 21,
    "start_time": "2024-02-25T18:36:06.904Z"
   },
   {
    "duration": 18,
    "start_time": "2024-02-25T18:36:06.927Z"
   },
   {
    "duration": 1244,
    "start_time": "2024-02-25T18:36:06.947Z"
   },
   {
    "duration": 1040,
    "start_time": "2024-02-25T18:36:08.192Z"
   },
   {
    "duration": 34,
    "start_time": "2024-02-25T18:36:09.234Z"
   },
   {
    "duration": 32,
    "start_time": "2024-02-25T18:36:09.270Z"
   },
   {
    "duration": 7,
    "start_time": "2024-02-25T18:36:09.304Z"
   },
   {
    "duration": 51,
    "start_time": "2024-02-25T18:36:09.312Z"
   },
   {
    "duration": 209,
    "start_time": "2024-02-25T18:36:09.364Z"
   },
   {
    "duration": 87,
    "start_time": "2024-02-25T18:36:09.574Z"
   },
   {
    "duration": 198,
    "start_time": "2024-02-25T18:36:09.662Z"
   },
   {
    "duration": 525,
    "start_time": "2024-02-25T18:36:09.861Z"
   },
   {
    "duration": 12,
    "start_time": "2024-02-25T18:36:10.387Z"
   },
   {
    "duration": 205,
    "start_time": "2024-02-25T18:36:10.401Z"
   },
   {
    "duration": 38,
    "start_time": "2024-02-25T18:36:10.607Z"
   },
   {
    "duration": 8,
    "start_time": "2024-02-25T18:36:10.647Z"
   },
   {
    "duration": 104,
    "start_time": "2024-02-25T18:36:29.869Z"
   },
   {
    "duration": 13,
    "start_time": "2024-02-25T18:37:03.981Z"
   },
   {
    "duration": 9,
    "start_time": "2024-02-25T18:37:13.908Z"
   },
   {
    "duration": 9,
    "start_time": "2024-02-25T18:40:45.404Z"
   },
   {
    "duration": 1120,
    "start_time": "2024-02-25T18:40:57.088Z"
   },
   {
    "duration": 179,
    "start_time": "2024-02-25T18:40:58.210Z"
   },
   {
    "duration": 4,
    "start_time": "2024-02-25T18:40:58.391Z"
   },
   {
    "duration": 191,
    "start_time": "2024-02-25T18:40:58.397Z"
   },
   {
    "duration": 8,
    "start_time": "2024-02-25T18:40:58.589Z"
   },
   {
    "duration": 9,
    "start_time": "2024-02-25T18:40:58.598Z"
   },
   {
    "duration": 109,
    "start_time": "2024-02-25T18:40:58.609Z"
   },
   {
    "duration": 143,
    "start_time": "2024-02-25T18:40:58.720Z"
   },
   {
    "duration": 33,
    "start_time": "2024-02-25T18:40:58.864Z"
   },
   {
    "duration": 47,
    "start_time": "2024-02-25T18:40:58.899Z"
   },
   {
    "duration": 22,
    "start_time": "2024-02-25T18:40:58.947Z"
   },
   {
    "duration": 20,
    "start_time": "2024-02-25T18:40:58.970Z"
   },
   {
    "duration": 5,
    "start_time": "2024-02-25T18:40:58.992Z"
   },
   {
    "duration": 1186,
    "start_time": "2024-02-25T18:40:58.998Z"
   },
   {
    "duration": 1084,
    "start_time": "2024-02-25T18:41:00.185Z"
   },
   {
    "duration": 29,
    "start_time": "2024-02-25T18:41:01.270Z"
   },
   {
    "duration": 65,
    "start_time": "2024-02-25T18:41:01.301Z"
   },
   {
    "duration": 6,
    "start_time": "2024-02-25T18:41:01.368Z"
   },
   {
    "duration": 51,
    "start_time": "2024-02-25T18:41:01.375Z"
   },
   {
    "duration": 196,
    "start_time": "2024-02-25T18:41:01.428Z"
   },
   {
    "duration": 78,
    "start_time": "2024-02-25T18:41:01.625Z"
   },
   {
    "duration": 199,
    "start_time": "2024-02-25T18:41:01.705Z"
   },
   {
    "duration": 492,
    "start_time": "2024-02-25T18:41:01.906Z"
   },
   {
    "duration": 11,
    "start_time": "2024-02-25T18:41:02.400Z"
   },
   {
    "duration": 216,
    "start_time": "2024-02-25T18:41:02.412Z"
   },
   {
    "duration": 19,
    "start_time": "2024-02-25T18:41:02.630Z"
   },
   {
    "duration": 49,
    "start_time": "2024-02-25T18:41:02.650Z"
   },
   {
    "duration": 15,
    "start_time": "2024-02-25T18:42:44.193Z"
   },
   {
    "duration": 64,
    "start_time": "2024-02-25T18:47:06.429Z"
   },
   {
    "duration": 5,
    "start_time": "2024-02-25T18:47:22.639Z"
   },
   {
    "duration": 23,
    "start_time": "2024-02-25T18:47:32.528Z"
   },
   {
    "duration": 17,
    "start_time": "2024-02-25T18:47:48.200Z"
   },
   {
    "duration": 20,
    "start_time": "2024-02-25T18:48:07.416Z"
   },
   {
    "duration": 1116,
    "start_time": "2024-02-25T20:03:29.731Z"
   },
   {
    "duration": 20,
    "start_time": "2024-02-25T20:04:10.397Z"
   },
   {
    "duration": 22,
    "start_time": "2024-02-25T20:04:42.882Z"
   },
   {
    "duration": 21,
    "start_time": "2024-02-25T20:10:54.904Z"
   },
   {
    "duration": 30,
    "start_time": "2024-02-25T20:11:23.892Z"
   },
   {
    "duration": 26,
    "start_time": "2024-02-25T20:12:08.084Z"
   },
   {
    "duration": 5,
    "start_time": "2024-02-25T20:29:58.719Z"
   },
   {
    "duration": 75,
    "start_time": "2024-02-25T20:32:18.007Z"
   },
   {
    "duration": 26,
    "start_time": "2024-02-25T20:40:46.578Z"
   },
   {
    "duration": 1323,
    "start_time": "2024-02-25T20:41:41.181Z"
   },
   {
    "duration": 5,
    "start_time": "2024-02-25T20:46:22.878Z"
   },
   {
    "duration": 1145,
    "start_time": "2024-02-25T20:48:18.380Z"
   },
   {
    "duration": 172,
    "start_time": "2024-02-25T20:48:19.527Z"
   },
   {
    "duration": 4,
    "start_time": "2024-02-25T20:48:19.700Z"
   },
   {
    "duration": 180,
    "start_time": "2024-02-25T20:48:19.705Z"
   },
   {
    "duration": 8,
    "start_time": "2024-02-25T20:48:19.886Z"
   },
   {
    "duration": 15,
    "start_time": "2024-02-25T20:48:19.895Z"
   },
   {
    "duration": 112,
    "start_time": "2024-02-25T20:48:19.911Z"
   },
   {
    "duration": 141,
    "start_time": "2024-02-25T20:48:20.024Z"
   },
   {
    "duration": 35,
    "start_time": "2024-02-25T20:48:20.166Z"
   },
   {
    "duration": 51,
    "start_time": "2024-02-25T20:48:20.203Z"
   },
   {
    "duration": 23,
    "start_time": "2024-02-25T20:48:20.255Z"
   },
   {
    "duration": 21,
    "start_time": "2024-02-25T20:48:20.279Z"
   },
   {
    "duration": 6,
    "start_time": "2024-02-25T20:48:20.301Z"
   },
   {
    "duration": 1152,
    "start_time": "2024-02-25T20:48:20.309Z"
   },
   {
    "duration": 1020,
    "start_time": "2024-02-25T20:48:21.462Z"
   },
   {
    "duration": 28,
    "start_time": "2024-02-25T20:48:22.484Z"
   },
   {
    "duration": 43,
    "start_time": "2024-02-25T20:48:22.513Z"
   },
   {
    "duration": 6,
    "start_time": "2024-02-25T20:48:22.557Z"
   },
   {
    "duration": 22,
    "start_time": "2024-02-25T20:48:22.564Z"
   },
   {
    "duration": 198,
    "start_time": "2024-02-25T20:48:22.588Z"
   },
   {
    "duration": 78,
    "start_time": "2024-02-25T20:48:22.787Z"
   },
   {
    "duration": 212,
    "start_time": "2024-02-25T20:48:22.866Z"
   },
   {
    "duration": 510,
    "start_time": "2024-02-25T20:48:23.080Z"
   },
   {
    "duration": 12,
    "start_time": "2024-02-25T20:48:23.591Z"
   },
   {
    "duration": 210,
    "start_time": "2024-02-25T20:48:23.604Z"
   },
   {
    "duration": 16,
    "start_time": "2024-02-25T20:48:23.815Z"
   },
   {
    "duration": 43,
    "start_time": "2024-02-25T20:48:23.832Z"
   },
   {
    "duration": 24,
    "start_time": "2024-02-25T20:48:23.878Z"
   },
   {
    "duration": 4,
    "start_time": "2024-02-25T20:48:23.903Z"
   },
   {
    "duration": 1242,
    "start_time": "2024-02-25T20:48:23.909Z"
   },
   {
    "duration": 1071,
    "start_time": "2024-02-25T20:50:45.377Z"
   },
   {
    "duration": 30,
    "start_time": "2024-02-25T20:52:28.952Z"
   },
   {
    "duration": 14,
    "start_time": "2024-02-25T20:54:04.321Z"
   },
   {
    "duration": 1220,
    "start_time": "2024-02-25T20:54:22.819Z"
   },
   {
    "duration": 163,
    "start_time": "2024-02-25T20:54:24.041Z"
   },
   {
    "duration": 3,
    "start_time": "2024-02-25T20:54:24.206Z"
   },
   {
    "duration": 192,
    "start_time": "2024-02-25T20:54:24.211Z"
   },
   {
    "duration": 7,
    "start_time": "2024-02-25T20:54:24.405Z"
   },
   {
    "duration": 66,
    "start_time": "2024-02-25T20:54:24.414Z"
   },
   {
    "duration": 110,
    "start_time": "2024-02-25T20:54:24.482Z"
   },
   {
    "duration": 138,
    "start_time": "2024-02-25T20:54:24.594Z"
   },
   {
    "duration": 45,
    "start_time": "2024-02-25T20:54:24.734Z"
   },
   {
    "duration": 35,
    "start_time": "2024-02-25T20:54:24.781Z"
   },
   {
    "duration": 41,
    "start_time": "2024-02-25T20:54:24.817Z"
   },
   {
    "duration": 19,
    "start_time": "2024-02-25T20:54:24.860Z"
   },
   {
    "duration": 6,
    "start_time": "2024-02-25T20:54:24.880Z"
   },
   {
    "duration": 1195,
    "start_time": "2024-02-25T20:54:24.888Z"
   },
   {
    "duration": 992,
    "start_time": "2024-02-25T20:54:26.084Z"
   },
   {
    "duration": 30,
    "start_time": "2024-02-25T20:54:27.078Z"
   },
   {
    "duration": 47,
    "start_time": "2024-02-25T20:54:27.109Z"
   },
   {
    "duration": 7,
    "start_time": "2024-02-25T20:54:27.158Z"
   },
   {
    "duration": 55,
    "start_time": "2024-02-25T20:54:27.167Z"
   },
   {
    "duration": 206,
    "start_time": "2024-02-25T20:54:27.224Z"
   },
   {
    "duration": 77,
    "start_time": "2024-02-25T20:54:27.432Z"
   },
   {
    "duration": 215,
    "start_time": "2024-02-25T20:54:27.511Z"
   },
   {
    "duration": 486,
    "start_time": "2024-02-25T20:54:27.728Z"
   },
   {
    "duration": 12,
    "start_time": "2024-02-25T20:54:28.217Z"
   },
   {
    "duration": 194,
    "start_time": "2024-02-25T20:54:28.230Z"
   },
   {
    "duration": 24,
    "start_time": "2024-02-25T20:54:28.425Z"
   },
   {
    "duration": 45,
    "start_time": "2024-02-25T20:54:28.450Z"
   },
   {
    "duration": 23,
    "start_time": "2024-02-25T20:54:28.498Z"
   },
   {
    "duration": 27,
    "start_time": "2024-02-25T20:54:28.523Z"
   },
   {
    "duration": 126,
    "start_time": "2024-02-25T20:54:28.551Z"
   },
   {
    "duration": 5,
    "start_time": "2024-02-25T20:56:24.399Z"
   },
   {
    "duration": 13,
    "start_time": "2024-02-25T20:56:27.092Z"
   },
   {
    "duration": 5,
    "start_time": "2024-02-25T20:57:15.433Z"
   },
   {
    "duration": 1120,
    "start_time": "2024-02-25T20:57:21.809Z"
   },
   {
    "duration": 162,
    "start_time": "2024-02-25T20:57:22.931Z"
   },
   {
    "duration": 4,
    "start_time": "2024-02-25T20:57:23.094Z"
   },
   {
    "duration": 193,
    "start_time": "2024-02-25T20:57:23.099Z"
   },
   {
    "duration": 8,
    "start_time": "2024-02-25T20:57:23.294Z"
   },
   {
    "duration": 10,
    "start_time": "2024-02-25T20:57:23.303Z"
   },
   {
    "duration": 119,
    "start_time": "2024-02-25T20:57:23.314Z"
   },
   {
    "duration": 166,
    "start_time": "2024-02-25T20:57:23.435Z"
   },
   {
    "duration": 46,
    "start_time": "2024-02-25T20:57:23.602Z"
   },
   {
    "duration": 38,
    "start_time": "2024-02-25T20:57:23.649Z"
   },
   {
    "duration": 26,
    "start_time": "2024-02-25T20:57:23.688Z"
   },
   {
    "duration": 46,
    "start_time": "2024-02-25T20:57:23.715Z"
   },
   {
    "duration": 6,
    "start_time": "2024-02-25T20:57:23.763Z"
   },
   {
    "duration": 1190,
    "start_time": "2024-02-25T20:57:23.772Z"
   },
   {
    "duration": 1028,
    "start_time": "2024-02-25T20:57:24.964Z"
   },
   {
    "duration": 30,
    "start_time": "2024-02-25T20:57:25.994Z"
   },
   {
    "duration": 46,
    "start_time": "2024-02-25T20:57:26.025Z"
   },
   {
    "duration": 7,
    "start_time": "2024-02-25T20:57:26.072Z"
   },
   {
    "duration": 30,
    "start_time": "2024-02-25T20:57:26.080Z"
   },
   {
    "duration": 201,
    "start_time": "2024-02-25T20:57:26.112Z"
   },
   {
    "duration": 77,
    "start_time": "2024-02-25T20:57:26.314Z"
   },
   {
    "duration": 186,
    "start_time": "2024-02-25T20:57:26.393Z"
   },
   {
    "duration": 465,
    "start_time": "2024-02-25T20:57:26.581Z"
   },
   {
    "duration": 11,
    "start_time": "2024-02-25T20:57:27.048Z"
   },
   {
    "duration": 215,
    "start_time": "2024-02-25T20:57:27.060Z"
   },
   {
    "duration": 14,
    "start_time": "2024-02-25T20:57:27.276Z"
   },
   {
    "duration": 33,
    "start_time": "2024-02-25T20:57:27.291Z"
   },
   {
    "duration": 40,
    "start_time": "2024-02-25T20:57:27.325Z"
   },
   {
    "duration": 4,
    "start_time": "2024-02-25T20:57:27.366Z"
   },
   {
    "duration": 120,
    "start_time": "2024-02-25T20:57:27.371Z"
   },
   {
    "duration": 1104,
    "start_time": "2024-02-25T20:58:28.697Z"
   },
   {
    "duration": 170,
    "start_time": "2024-02-25T20:58:29.803Z"
   },
   {
    "duration": 3,
    "start_time": "2024-02-25T20:58:29.975Z"
   },
   {
    "duration": 290,
    "start_time": "2024-02-25T20:58:29.979Z"
   },
   {
    "duration": 6,
    "start_time": "2024-02-25T20:58:30.271Z"
   },
   {
    "duration": 55,
    "start_time": "2024-02-25T20:58:30.278Z"
   },
   {
    "duration": 121,
    "start_time": "2024-02-25T20:58:30.334Z"
   },
   {
    "duration": 147,
    "start_time": "2024-02-25T20:58:30.456Z"
   },
   {
    "duration": 44,
    "start_time": "2024-02-25T20:58:30.604Z"
   },
   {
    "duration": 35,
    "start_time": "2024-02-25T20:58:30.650Z"
   },
   {
    "duration": 76,
    "start_time": "2024-02-25T20:58:30.687Z"
   },
   {
    "duration": 100,
    "start_time": "2024-02-25T20:58:30.765Z"
   },
   {
    "duration": 32,
    "start_time": "2024-02-25T20:58:30.866Z"
   },
   {
    "duration": 1232,
    "start_time": "2024-02-25T20:58:30.900Z"
   },
   {
    "duration": 976,
    "start_time": "2024-02-25T20:58:32.134Z"
   },
   {
    "duration": 41,
    "start_time": "2024-02-25T20:58:33.111Z"
   },
   {
    "duration": 29,
    "start_time": "2024-02-25T20:58:33.153Z"
   },
   {
    "duration": 7,
    "start_time": "2024-02-25T20:58:33.184Z"
   },
   {
    "duration": 22,
    "start_time": "2024-02-25T20:58:33.193Z"
   },
   {
    "duration": 229,
    "start_time": "2024-02-25T20:58:33.217Z"
   },
   {
    "duration": 113,
    "start_time": "2024-02-25T20:58:33.448Z"
   },
   {
    "duration": 199,
    "start_time": "2024-02-25T20:58:33.562Z"
   },
   {
    "duration": 428,
    "start_time": "2024-02-25T20:58:33.762Z"
   },
   {
    "duration": 12,
    "start_time": "2024-02-25T20:58:34.191Z"
   },
   {
    "duration": 192,
    "start_time": "2024-02-25T20:58:34.204Z"
   },
   {
    "duration": 15,
    "start_time": "2024-02-25T20:58:34.397Z"
   },
   {
    "duration": 43,
    "start_time": "2024-02-25T20:58:34.414Z"
   },
   {
    "duration": 25,
    "start_time": "2024-02-25T20:58:34.459Z"
   },
   {
    "duration": 3,
    "start_time": "2024-02-25T20:58:34.486Z"
   },
   {
    "duration": 28,
    "start_time": "2024-02-25T20:58:34.491Z"
   },
   {
    "duration": 1180,
    "start_time": "2024-02-25T21:05:53.599Z"
   },
   {
    "duration": 1126,
    "start_time": "2024-02-25T21:06:32.115Z"
   },
   {
    "duration": 1116,
    "start_time": "2024-02-25T21:08:56.993Z"
   },
   {
    "duration": 1182,
    "start_time": "2024-02-25T21:10:32.336Z"
   },
   {
    "duration": 1165,
    "start_time": "2024-02-25T21:10:46.175Z"
   },
   {
    "duration": 3,
    "start_time": "2024-02-25T21:12:00.360Z"
   },
   {
    "duration": 35,
    "start_time": "2024-02-25T21:13:01.549Z"
   },
   {
    "duration": 28,
    "start_time": "2024-02-25T21:13:14.954Z"
   },
   {
    "duration": 27,
    "start_time": "2024-02-25T21:13:19.338Z"
   },
   {
    "duration": 1115,
    "start_time": "2024-02-25T21:13:38.903Z"
   },
   {
    "duration": 163,
    "start_time": "2024-02-25T21:13:40.019Z"
   },
   {
    "duration": 3,
    "start_time": "2024-02-25T21:13:40.184Z"
   },
   {
    "duration": 186,
    "start_time": "2024-02-25T21:13:40.188Z"
   },
   {
    "duration": 9,
    "start_time": "2024-02-25T21:13:40.375Z"
   },
   {
    "duration": 16,
    "start_time": "2024-02-25T21:13:40.385Z"
   },
   {
    "duration": 110,
    "start_time": "2024-02-25T21:13:40.402Z"
   },
   {
    "duration": 156,
    "start_time": "2024-02-25T21:13:40.513Z"
   },
   {
    "duration": 35,
    "start_time": "2024-02-25T21:13:40.671Z"
   },
   {
    "duration": 48,
    "start_time": "2024-02-25T21:13:40.707Z"
   },
   {
    "duration": 43,
    "start_time": "2024-02-25T21:13:40.756Z"
   },
   {
    "duration": 37,
    "start_time": "2024-02-25T21:13:40.800Z"
   },
   {
    "duration": 7,
    "start_time": "2024-02-25T21:13:40.839Z"
   },
   {
    "duration": 1142,
    "start_time": "2024-02-25T21:13:40.848Z"
   },
   {
    "duration": 978,
    "start_time": "2024-02-25T21:13:41.991Z"
   },
   {
    "duration": 37,
    "start_time": "2024-02-25T21:13:42.971Z"
   },
   {
    "duration": 48,
    "start_time": "2024-02-25T21:13:43.009Z"
   },
   {
    "duration": 6,
    "start_time": "2024-02-25T21:13:43.058Z"
   },
   {
    "duration": 52,
    "start_time": "2024-02-25T21:13:43.066Z"
   },
   {
    "duration": 185,
    "start_time": "2024-02-25T21:13:43.119Z"
   },
   {
    "duration": 80,
    "start_time": "2024-02-25T21:13:43.305Z"
   },
   {
    "duration": 196,
    "start_time": "2024-02-25T21:13:43.386Z"
   },
   {
    "duration": 492,
    "start_time": "2024-02-25T21:13:43.583Z"
   },
   {
    "duration": 12,
    "start_time": "2024-02-25T21:13:44.076Z"
   },
   {
    "duration": 206,
    "start_time": "2024-02-25T21:13:44.089Z"
   },
   {
    "duration": 22,
    "start_time": "2024-02-25T21:13:44.297Z"
   },
   {
    "duration": 45,
    "start_time": "2024-02-25T21:13:44.320Z"
   },
   {
    "duration": 25,
    "start_time": "2024-02-25T21:13:44.366Z"
   },
   {
    "duration": 4,
    "start_time": "2024-02-25T21:13:44.393Z"
   },
   {
    "duration": 116,
    "start_time": "2024-02-25T21:13:44.398Z"
   },
   {
    "duration": 0,
    "start_time": "2024-02-25T21:13:44.515Z"
   },
   {
    "duration": 0,
    "start_time": "2024-02-25T21:13:44.517Z"
   },
   {
    "duration": 0,
    "start_time": "2024-02-25T21:13:44.517Z"
   },
   {
    "duration": 8,
    "start_time": "2024-02-25T21:15:20.330Z"
   },
   {
    "duration": 10,
    "start_time": "2024-02-25T21:15:21.970Z"
   },
   {
    "duration": 1134,
    "start_time": "2024-02-25T21:16:41.053Z"
   },
   {
    "duration": 25,
    "start_time": "2024-02-25T21:17:21.487Z"
   },
   {
    "duration": 10,
    "start_time": "2024-02-25T21:17:40.228Z"
   },
   {
    "duration": 1158,
    "start_time": "2024-02-25T21:17:51.885Z"
   },
   {
    "duration": 165,
    "start_time": "2024-02-25T21:17:53.045Z"
   },
   {
    "duration": 4,
    "start_time": "2024-02-25T21:17:53.211Z"
   },
   {
    "duration": 188,
    "start_time": "2024-02-25T21:17:53.216Z"
   },
   {
    "duration": 6,
    "start_time": "2024-02-25T21:17:53.406Z"
   },
   {
    "duration": 51,
    "start_time": "2024-02-25T21:17:53.413Z"
   },
   {
    "duration": 117,
    "start_time": "2024-02-25T21:17:53.466Z"
   },
   {
    "duration": 142,
    "start_time": "2024-02-25T21:17:53.584Z"
   },
   {
    "duration": 41,
    "start_time": "2024-02-25T21:17:53.727Z"
   },
   {
    "duration": 35,
    "start_time": "2024-02-25T21:17:53.770Z"
   },
   {
    "duration": 39,
    "start_time": "2024-02-25T21:17:53.806Z"
   },
   {
    "duration": 20,
    "start_time": "2024-02-25T21:17:53.847Z"
   },
   {
    "duration": 6,
    "start_time": "2024-02-25T21:17:53.868Z"
   },
   {
    "duration": 1150,
    "start_time": "2024-02-25T21:17:53.875Z"
   },
   {
    "duration": 990,
    "start_time": "2024-02-25T21:17:55.026Z"
   },
   {
    "duration": 38,
    "start_time": "2024-02-25T21:17:56.018Z"
   },
   {
    "duration": 31,
    "start_time": "2024-02-25T21:17:56.057Z"
   },
   {
    "duration": 6,
    "start_time": "2024-02-25T21:17:56.089Z"
   },
   {
    "duration": 33,
    "start_time": "2024-02-25T21:17:56.096Z"
   },
   {
    "duration": 201,
    "start_time": "2024-02-25T21:17:56.130Z"
   },
   {
    "duration": 81,
    "start_time": "2024-02-25T21:17:56.332Z"
   },
   {
    "duration": 208,
    "start_time": "2024-02-25T21:17:56.414Z"
   },
   {
    "duration": 457,
    "start_time": "2024-02-25T21:17:56.623Z"
   },
   {
    "duration": 11,
    "start_time": "2024-02-25T21:17:57.082Z"
   },
   {
    "duration": 192,
    "start_time": "2024-02-25T21:17:57.095Z"
   },
   {
    "duration": 18,
    "start_time": "2024-02-25T21:17:57.289Z"
   },
   {
    "duration": 46,
    "start_time": "2024-02-25T21:17:57.308Z"
   },
   {
    "duration": 24,
    "start_time": "2024-02-25T21:17:57.357Z"
   },
   {
    "duration": 8,
    "start_time": "2024-02-25T21:17:57.383Z"
   },
   {
    "duration": 19,
    "start_time": "2024-02-25T21:17:57.392Z"
   },
   {
    "duration": 11,
    "start_time": "2024-02-25T21:20:36.495Z"
   },
   {
    "duration": 2,
    "start_time": "2024-02-25T21:23:13.832Z"
   },
   {
    "duration": 3,
    "start_time": "2024-02-25T21:23:20.079Z"
   },
   {
    "duration": 14,
    "start_time": "2024-02-25T21:25:22.489Z"
   },
   {
    "duration": 11,
    "start_time": "2024-02-25T21:25:36.008Z"
   },
   {
    "duration": 16,
    "start_time": "2024-02-25T21:26:34.634Z"
   },
   {
    "duration": 10,
    "start_time": "2024-02-25T21:26:58.545Z"
   },
   {
    "duration": 13,
    "start_time": "2024-02-25T21:28:06.136Z"
   },
   {
    "duration": 1138,
    "start_time": "2024-02-25T21:28:26.490Z"
   },
   {
    "duration": 169,
    "start_time": "2024-02-25T21:28:27.630Z"
   },
   {
    "duration": 3,
    "start_time": "2024-02-25T21:28:27.801Z"
   },
   {
    "duration": 181,
    "start_time": "2024-02-25T21:28:27.805Z"
   },
   {
    "duration": 8,
    "start_time": "2024-02-25T21:28:27.988Z"
   },
   {
    "duration": 18,
    "start_time": "2024-02-25T21:28:27.998Z"
   },
   {
    "duration": 116,
    "start_time": "2024-02-25T21:28:28.017Z"
   },
   {
    "duration": 176,
    "start_time": "2024-02-25T21:28:28.135Z"
   },
   {
    "duration": 47,
    "start_time": "2024-02-25T21:28:28.313Z"
   },
   {
    "duration": 36,
    "start_time": "2024-02-25T21:28:28.362Z"
   },
   {
    "duration": 23,
    "start_time": "2024-02-25T21:28:28.399Z"
   },
   {
    "duration": 42,
    "start_time": "2024-02-25T21:28:28.423Z"
   },
   {
    "duration": 7,
    "start_time": "2024-02-25T21:28:28.466Z"
   },
   {
    "duration": 1153,
    "start_time": "2024-02-25T21:28:28.475Z"
   },
   {
    "duration": 991,
    "start_time": "2024-02-25T21:28:29.629Z"
   },
   {
    "duration": 39,
    "start_time": "2024-02-25T21:28:30.622Z"
   },
   {
    "duration": 159,
    "start_time": "2024-02-25T21:28:30.662Z"
   },
   {
    "duration": 135,
    "start_time": "2024-02-25T21:28:30.823Z"
   },
   {
    "duration": 89,
    "start_time": "2024-02-25T21:28:30.960Z"
   },
   {
    "duration": 201,
    "start_time": "2024-02-25T21:28:31.050Z"
   },
   {
    "duration": 73,
    "start_time": "2024-02-25T21:28:31.252Z"
   },
   {
    "duration": 220,
    "start_time": "2024-02-25T21:28:31.326Z"
   },
   {
    "duration": 430,
    "start_time": "2024-02-25T21:28:31.547Z"
   },
   {
    "duration": 11,
    "start_time": "2024-02-25T21:28:31.979Z"
   },
   {
    "duration": 204,
    "start_time": "2024-02-25T21:28:31.991Z"
   },
   {
    "duration": 15,
    "start_time": "2024-02-25T21:28:32.196Z"
   },
   {
    "duration": 60,
    "start_time": "2024-02-25T21:28:32.212Z"
   },
   {
    "duration": 24,
    "start_time": "2024-02-25T21:28:32.273Z"
   },
   {
    "duration": 28,
    "start_time": "2024-02-25T21:28:32.299Z"
   },
   {
    "duration": 32,
    "start_time": "2024-02-25T21:28:32.329Z"
   },
   {
    "duration": 182,
    "start_time": "2024-02-25T21:28:32.363Z"
   },
   {
    "duration": 37,
    "start_time": "2024-02-25T21:28:32.546Z"
   },
   {
    "duration": 53,
    "start_time": "2024-02-25T21:28:32.584Z"
   },
   {
    "duration": 45,
    "start_time": "2024-02-26T12:10:57.044Z"
   },
   {
    "duration": 1361,
    "start_time": "2024-02-26T12:11:08.030Z"
   },
   {
    "duration": 496,
    "start_time": "2024-02-26T12:11:09.393Z"
   },
   {
    "duration": 4,
    "start_time": "2024-02-26T12:11:09.890Z"
   },
   {
    "duration": 204,
    "start_time": "2024-02-26T12:11:09.895Z"
   },
   {
    "duration": 17,
    "start_time": "2024-02-26T12:11:10.101Z"
   },
   {
    "duration": 40,
    "start_time": "2024-02-26T12:11:10.120Z"
   },
   {
    "duration": 119,
    "start_time": "2024-02-26T12:11:10.162Z"
   },
   {
    "duration": 159,
    "start_time": "2024-02-26T12:11:10.283Z"
   },
   {
    "duration": 37,
    "start_time": "2024-02-26T12:11:10.444Z"
   },
   {
    "duration": 44,
    "start_time": "2024-02-26T12:11:10.483Z"
   },
   {
    "duration": 31,
    "start_time": "2024-02-26T12:11:10.529Z"
   },
   {
    "duration": 21,
    "start_time": "2024-02-26T12:11:10.562Z"
   },
   {
    "duration": 6,
    "start_time": "2024-02-26T12:11:10.584Z"
   },
   {
    "duration": 1242,
    "start_time": "2024-02-26T12:11:10.591Z"
   },
   {
    "duration": 1128,
    "start_time": "2024-02-26T12:11:11.835Z"
   },
   {
    "duration": 34,
    "start_time": "2024-02-26T12:11:12.965Z"
   },
   {
    "duration": 46,
    "start_time": "2024-02-26T12:11:13.000Z"
   },
   {
    "duration": 6,
    "start_time": "2024-02-26T12:11:13.048Z"
   },
   {
    "duration": 24,
    "start_time": "2024-02-26T12:11:13.056Z"
   },
   {
    "duration": 204,
    "start_time": "2024-02-26T12:11:13.081Z"
   },
   {
    "duration": 85,
    "start_time": "2024-02-26T12:11:13.286Z"
   },
   {
    "duration": 205,
    "start_time": "2024-02-26T12:11:13.373Z"
   },
   {
    "duration": 529,
    "start_time": "2024-02-26T12:11:13.580Z"
   },
   {
    "duration": 15,
    "start_time": "2024-02-26T12:11:14.111Z"
   },
   {
    "duration": 212,
    "start_time": "2024-02-26T12:11:14.128Z"
   },
   {
    "duration": 20,
    "start_time": "2024-02-26T12:11:14.342Z"
   },
   {
    "duration": 113,
    "start_time": "2024-02-26T12:11:14.364Z"
   },
   {
    "duration": 0,
    "start_time": "2024-02-26T12:11:14.479Z"
   },
   {
    "duration": 0,
    "start_time": "2024-02-26T12:11:14.480Z"
   },
   {
    "duration": 0,
    "start_time": "2024-02-26T12:11:14.481Z"
   },
   {
    "duration": 0,
    "start_time": "2024-02-26T12:11:14.482Z"
   },
   {
    "duration": 0,
    "start_time": "2024-02-26T12:11:14.483Z"
   },
   {
    "duration": 0,
    "start_time": "2024-02-26T12:11:14.484Z"
   },
   {
    "duration": 36,
    "start_time": "2024-02-26T12:12:02.285Z"
   },
   {
    "duration": 26,
    "start_time": "2024-02-26T12:12:04.823Z"
   },
   {
    "duration": 1238,
    "start_time": "2024-02-26T12:12:16.880Z"
   },
   {
    "duration": 169,
    "start_time": "2024-02-26T12:12:18.119Z"
   },
   {
    "duration": 3,
    "start_time": "2024-02-26T12:12:18.290Z"
   },
   {
    "duration": 201,
    "start_time": "2024-02-26T12:12:18.295Z"
   },
   {
    "duration": 27,
    "start_time": "2024-02-26T12:12:18.498Z"
   },
   {
    "duration": 13,
    "start_time": "2024-02-26T12:12:18.527Z"
   },
   {
    "duration": 114,
    "start_time": "2024-02-26T12:12:18.541Z"
   },
   {
    "duration": 154,
    "start_time": "2024-02-26T12:12:18.657Z"
   },
   {
    "duration": 41,
    "start_time": "2024-02-26T12:12:18.813Z"
   },
   {
    "duration": 38,
    "start_time": "2024-02-26T12:12:18.856Z"
   },
   {
    "duration": 41,
    "start_time": "2024-02-26T12:12:18.896Z"
   },
   {
    "duration": 24,
    "start_time": "2024-02-26T12:12:18.939Z"
   },
   {
    "duration": 6,
    "start_time": "2024-02-26T12:12:18.965Z"
   },
   {
    "duration": 1286,
    "start_time": "2024-02-26T12:12:18.974Z"
   },
   {
    "duration": 1097,
    "start_time": "2024-02-26T12:12:20.262Z"
   },
   {
    "duration": 33,
    "start_time": "2024-02-26T12:12:21.360Z"
   },
   {
    "duration": 51,
    "start_time": "2024-02-26T12:12:21.395Z"
   },
   {
    "duration": 7,
    "start_time": "2024-02-26T12:12:21.447Z"
   },
   {
    "duration": 30,
    "start_time": "2024-02-26T12:12:21.455Z"
   },
   {
    "duration": 207,
    "start_time": "2024-02-26T12:12:21.486Z"
   },
   {
    "duration": 81,
    "start_time": "2024-02-26T12:12:21.695Z"
   },
   {
    "duration": 218,
    "start_time": "2024-02-26T12:12:21.778Z"
   },
   {
    "duration": 478,
    "start_time": "2024-02-26T12:12:21.998Z"
   },
   {
    "duration": 12,
    "start_time": "2024-02-26T12:12:22.477Z"
   },
   {
    "duration": 208,
    "start_time": "2024-02-26T12:12:22.490Z"
   },
   {
    "duration": 24,
    "start_time": "2024-02-26T12:12:22.699Z"
   },
   {
    "duration": 36,
    "start_time": "2024-02-26T12:12:22.724Z"
   },
   {
    "duration": 26,
    "start_time": "2024-02-26T12:12:22.761Z"
   },
   {
    "duration": 29,
    "start_time": "2024-02-26T12:12:22.789Z"
   },
   {
    "duration": 30,
    "start_time": "2024-02-26T12:12:22.819Z"
   },
   {
    "duration": 26,
    "start_time": "2024-02-26T12:12:22.850Z"
   },
   {
    "duration": 13,
    "start_time": "2024-02-26T12:12:22.878Z"
   },
   {
    "duration": 19,
    "start_time": "2024-02-26T12:12:22.893Z"
   },
   {
    "duration": 5,
    "start_time": "2024-02-26T12:23:48.665Z"
   },
   {
    "duration": 1194,
    "start_time": "2024-02-26T12:23:55.040Z"
   },
   {
    "duration": 174,
    "start_time": "2024-02-26T12:23:56.235Z"
   },
   {
    "duration": 8,
    "start_time": "2024-02-26T12:23:56.410Z"
   },
   {
    "duration": 208,
    "start_time": "2024-02-26T12:23:56.420Z"
   },
   {
    "duration": 8,
    "start_time": "2024-02-26T12:23:56.630Z"
   },
   {
    "duration": 17,
    "start_time": "2024-02-26T12:23:56.639Z"
   },
   {
    "duration": 119,
    "start_time": "2024-02-26T12:23:56.657Z"
   },
   {
    "duration": 171,
    "start_time": "2024-02-26T12:23:56.777Z"
   },
   {
    "duration": 37,
    "start_time": "2024-02-26T12:23:56.949Z"
   },
   {
    "duration": 45,
    "start_time": "2024-02-26T12:23:56.988Z"
   },
   {
    "duration": 24,
    "start_time": "2024-02-26T12:23:57.035Z"
   },
   {
    "duration": 22,
    "start_time": "2024-02-26T12:23:57.061Z"
   },
   {
    "duration": 6,
    "start_time": "2024-02-26T12:23:57.085Z"
   },
   {
    "duration": 1232,
    "start_time": "2024-02-26T12:23:57.094Z"
   },
   {
    "duration": 1032,
    "start_time": "2024-02-26T12:23:58.327Z"
   },
   {
    "duration": 35,
    "start_time": "2024-02-26T12:23:59.361Z"
   },
   {
    "duration": 50,
    "start_time": "2024-02-26T12:23:59.398Z"
   },
   {
    "duration": 8,
    "start_time": "2024-02-26T12:23:59.449Z"
   },
   {
    "duration": 26,
    "start_time": "2024-02-26T12:23:59.458Z"
   },
   {
    "duration": 220,
    "start_time": "2024-02-26T12:23:59.485Z"
   },
   {
    "duration": 82,
    "start_time": "2024-02-26T12:23:59.707Z"
   },
   {
    "duration": 213,
    "start_time": "2024-02-26T12:23:59.791Z"
   },
   {
    "duration": 466,
    "start_time": "2024-02-26T12:24:00.006Z"
   },
   {
    "duration": 13,
    "start_time": "2024-02-26T12:24:00.473Z"
   },
   {
    "duration": 224,
    "start_time": "2024-02-26T12:24:00.487Z"
   },
   {
    "duration": 25,
    "start_time": "2024-02-26T12:24:00.713Z"
   },
   {
    "duration": 62,
    "start_time": "2024-02-26T12:24:00.739Z"
   },
   {
    "duration": 34,
    "start_time": "2024-02-26T12:24:00.802Z"
   },
   {
    "duration": 17,
    "start_time": "2024-02-26T12:24:00.837Z"
   },
   {
    "duration": 54,
    "start_time": "2024-02-26T12:24:00.856Z"
   },
   {
    "duration": 41,
    "start_time": "2024-02-26T12:24:00.912Z"
   },
   {
    "duration": 37,
    "start_time": "2024-02-26T12:24:00.954Z"
   },
   {
    "duration": 57,
    "start_time": "2024-02-26T12:24:00.992Z"
   },
   {
    "duration": 5,
    "start_time": "2024-02-26T12:26:36.708Z"
   },
   {
    "duration": 1155,
    "start_time": "2024-02-26T12:26:42.674Z"
   },
   {
    "duration": 166,
    "start_time": "2024-02-26T12:26:43.831Z"
   },
   {
    "duration": 4,
    "start_time": "2024-02-26T12:26:43.998Z"
   },
   {
    "duration": 217,
    "start_time": "2024-02-26T12:26:44.004Z"
   },
   {
    "duration": 10,
    "start_time": "2024-02-26T12:26:44.222Z"
   },
   {
    "duration": 24,
    "start_time": "2024-02-26T12:26:44.233Z"
   },
   {
    "duration": 117,
    "start_time": "2024-02-26T12:26:44.259Z"
   },
   {
    "duration": 158,
    "start_time": "2024-02-26T12:26:44.378Z"
   },
   {
    "duration": 38,
    "start_time": "2024-02-26T12:26:44.537Z"
   },
   {
    "duration": 51,
    "start_time": "2024-02-26T12:26:44.578Z"
   },
   {
    "duration": 53,
    "start_time": "2024-02-26T12:26:44.630Z"
   },
   {
    "duration": 22,
    "start_time": "2024-02-26T12:26:44.684Z"
   },
   {
    "duration": 6,
    "start_time": "2024-02-26T12:26:44.708Z"
   },
   {
    "duration": 1254,
    "start_time": "2024-02-26T12:26:44.716Z"
   },
   {
    "duration": 1090,
    "start_time": "2024-02-26T12:26:45.972Z"
   },
   {
    "duration": 32,
    "start_time": "2024-02-26T12:26:47.063Z"
   },
   {
    "duration": 45,
    "start_time": "2024-02-26T12:26:47.096Z"
   },
   {
    "duration": 7,
    "start_time": "2024-02-26T12:26:47.143Z"
   },
   {
    "duration": 24,
    "start_time": "2024-02-26T12:26:47.151Z"
   },
   {
    "duration": 211,
    "start_time": "2024-02-26T12:26:47.176Z"
   },
   {
    "duration": 96,
    "start_time": "2024-02-26T12:26:47.389Z"
   },
   {
    "duration": 223,
    "start_time": "2024-02-26T12:26:47.487Z"
   },
   {
    "duration": 444,
    "start_time": "2024-02-26T12:26:47.719Z"
   },
   {
    "duration": 13,
    "start_time": "2024-02-26T12:26:48.164Z"
   },
   {
    "duration": 203,
    "start_time": "2024-02-26T12:26:48.178Z"
   },
   {
    "duration": 18,
    "start_time": "2024-02-26T12:26:48.383Z"
   },
   {
    "duration": 45,
    "start_time": "2024-02-26T12:26:48.402Z"
   },
   {
    "duration": 28,
    "start_time": "2024-02-26T12:26:48.450Z"
   },
   {
    "duration": 6,
    "start_time": "2024-02-26T12:26:48.480Z"
   },
   {
    "duration": 38,
    "start_time": "2024-02-26T12:26:48.487Z"
   },
   {
    "duration": 15,
    "start_time": "2024-02-26T12:26:48.527Z"
   },
   {
    "duration": 16,
    "start_time": "2024-02-26T12:26:48.544Z"
   },
   {
    "duration": 19,
    "start_time": "2024-02-26T12:26:48.562Z"
   },
   {
    "duration": 1202,
    "start_time": "2024-02-26T12:38:11.709Z"
   },
   {
    "duration": 165,
    "start_time": "2024-02-26T12:38:12.913Z"
   },
   {
    "duration": 3,
    "start_time": "2024-02-26T12:38:13.079Z"
   },
   {
    "duration": 193,
    "start_time": "2024-02-26T12:38:13.083Z"
   },
   {
    "duration": 9,
    "start_time": "2024-02-26T12:38:13.277Z"
   },
   {
    "duration": 30,
    "start_time": "2024-02-26T12:38:13.288Z"
   },
   {
    "duration": 114,
    "start_time": "2024-02-26T12:38:13.319Z"
   },
   {
    "duration": 182,
    "start_time": "2024-02-26T12:38:13.435Z"
   },
   {
    "duration": 37,
    "start_time": "2024-02-26T12:38:13.619Z"
   },
   {
    "duration": 62,
    "start_time": "2024-02-26T12:38:13.659Z"
   },
   {
    "duration": 24,
    "start_time": "2024-02-26T12:38:13.722Z"
   },
   {
    "duration": 21,
    "start_time": "2024-02-26T12:38:13.748Z"
   },
   {
    "duration": 6,
    "start_time": "2024-02-26T12:38:13.770Z"
   },
   {
    "duration": 1222,
    "start_time": "2024-02-26T12:38:13.777Z"
   },
   {
    "duration": 1075,
    "start_time": "2024-02-26T12:38:15.000Z"
   },
   {
    "duration": 32,
    "start_time": "2024-02-26T12:38:16.077Z"
   },
   {
    "duration": 34,
    "start_time": "2024-02-26T12:38:16.118Z"
   },
   {
    "duration": 7,
    "start_time": "2024-02-26T12:38:16.153Z"
   },
   {
    "duration": 28,
    "start_time": "2024-02-26T12:38:16.161Z"
   },
   {
    "duration": 227,
    "start_time": "2024-02-26T12:38:16.191Z"
   },
   {
    "duration": 76,
    "start_time": "2024-02-26T12:38:16.419Z"
   },
   {
    "duration": 221,
    "start_time": "2024-02-26T12:38:16.497Z"
   },
   {
    "duration": 439,
    "start_time": "2024-02-26T12:38:16.720Z"
   },
   {
    "duration": 13,
    "start_time": "2024-02-26T12:38:17.161Z"
   },
   {
    "duration": 205,
    "start_time": "2024-02-26T12:38:17.175Z"
   },
   {
    "duration": 18,
    "start_time": "2024-02-26T12:38:17.382Z"
   },
   {
    "duration": 48,
    "start_time": "2024-02-26T12:38:17.401Z"
   },
   {
    "duration": 26,
    "start_time": "2024-02-26T12:38:17.453Z"
   },
   {
    "duration": 4,
    "start_time": "2024-02-26T12:38:17.481Z"
   },
   {
    "duration": 36,
    "start_time": "2024-02-26T12:38:17.487Z"
   },
   {
    "duration": 37,
    "start_time": "2024-02-26T12:38:17.525Z"
   },
   {
    "duration": 10,
    "start_time": "2024-02-26T12:38:17.564Z"
   },
   {
    "duration": 16,
    "start_time": "2024-02-26T12:38:17.575Z"
   },
   {
    "duration": 1215,
    "start_time": "2024-02-26T13:33:56.309Z"
   },
   {
    "duration": 178,
    "start_time": "2024-02-26T13:33:57.525Z"
   },
   {
    "duration": 3,
    "start_time": "2024-02-26T13:33:57.704Z"
   },
   {
    "duration": 195,
    "start_time": "2024-02-26T13:33:57.709Z"
   },
   {
    "duration": 17,
    "start_time": "2024-02-26T13:33:57.905Z"
   },
   {
    "duration": 15,
    "start_time": "2024-02-26T13:33:57.923Z"
   },
   {
    "duration": 109,
    "start_time": "2024-02-26T13:33:57.939Z"
   },
   {
    "duration": 152,
    "start_time": "2024-02-26T13:33:58.049Z"
   },
   {
    "duration": 44,
    "start_time": "2024-02-26T13:33:58.203Z"
   },
   {
    "duration": 37,
    "start_time": "2024-02-26T13:33:58.249Z"
   },
   {
    "duration": 50,
    "start_time": "2024-02-26T13:33:58.287Z"
   },
   {
    "duration": 23,
    "start_time": "2024-02-26T13:33:58.338Z"
   },
   {
    "duration": 9,
    "start_time": "2024-02-26T13:33:58.362Z"
   },
   {
    "duration": 1273,
    "start_time": "2024-02-26T13:33:58.372Z"
   },
   {
    "duration": 1063,
    "start_time": "2024-02-26T13:33:59.647Z"
   },
   {
    "duration": 35,
    "start_time": "2024-02-26T13:34:00.711Z"
   },
   {
    "duration": 58,
    "start_time": "2024-02-26T13:34:00.748Z"
   },
   {
    "duration": 7,
    "start_time": "2024-02-26T13:34:00.808Z"
   },
   {
    "duration": 91,
    "start_time": "2024-02-26T13:34:00.816Z"
   },
   {
    "duration": 233,
    "start_time": "2024-02-26T13:34:00.909Z"
   },
   {
    "duration": 87,
    "start_time": "2024-02-26T13:34:01.144Z"
   },
   {
    "duration": 255,
    "start_time": "2024-02-26T13:34:01.233Z"
   },
   {
    "duration": 493,
    "start_time": "2024-02-26T13:34:01.490Z"
   },
   {
    "duration": 15,
    "start_time": "2024-02-26T13:34:01.984Z"
   },
   {
    "duration": 220,
    "start_time": "2024-02-26T13:34:02.000Z"
   },
   {
    "duration": 19,
    "start_time": "2024-02-26T13:34:02.221Z"
   },
   {
    "duration": 62,
    "start_time": "2024-02-26T13:34:02.242Z"
   },
   {
    "duration": 26,
    "start_time": "2024-02-26T13:34:02.307Z"
   },
   {
    "duration": 10,
    "start_time": "2024-02-26T13:34:02.335Z"
   },
   {
    "duration": 25,
    "start_time": "2024-02-26T13:34:02.346Z"
   },
   {
    "duration": 39,
    "start_time": "2024-02-26T13:34:02.372Z"
   },
   {
    "duration": 20,
    "start_time": "2024-02-26T13:34:02.412Z"
   },
   {
    "duration": 11,
    "start_time": "2024-02-26T13:34:02.434Z"
   },
   {
    "duration": 1379,
    "start_time": "2024-02-26T14:18:48.716Z"
   },
   {
    "duration": 191,
    "start_time": "2024-02-26T14:18:50.097Z"
   },
   {
    "duration": 4,
    "start_time": "2024-02-26T14:18:50.289Z"
   },
   {
    "duration": 229,
    "start_time": "2024-02-26T14:18:50.295Z"
   },
   {
    "duration": 9,
    "start_time": "2024-02-26T14:18:50.526Z"
   },
   {
    "duration": 12,
    "start_time": "2024-02-26T14:18:50.537Z"
   },
   {
    "duration": 148,
    "start_time": "2024-02-26T14:18:50.550Z"
   },
   {
    "duration": 185,
    "start_time": "2024-02-26T14:18:50.700Z"
   },
   {
    "duration": 54,
    "start_time": "2024-02-26T14:18:50.886Z"
   },
   {
    "duration": 43,
    "start_time": "2024-02-26T14:18:50.944Z"
   },
   {
    "duration": 48,
    "start_time": "2024-02-26T14:18:50.989Z"
   },
   {
    "duration": 28,
    "start_time": "2024-02-26T14:18:51.039Z"
   },
   {
    "duration": 9,
    "start_time": "2024-02-26T14:18:51.069Z"
   },
   {
    "duration": 1433,
    "start_time": "2024-02-26T14:18:51.080Z"
   },
   {
    "duration": 1243,
    "start_time": "2024-02-26T14:18:52.515Z"
   },
   {
    "duration": 35,
    "start_time": "2024-02-26T14:18:53.760Z"
   },
   {
    "duration": 78,
    "start_time": "2024-02-26T14:18:53.796Z"
   },
   {
    "duration": 7,
    "start_time": "2024-02-26T14:18:53.876Z"
   },
   {
    "duration": 33,
    "start_time": "2024-02-26T14:18:53.885Z"
   },
   {
    "duration": 222,
    "start_time": "2024-02-26T14:18:53.920Z"
   },
   {
    "duration": 96,
    "start_time": "2024-02-26T14:18:54.144Z"
   },
   {
    "duration": 256,
    "start_time": "2024-02-26T14:18:54.242Z"
   },
   {
    "duration": 545,
    "start_time": "2024-02-26T14:18:54.500Z"
   },
   {
    "duration": 15,
    "start_time": "2024-02-26T14:18:55.046Z"
   },
   {
    "duration": 242,
    "start_time": "2024-02-26T14:18:55.063Z"
   },
   {
    "duration": 31,
    "start_time": "2024-02-26T14:18:55.307Z"
   },
   {
    "duration": 40,
    "start_time": "2024-02-26T14:18:55.339Z"
   },
   {
    "duration": 48,
    "start_time": "2024-02-26T14:18:55.382Z"
   },
   {
    "duration": 5,
    "start_time": "2024-02-26T14:18:55.432Z"
   },
   {
    "duration": 27,
    "start_time": "2024-02-26T14:18:55.439Z"
   },
   {
    "duration": 42,
    "start_time": "2024-02-26T14:18:55.467Z"
   },
   {
    "duration": 27,
    "start_time": "2024-02-26T14:18:55.511Z"
   },
   {
    "duration": 32,
    "start_time": "2024-02-26T14:18:55.540Z"
   },
   {
    "duration": 16,
    "start_time": "2024-02-26T15:14:02.100Z"
   },
   {
    "duration": 1373,
    "start_time": "2024-02-26T15:26:39.534Z"
   },
   {
    "duration": 204,
    "start_time": "2024-02-26T15:26:40.909Z"
   },
   {
    "duration": 4,
    "start_time": "2024-02-26T15:26:41.115Z"
   },
   {
    "duration": 231,
    "start_time": "2024-02-26T15:26:41.124Z"
   },
   {
    "duration": 7,
    "start_time": "2024-02-26T15:26:41.358Z"
   },
   {
    "duration": 11,
    "start_time": "2024-02-26T15:26:41.367Z"
   },
   {
    "duration": 161,
    "start_time": "2024-02-26T15:26:41.380Z"
   },
   {
    "duration": 175,
    "start_time": "2024-02-26T15:26:41.543Z"
   },
   {
    "duration": 43,
    "start_time": "2024-02-26T15:26:41.722Z"
   },
   {
    "duration": 57,
    "start_time": "2024-02-26T15:26:41.769Z"
   },
   {
    "duration": 30,
    "start_time": "2024-02-26T15:26:41.828Z"
   },
   {
    "duration": 32,
    "start_time": "2024-02-26T15:26:41.860Z"
   },
   {
    "duration": 32,
    "start_time": "2024-02-26T15:26:41.894Z"
   },
   {
    "duration": 1423,
    "start_time": "2024-02-26T15:26:41.928Z"
   },
   {
    "duration": 1241,
    "start_time": "2024-02-26T15:26:43.353Z"
   },
   {
    "duration": 42,
    "start_time": "2024-02-26T15:26:44.595Z"
   },
   {
    "duration": 39,
    "start_time": "2024-02-26T15:26:44.639Z"
   },
   {
    "duration": 9,
    "start_time": "2024-02-26T15:26:44.680Z"
   },
   {
    "duration": 51,
    "start_time": "2024-02-26T15:26:44.691Z"
   },
   {
    "duration": 258,
    "start_time": "2024-02-26T15:26:44.744Z"
   },
   {
    "duration": 98,
    "start_time": "2024-02-26T15:26:45.005Z"
   },
   {
    "duration": 271,
    "start_time": "2024-02-26T15:26:45.105Z"
   },
   {
    "duration": 742,
    "start_time": "2024-02-26T15:26:45.377Z"
   },
   {
    "duration": 14,
    "start_time": "2024-02-26T15:26:46.122Z"
   },
   {
    "duration": 272,
    "start_time": "2024-02-26T15:26:46.138Z"
   },
   {
    "duration": 21,
    "start_time": "2024-02-26T15:26:46.412Z"
   },
   {
    "duration": 60,
    "start_time": "2024-02-26T15:26:46.435Z"
   },
   {
    "duration": 34,
    "start_time": "2024-02-26T15:26:46.498Z"
   },
   {
    "duration": 28,
    "start_time": "2024-02-26T15:26:46.533Z"
   },
   {
    "duration": 44,
    "start_time": "2024-02-26T15:26:46.563Z"
   },
   {
    "duration": 20,
    "start_time": "2024-02-26T15:26:46.609Z"
   },
   {
    "duration": 12,
    "start_time": "2024-02-26T15:26:46.631Z"
   },
   {
    "duration": 23,
    "start_time": "2024-02-26T15:26:46.645Z"
   },
   {
    "duration": 50,
    "start_time": "2024-02-26T20:40:41.014Z"
   },
   {
    "duration": 1383,
    "start_time": "2024-02-26T20:40:49.531Z"
   },
   {
    "duration": 516,
    "start_time": "2024-02-26T20:40:50.918Z"
   },
   {
    "duration": 5,
    "start_time": "2024-02-26T20:40:51.435Z"
   },
   {
    "duration": 214,
    "start_time": "2024-02-26T20:40:51.442Z"
   },
   {
    "duration": 10,
    "start_time": "2024-02-26T20:40:51.659Z"
   },
   {
    "duration": 13,
    "start_time": "2024-02-26T20:40:51.671Z"
   },
   {
    "duration": 140,
    "start_time": "2024-02-26T20:40:51.685Z"
   },
   {
    "duration": 169,
    "start_time": "2024-02-26T20:40:51.827Z"
   },
   {
    "duration": 51,
    "start_time": "2024-02-26T20:40:51.998Z"
   },
   {
    "duration": 73,
    "start_time": "2024-02-26T20:40:52.052Z"
   },
   {
    "duration": 37,
    "start_time": "2024-02-26T20:40:52.133Z"
   },
   {
    "duration": 311,
    "start_time": "2024-02-26T20:40:52.172Z"
   },
   {
    "duration": 46,
    "start_time": "2024-02-26T20:40:52.484Z"
   },
   {
    "duration": 7,
    "start_time": "2024-02-26T20:40:52.533Z"
   },
   {
    "duration": 1331,
    "start_time": "2024-02-26T20:40:52.541Z"
   },
   {
    "duration": 1225,
    "start_time": "2024-02-26T20:40:53.874Z"
   },
   {
    "duration": 38,
    "start_time": "2024-02-26T20:40:55.101Z"
   },
   {
    "duration": 33,
    "start_time": "2024-02-26T20:40:55.140Z"
   },
   {
    "duration": 7,
    "start_time": "2024-02-26T20:40:55.174Z"
   },
   {
    "duration": 51,
    "start_time": "2024-02-26T20:40:55.182Z"
   },
   {
    "duration": 204,
    "start_time": "2024-02-26T20:40:55.235Z"
   },
   {
    "duration": 91,
    "start_time": "2024-02-26T20:40:55.441Z"
   },
   {
    "duration": 111,
    "start_time": "2024-02-26T20:40:55.534Z"
   },
   {
    "duration": 605,
    "start_time": "2024-02-26T20:40:55.647Z"
   },
   {
    "duration": 12,
    "start_time": "2024-02-26T20:40:56.254Z"
   },
   {
    "duration": 209,
    "start_time": "2024-02-26T20:40:56.267Z"
   },
   {
    "duration": 17,
    "start_time": "2024-02-26T20:40:56.477Z"
   },
   {
    "duration": 52,
    "start_time": "2024-02-26T20:40:56.497Z"
   },
   {
    "duration": 28,
    "start_time": "2024-02-26T20:40:56.551Z"
   },
   {
    "duration": 17,
    "start_time": "2024-02-26T20:40:56.581Z"
   },
   {
    "duration": 32,
    "start_time": "2024-02-26T20:40:56.600Z"
   },
   {
    "duration": 28,
    "start_time": "2024-02-26T20:40:56.636Z"
   },
   {
    "duration": 11,
    "start_time": "2024-02-26T20:40:56.665Z"
   },
   {
    "duration": 14,
    "start_time": "2024-02-26T20:40:56.678Z"
   },
   {
    "duration": 311,
    "start_time": "2024-02-26T20:42:55.708Z"
   },
   {
    "duration": 305,
    "start_time": "2024-02-26T20:43:06.377Z"
   },
   {
    "duration": 425,
    "start_time": "2024-02-26T20:43:14.931Z"
   },
   {
    "duration": 73,
    "start_time": "2024-02-26T20:53:30.463Z"
   },
   {
    "duration": 1303,
    "start_time": "2024-02-26T21:07:31.074Z"
   },
   {
    "duration": 188,
    "start_time": "2024-02-26T21:07:32.379Z"
   },
   {
    "duration": 3,
    "start_time": "2024-02-26T21:07:32.569Z"
   },
   {
    "duration": 263,
    "start_time": "2024-02-26T21:07:32.574Z"
   },
   {
    "duration": 11,
    "start_time": "2024-02-26T21:07:32.840Z"
   },
   {
    "duration": 18,
    "start_time": "2024-02-26T21:07:32.853Z"
   },
   {
    "duration": 129,
    "start_time": "2024-02-26T21:07:32.873Z"
   },
   {
    "duration": 172,
    "start_time": "2024-02-26T21:07:33.004Z"
   },
   {
    "duration": 67,
    "start_time": "2024-02-26T21:07:33.179Z"
   },
   {
    "duration": 49,
    "start_time": "2024-02-26T21:07:33.249Z"
   },
   {
    "duration": 46,
    "start_time": "2024-02-26T21:07:33.299Z"
   },
   {
    "duration": 343,
    "start_time": "2024-02-26T21:07:33.346Z"
   },
   {
    "duration": 49,
    "start_time": "2024-02-26T21:07:33.691Z"
   },
   {
    "duration": 8,
    "start_time": "2024-02-26T21:07:33.741Z"
   },
   {
    "duration": 1416,
    "start_time": "2024-02-26T21:07:33.750Z"
   },
   {
    "duration": 1212,
    "start_time": "2024-02-26T21:07:35.167Z"
   },
   {
    "duration": 44,
    "start_time": "2024-02-26T21:07:36.381Z"
   },
   {
    "duration": 39,
    "start_time": "2024-02-26T21:07:36.430Z"
   },
   {
    "duration": 6,
    "start_time": "2024-02-26T21:07:36.471Z"
   },
   {
    "duration": 43,
    "start_time": "2024-02-26T21:07:36.479Z"
   },
   {
    "duration": 341,
    "start_time": "2024-02-26T21:07:36.526Z"
   },
   {
    "duration": 89,
    "start_time": "2024-02-26T21:07:36.869Z"
   },
   {
    "duration": 131,
    "start_time": "2024-02-26T21:07:36.960Z"
   },
   {
    "duration": 512,
    "start_time": "2024-02-26T21:07:37.093Z"
   },
   {
    "duration": 32,
    "start_time": "2024-02-26T21:07:37.607Z"
   },
   {
    "duration": 244,
    "start_time": "2024-02-26T21:07:37.642Z"
   },
   {
    "duration": 31,
    "start_time": "2024-02-26T21:07:37.888Z"
   },
   {
    "duration": 41,
    "start_time": "2024-02-26T21:07:37.928Z"
   },
   {
    "duration": 31,
    "start_time": "2024-02-26T21:07:37.971Z"
   },
   {
    "duration": 30,
    "start_time": "2024-02-26T21:07:38.004Z"
   },
   {
    "duration": 18,
    "start_time": "2024-02-26T21:07:38.036Z"
   },
   {
    "duration": 17,
    "start_time": "2024-02-26T21:07:38.055Z"
   },
   {
    "duration": 14,
    "start_time": "2024-02-26T21:07:38.074Z"
   },
   {
    "duration": 43,
    "start_time": "2024-02-26T21:07:38.090Z"
   },
   {
    "duration": 11,
    "start_time": "2024-02-26T21:08:32.558Z"
   },
   {
    "duration": 1285,
    "start_time": "2024-02-26T21:42:34.586Z"
   },
   {
    "duration": 177,
    "start_time": "2024-02-26T21:42:35.873Z"
   },
   {
    "duration": 4,
    "start_time": "2024-02-26T21:42:36.051Z"
   },
   {
    "duration": 225,
    "start_time": "2024-02-26T21:42:36.057Z"
   },
   {
    "duration": 8,
    "start_time": "2024-02-26T21:42:36.283Z"
   },
   {
    "duration": 31,
    "start_time": "2024-02-26T21:42:36.293Z"
   },
   {
    "duration": 120,
    "start_time": "2024-02-26T21:42:36.325Z"
   },
   {
    "duration": 165,
    "start_time": "2024-02-26T21:42:36.447Z"
   },
   {
    "duration": 39,
    "start_time": "2024-02-26T21:42:36.614Z"
   },
   {
    "duration": 38,
    "start_time": "2024-02-26T21:42:36.655Z"
   },
   {
    "duration": 47,
    "start_time": "2024-02-26T21:42:36.695Z"
   },
   {
    "duration": 314,
    "start_time": "2024-02-26T21:42:36.743Z"
   },
   {
    "duration": 25,
    "start_time": "2024-02-26T21:42:37.058Z"
   },
   {
    "duration": 7,
    "start_time": "2024-02-26T21:42:37.085Z"
   },
   {
    "duration": 1324,
    "start_time": "2024-02-26T21:42:37.094Z"
   },
   {
    "duration": 1150,
    "start_time": "2024-02-26T21:42:38.420Z"
   },
   {
    "duration": 33,
    "start_time": "2024-02-26T21:42:39.571Z"
   },
   {
    "duration": 42,
    "start_time": "2024-02-26T21:42:39.618Z"
   },
   {
    "duration": 8,
    "start_time": "2024-02-26T21:42:39.661Z"
   },
   {
    "duration": 50,
    "start_time": "2024-02-26T21:42:39.670Z"
   },
   {
    "duration": 343,
    "start_time": "2024-02-26T21:42:39.721Z"
   },
   {
    "duration": 110,
    "start_time": "2024-02-26T21:42:40.065Z"
   },
   {
    "duration": 126,
    "start_time": "2024-02-26T21:42:40.176Z"
   },
   {
    "duration": 486,
    "start_time": "2024-02-26T21:42:40.304Z"
   },
   {
    "duration": 13,
    "start_time": "2024-02-26T21:42:40.791Z"
   },
   {
    "duration": 214,
    "start_time": "2024-02-26T21:42:40.806Z"
   },
   {
    "duration": 18,
    "start_time": "2024-02-26T21:42:41.022Z"
   },
   {
    "duration": 37,
    "start_time": "2024-02-26T21:42:41.044Z"
   },
   {
    "duration": 51,
    "start_time": "2024-02-26T21:42:41.083Z"
   },
   {
    "duration": 4,
    "start_time": "2024-02-26T21:42:41.136Z"
   },
   {
    "duration": 21,
    "start_time": "2024-02-26T21:42:41.142Z"
   },
   {
    "duration": 16,
    "start_time": "2024-02-26T21:42:41.164Z"
   },
   {
    "duration": 12,
    "start_time": "2024-02-26T21:42:41.181Z"
   },
   {
    "duration": 13,
    "start_time": "2024-02-26T21:42:41.218Z"
   },
   {
    "duration": 1161,
    "start_time": "2024-02-26T21:49:49.073Z"
   },
   {
    "duration": 171,
    "start_time": "2024-02-26T21:49:50.236Z"
   },
   {
    "duration": 4,
    "start_time": "2024-02-26T21:49:50.408Z"
   },
   {
    "duration": 212,
    "start_time": "2024-02-26T21:49:50.417Z"
   },
   {
    "duration": 9,
    "start_time": "2024-02-26T21:49:50.631Z"
   },
   {
    "duration": 23,
    "start_time": "2024-02-26T21:49:50.642Z"
   },
   {
    "duration": 126,
    "start_time": "2024-02-26T21:49:50.667Z"
   },
   {
    "duration": 161,
    "start_time": "2024-02-26T21:49:50.795Z"
   },
   {
    "duration": 40,
    "start_time": "2024-02-26T21:49:50.958Z"
   },
   {
    "duration": 42,
    "start_time": "2024-02-26T21:49:51.017Z"
   },
   {
    "duration": 27,
    "start_time": "2024-02-26T21:49:51.061Z"
   },
   {
    "duration": 345,
    "start_time": "2024-02-26T21:49:51.089Z"
   },
   {
    "duration": 26,
    "start_time": "2024-02-26T21:49:51.436Z"
   },
   {
    "duration": 7,
    "start_time": "2024-02-26T21:49:51.464Z"
   },
   {
    "duration": 1298,
    "start_time": "2024-02-26T21:49:51.473Z"
   },
   {
    "duration": 1085,
    "start_time": "2024-02-26T21:49:52.772Z"
   },
   {
    "duration": 34,
    "start_time": "2024-02-26T21:49:53.859Z"
   },
   {
    "duration": 57,
    "start_time": "2024-02-26T21:49:53.895Z"
   },
   {
    "duration": 9,
    "start_time": "2024-02-26T21:49:53.954Z"
   },
   {
    "duration": 37,
    "start_time": "2024-02-26T21:49:53.965Z"
   },
   {
    "duration": 337,
    "start_time": "2024-02-26T21:49:54.018Z"
   },
   {
    "duration": 83,
    "start_time": "2024-02-26T21:49:54.357Z"
   },
   {
    "duration": 120,
    "start_time": "2024-02-26T21:49:54.442Z"
   },
   {
    "duration": 537,
    "start_time": "2024-02-26T21:49:54.564Z"
   },
   {
    "duration": 25,
    "start_time": "2024-02-26T21:49:55.104Z"
   },
   {
    "duration": 219,
    "start_time": "2024-02-26T21:49:55.135Z"
   },
   {
    "duration": 20,
    "start_time": "2024-02-26T21:49:55.355Z"
   },
   {
    "duration": 53,
    "start_time": "2024-02-26T21:49:55.379Z"
   },
   {
    "duration": 27,
    "start_time": "2024-02-26T21:49:55.434Z"
   },
   {
    "duration": 7,
    "start_time": "2024-02-26T21:49:55.463Z"
   },
   {
    "duration": 36,
    "start_time": "2024-02-26T21:49:55.472Z"
   },
   {
    "duration": 16,
    "start_time": "2024-02-26T21:49:55.518Z"
   },
   {
    "duration": 13,
    "start_time": "2024-02-26T21:49:55.536Z"
   },
   {
    "duration": 29,
    "start_time": "2024-02-26T21:49:55.551Z"
   },
   {
    "duration": 1180,
    "start_time": "2024-02-26T21:50:49.872Z"
   },
   {
    "duration": 173,
    "start_time": "2024-02-26T21:50:51.053Z"
   },
   {
    "duration": 3,
    "start_time": "2024-02-26T21:50:51.229Z"
   },
   {
    "duration": 225,
    "start_time": "2024-02-26T21:50:51.234Z"
   },
   {
    "duration": 8,
    "start_time": "2024-02-26T21:50:51.461Z"
   },
   {
    "duration": 11,
    "start_time": "2024-02-26T21:50:51.470Z"
   },
   {
    "duration": 137,
    "start_time": "2024-02-26T21:50:51.483Z"
   },
   {
    "duration": 170,
    "start_time": "2024-02-26T21:50:51.622Z"
   },
   {
    "duration": 63,
    "start_time": "2024-02-26T21:50:51.794Z"
   },
   {
    "duration": 48,
    "start_time": "2024-02-26T21:50:51.859Z"
   },
   {
    "duration": 35,
    "start_time": "2024-02-26T21:50:51.918Z"
   },
   {
    "duration": 319,
    "start_time": "2024-02-26T21:50:51.955Z"
   },
   {
    "duration": 24,
    "start_time": "2024-02-26T21:50:52.276Z"
   },
   {
    "duration": 20,
    "start_time": "2024-02-26T21:50:52.303Z"
   },
   {
    "duration": 1247,
    "start_time": "2024-02-26T21:50:52.324Z"
   },
   {
    "duration": 1079,
    "start_time": "2024-02-26T21:50:53.573Z"
   },
   {
    "duration": 31,
    "start_time": "2024-02-26T21:50:54.654Z"
   },
   {
    "duration": 50,
    "start_time": "2024-02-26T21:50:54.686Z"
   },
   {
    "duration": 7,
    "start_time": "2024-02-26T21:50:54.738Z"
   },
   {
    "duration": 26,
    "start_time": "2024-02-26T21:50:54.746Z"
   },
   {
    "duration": 356,
    "start_time": "2024-02-26T21:50:54.773Z"
   },
   {
    "duration": 88,
    "start_time": "2024-02-26T21:50:55.130Z"
   },
   {
    "duration": 114,
    "start_time": "2024-02-26T21:50:55.220Z"
   },
   {
    "duration": 522,
    "start_time": "2024-02-26T21:50:55.336Z"
   },
   {
    "duration": 13,
    "start_time": "2024-02-26T21:50:55.860Z"
   },
   {
    "duration": 204,
    "start_time": "2024-02-26T21:50:55.875Z"
   },
   {
    "duration": 17,
    "start_time": "2024-02-26T21:50:56.081Z"
   },
   {
    "duration": 50,
    "start_time": "2024-02-26T21:50:56.099Z"
   },
   {
    "duration": 29,
    "start_time": "2024-02-26T21:50:56.151Z"
   },
   {
    "duration": 5,
    "start_time": "2024-02-26T21:50:56.182Z"
   },
   {
    "duration": 33,
    "start_time": "2024-02-26T21:50:56.188Z"
   },
   {
    "duration": 16,
    "start_time": "2024-02-26T21:50:56.222Z"
   },
   {
    "duration": 39,
    "start_time": "2024-02-26T21:50:56.239Z"
   },
   {
    "duration": 33,
    "start_time": "2024-02-26T21:50:56.280Z"
   },
   {
    "duration": 1361,
    "start_time": "2024-02-27T08:19:36.257Z"
   },
   {
    "duration": 736,
    "start_time": "2024-02-27T08:19:37.622Z"
   },
   {
    "duration": 4,
    "start_time": "2024-02-27T08:19:38.360Z"
   },
   {
    "duration": 212,
    "start_time": "2024-02-27T08:19:38.366Z"
   },
   {
    "duration": 15,
    "start_time": "2024-02-27T08:19:38.580Z"
   },
   {
    "duration": 23,
    "start_time": "2024-02-27T08:19:38.597Z"
   },
   {
    "duration": 115,
    "start_time": "2024-02-27T08:19:38.622Z"
   },
   {
    "duration": 170,
    "start_time": "2024-02-27T08:19:38.739Z"
   },
   {
    "duration": 45,
    "start_time": "2024-02-27T08:19:38.910Z"
   },
   {
    "duration": 54,
    "start_time": "2024-02-27T08:19:38.956Z"
   },
   {
    "duration": 30,
    "start_time": "2024-02-27T08:19:39.012Z"
   },
   {
    "duration": 384,
    "start_time": "2024-02-27T08:19:39.044Z"
   },
   {
    "duration": 29,
    "start_time": "2024-02-27T08:19:39.429Z"
   },
   {
    "duration": 7,
    "start_time": "2024-02-27T08:19:39.461Z"
   },
   {
    "duration": 1476,
    "start_time": "2024-02-27T08:19:39.470Z"
   },
   {
    "duration": 1280,
    "start_time": "2024-02-27T08:19:40.948Z"
   },
   {
    "duration": 36,
    "start_time": "2024-02-27T08:19:42.230Z"
   },
   {
    "duration": 50,
    "start_time": "2024-02-27T08:19:42.268Z"
   },
   {
    "duration": 8,
    "start_time": "2024-02-27T08:19:42.319Z"
   },
   {
    "duration": 31,
    "start_time": "2024-02-27T08:19:42.328Z"
   },
   {
    "duration": 377,
    "start_time": "2024-02-27T08:19:42.361Z"
   },
   {
    "duration": 98,
    "start_time": "2024-02-27T08:19:42.740Z"
   },
   {
    "duration": 129,
    "start_time": "2024-02-27T08:19:42.840Z"
   },
   {
    "duration": 508,
    "start_time": "2024-02-27T08:19:42.971Z"
   },
   {
    "duration": 17,
    "start_time": "2024-02-27T08:19:43.481Z"
   },
   {
    "duration": 223,
    "start_time": "2024-02-27T08:19:43.500Z"
   },
   {
    "duration": 22,
    "start_time": "2024-02-27T08:19:43.725Z"
   },
   {
    "duration": 54,
    "start_time": "2024-02-27T08:19:43.748Z"
   },
   {
    "duration": 29,
    "start_time": "2024-02-27T08:19:43.804Z"
   },
   {
    "duration": 5,
    "start_time": "2024-02-27T08:19:43.835Z"
   },
   {
    "duration": 36,
    "start_time": "2024-02-27T08:19:43.841Z"
   },
   {
    "duration": 20,
    "start_time": "2024-02-27T08:19:43.879Z"
   },
   {
    "duration": 14,
    "start_time": "2024-02-27T08:19:43.901Z"
   },
   {
    "duration": 27,
    "start_time": "2024-02-27T08:19:43.916Z"
   },
   {
    "duration": 1394,
    "start_time": "2024-02-27T08:24:05.557Z"
   },
   {
    "duration": 200,
    "start_time": "2024-02-27T08:24:06.954Z"
   },
   {
    "duration": 4,
    "start_time": "2024-02-27T08:24:07.156Z"
   },
   {
    "duration": 213,
    "start_time": "2024-02-27T08:24:07.162Z"
   },
   {
    "duration": 22,
    "start_time": "2024-02-27T08:24:07.377Z"
   },
   {
    "duration": 19,
    "start_time": "2024-02-27T08:24:07.401Z"
   },
   {
    "duration": 126,
    "start_time": "2024-02-27T08:24:07.421Z"
   },
   {
    "duration": 181,
    "start_time": "2024-02-27T08:24:07.549Z"
   },
   {
    "duration": 45,
    "start_time": "2024-02-27T08:24:07.732Z"
   },
   {
    "duration": 55,
    "start_time": "2024-02-27T08:24:07.780Z"
   },
   {
    "duration": 150,
    "start_time": "2024-02-27T08:24:07.837Z"
   },
   {
    "duration": 633,
    "start_time": "2024-02-27T08:24:07.989Z"
   },
   {
    "duration": 28,
    "start_time": "2024-02-27T08:24:08.624Z"
   },
   {
    "duration": 121,
    "start_time": "2024-02-27T08:24:08.654Z"
   },
   {
    "duration": 1588,
    "start_time": "2024-02-27T08:24:08.777Z"
   },
   {
    "duration": 1230,
    "start_time": "2024-02-27T08:24:10.366Z"
   },
   {
    "duration": 36,
    "start_time": "2024-02-27T08:24:11.598Z"
   },
   {
    "duration": 39,
    "start_time": "2024-02-27T08:24:11.635Z"
   },
   {
    "duration": 19,
    "start_time": "2024-02-27T08:24:11.692Z"
   },
   {
    "duration": 121,
    "start_time": "2024-02-27T08:24:11.713Z"
   },
   {
    "duration": 366,
    "start_time": "2024-02-27T08:24:11.836Z"
   },
   {
    "duration": 92,
    "start_time": "2024-02-27T08:24:12.204Z"
   },
   {
    "duration": 162,
    "start_time": "2024-02-27T08:24:12.298Z"
   },
   {
    "duration": 537,
    "start_time": "2024-02-27T08:24:12.462Z"
   },
   {
    "duration": 13,
    "start_time": "2024-02-27T08:24:13.001Z"
   },
   {
    "duration": 408,
    "start_time": "2024-02-27T08:24:13.015Z"
   },
   {
    "duration": 22,
    "start_time": "2024-02-27T08:24:13.425Z"
   },
   {
    "duration": 118,
    "start_time": "2024-02-27T08:24:13.450Z"
   },
   {
    "duration": 121,
    "start_time": "2024-02-27T08:24:13.570Z"
   },
   {
    "duration": 224,
    "start_time": "2024-02-27T08:24:13.693Z"
   },
   {
    "duration": 141,
    "start_time": "2024-02-27T08:24:13.918Z"
   },
   {
    "duration": 76,
    "start_time": "2024-02-27T08:24:14.060Z"
   },
   {
    "duration": 31,
    "start_time": "2024-02-27T08:24:14.138Z"
   },
   {
    "duration": 43,
    "start_time": "2024-02-27T08:24:14.170Z"
   }
  ],
  "kernelspec": {
   "display_name": "Python 3 (ipykernel)",
   "language": "python",
   "name": "python3"
  },
  "language_info": {
   "codemirror_mode": {
    "name": "ipython",
    "version": 3
   },
   "file_extension": ".py",
   "mimetype": "text/x-python",
   "name": "python",
   "nbconvert_exporter": "python",
   "pygments_lexer": "ipython3",
   "version": "3.11.3"
  },
  "toc": {
   "base_numbering": 1,
   "nav_menu": {
    "height": "384.148px",
    "width": "1079.16px"
   },
   "number_sections": true,
   "sideBar": true,
   "skip_h1_title": true,
   "title_cell": "Table of Contents",
   "title_sidebar": "Contents",
   "toc_cell": false,
   "toc_position": {
    "height": "calc(100% - 180px)",
    "left": "10px",
    "top": "150px",
    "width": "374.391px"
   },
   "toc_section_display": true,
   "toc_window_display": true
  },
  "varInspector": {
   "cols": {
    "lenName": 16,
    "lenType": 16,
    "lenVar": 40
   },
   "kernels_config": {
    "python": {
     "delete_cmd_postfix": "",
     "delete_cmd_prefix": "del ",
     "library": "var_list.py",
     "varRefreshCmd": "print(var_dic_list())"
    },
    "r": {
     "delete_cmd_postfix": ") ",
     "delete_cmd_prefix": "rm(",
     "library": "var_list.r",
     "varRefreshCmd": "cat(var_dic_list()) "
    }
   },
   "types_to_exclude": [
    "module",
    "function",
    "builtin_function_or_method",
    "instance",
    "_Feature"
   ],
   "window_display": false
  }
 },
 "nbformat": 4,
 "nbformat_minor": 2
}
